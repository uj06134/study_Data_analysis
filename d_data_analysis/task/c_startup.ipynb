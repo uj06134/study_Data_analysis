{
 "cells": [
  {
   "cell_type": "markdown",
   "source": [
    "경영학과 3학년이 된 영준이는 스타트업을 준비하고 있습니다.\n",
    "사업 아이템을 고민하면서, 나름대로 가설을 몇 개 세워봤습니다.\n",
    "\n",
    "1. 악기를 다루는 사람들은 시 쓰기를 좋아하는 경향이 있을 것이다.\n",
    "2. 외모에 돈을 많이 투자하는 사람들은 브랜드 의류를 선호할 것이다.\n",
    "3. 메모를 자주 하는 사람들은 새로운 환경에 쉽게 적응할 것이다.\n",
    "4. 워커홀릭들은 건강한 음식을 먹으려는 경향이 있을 것이다."
   ],
   "metadata": {
    "collapsed": false
   },
   "id": "e6021afe875ce3de"
  },
  {
   "cell_type": "markdown",
   "source": [
    "이 내용을 사업 아이템으로 확장하기 전에, 데이터를 통해 가설을 검증해보려고 하는데요.  \n",
    "설문조사 데이터(다운로드)를 바탕으로, 가장 가능성이 낮은 가설을 골라보세요.\n",
    "\n",
    "이 가설과 관련이 있는 column은 다음과 같습니다.\n",
    "\n",
    "Branded clothing: 나는 브랜드가 없는 옷보다 브랜드가 있는 옷을 선호한다.\n",
    "Healthy eating: 나는 건강하거나 품질이 좋은 음식에는 기쁘게 돈을 더 낼 수 있다.\n",
    "Musical instruments: 나는 악기 연주에 관심이 많다.\n",
    "New environment: 나는 새 환경에 잘 적응하는 편이다.\n",
    "Prioritising workload: 나는 일을 미루지 않고 즉시 해결해버리려고 한다.\n",
    "Spending on looks: 나는 내 외모에 돈을 많이 쓴다.\n",
    "Workaholism: 나는 여가 시간에 공부나 일을 자주 한다.\n",
    "Writing: 나는 시 쓰기에 관심이 많다.\n",
    "Writing notes: 나는 항상 메모를 한다."
   ],
   "metadata": {
    "collapsed": false
   },
   "id": "bd02c50bb989dcdf"
  },
  {
   "cell_type": "code",
   "outputs": [],
   "source": [
    "import pandas as pd\n",
    "import seaborn as sns"
   ],
   "metadata": {
    "collapsed": false,
    "ExecuteTime": {
     "end_time": "2024-05-02T07:45:49.108642900Z",
     "start_time": "2024-05-02T07:45:49.093222700Z"
    }
   },
   "id": "8dc764ff92da302f",
   "execution_count": 1
  },
  {
   "cell_type": "code",
   "outputs": [
    {
     "data": {
      "text/plain": "     Music  Slow songs or fast songs  Dance  Folk  Country  Classical music  \\\n0      5.0                       3.0    2.0   1.0      2.0              2.0   \n1      4.0                       4.0    2.0   1.0      1.0              1.0   \n2      5.0                       5.0    2.0   2.0      3.0              4.0   \n3      5.0                       3.0    2.0   1.0      1.0              1.0   \n4      5.0                       3.0    4.0   3.0      2.0              4.0   \n..     ...                       ...    ...   ...      ...              ...   \n992    5.0                       2.0    5.0   2.0      2.0              5.0   \n993    4.0                       4.0    5.0   1.0      3.0              4.0   \n994    4.0                       3.0    1.0   1.0      2.0              2.0   \n995    5.0                       3.0    3.0   3.0      1.0              3.0   \n996    5.0                       5.0    4.0   3.0      2.0              3.0   \n\n     Musical  Pop  Rock  Metal or Hardrock  ...  Spending on looks  \\\n0        1.0  5.0   5.0                1.0  ...                3.0   \n1        2.0  3.0   5.0                4.0  ...                2.0   \n2        5.0  3.0   5.0                3.0  ...                3.0   \n3        1.0  2.0   2.0                1.0  ...                4.0   \n4        3.0  5.0   3.0                1.0  ...                3.0   \n..       ...  ...   ...                ...  ...                ...   \n992      4.0  4.0   4.0                3.0  ...                4.0   \n993      1.0  4.0   1.0                1.0  ...                1.0   \n994      2.0  3.0   4.0                1.0  ...                2.0   \n995      1.0  3.0   4.0                1.0  ...                3.0   \n996      3.0  4.0   1.0                1.0  ...                1.0   \n\n     Spending on gadgets  Spending on healthy eating   Age  Height  Weight  \\\n0                      1                         3.0  20.0   163.0    48.0   \n1                      5                         2.0  19.0   163.0    58.0   \n2                      4                         2.0  20.0   176.0    67.0   \n3                      4                         1.0  22.0   172.0    59.0   \n4                      2                         4.0  20.0   170.0    59.0   \n..                   ...                         ...   ...     ...     ...   \n992                    3                         4.0  20.0   164.0    57.0   \n993                    5                         3.0  27.0   183.0    80.0   \n994                    2                         5.0  18.0   173.0    75.0   \n995                    3                         3.0  25.0   173.0    58.0   \n996                    1                         5.0  21.0   185.0    72.0   \n\n     Number of siblings  Gender  Handedness          Education  \n0                   1.0  female       right  bachelor's degree  \n1                   2.0  female       right  bachelor's degree  \n2                   2.0  female       right        high school  \n3                   1.0  female       right  bachelor's degree  \n4                   1.0  female       right        high school  \n..                  ...     ...         ...                ...  \n992                 1.0  female       right        high school  \n993                 5.0    male        left    master's degree  \n994                 0.0  female       right        high school  \n995                 1.0  female       right  bachelor's degree  \n996                 1.0    male       right        high school  \n\n[997 rows x 147 columns]",
      "text/html": "<div>\n<style scoped>\n    .dataframe tbody tr th:only-of-type {\n        vertical-align: middle;\n    }\n\n    .dataframe tbody tr th {\n        vertical-align: top;\n    }\n\n    .dataframe thead th {\n        text-align: right;\n    }\n</style>\n<table border=\"1\" class=\"dataframe\">\n  <thead>\n    <tr style=\"text-align: right;\">\n      <th></th>\n      <th>Music</th>\n      <th>Slow songs or fast songs</th>\n      <th>Dance</th>\n      <th>Folk</th>\n      <th>Country</th>\n      <th>Classical music</th>\n      <th>Musical</th>\n      <th>Pop</th>\n      <th>Rock</th>\n      <th>Metal or Hardrock</th>\n      <th>...</th>\n      <th>Spending on looks</th>\n      <th>Spending on gadgets</th>\n      <th>Spending on healthy eating</th>\n      <th>Age</th>\n      <th>Height</th>\n      <th>Weight</th>\n      <th>Number of siblings</th>\n      <th>Gender</th>\n      <th>Handedness</th>\n      <th>Education</th>\n    </tr>\n  </thead>\n  <tbody>\n    <tr>\n      <th>0</th>\n      <td>5.0</td>\n      <td>3.0</td>\n      <td>2.0</td>\n      <td>1.0</td>\n      <td>2.0</td>\n      <td>2.0</td>\n      <td>1.0</td>\n      <td>5.0</td>\n      <td>5.0</td>\n      <td>1.0</td>\n      <td>...</td>\n      <td>3.0</td>\n      <td>1</td>\n      <td>3.0</td>\n      <td>20.0</td>\n      <td>163.0</td>\n      <td>48.0</td>\n      <td>1.0</td>\n      <td>female</td>\n      <td>right</td>\n      <td>bachelor's degree</td>\n    </tr>\n    <tr>\n      <th>1</th>\n      <td>4.0</td>\n      <td>4.0</td>\n      <td>2.0</td>\n      <td>1.0</td>\n      <td>1.0</td>\n      <td>1.0</td>\n      <td>2.0</td>\n      <td>3.0</td>\n      <td>5.0</td>\n      <td>4.0</td>\n      <td>...</td>\n      <td>2.0</td>\n      <td>5</td>\n      <td>2.0</td>\n      <td>19.0</td>\n      <td>163.0</td>\n      <td>58.0</td>\n      <td>2.0</td>\n      <td>female</td>\n      <td>right</td>\n      <td>bachelor's degree</td>\n    </tr>\n    <tr>\n      <th>2</th>\n      <td>5.0</td>\n      <td>5.0</td>\n      <td>2.0</td>\n      <td>2.0</td>\n      <td>3.0</td>\n      <td>4.0</td>\n      <td>5.0</td>\n      <td>3.0</td>\n      <td>5.0</td>\n      <td>3.0</td>\n      <td>...</td>\n      <td>3.0</td>\n      <td>4</td>\n      <td>2.0</td>\n      <td>20.0</td>\n      <td>176.0</td>\n      <td>67.0</td>\n      <td>2.0</td>\n      <td>female</td>\n      <td>right</td>\n      <td>high school</td>\n    </tr>\n    <tr>\n      <th>3</th>\n      <td>5.0</td>\n      <td>3.0</td>\n      <td>2.0</td>\n      <td>1.0</td>\n      <td>1.0</td>\n      <td>1.0</td>\n      <td>1.0</td>\n      <td>2.0</td>\n      <td>2.0</td>\n      <td>1.0</td>\n      <td>...</td>\n      <td>4.0</td>\n      <td>4</td>\n      <td>1.0</td>\n      <td>22.0</td>\n      <td>172.0</td>\n      <td>59.0</td>\n      <td>1.0</td>\n      <td>female</td>\n      <td>right</td>\n      <td>bachelor's degree</td>\n    </tr>\n    <tr>\n      <th>4</th>\n      <td>5.0</td>\n      <td>3.0</td>\n      <td>4.0</td>\n      <td>3.0</td>\n      <td>2.0</td>\n      <td>4.0</td>\n      <td>3.0</td>\n      <td>5.0</td>\n      <td>3.0</td>\n      <td>1.0</td>\n      <td>...</td>\n      <td>3.0</td>\n      <td>2</td>\n      <td>4.0</td>\n      <td>20.0</td>\n      <td>170.0</td>\n      <td>59.0</td>\n      <td>1.0</td>\n      <td>female</td>\n      <td>right</td>\n      <td>high school</td>\n    </tr>\n    <tr>\n      <th>...</th>\n      <td>...</td>\n      <td>...</td>\n      <td>...</td>\n      <td>...</td>\n      <td>...</td>\n      <td>...</td>\n      <td>...</td>\n      <td>...</td>\n      <td>...</td>\n      <td>...</td>\n      <td>...</td>\n      <td>...</td>\n      <td>...</td>\n      <td>...</td>\n      <td>...</td>\n      <td>...</td>\n      <td>...</td>\n      <td>...</td>\n      <td>...</td>\n      <td>...</td>\n      <td>...</td>\n    </tr>\n    <tr>\n      <th>992</th>\n      <td>5.0</td>\n      <td>2.0</td>\n      <td>5.0</td>\n      <td>2.0</td>\n      <td>2.0</td>\n      <td>5.0</td>\n      <td>4.0</td>\n      <td>4.0</td>\n      <td>4.0</td>\n      <td>3.0</td>\n      <td>...</td>\n      <td>4.0</td>\n      <td>3</td>\n      <td>4.0</td>\n      <td>20.0</td>\n      <td>164.0</td>\n      <td>57.0</td>\n      <td>1.0</td>\n      <td>female</td>\n      <td>right</td>\n      <td>high school</td>\n    </tr>\n    <tr>\n      <th>993</th>\n      <td>4.0</td>\n      <td>4.0</td>\n      <td>5.0</td>\n      <td>1.0</td>\n      <td>3.0</td>\n      <td>4.0</td>\n      <td>1.0</td>\n      <td>4.0</td>\n      <td>1.0</td>\n      <td>1.0</td>\n      <td>...</td>\n      <td>1.0</td>\n      <td>5</td>\n      <td>3.0</td>\n      <td>27.0</td>\n      <td>183.0</td>\n      <td>80.0</td>\n      <td>5.0</td>\n      <td>male</td>\n      <td>left</td>\n      <td>master's degree</td>\n    </tr>\n    <tr>\n      <th>994</th>\n      <td>4.0</td>\n      <td>3.0</td>\n      <td>1.0</td>\n      <td>1.0</td>\n      <td>2.0</td>\n      <td>2.0</td>\n      <td>2.0</td>\n      <td>3.0</td>\n      <td>4.0</td>\n      <td>1.0</td>\n      <td>...</td>\n      <td>2.0</td>\n      <td>2</td>\n      <td>5.0</td>\n      <td>18.0</td>\n      <td>173.0</td>\n      <td>75.0</td>\n      <td>0.0</td>\n      <td>female</td>\n      <td>right</td>\n      <td>high school</td>\n    </tr>\n    <tr>\n      <th>995</th>\n      <td>5.0</td>\n      <td>3.0</td>\n      <td>3.0</td>\n      <td>3.0</td>\n      <td>1.0</td>\n      <td>3.0</td>\n      <td>1.0</td>\n      <td>3.0</td>\n      <td>4.0</td>\n      <td>1.0</td>\n      <td>...</td>\n      <td>3.0</td>\n      <td>3</td>\n      <td>3.0</td>\n      <td>25.0</td>\n      <td>173.0</td>\n      <td>58.0</td>\n      <td>1.0</td>\n      <td>female</td>\n      <td>right</td>\n      <td>bachelor's degree</td>\n    </tr>\n    <tr>\n      <th>996</th>\n      <td>5.0</td>\n      <td>5.0</td>\n      <td>4.0</td>\n      <td>3.0</td>\n      <td>2.0</td>\n      <td>3.0</td>\n      <td>3.0</td>\n      <td>4.0</td>\n      <td>1.0</td>\n      <td>1.0</td>\n      <td>...</td>\n      <td>1.0</td>\n      <td>1</td>\n      <td>5.0</td>\n      <td>21.0</td>\n      <td>185.0</td>\n      <td>72.0</td>\n      <td>1.0</td>\n      <td>male</td>\n      <td>right</td>\n      <td>high school</td>\n    </tr>\n  </tbody>\n</table>\n<p>997 rows × 147 columns</p>\n</div>"
     },
     "execution_count": 2,
     "metadata": {},
     "output_type": "execute_result"
    }
   ],
   "source": [
    "df = pd.read_csv(\"../data/young_survey.csv\")\n",
    "df"
   ],
   "metadata": {
    "collapsed": false,
    "ExecuteTime": {
     "end_time": "2024-05-02T07:45:49.506255300Z",
     "start_time": "2024-05-02T07:45:49.435495100Z"
    }
   },
   "id": "25c4dc57aad423cf",
   "execution_count": 2
  },
  {
   "cell_type": "code",
   "outputs": [
    {
     "data": {
      "text/plain": "0.3438162143904336"
     },
     "execution_count": 9,
     "metadata": {},
     "output_type": "execute_result"
    }
   ],
   "source": [
    "# 1번 악기 - 시 쓰기\n",
    "df.corr(numeric_only=True)['Writing']['Musical instruments']"
   ],
   "metadata": {
    "collapsed": false,
    "ExecuteTime": {
     "end_time": "2024-05-02T07:57:43.362486400Z",
     "start_time": "2024-05-02T07:57:43.296122200Z"
    }
   },
   "id": "7f06897caae8148b",
   "execution_count": 9
  },
  {
   "cell_type": "code",
   "outputs": [
    {
     "data": {
      "text/plain": "0.4183989446458902"
     },
     "execution_count": 10,
     "metadata": {},
     "output_type": "execute_result"
    }
   ],
   "source": [
    "# 2번 외모 - 브랜드 의류\n",
    "df.corr(numeric_only=True)['Spending on looks']['Branded clothing']"
   ],
   "metadata": {
    "collapsed": false,
    "ExecuteTime": {
     "end_time": "2024-05-02T07:57:43.665113100Z",
     "start_time": "2024-05-02T07:57:43.586304Z"
    }
   },
   "id": "11318bc68f231e6b",
   "execution_count": 10
  },
  {
   "cell_type": "code",
   "outputs": [
    {
     "data": {
      "text/plain": "-0.07939652994810617"
     },
     "execution_count": 11,
     "metadata": {},
     "output_type": "execute_result"
    }
   ],
   "source": [
    "# 3번 메모 - 새로운 환경 적응\n",
    "df.corr(numeric_only=True)['Writing notes']['New environment']"
   ],
   "metadata": {
    "collapsed": false,
    "ExecuteTime": {
     "end_time": "2024-05-02T07:57:44.177709300Z",
     "start_time": "2024-05-02T07:57:44.102238300Z"
    }
   },
   "id": "c1253e9dea4d64cc",
   "execution_count": 11
  },
  {
   "cell_type": "code",
   "outputs": [
    {
     "data": {
      "text/plain": "0.23864443283866715"
     },
     "execution_count": 13,
     "metadata": {},
     "output_type": "execute_result"
    }
   ],
   "source": [
    "# 4번 워커홀릭 - 건강한 음식\n",
    "df.corr(numeric_only=True)['Workaholism']['Healthy eating']"
   ],
   "metadata": {
    "collapsed": false,
    "ExecuteTime": {
     "end_time": "2024-05-02T07:58:29.825123Z",
     "start_time": "2024-05-02T07:58:29.759324900Z"
    }
   },
   "id": "60f35fdaf9694eb7",
   "execution_count": 13
  }
 ],
 "metadata": {
  "kernelspec": {
   "display_name": "Python 3",
   "language": "python",
   "name": "python3"
  },
  "language_info": {
   "codemirror_mode": {
    "name": "ipython",
    "version": 2
   },
   "file_extension": ".py",
   "mimetype": "text/x-python",
   "name": "python",
   "nbconvert_exporter": "python",
   "pygments_lexer": "ipython2",
   "version": "2.7.6"
  }
 },
 "nbformat": 4,
 "nbformat_minor": 5
}
