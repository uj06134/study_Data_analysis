{
 "cells": [
  {
   "cell_type": "code",
   "execution_count": 2,
   "id": "initial_id",
   "metadata": {
    "collapsed": true,
    "ExecuteTime": {
     "end_time": "2024-03-07T10:19:13.950195500Z",
     "start_time": "2024-03-07T10:19:13.908428400Z"
    }
   },
   "outputs": [],
   "source": [
    "import numpy as np"
   ]
  },
  {
   "cell_type": "code",
   "outputs": [],
   "source": [
    "test_list = [[1, 2, 5, 8], \n",
    "             [2, 3, 6, 9], \n",
    "             [3, 4, 7, 10],\n",
    "             [4, 5, 8, 11]] # 4 x 4 array\n",
    "test_array = np.array(test_list, int)"
   ],
   "metadata": {
    "collapsed": false,
    "ExecuteTime": {
     "end_time": "2024-03-07T10:19:16.026881600Z",
     "start_time": "2024-03-07T10:19:15.985204600Z"
    }
   },
   "id": "368efb938002d21c",
   "execution_count": 3
  },
  {
   "cell_type": "markdown",
   "source": [
    "### 1. Indexing"
   ],
   "metadata": {
    "collapsed": false
   },
   "id": "d9a76daa11fd398f"
  },
  {
   "cell_type": "code",
   "outputs": [
    {
     "name": "stdout",
     "output_type": "stream",
     "text": [
      "6\n",
      "6\n"
     ]
    }
   ],
   "source": [
    "print(test_array[1][2]) # 6 출력\n",
    "print(test_array[1, 2]) # 동일하게 6 출력"
   ],
   "metadata": {
    "collapsed": false,
    "ExecuteTime": {
     "end_time": "2024-03-07T10:19:18.768381300Z",
     "start_time": "2024-03-07T10:19:18.726597300Z"
    }
   },
   "id": "7cca280a79bb9f0",
   "execution_count": 4
  },
  {
   "cell_type": "markdown",
   "source": [
    "### 2. Slicing"
   ],
   "metadata": {
    "collapsed": false
   },
   "id": "249d7912fc2de0a4"
  },
  {
   "cell_type": "code",
   "outputs": [
    {
     "data": {
      "text/plain": "array([[2, 3]])"
     },
     "execution_count": 5,
     "metadata": {},
     "output_type": "execute_result"
    }
   ],
   "source": [
    "test_array[1:2, :2] # 1번행 이상 / 2번행 미만, 2번 열 미만 출력"
   ],
   "metadata": {
    "collapsed": false,
    "ExecuteTime": {
     "end_time": "2024-03-07T10:19:19.464250800Z",
     "start_time": "2024-03-07T10:19:19.418961400Z"
    }
   },
   "id": "d3080e766f6104ae",
   "execution_count": 5
  },
  {
   "cell_type": "code",
   "outputs": [
    {
     "data": {
      "text/plain": "array([2, 3])"
     },
     "execution_count": 6,
     "metadata": {},
     "output_type": "execute_result"
    }
   ],
   "source": [
    "test_array[1, :2] # 동일하게 출력되지만, 위에는 2차원, 이 코드는 1차원으로 출력"
   ],
   "metadata": {
    "collapsed": false,
    "ExecuteTime": {
     "end_time": "2024-03-07T10:19:20.704472100Z",
     "start_time": "2024-03-07T10:19:20.655284300Z"
    }
   },
   "id": "46fe7ff29b2c4a22",
   "execution_count": 6
  },
  {
   "cell_type": "code",
   "outputs": [
    {
     "data": {
      "text/plain": "array([[ 2,  5,  8],\n       [ 3,  6,  9],\n       [ 4,  7, 10],\n       [ 5,  8, 11]])"
     },
     "execution_count": 7,
     "metadata": {},
     "output_type": "execute_result"
    }
   ],
   "source": [
    "test_array[:, 1:] # 모든 행, 1번 열 이후 출력"
   ],
   "metadata": {
    "collapsed": false,
    "ExecuteTime": {
     "end_time": "2024-03-07T10:19:20.759376600Z",
     "start_time": "2024-03-07T10:19:20.682238Z"
    }
   },
   "id": "f709b484330e2ea8",
   "execution_count": 7
  },
  {
   "cell_type": "code",
   "outputs": [
    {
     "data": {
      "text/plain": "array([1, 5])"
     },
     "execution_count": 10,
     "metadata": {},
     "output_type": "execute_result"
    }
   ],
   "source": [
    "test_array[0, 0:4:2] # 0행 / 0부터 3열까지 중에 1개씩 건너뛰고 출력"
   ],
   "metadata": {
    "collapsed": false,
    "ExecuteTime": {
     "end_time": "2024-03-07T10:19:28.645799900Z",
     "start_time": "2024-03-07T10:19:28.551408600Z"
    }
   },
   "id": "f2e530103adbddd6",
   "execution_count": 10
  }
 ],
 "metadata": {
  "kernelspec": {
   "display_name": "Python 3",
   "language": "python",
   "name": "python3"
  },
  "language_info": {
   "codemirror_mode": {
    "name": "ipython",
    "version": 2
   },
   "file_extension": ".py",
   "mimetype": "text/x-python",
   "name": "python",
   "nbconvert_exporter": "python",
   "pygments_lexer": "ipython2",
   "version": "2.7.6"
  }
 },
 "nbformat": 4,
 "nbformat_minor": 5
}
