{
 "cells": [
  {
   "cell_type": "markdown",
   "source": [
    "직업과 나이, 성별 등에 대한 데이터가 data/occupations.csv에 있습니다.\n",
    "각 직업의 평균 나이가 궁금한데요.\n",
    "groupby 문법을 사용해서 '평균 나이'가 어린 순으로 직업을 나열해 보세요."
   ],
   "metadata": {
    "collapsed": false
   },
   "id": "a03f0b7bc150d5ef"
  },
  {
   "cell_type": "code",
   "outputs": [],
   "source": [
    "import pandas as pd"
   ],
   "metadata": {
    "collapsed": false,
    "ExecuteTime": {
     "end_time": "2024-05-07T08:16:26.012241500Z",
     "start_time": "2024-05-07T08:16:25.522988400Z"
    }
   },
   "id": "6c0e29023a8a79a7",
   "execution_count": 1
  },
  {
   "cell_type": "code",
   "outputs": [
    {
     "data": {
      "text/plain": "     age gender     occupation\n0     24      M     technician\n1     53      F          other\n2     23      M         writer\n3     24      M     technician\n4     33      F          other\n..   ...    ...            ...\n938   26      F        student\n939   32      M  administrator\n940   20      M        student\n941   48      F      librarian\n942   22      M        student\n\n[943 rows x 3 columns]",
      "text/html": "<div>\n<style scoped>\n    .dataframe tbody tr th:only-of-type {\n        vertical-align: middle;\n    }\n\n    .dataframe tbody tr th {\n        vertical-align: top;\n    }\n\n    .dataframe thead th {\n        text-align: right;\n    }\n</style>\n<table border=\"1\" class=\"dataframe\">\n  <thead>\n    <tr style=\"text-align: right;\">\n      <th></th>\n      <th>age</th>\n      <th>gender</th>\n      <th>occupation</th>\n    </tr>\n  </thead>\n  <tbody>\n    <tr>\n      <th>0</th>\n      <td>24</td>\n      <td>M</td>\n      <td>technician</td>\n    </tr>\n    <tr>\n      <th>1</th>\n      <td>53</td>\n      <td>F</td>\n      <td>other</td>\n    </tr>\n    <tr>\n      <th>2</th>\n      <td>23</td>\n      <td>M</td>\n      <td>writer</td>\n    </tr>\n    <tr>\n      <th>3</th>\n      <td>24</td>\n      <td>M</td>\n      <td>technician</td>\n    </tr>\n    <tr>\n      <th>4</th>\n      <td>33</td>\n      <td>F</td>\n      <td>other</td>\n    </tr>\n    <tr>\n      <th>...</th>\n      <td>...</td>\n      <td>...</td>\n      <td>...</td>\n    </tr>\n    <tr>\n      <th>938</th>\n      <td>26</td>\n      <td>F</td>\n      <td>student</td>\n    </tr>\n    <tr>\n      <th>939</th>\n      <td>32</td>\n      <td>M</td>\n      <td>administrator</td>\n    </tr>\n    <tr>\n      <th>940</th>\n      <td>20</td>\n      <td>M</td>\n      <td>student</td>\n    </tr>\n    <tr>\n      <th>941</th>\n      <td>48</td>\n      <td>F</td>\n      <td>librarian</td>\n    </tr>\n    <tr>\n      <th>942</th>\n      <td>22</td>\n      <td>M</td>\n      <td>student</td>\n    </tr>\n  </tbody>\n</table>\n<p>943 rows × 3 columns</p>\n</div>"
     },
     "execution_count": 2,
     "metadata": {},
     "output_type": "execute_result"
    }
   ],
   "source": [
    "df = pd.read_csv('../data/occupations_2.csv')\n",
    "df"
   ],
   "metadata": {
    "collapsed": false,
    "ExecuteTime": {
     "end_time": "2024-05-07T08:16:41.526711700Z",
     "start_time": "2024-05-07T08:16:41.490015500Z"
    }
   },
   "id": "fb1acde4cce7d191",
   "execution_count": 2
  },
  {
   "cell_type": "code",
   "outputs": [
    {
     "data": {
      "text/plain": "<pandas.core.groupby.generic.DataFrameGroupBy object at 0x000001D9BC9C5AE0>"
     },
     "execution_count": 4,
     "metadata": {},
     "output_type": "execute_result"
    }
   ],
   "source": [
    "group = df.groupby('occupation')\n",
    "group"
   ],
   "metadata": {
    "collapsed": false,
    "ExecuteTime": {
     "end_time": "2024-05-07T08:18:15.909075900Z",
     "start_time": "2024-05-07T08:18:15.895833900Z"
    }
   },
   "id": "ecea201b8a8b9d69",
   "execution_count": 4
  },
  {
   "cell_type": "code",
   "outputs": [
    {
     "data": {
      "text/plain": "               age  gender\noccupation                \nadministrator   79      79\nartist          28      28\ndoctor           7       7\neducator        95      95\nengineer        67      67\nentertainment   18      18\nexecutive       32      32\nhealthcare      16      16\nhomemaker        7       7\nlawyer          12      12\nlibrarian       51      51\nmarketing       26      26\nnone             9       9\nother          105     105\nprogrammer      66      66\nretired         14      14\nsalesman        12      12\nscientist       31      31\nstudent        196     196\ntechnician      27      27\nwriter          45      45",
      "text/html": "<div>\n<style scoped>\n    .dataframe tbody tr th:only-of-type {\n        vertical-align: middle;\n    }\n\n    .dataframe tbody tr th {\n        vertical-align: top;\n    }\n\n    .dataframe thead th {\n        text-align: right;\n    }\n</style>\n<table border=\"1\" class=\"dataframe\">\n  <thead>\n    <tr style=\"text-align: right;\">\n      <th></th>\n      <th>age</th>\n      <th>gender</th>\n    </tr>\n    <tr>\n      <th>occupation</th>\n      <th></th>\n      <th></th>\n    </tr>\n  </thead>\n  <tbody>\n    <tr>\n      <th>administrator</th>\n      <td>79</td>\n      <td>79</td>\n    </tr>\n    <tr>\n      <th>artist</th>\n      <td>28</td>\n      <td>28</td>\n    </tr>\n    <tr>\n      <th>doctor</th>\n      <td>7</td>\n      <td>7</td>\n    </tr>\n    <tr>\n      <th>educator</th>\n      <td>95</td>\n      <td>95</td>\n    </tr>\n    <tr>\n      <th>engineer</th>\n      <td>67</td>\n      <td>67</td>\n    </tr>\n    <tr>\n      <th>entertainment</th>\n      <td>18</td>\n      <td>18</td>\n    </tr>\n    <tr>\n      <th>executive</th>\n      <td>32</td>\n      <td>32</td>\n    </tr>\n    <tr>\n      <th>healthcare</th>\n      <td>16</td>\n      <td>16</td>\n    </tr>\n    <tr>\n      <th>homemaker</th>\n      <td>7</td>\n      <td>7</td>\n    </tr>\n    <tr>\n      <th>lawyer</th>\n      <td>12</td>\n      <td>12</td>\n    </tr>\n    <tr>\n      <th>librarian</th>\n      <td>51</td>\n      <td>51</td>\n    </tr>\n    <tr>\n      <th>marketing</th>\n      <td>26</td>\n      <td>26</td>\n    </tr>\n    <tr>\n      <th>none</th>\n      <td>9</td>\n      <td>9</td>\n    </tr>\n    <tr>\n      <th>other</th>\n      <td>105</td>\n      <td>105</td>\n    </tr>\n    <tr>\n      <th>programmer</th>\n      <td>66</td>\n      <td>66</td>\n    </tr>\n    <tr>\n      <th>retired</th>\n      <td>14</td>\n      <td>14</td>\n    </tr>\n    <tr>\n      <th>salesman</th>\n      <td>12</td>\n      <td>12</td>\n    </tr>\n    <tr>\n      <th>scientist</th>\n      <td>31</td>\n      <td>31</td>\n    </tr>\n    <tr>\n      <th>student</th>\n      <td>196</td>\n      <td>196</td>\n    </tr>\n    <tr>\n      <th>technician</th>\n      <td>27</td>\n      <td>27</td>\n    </tr>\n    <tr>\n      <th>writer</th>\n      <td>45</td>\n      <td>45</td>\n    </tr>\n  </tbody>\n</table>\n</div>"
     },
     "execution_count": 5,
     "metadata": {},
     "output_type": "execute_result"
    }
   ],
   "source": [
    "group.count()"
   ],
   "metadata": {
    "collapsed": false,
    "ExecuteTime": {
     "end_time": "2024-05-07T08:18:26.004905400Z",
     "start_time": "2024-05-07T08:18:25.977065100Z"
    }
   },
   "id": "b302c5cc3a65bb41",
   "execution_count": 5
  },
  {
   "cell_type": "code",
   "outputs": [],
   "source": [
    "age_group = group['age'].mean(numeric_only=True)"
   ],
   "metadata": {
    "collapsed": false,
    "ExecuteTime": {
     "end_time": "2024-05-07T08:21:36.375963700Z",
     "start_time": "2024-05-07T08:21:36.361169500Z"
    }
   },
   "id": "4f81d29f44973a47",
   "execution_count": 16
  },
  {
   "cell_type": "code",
   "outputs": [
    {
     "data": {
      "text/plain": "occupation\nstudent          22.081633\nnone             26.555556\nentertainment    29.222222\nartist           31.392857\nhomemaker        32.571429\nprogrammer       33.121212\ntechnician       33.148148\nother            34.523810\nscientist        35.548387\nsalesman         35.666667\nwriter           36.311111\nengineer         36.388060\nlawyer           36.750000\nmarketing        37.615385\nexecutive        38.718750\nadministrator    38.746835\nlibrarian        40.000000\nhealthcare       41.562500\neducator         42.010526\ndoctor           43.571429\nretired          63.071429\nName: age, dtype: float64"
     },
     "execution_count": 20,
     "metadata": {},
     "output_type": "execute_result"
    }
   ],
   "source": [
    "age_group.sort_values()"
   ],
   "metadata": {
    "collapsed": false,
    "ExecuteTime": {
     "end_time": "2024-05-07T08:25:18.643814600Z",
     "start_time": "2024-05-07T08:25:18.614283900Z"
    }
   },
   "id": "cded9e08bb5f8132",
   "execution_count": 20
  },
  {
   "cell_type": "code",
   "outputs": [
    {
     "data": {
      "text/plain": "                     age\noccupation              \nstudent        22.081633\nnone           26.555556\nentertainment  29.222222\nartist         31.392857\nhomemaker      32.571429\nprogrammer     33.121212\ntechnician     33.148148\nother          34.523810\nscientist      35.548387\nsalesman       35.666667\nwriter         36.311111\nengineer       36.388060\nlawyer         36.750000\nmarketing      37.615385\nexecutive      38.718750\nadministrator  38.746835\nlibrarian      40.000000\nhealthcare     41.562500\neducator       42.010526\ndoctor         43.571429\nretired        63.071429",
      "text/html": "<div>\n<style scoped>\n    .dataframe tbody tr th:only-of-type {\n        vertical-align: middle;\n    }\n\n    .dataframe tbody tr th {\n        vertical-align: top;\n    }\n\n    .dataframe thead th {\n        text-align: right;\n    }\n</style>\n<table border=\"1\" class=\"dataframe\">\n  <thead>\n    <tr style=\"text-align: right;\">\n      <th></th>\n      <th>age</th>\n    </tr>\n    <tr>\n      <th>occupation</th>\n      <th></th>\n    </tr>\n  </thead>\n  <tbody>\n    <tr>\n      <th>student</th>\n      <td>22.081633</td>\n    </tr>\n    <tr>\n      <th>none</th>\n      <td>26.555556</td>\n    </tr>\n    <tr>\n      <th>entertainment</th>\n      <td>29.222222</td>\n    </tr>\n    <tr>\n      <th>artist</th>\n      <td>31.392857</td>\n    </tr>\n    <tr>\n      <th>homemaker</th>\n      <td>32.571429</td>\n    </tr>\n    <tr>\n      <th>programmer</th>\n      <td>33.121212</td>\n    </tr>\n    <tr>\n      <th>technician</th>\n      <td>33.148148</td>\n    </tr>\n    <tr>\n      <th>other</th>\n      <td>34.523810</td>\n    </tr>\n    <tr>\n      <th>scientist</th>\n      <td>35.548387</td>\n    </tr>\n    <tr>\n      <th>salesman</th>\n      <td>35.666667</td>\n    </tr>\n    <tr>\n      <th>writer</th>\n      <td>36.311111</td>\n    </tr>\n    <tr>\n      <th>engineer</th>\n      <td>36.388060</td>\n    </tr>\n    <tr>\n      <th>lawyer</th>\n      <td>36.750000</td>\n    </tr>\n    <tr>\n      <th>marketing</th>\n      <td>37.615385</td>\n    </tr>\n    <tr>\n      <th>executive</th>\n      <td>38.718750</td>\n    </tr>\n    <tr>\n      <th>administrator</th>\n      <td>38.746835</td>\n    </tr>\n    <tr>\n      <th>librarian</th>\n      <td>40.000000</td>\n    </tr>\n    <tr>\n      <th>healthcare</th>\n      <td>41.562500</td>\n    </tr>\n    <tr>\n      <th>educator</th>\n      <td>42.010526</td>\n    </tr>\n    <tr>\n      <th>doctor</th>\n      <td>43.571429</td>\n    </tr>\n    <tr>\n      <th>retired</th>\n      <td>63.071429</td>\n    </tr>\n  </tbody>\n</table>\n</div>"
     },
     "execution_count": 23,
     "metadata": {},
     "output_type": "execute_result"
    }
   ],
   "source": [
    "# 모범 답안\n",
    "group.mean(numeric_only=True).sort_values(by='age')"
   ],
   "metadata": {
    "collapsed": false,
    "ExecuteTime": {
     "end_time": "2024-05-07T08:25:51.109410500Z",
     "start_time": "2024-05-07T08:25:51.074967800Z"
    }
   },
   "id": "ed70f9ca3c7a0a7e",
   "execution_count": 23
  }
 ],
 "metadata": {
  "kernelspec": {
   "display_name": "Python 3",
   "language": "python",
   "name": "python3"
  },
  "language_info": {
   "codemirror_mode": {
    "name": "ipython",
    "version": 2
   },
   "file_extension": ".py",
   "mimetype": "text/x-python",
   "name": "python",
   "nbconvert_exporter": "python",
   "pygments_lexer": "ipython2",
   "version": "2.7.6"
  }
 },
 "nbformat": 4,
 "nbformat_minor": 5
}
