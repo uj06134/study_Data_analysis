{
 "cells": [
  {
   "cell_type": "markdown",
   "source": [
    "## 문자열 필터링"
   ],
   "metadata": {
    "collapsed": false
   },
   "id": "7ffbb59f635eba36"
  },
  {
   "cell_type": "code",
   "outputs": [],
   "source": [
    "import pandas as pd"
   ],
   "metadata": {
    "collapsed": false,
    "ExecuteTime": {
     "end_time": "2024-05-07T05:40:31.305960400Z",
     "start_time": "2024-05-07T05:40:31.290801600Z"
    }
   },
   "id": "79f32db812de0efd",
   "execution_count": 1
  },
  {
   "cell_type": "code",
   "outputs": [
    {
     "data": {
      "text/plain": "     Number  Year                                  Album             Artist  \\\n0         1  1967  Sgt. Pepper's Lonely Hearts Club Band        The Beatles   \n1         2  1966                             Pet Sounds     The Beach Boys   \n2         3  1966                               Revolver        The Beatles   \n3         4  1965                   Highway 61 Revisited          Bob Dylan   \n4         5  1965                            Rubber Soul        The Beatles   \n..      ...   ...                                    ...                ...   \n495     496  1969                             Boz Scaggs         Boz Scaggs   \n496     497  2001                      White Blood Cells  The White Stripes   \n497     498  1989                        The Stone Roses    The Stone Roses   \n498     499  1971               Live in Cook County Jail          B.B. King   \n499     500  1998                               Aquemini            OutKast   \n\n         Genre                                           Subgenre  \n0         Rock                      Rock & Roll, Psychedelic Rock  \n1         Rock                         Pop Rock, Psychedelic Rock  \n2         Rock                         Psychedelic Rock, Pop Rock  \n3         Rock                              Folk Rock, Blues Rock  \n4    Rock, Pop                                           Pop Rock  \n..         ...                                                ...  \n495       Rock                                           Pop Rock  \n496       Rock  Indie Rock, Alternative Rock, Blues Rock, Gara...  \n497       Rock                                         Indie Rock  \n498      Blues                                     Electric Blues  \n499    Hip Hop                   Reggae, Gangsta, Soul, Conscious  \n\n[500 rows x 6 columns]",
      "text/html": "<div>\n<style scoped>\n    .dataframe tbody tr th:only-of-type {\n        vertical-align: middle;\n    }\n\n    .dataframe tbody tr th {\n        vertical-align: top;\n    }\n\n    .dataframe thead th {\n        text-align: right;\n    }\n</style>\n<table border=\"1\" class=\"dataframe\">\n  <thead>\n    <tr style=\"text-align: right;\">\n      <th></th>\n      <th>Number</th>\n      <th>Year</th>\n      <th>Album</th>\n      <th>Artist</th>\n      <th>Genre</th>\n      <th>Subgenre</th>\n    </tr>\n  </thead>\n  <tbody>\n    <tr>\n      <th>0</th>\n      <td>1</td>\n      <td>1967</td>\n      <td>Sgt. Pepper's Lonely Hearts Club Band</td>\n      <td>The Beatles</td>\n      <td>Rock</td>\n      <td>Rock &amp; Roll, Psychedelic Rock</td>\n    </tr>\n    <tr>\n      <th>1</th>\n      <td>2</td>\n      <td>1966</td>\n      <td>Pet Sounds</td>\n      <td>The Beach Boys</td>\n      <td>Rock</td>\n      <td>Pop Rock, Psychedelic Rock</td>\n    </tr>\n    <tr>\n      <th>2</th>\n      <td>3</td>\n      <td>1966</td>\n      <td>Revolver</td>\n      <td>The Beatles</td>\n      <td>Rock</td>\n      <td>Psychedelic Rock, Pop Rock</td>\n    </tr>\n    <tr>\n      <th>3</th>\n      <td>4</td>\n      <td>1965</td>\n      <td>Highway 61 Revisited</td>\n      <td>Bob Dylan</td>\n      <td>Rock</td>\n      <td>Folk Rock, Blues Rock</td>\n    </tr>\n    <tr>\n      <th>4</th>\n      <td>5</td>\n      <td>1965</td>\n      <td>Rubber Soul</td>\n      <td>The Beatles</td>\n      <td>Rock, Pop</td>\n      <td>Pop Rock</td>\n    </tr>\n    <tr>\n      <th>...</th>\n      <td>...</td>\n      <td>...</td>\n      <td>...</td>\n      <td>...</td>\n      <td>...</td>\n      <td>...</td>\n    </tr>\n    <tr>\n      <th>495</th>\n      <td>496</td>\n      <td>1969</td>\n      <td>Boz Scaggs</td>\n      <td>Boz Scaggs</td>\n      <td>Rock</td>\n      <td>Pop Rock</td>\n    </tr>\n    <tr>\n      <th>496</th>\n      <td>497</td>\n      <td>2001</td>\n      <td>White Blood Cells</td>\n      <td>The White Stripes</td>\n      <td>Rock</td>\n      <td>Indie Rock, Alternative Rock, Blues Rock, Gara...</td>\n    </tr>\n    <tr>\n      <th>497</th>\n      <td>498</td>\n      <td>1989</td>\n      <td>The Stone Roses</td>\n      <td>The Stone Roses</td>\n      <td>Rock</td>\n      <td>Indie Rock</td>\n    </tr>\n    <tr>\n      <th>498</th>\n      <td>499</td>\n      <td>1971</td>\n      <td>Live in Cook County Jail</td>\n      <td>B.B. King</td>\n      <td>Blues</td>\n      <td>Electric Blues</td>\n    </tr>\n    <tr>\n      <th>499</th>\n      <td>500</td>\n      <td>1998</td>\n      <td>Aquemini</td>\n      <td>OutKast</td>\n      <td>Hip Hop</td>\n      <td>Reggae, Gangsta, Soul, Conscious</td>\n    </tr>\n  </tbody>\n</table>\n<p>500 rows × 6 columns</p>\n</div>"
     },
     "execution_count": 10,
     "metadata": {},
     "output_type": "execute_result"
    }
   ],
   "source": [
    "df = pd.read_csv('data/albums.csv', encoding='latin1')\n",
    "df"
   ],
   "metadata": {
    "collapsed": false,
    "ExecuteTime": {
     "end_time": "2024-05-07T05:59:00.547631700Z",
     "start_time": "2024-05-07T05:59:00.515186700Z"
    }
   },
   "id": "b62c1d57e99c43d3",
   "execution_count": 10
  },
  {
   "cell_type": "code",
   "outputs": [
    {
     "data": {
      "text/plain": "array(['Rock', 'Rock, Pop', 'Funk / Soul', 'Rock, Blues', 'Jazz',\n       'Jazz, Rock, Blues, Folk, World, & Country', 'Funk / Soul, Pop',\n       'Blues', 'Pop', 'Rock, Folk, World, & Country',\n       'Folk, World, & Country', 'Classical, Stage & Screen', 'Reggae',\n       'Hip Hop', 'Jazz, Funk / Soul', 'Rock, Funk / Soul, Pop',\n       'Electronic, Rock',\n       'Jazz, Rock, Funk / Soul, Folk, World, & Country',\n       'Jazz, Rock, Funk / Soul, Pop, Folk, World, & Country',\n       'Funk / Soul, Stage & Screen',\n       'Electronic, Rock, Funk / Soul, Stage & Screen',\n       'Rock, Funk / Soul', 'Rock, Reggae', 'Jazz, Pop',\n       'Funk / Soul, Folk, World, & Country', 'Latin, Funk / Soul',\n       'Funk / Soul, Blues',\n       'Reggae,ï¿½Pop,ï¿½Folk, World, & Country,ï¿½Stage & Screen',\n       'Electronic,ï¿½Stage & Screen', 'Jazz, Rock, Funk / Soul, Blues',\n       'Jazz, Rock', 'Rock, Latin, Funk / Soul', 'Electronic, Rock, Pop',\n       'Hip Hop, Rock, Funk / Soul', 'Electronic, Pop',\n       'Rock, Blues, Pop', 'Electronic, Rock, Funk / Soul, Pop',\n       'Rock, Funk / Soul, Folk, World, & Country', 'Rock,ï¿½Blues',\n       'Rock, Pop, Folk, World, & Country', 'Rock, Latin',\n       'Rock, Stage & Screen', 'Rock, Blues, Folk, World, & Country',\n       'Electronic', 'Electronic, Funk / Soul, Pop',\n       'Pop, Folk, World, & Country', 'Electronic, Hip Hop, Pop',\n       'Blues, Folk, World, & Country',\n       'Electronic, Hip Hop, Funk / Soul, Pop',\n       'Rock, Funk / Soul, Blues, Pop, Folk, World, & Country',\n       'Jazz, Pop, Folk, World, & Country', 'Jazz, Rock, Pop',\n       'Hip Hop, Funk / Soul', 'Hip Hop, Rock',\n       'Electronic, Hip Hop, Funk / Soul',\n       'Funk / Soul,ï¿½Folk, World, & Country',\n       'Electronic, Hip Hop, Reggae, Pop', 'Electronic, Reggae',\n       'Electronic, Funk / Soul', 'Rock, Funk / Soul, Blues',\n       'Rock,ï¿½Pop', 'Electronic, Rock, Funk / Soul, Blues, Pop',\n       'Rock, Reggae, Latin'], dtype=object)"
     },
     "execution_count": 11,
     "metadata": {},
     "output_type": "execute_result"
    }
   ],
   "source": [
    "# 장르 컬럼 중복제거 \n",
    "df['Genre'].unique()"
   ],
   "metadata": {
    "collapsed": false,
    "ExecuteTime": {
     "end_time": "2024-05-07T05:59:00.797033700Z",
     "start_time": "2024-05-07T05:59:00.729699400Z"
    }
   },
   "id": "165a6d9adc52e889",
   "execution_count": 11
  },
  {
   "cell_type": "code",
   "outputs": [
    {
     "data": {
      "text/plain": "     Number  Year                                              Album  \\\n8         9  1966                                   Blonde on Blonde   \n14       15  1967                                Are You Experienced   \n18       19  1968                                       Astral Weeks   \n21       22  1990                            The Complete Recordings   \n48       49  1971                                   At Fillmore East   \n49       50  1957                              Here's Little Richard   \n54       55  1968                                  Electric Ladyland   \n59       60  1969                                 Trout Mask Replica   \n101     102  1966                                        Fresh Cream   \n118     119  1960                                           At Last!   \n124     125  1971                                              Pearl   \n140     141  1965                                  Live at the Regal   \n142     143  1968                                          Gris-Gris   \n153     154  1958                           Moanin' in the Moonlight   \n179     180  1965                           The Rolling Stones, Now!   \n194     195  1966  Blues Breakers With Eric Clapton (\"The Beano A...   \n197     198  1967                          The Best of Little Walter   \n204     205  1968                                     Wheels of Fire   \n215     216  1986                         Bo Diddley / Go Bo Diddley   \n216     217  1961                           Two Steps From the Blues   \n221     222  1972                                  New Orleans Piano   \n237     238  1962                                       Howlin' Wolf   \n244     245  1993  All Killer No Filler! The Jerry Lee Lewis Anth...   \n277     278  1997                   Anthology of American Folk Music   \n281     282  1964                                        Folk Singer   \n310     311  1994                         The Sun Records Collection   \n333     334  1979                               Squeezing Out Sparks   \n347     348  1960                       Muddy Waters at Newport 1960   \n349     350  1966                                 Roger the Engineer   \n376     377  1991                 The Ultimate Collection: 1948-1990   \n398     399  1985                                          Rain Dogs   \n407     408  1989                   I Do Not Want What I Haven't Got   \n409     410  1997                                   Time Out of Mind   \n426     427  2002                                          Sleepless   \n467     468  1965                    The Paul Butterfield Blues Band   \n471     472  1987                                              Faith   \n490     491  1967                              Born Under a Bad Sign   \n498     499  1971                           Live in Cook County Jail   \n\n                                 Artist  \\\n8                             Bob Dylan   \n14          The Jimi Hendrix Experience   \n18                         Van Morrison   \n21                       Robert Johnson   \n48             The Allman Brothers Band   \n49                       Little Richard   \n54          The Jimi Hendrix Experience   \n59   Captain Beefheart & His Magic Band   \n101                               Cream   \n118                          Etta James   \n124                        Janis Joplin   \n140                           B.B. King   \n142         Dr. John, the Night Tripper   \n153                        Howlin' Wolf   \n179                  The Rolling Stones   \n194     John Mayall & The Bluesbreakers   \n197                       Little Walter   \n204                               Cream   \n215                          Bo Diddley   \n216                  Bobby \"Blue\" Bland   \n221                  Professor Longhair   \n237                        Howlin' Wolf   \n244                     Jerry Lee Lewis   \n277                             Various   \n281                        Muddy Waters   \n310                             Various   \n333          Graham Parker & The Rumour   \n347                        Muddy Waters   \n349                       The Yardbirds   \n376                     John Lee Hooker   \n398                           Tom Waits   \n407                     Sinead O'Connor   \n409                           Bob Dylan   \n426                          Peter Wolf   \n467     The Paul Butterfield Blues Band   \n471                      George Michael   \n490                         Albert King   \n498                           B.B. King   \n\n                                                 Genre  \\\n8                                          Rock, Blues   \n14                                         Rock, Blues   \n18           Jazz, Rock, Blues, Folk, World, & Country   \n21                                               Blues   \n48                                         Rock, Blues   \n49                                         Rock, Blues   \n54                                         Rock, Blues   \n59                                         Rock, Blues   \n101                                        Rock, Blues   \n118                                 Funk / Soul, Blues   \n124                                        Rock, Blues   \n140                                              Blues   \n142                     Jazz, Rock, Funk / Soul, Blues   \n153                                              Blues   \n179                                   Rock, Blues, Pop   \n194                                      Rock,ï¿½Blues   \n197                                              Blues   \n204                                        Rock, Blues   \n215                                        Rock, Blues   \n216                                 Funk / Soul, Blues   \n221                                 Funk / Soul, Blues   \n237                                              Blues   \n244                Rock, Blues, Folk, World, & Country   \n277                      Blues, Folk, World, & Country   \n281                                              Blues   \n310  Rock, Funk / Soul, Blues, Pop, Folk, World, & ...   \n333                                        Rock, Blues   \n347                                        Rock, Blues   \n349                                        Rock, Blues   \n376                                              Blues   \n398                                        Rock, Blues   \n407                           Rock, Funk / Soul, Blues   \n409                                        Rock, Blues   \n426                                   Rock, Blues, Pop   \n467                                        Rock, Blues   \n471          Electronic, Rock, Funk / Soul, Blues, Pop   \n490                                 Funk / Soul, Blues   \n498                                              Blues   \n\n                                              Subgenre  \n8                            Folk Rock, Rhythm & Blues  \n14                        Blues Rock, Psychedelic Rock  \n18          Acoustic, Classic Rock, Free Improvisation  \n21                                         Delta Blues  \n48                                          Blues Rock  \n49                         Rock & Roll, Rhythm & Blues  \n54                    Electric Blues, Psychedelic Rock  \n59   Dialogue, Field Recording, Avantgarde, Electri...  \n101                         Blues Rock, Electric Blues  \n118                               Rhythm & Blues, Soul  \n124                                         Blues Rock  \n140                                      Chicago Blues  \n142     Soul-Jazz, Louisiana Blues, Fusion, Bayou Funk  \n153                                      Chicago Blues  \n179              Pop Rock, Rhythm & Blues, Rock & Roll  \n194    Blues Rock,ï¿½Electric Blues,ï¿½Harmonica Blues  \n197                                      Chicago Blues  \n204         Blues Rock, Psychedelic Rock, Classic Rock  \n215                        Rhythm & Blues, Rock & Roll  \n216                               Rhythm & Blues, Soul  \n221                                        Piano Blues  \n237                                                NaN  \n244         Country Blues, Rock & Roll, Rhythm & Blues  \n277  Cajun, Country, Field Recording, Gospel, Delta...  \n281                                        Delta Blues  \n310             Country Blues, Rock & Roll, Rockabilly  \n333                                                NaN  \n347                          Blues Rock, Chicago Blues  \n349                               Blues Rock, Pop Rock  \n376  Country Blues, Electric Blues, Chicago Blues, ...  \n398                                         Blues Rock  \n407                   Blues Rock, Rhythm & Blues, Soul  \n409                                         Blues Rock  \n426                       Blues Rock, Pop Rock, Ballad  \n467  Blues Rock, Electric Blues, Chicago Blues, Mod...  \n471          Downtempo, Soft Rock, Pop Rock, Synth-pop  \n490               Electric Blues, Rhythm & Blues, Soul  \n498                                     Electric Blues  ",
      "text/html": "<div>\n<style scoped>\n    .dataframe tbody tr th:only-of-type {\n        vertical-align: middle;\n    }\n\n    .dataframe tbody tr th {\n        vertical-align: top;\n    }\n\n    .dataframe thead th {\n        text-align: right;\n    }\n</style>\n<table border=\"1\" class=\"dataframe\">\n  <thead>\n    <tr style=\"text-align: right;\">\n      <th></th>\n      <th>Number</th>\n      <th>Year</th>\n      <th>Album</th>\n      <th>Artist</th>\n      <th>Genre</th>\n      <th>Subgenre</th>\n    </tr>\n  </thead>\n  <tbody>\n    <tr>\n      <th>8</th>\n      <td>9</td>\n      <td>1966</td>\n      <td>Blonde on Blonde</td>\n      <td>Bob Dylan</td>\n      <td>Rock, Blues</td>\n      <td>Folk Rock, Rhythm &amp; Blues</td>\n    </tr>\n    <tr>\n      <th>14</th>\n      <td>15</td>\n      <td>1967</td>\n      <td>Are You Experienced</td>\n      <td>The Jimi Hendrix Experience</td>\n      <td>Rock, Blues</td>\n      <td>Blues Rock, Psychedelic Rock</td>\n    </tr>\n    <tr>\n      <th>18</th>\n      <td>19</td>\n      <td>1968</td>\n      <td>Astral Weeks</td>\n      <td>Van Morrison</td>\n      <td>Jazz, Rock, Blues, Folk, World, &amp; Country</td>\n      <td>Acoustic, Classic Rock, Free Improvisation</td>\n    </tr>\n    <tr>\n      <th>21</th>\n      <td>22</td>\n      <td>1990</td>\n      <td>The Complete Recordings</td>\n      <td>Robert Johnson</td>\n      <td>Blues</td>\n      <td>Delta Blues</td>\n    </tr>\n    <tr>\n      <th>48</th>\n      <td>49</td>\n      <td>1971</td>\n      <td>At Fillmore East</td>\n      <td>The Allman Brothers Band</td>\n      <td>Rock, Blues</td>\n      <td>Blues Rock</td>\n    </tr>\n    <tr>\n      <th>49</th>\n      <td>50</td>\n      <td>1957</td>\n      <td>Here's Little Richard</td>\n      <td>Little Richard</td>\n      <td>Rock, Blues</td>\n      <td>Rock &amp; Roll, Rhythm &amp; Blues</td>\n    </tr>\n    <tr>\n      <th>54</th>\n      <td>55</td>\n      <td>1968</td>\n      <td>Electric Ladyland</td>\n      <td>The Jimi Hendrix Experience</td>\n      <td>Rock, Blues</td>\n      <td>Electric Blues, Psychedelic Rock</td>\n    </tr>\n    <tr>\n      <th>59</th>\n      <td>60</td>\n      <td>1969</td>\n      <td>Trout Mask Replica</td>\n      <td>Captain Beefheart &amp; His Magic Band</td>\n      <td>Rock, Blues</td>\n      <td>Dialogue, Field Recording, Avantgarde, Electri...</td>\n    </tr>\n    <tr>\n      <th>101</th>\n      <td>102</td>\n      <td>1966</td>\n      <td>Fresh Cream</td>\n      <td>Cream</td>\n      <td>Rock, Blues</td>\n      <td>Blues Rock, Electric Blues</td>\n    </tr>\n    <tr>\n      <th>118</th>\n      <td>119</td>\n      <td>1960</td>\n      <td>At Last!</td>\n      <td>Etta James</td>\n      <td>Funk / Soul, Blues</td>\n      <td>Rhythm &amp; Blues, Soul</td>\n    </tr>\n    <tr>\n      <th>124</th>\n      <td>125</td>\n      <td>1971</td>\n      <td>Pearl</td>\n      <td>Janis Joplin</td>\n      <td>Rock, Blues</td>\n      <td>Blues Rock</td>\n    </tr>\n    <tr>\n      <th>140</th>\n      <td>141</td>\n      <td>1965</td>\n      <td>Live at the Regal</td>\n      <td>B.B. King</td>\n      <td>Blues</td>\n      <td>Chicago Blues</td>\n    </tr>\n    <tr>\n      <th>142</th>\n      <td>143</td>\n      <td>1968</td>\n      <td>Gris-Gris</td>\n      <td>Dr. John, the Night Tripper</td>\n      <td>Jazz, Rock, Funk / Soul, Blues</td>\n      <td>Soul-Jazz, Louisiana Blues, Fusion, Bayou Funk</td>\n    </tr>\n    <tr>\n      <th>153</th>\n      <td>154</td>\n      <td>1958</td>\n      <td>Moanin' in the Moonlight</td>\n      <td>Howlin' Wolf</td>\n      <td>Blues</td>\n      <td>Chicago Blues</td>\n    </tr>\n    <tr>\n      <th>179</th>\n      <td>180</td>\n      <td>1965</td>\n      <td>The Rolling Stones, Now!</td>\n      <td>The Rolling Stones</td>\n      <td>Rock, Blues, Pop</td>\n      <td>Pop Rock, Rhythm &amp; Blues, Rock &amp; Roll</td>\n    </tr>\n    <tr>\n      <th>194</th>\n      <td>195</td>\n      <td>1966</td>\n      <td>Blues Breakers With Eric Clapton (\"The Beano A...</td>\n      <td>John Mayall &amp; The Bluesbreakers</td>\n      <td>Rock,ï¿½Blues</td>\n      <td>Blues Rock,ï¿½Electric Blues,ï¿½Harmonica Blues</td>\n    </tr>\n    <tr>\n      <th>197</th>\n      <td>198</td>\n      <td>1967</td>\n      <td>The Best of Little Walter</td>\n      <td>Little Walter</td>\n      <td>Blues</td>\n      <td>Chicago Blues</td>\n    </tr>\n    <tr>\n      <th>204</th>\n      <td>205</td>\n      <td>1968</td>\n      <td>Wheels of Fire</td>\n      <td>Cream</td>\n      <td>Rock, Blues</td>\n      <td>Blues Rock, Psychedelic Rock, Classic Rock</td>\n    </tr>\n    <tr>\n      <th>215</th>\n      <td>216</td>\n      <td>1986</td>\n      <td>Bo Diddley / Go Bo Diddley</td>\n      <td>Bo Diddley</td>\n      <td>Rock, Blues</td>\n      <td>Rhythm &amp; Blues, Rock &amp; Roll</td>\n    </tr>\n    <tr>\n      <th>216</th>\n      <td>217</td>\n      <td>1961</td>\n      <td>Two Steps From the Blues</td>\n      <td>Bobby \"Blue\" Bland</td>\n      <td>Funk / Soul, Blues</td>\n      <td>Rhythm &amp; Blues, Soul</td>\n    </tr>\n    <tr>\n      <th>221</th>\n      <td>222</td>\n      <td>1972</td>\n      <td>New Orleans Piano</td>\n      <td>Professor Longhair</td>\n      <td>Funk / Soul, Blues</td>\n      <td>Piano Blues</td>\n    </tr>\n    <tr>\n      <th>237</th>\n      <td>238</td>\n      <td>1962</td>\n      <td>Howlin' Wolf</td>\n      <td>Howlin' Wolf</td>\n      <td>Blues</td>\n      <td>NaN</td>\n    </tr>\n    <tr>\n      <th>244</th>\n      <td>245</td>\n      <td>1993</td>\n      <td>All Killer No Filler! The Jerry Lee Lewis Anth...</td>\n      <td>Jerry Lee Lewis</td>\n      <td>Rock, Blues, Folk, World, &amp; Country</td>\n      <td>Country Blues, Rock &amp; Roll, Rhythm &amp; Blues</td>\n    </tr>\n    <tr>\n      <th>277</th>\n      <td>278</td>\n      <td>1997</td>\n      <td>Anthology of American Folk Music</td>\n      <td>Various</td>\n      <td>Blues, Folk, World, &amp; Country</td>\n      <td>Cajun, Country, Field Recording, Gospel, Delta...</td>\n    </tr>\n    <tr>\n      <th>281</th>\n      <td>282</td>\n      <td>1964</td>\n      <td>Folk Singer</td>\n      <td>Muddy Waters</td>\n      <td>Blues</td>\n      <td>Delta Blues</td>\n    </tr>\n    <tr>\n      <th>310</th>\n      <td>311</td>\n      <td>1994</td>\n      <td>The Sun Records Collection</td>\n      <td>Various</td>\n      <td>Rock, Funk / Soul, Blues, Pop, Folk, World, &amp; ...</td>\n      <td>Country Blues, Rock &amp; Roll, Rockabilly</td>\n    </tr>\n    <tr>\n      <th>333</th>\n      <td>334</td>\n      <td>1979</td>\n      <td>Squeezing Out Sparks</td>\n      <td>Graham Parker &amp; The Rumour</td>\n      <td>Rock, Blues</td>\n      <td>NaN</td>\n    </tr>\n    <tr>\n      <th>347</th>\n      <td>348</td>\n      <td>1960</td>\n      <td>Muddy Waters at Newport 1960</td>\n      <td>Muddy Waters</td>\n      <td>Rock, Blues</td>\n      <td>Blues Rock, Chicago Blues</td>\n    </tr>\n    <tr>\n      <th>349</th>\n      <td>350</td>\n      <td>1966</td>\n      <td>Roger the Engineer</td>\n      <td>The Yardbirds</td>\n      <td>Rock, Blues</td>\n      <td>Blues Rock, Pop Rock</td>\n    </tr>\n    <tr>\n      <th>376</th>\n      <td>377</td>\n      <td>1991</td>\n      <td>The Ultimate Collection: 1948-1990</td>\n      <td>John Lee Hooker</td>\n      <td>Blues</td>\n      <td>Country Blues, Electric Blues, Chicago Blues, ...</td>\n    </tr>\n    <tr>\n      <th>398</th>\n      <td>399</td>\n      <td>1985</td>\n      <td>Rain Dogs</td>\n      <td>Tom Waits</td>\n      <td>Rock, Blues</td>\n      <td>Blues Rock</td>\n    </tr>\n    <tr>\n      <th>407</th>\n      <td>408</td>\n      <td>1989</td>\n      <td>I Do Not Want What I Haven't Got</td>\n      <td>Sinead O'Connor</td>\n      <td>Rock, Funk / Soul, Blues</td>\n      <td>Blues Rock, Rhythm &amp; Blues, Soul</td>\n    </tr>\n    <tr>\n      <th>409</th>\n      <td>410</td>\n      <td>1997</td>\n      <td>Time Out of Mind</td>\n      <td>Bob Dylan</td>\n      <td>Rock, Blues</td>\n      <td>Blues Rock</td>\n    </tr>\n    <tr>\n      <th>426</th>\n      <td>427</td>\n      <td>2002</td>\n      <td>Sleepless</td>\n      <td>Peter Wolf</td>\n      <td>Rock, Blues, Pop</td>\n      <td>Blues Rock, Pop Rock, Ballad</td>\n    </tr>\n    <tr>\n      <th>467</th>\n      <td>468</td>\n      <td>1965</td>\n      <td>The Paul Butterfield Blues Band</td>\n      <td>The Paul Butterfield Blues Band</td>\n      <td>Rock, Blues</td>\n      <td>Blues Rock, Electric Blues, Chicago Blues, Mod...</td>\n    </tr>\n    <tr>\n      <th>471</th>\n      <td>472</td>\n      <td>1987</td>\n      <td>Faith</td>\n      <td>George Michael</td>\n      <td>Electronic, Rock, Funk / Soul, Blues, Pop</td>\n      <td>Downtempo, Soft Rock, Pop Rock, Synth-pop</td>\n    </tr>\n    <tr>\n      <th>490</th>\n      <td>491</td>\n      <td>1967</td>\n      <td>Born Under a Bad Sign</td>\n      <td>Albert King</td>\n      <td>Funk / Soul, Blues</td>\n      <td>Electric Blues, Rhythm &amp; Blues, Soul</td>\n    </tr>\n    <tr>\n      <th>498</th>\n      <td>499</td>\n      <td>1971</td>\n      <td>Live in Cook County Jail</td>\n      <td>B.B. King</td>\n      <td>Blues</td>\n      <td>Electric Blues</td>\n    </tr>\n  </tbody>\n</table>\n</div>"
     },
     "execution_count": 12,
     "metadata": {},
     "output_type": "execute_result"
    }
   ],
   "source": [
    "# Blues라는 단어가 포함되어 있는 장르 추출\n",
    "df[df['Genre'].str.contains('Blues')]"
   ],
   "metadata": {
    "collapsed": false,
    "ExecuteTime": {
     "end_time": "2024-05-07T05:59:01.091551300Z",
     "start_time": "2024-05-07T05:59:01.004907900Z"
    }
   },
   "id": "8490b0a887225a0b",
   "execution_count": 12
  },
  {
   "cell_type": "code",
   "outputs": [
    {
     "data": {
      "text/plain": "     Number  Year                               Album           Artist  \\\n21       22  1990             The Complete Recordings   Robert Johnson   \n140     141  1965                   Live at the Regal        B.B. King   \n153     154  1958            Moanin' in the Moonlight     Howlin' Wolf   \n197     198  1967           The Best of Little Walter    Little Walter   \n237     238  1962                        Howlin' Wolf     Howlin' Wolf   \n277     278  1997    Anthology of American Folk Music          Various   \n281     282  1964                         Folk Singer     Muddy Waters   \n376     377  1991  The Ultimate Collection: 1948-1990  John Lee Hooker   \n498     499  1971            Live in Cook County Jail        B.B. King   \n\n                             Genre  \\\n21                           Blues   \n140                          Blues   \n153                          Blues   \n197                          Blues   \n237                          Blues   \n277  Blues, Folk, World, & Country   \n281                          Blues   \n376                          Blues   \n498                          Blues   \n\n                                              Subgenre  \n21                                         Delta Blues  \n140                                      Chicago Blues  \n153                                      Chicago Blues  \n197                                      Chicago Blues  \n237                                                NaN  \n277  Cajun, Country, Field Recording, Gospel, Delta...  \n281                                        Delta Blues  \n376  Country Blues, Electric Blues, Chicago Blues, ...  \n498                                     Electric Blues  ",
      "text/html": "<div>\n<style scoped>\n    .dataframe tbody tr th:only-of-type {\n        vertical-align: middle;\n    }\n\n    .dataframe tbody tr th {\n        vertical-align: top;\n    }\n\n    .dataframe thead th {\n        text-align: right;\n    }\n</style>\n<table border=\"1\" class=\"dataframe\">\n  <thead>\n    <tr style=\"text-align: right;\">\n      <th></th>\n      <th>Number</th>\n      <th>Year</th>\n      <th>Album</th>\n      <th>Artist</th>\n      <th>Genre</th>\n      <th>Subgenre</th>\n    </tr>\n  </thead>\n  <tbody>\n    <tr>\n      <th>21</th>\n      <td>22</td>\n      <td>1990</td>\n      <td>The Complete Recordings</td>\n      <td>Robert Johnson</td>\n      <td>Blues</td>\n      <td>Delta Blues</td>\n    </tr>\n    <tr>\n      <th>140</th>\n      <td>141</td>\n      <td>1965</td>\n      <td>Live at the Regal</td>\n      <td>B.B. King</td>\n      <td>Blues</td>\n      <td>Chicago Blues</td>\n    </tr>\n    <tr>\n      <th>153</th>\n      <td>154</td>\n      <td>1958</td>\n      <td>Moanin' in the Moonlight</td>\n      <td>Howlin' Wolf</td>\n      <td>Blues</td>\n      <td>Chicago Blues</td>\n    </tr>\n    <tr>\n      <th>197</th>\n      <td>198</td>\n      <td>1967</td>\n      <td>The Best of Little Walter</td>\n      <td>Little Walter</td>\n      <td>Blues</td>\n      <td>Chicago Blues</td>\n    </tr>\n    <tr>\n      <th>237</th>\n      <td>238</td>\n      <td>1962</td>\n      <td>Howlin' Wolf</td>\n      <td>Howlin' Wolf</td>\n      <td>Blues</td>\n      <td>NaN</td>\n    </tr>\n    <tr>\n      <th>277</th>\n      <td>278</td>\n      <td>1997</td>\n      <td>Anthology of American Folk Music</td>\n      <td>Various</td>\n      <td>Blues, Folk, World, &amp; Country</td>\n      <td>Cajun, Country, Field Recording, Gospel, Delta...</td>\n    </tr>\n    <tr>\n      <th>281</th>\n      <td>282</td>\n      <td>1964</td>\n      <td>Folk Singer</td>\n      <td>Muddy Waters</td>\n      <td>Blues</td>\n      <td>Delta Blues</td>\n    </tr>\n    <tr>\n      <th>376</th>\n      <td>377</td>\n      <td>1991</td>\n      <td>The Ultimate Collection: 1948-1990</td>\n      <td>John Lee Hooker</td>\n      <td>Blues</td>\n      <td>Country Blues, Electric Blues, Chicago Blues, ...</td>\n    </tr>\n    <tr>\n      <th>498</th>\n      <td>499</td>\n      <td>1971</td>\n      <td>Live in Cook County Jail</td>\n      <td>B.B. King</td>\n      <td>Blues</td>\n      <td>Electric Blues</td>\n    </tr>\n  </tbody>\n</table>\n</div>"
     },
     "execution_count": 13,
     "metadata": {},
     "output_type": "execute_result"
    }
   ],
   "source": [
    "# Blues라는 단어가 앞에 오는 장르 추출\n",
    "df[df['Genre'].str.startswith('Blues')]"
   ],
   "metadata": {
    "collapsed": false,
    "ExecuteTime": {
     "end_time": "2024-05-07T05:59:01.444828100Z",
     "start_time": "2024-05-07T05:59:01.380646500Z"
    }
   },
   "id": "7df31d91cbf6cc79",
   "execution_count": 13
  },
  {
   "cell_type": "code",
   "outputs": [],
   "source": [
    "# 포함 유무 컬럼 추가 \n",
    "df['Contains Blues'] = df['Genre'].str.contains('Blues')"
   ],
   "metadata": {
    "collapsed": false,
    "ExecuteTime": {
     "end_time": "2024-05-07T05:59:01.907970900Z",
     "start_time": "2024-05-07T05:59:01.872915400Z"
    }
   },
   "id": "7bacc137613aaefc",
   "execution_count": 14
  },
  {
   "cell_type": "code",
   "outputs": [
    {
     "data": {
      "text/plain": "     Number  Year                                  Album             Artist  \\\n0         1  1967  Sgt. Pepper's Lonely Hearts Club Band        The Beatles   \n1         2  1966                             Pet Sounds     The Beach Boys   \n2         3  1966                               Revolver        The Beatles   \n3         4  1965                   Highway 61 Revisited          Bob Dylan   \n4         5  1965                            Rubber Soul        The Beatles   \n..      ...   ...                                    ...                ...   \n495     496  1969                             Boz Scaggs         Boz Scaggs   \n496     497  2001                      White Blood Cells  The White Stripes   \n497     498  1989                        The Stone Roses    The Stone Roses   \n498     499  1971               Live in Cook County Jail          B.B. King   \n499     500  1998                               Aquemini            OutKast   \n\n         Genre                                           Subgenre  \\\n0         Rock                      Rock & Roll, Psychedelic Rock   \n1         Rock                         Pop Rock, Psychedelic Rock   \n2         Rock                         Psychedelic Rock, Pop Rock   \n3         Rock                              Folk Rock, Blues Rock   \n4    Rock, Pop                                           Pop Rock   \n..         ...                                                ...   \n495       Rock                                           Pop Rock   \n496       Rock  Indie Rock, Alternative Rock, Blues Rock, Gara...   \n497       Rock                                         Indie Rock   \n498      Blues                                     Electric Blues   \n499    Hip Hop                   Reggae, Gangsta, Soul, Conscious   \n\n     Contains Blues  \n0             False  \n1             False  \n2             False  \n3             False  \n4             False  \n..              ...  \n495           False  \n496           False  \n497           False  \n498            True  \n499           False  \n\n[500 rows x 7 columns]",
      "text/html": "<div>\n<style scoped>\n    .dataframe tbody tr th:only-of-type {\n        vertical-align: middle;\n    }\n\n    .dataframe tbody tr th {\n        vertical-align: top;\n    }\n\n    .dataframe thead th {\n        text-align: right;\n    }\n</style>\n<table border=\"1\" class=\"dataframe\">\n  <thead>\n    <tr style=\"text-align: right;\">\n      <th></th>\n      <th>Number</th>\n      <th>Year</th>\n      <th>Album</th>\n      <th>Artist</th>\n      <th>Genre</th>\n      <th>Subgenre</th>\n      <th>Contains Blues</th>\n    </tr>\n  </thead>\n  <tbody>\n    <tr>\n      <th>0</th>\n      <td>1</td>\n      <td>1967</td>\n      <td>Sgt. Pepper's Lonely Hearts Club Band</td>\n      <td>The Beatles</td>\n      <td>Rock</td>\n      <td>Rock &amp; Roll, Psychedelic Rock</td>\n      <td>False</td>\n    </tr>\n    <tr>\n      <th>1</th>\n      <td>2</td>\n      <td>1966</td>\n      <td>Pet Sounds</td>\n      <td>The Beach Boys</td>\n      <td>Rock</td>\n      <td>Pop Rock, Psychedelic Rock</td>\n      <td>False</td>\n    </tr>\n    <tr>\n      <th>2</th>\n      <td>3</td>\n      <td>1966</td>\n      <td>Revolver</td>\n      <td>The Beatles</td>\n      <td>Rock</td>\n      <td>Psychedelic Rock, Pop Rock</td>\n      <td>False</td>\n    </tr>\n    <tr>\n      <th>3</th>\n      <td>4</td>\n      <td>1965</td>\n      <td>Highway 61 Revisited</td>\n      <td>Bob Dylan</td>\n      <td>Rock</td>\n      <td>Folk Rock, Blues Rock</td>\n      <td>False</td>\n    </tr>\n    <tr>\n      <th>4</th>\n      <td>5</td>\n      <td>1965</td>\n      <td>Rubber Soul</td>\n      <td>The Beatles</td>\n      <td>Rock, Pop</td>\n      <td>Pop Rock</td>\n      <td>False</td>\n    </tr>\n    <tr>\n      <th>...</th>\n      <td>...</td>\n      <td>...</td>\n      <td>...</td>\n      <td>...</td>\n      <td>...</td>\n      <td>...</td>\n      <td>...</td>\n    </tr>\n    <tr>\n      <th>495</th>\n      <td>496</td>\n      <td>1969</td>\n      <td>Boz Scaggs</td>\n      <td>Boz Scaggs</td>\n      <td>Rock</td>\n      <td>Pop Rock</td>\n      <td>False</td>\n    </tr>\n    <tr>\n      <th>496</th>\n      <td>497</td>\n      <td>2001</td>\n      <td>White Blood Cells</td>\n      <td>The White Stripes</td>\n      <td>Rock</td>\n      <td>Indie Rock, Alternative Rock, Blues Rock, Gara...</td>\n      <td>False</td>\n    </tr>\n    <tr>\n      <th>497</th>\n      <td>498</td>\n      <td>1989</td>\n      <td>The Stone Roses</td>\n      <td>The Stone Roses</td>\n      <td>Rock</td>\n      <td>Indie Rock</td>\n      <td>False</td>\n    </tr>\n    <tr>\n      <th>498</th>\n      <td>499</td>\n      <td>1971</td>\n      <td>Live in Cook County Jail</td>\n      <td>B.B. King</td>\n      <td>Blues</td>\n      <td>Electric Blues</td>\n      <td>True</td>\n    </tr>\n    <tr>\n      <th>499</th>\n      <td>500</td>\n      <td>1998</td>\n      <td>Aquemini</td>\n      <td>OutKast</td>\n      <td>Hip Hop</td>\n      <td>Reggae, Gangsta, Soul, Conscious</td>\n      <td>False</td>\n    </tr>\n  </tbody>\n</table>\n<p>500 rows × 7 columns</p>\n</div>"
     },
     "execution_count": 15,
     "metadata": {},
     "output_type": "execute_result"
    }
   ],
   "source": [
    "df"
   ],
   "metadata": {
    "collapsed": false,
    "ExecuteTime": {
     "end_time": "2024-05-07T05:59:03.308113300Z",
     "start_time": "2024-05-07T05:59:03.283205200Z"
    }
   },
   "id": "6c2857a86460952c",
   "execution_count": 15
  }
 ],
 "metadata": {
  "kernelspec": {
   "display_name": "Python 3",
   "language": "python",
   "name": "python3"
  },
  "language_info": {
   "codemirror_mode": {
    "name": "ipython",
    "version": 2
   },
   "file_extension": ".py",
   "mimetype": "text/x-python",
   "name": "python",
   "nbconvert_exporter": "python",
   "pygments_lexer": "ipython2",
   "version": "2.7.6"
  }
 },
 "nbformat": 4,
 "nbformat_minor": 5
}
