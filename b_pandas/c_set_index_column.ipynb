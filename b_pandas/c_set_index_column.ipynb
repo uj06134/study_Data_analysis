{
 "cells": [
  {
   "cell_type": "code",
   "execution_count": 2,
   "id": "initial_id",
   "metadata": {
    "collapsed": true,
    "ExecuteTime": {
     "end_time": "2024-04-22T05:20:18.524341400Z",
     "start_time": "2024-04-22T05:20:15.220214600Z"
    }
   },
   "outputs": [],
   "source": [
    "import pandas as pd"
   ]
  },
  {
   "cell_type": "code",
   "outputs": [
    {
     "data": {
      "text/plain": "                position  born  number nationality\nRoberto Firmino       FW  1991   no. 9      Brazil\nSadio Mane            FW  1992  no. 10     Senegal\nMohamed Salah         FW  1992  no. 11       Egypt\nJoe Gomez             DF  1997  no. 12     England\nAlisson Becker        GK  1992  no. 13      Brazil",
      "text/html": "<div>\n<style scoped>\n    .dataframe tbody tr th:only-of-type {\n        vertical-align: middle;\n    }\n\n    .dataframe tbody tr th {\n        vertical-align: top;\n    }\n\n    .dataframe thead th {\n        text-align: right;\n    }\n</style>\n<table border=\"1\" class=\"dataframe\">\n  <thead>\n    <tr style=\"text-align: right;\">\n      <th></th>\n      <th>position</th>\n      <th>born</th>\n      <th>number</th>\n      <th>nationality</th>\n    </tr>\n  </thead>\n  <tbody>\n    <tr>\n      <th>Roberto Firmino</th>\n      <td>FW</td>\n      <td>1991</td>\n      <td>no. 9</td>\n      <td>Brazil</td>\n    </tr>\n    <tr>\n      <th>Sadio Mane</th>\n      <td>FW</td>\n      <td>1992</td>\n      <td>no. 10</td>\n      <td>Senegal</td>\n    </tr>\n    <tr>\n      <th>Mohamed Salah</th>\n      <td>FW</td>\n      <td>1992</td>\n      <td>no. 11</td>\n      <td>Egypt</td>\n    </tr>\n    <tr>\n      <th>Joe Gomez</th>\n      <td>DF</td>\n      <td>1997</td>\n      <td>no. 12</td>\n      <td>England</td>\n    </tr>\n    <tr>\n      <th>Alisson Becker</th>\n      <td>GK</td>\n      <td>1992</td>\n      <td>no. 13</td>\n      <td>Brazil</td>\n    </tr>\n  </tbody>\n</table>\n</div>"
     },
     "execution_count": 27,
     "metadata": {},
     "output_type": "execute_result"
    }
   ],
   "source": [
    "liverpool_df = pd.read_csv('data/liverpool.csv', index_col=0)\n",
    "liverpool_df"
   ],
   "metadata": {
    "collapsed": false,
    "ExecuteTime": {
     "end_time": "2024-04-22T05:43:16.317156500Z",
     "start_time": "2024-04-22T05:43:16.262514100Z"
    }
   },
   "id": "88991a4952d4b9d3",
   "execution_count": 27
  },
  {
   "cell_type": "code",
   "outputs": [
    {
     "data": {
      "text/plain": "                Position  born  number nationality\nRoberto Firmino       FW  1991   no. 9      Brazil\nSadio Mane            FW  1992  no. 10     Senegal\nMohamed Salah         FW  1992  no. 11       Egypt\nJoe Gomez             DF  1997  no. 12     England\nAlisson Becker        GK  1992  no. 13      Brazil",
      "text/html": "<div>\n<style scoped>\n    .dataframe tbody tr th:only-of-type {\n        vertical-align: middle;\n    }\n\n    .dataframe tbody tr th {\n        vertical-align: top;\n    }\n\n    .dataframe thead th {\n        text-align: right;\n    }\n</style>\n<table border=\"1\" class=\"dataframe\">\n  <thead>\n    <tr style=\"text-align: right;\">\n      <th></th>\n      <th>Position</th>\n      <th>born</th>\n      <th>number</th>\n      <th>nationality</th>\n    </tr>\n  </thead>\n  <tbody>\n    <tr>\n      <th>Roberto Firmino</th>\n      <td>FW</td>\n      <td>1991</td>\n      <td>no. 9</td>\n      <td>Brazil</td>\n    </tr>\n    <tr>\n      <th>Sadio Mane</th>\n      <td>FW</td>\n      <td>1992</td>\n      <td>no. 10</td>\n      <td>Senegal</td>\n    </tr>\n    <tr>\n      <th>Mohamed Salah</th>\n      <td>FW</td>\n      <td>1992</td>\n      <td>no. 11</td>\n      <td>Egypt</td>\n    </tr>\n    <tr>\n      <th>Joe Gomez</th>\n      <td>DF</td>\n      <td>1997</td>\n      <td>no. 12</td>\n      <td>England</td>\n    </tr>\n    <tr>\n      <th>Alisson Becker</th>\n      <td>GK</td>\n      <td>1992</td>\n      <td>no. 13</td>\n      <td>Brazil</td>\n    </tr>\n  </tbody>\n</table>\n</div>"
     },
     "execution_count": 28,
     "metadata": {},
     "output_type": "execute_result"
    }
   ],
   "source": [
    "# 특정 컬럼명 첫 글자를 대문자로 변경\n",
    "# inplace = True : 기존의 df를 바꿈\n",
    "liverpool_df.rename(columns={'position':'Position'}, inplace=True)\n",
    "liverpool_df"
   ],
   "metadata": {
    "collapsed": false,
    "ExecuteTime": {
     "end_time": "2024-04-22T05:43:16.494949600Z",
     "start_time": "2024-04-22T05:43:16.444890100Z"
    }
   },
   "id": "5210d19f83fb0312",
   "execution_count": 28
  },
  {
   "cell_type": "code",
   "outputs": [
    {
     "data": {
      "text/plain": "                Position  Born  Number Nationality\nRoberto Firmino       FW  1991   no. 9      Brazil\nSadio Mane            FW  1992  no. 10     Senegal\nMohamed Salah         FW  1992  no. 11       Egypt\nJoe Gomez             DF  1997  no. 12     England\nAlisson Becker        GK  1992  no. 13      Brazil",
      "text/html": "<div>\n<style scoped>\n    .dataframe tbody tr th:only-of-type {\n        vertical-align: middle;\n    }\n\n    .dataframe tbody tr th {\n        vertical-align: top;\n    }\n\n    .dataframe thead th {\n        text-align: right;\n    }\n</style>\n<table border=\"1\" class=\"dataframe\">\n  <thead>\n    <tr style=\"text-align: right;\">\n      <th></th>\n      <th>Position</th>\n      <th>Born</th>\n      <th>Number</th>\n      <th>Nationality</th>\n    </tr>\n  </thead>\n  <tbody>\n    <tr>\n      <th>Roberto Firmino</th>\n      <td>FW</td>\n      <td>1991</td>\n      <td>no. 9</td>\n      <td>Brazil</td>\n    </tr>\n    <tr>\n      <th>Sadio Mane</th>\n      <td>FW</td>\n      <td>1992</td>\n      <td>no. 10</td>\n      <td>Senegal</td>\n    </tr>\n    <tr>\n      <th>Mohamed Salah</th>\n      <td>FW</td>\n      <td>1992</td>\n      <td>no. 11</td>\n      <td>Egypt</td>\n    </tr>\n    <tr>\n      <th>Joe Gomez</th>\n      <td>DF</td>\n      <td>1997</td>\n      <td>no. 12</td>\n      <td>England</td>\n    </tr>\n    <tr>\n      <th>Alisson Becker</th>\n      <td>GK</td>\n      <td>1992</td>\n      <td>no. 13</td>\n      <td>Brazil</td>\n    </tr>\n  </tbody>\n</table>\n</div>"
     },
     "execution_count": 29,
     "metadata": {},
     "output_type": "execute_result"
    }
   ],
   "source": [
    "# 모든 컬럼명 첫 글자를 대문자로 변경\n",
    "# x.capitalize(): x의 첫 글자를 대문자로 바꾸는 메서드\n",
    "liverpool_df.rename(columns=lambda x: x.capitalize(), inplace=True)\n",
    "liverpool_df"
   ],
   "metadata": {
    "collapsed": false,
    "ExecuteTime": {
     "end_time": "2024-04-22T05:43:16.879780800Z",
     "start_time": "2024-04-22T05:43:16.802266700Z"
    }
   },
   "id": "a35324ac9dc6363d",
   "execution_count": 29
  },
  {
   "cell_type": "code",
   "outputs": [
    {
     "data": {
      "text/plain": "                Position  Born  Number Nationality\nPlayer Name                                       \nRoberto Firmino       FW  1991   no. 9      Brazil\nSadio Mane            FW  1992  no. 10     Senegal\nMohamed Salah         FW  1992  no. 11       Egypt\nJoe Gomez             DF  1997  no. 12     England\nAlisson Becker        GK  1992  no. 13      Brazil",
      "text/html": "<div>\n<style scoped>\n    .dataframe tbody tr th:only-of-type {\n        vertical-align: middle;\n    }\n\n    .dataframe tbody tr th {\n        vertical-align: top;\n    }\n\n    .dataframe thead th {\n        text-align: right;\n    }\n</style>\n<table border=\"1\" class=\"dataframe\">\n  <thead>\n    <tr style=\"text-align: right;\">\n      <th></th>\n      <th>Position</th>\n      <th>Born</th>\n      <th>Number</th>\n      <th>Nationality</th>\n    </tr>\n    <tr>\n      <th>Player Name</th>\n      <th></th>\n      <th></th>\n      <th></th>\n      <th></th>\n    </tr>\n  </thead>\n  <tbody>\n    <tr>\n      <th>Roberto Firmino</th>\n      <td>FW</td>\n      <td>1991</td>\n      <td>no. 9</td>\n      <td>Brazil</td>\n    </tr>\n    <tr>\n      <th>Sadio Mane</th>\n      <td>FW</td>\n      <td>1992</td>\n      <td>no. 10</td>\n      <td>Senegal</td>\n    </tr>\n    <tr>\n      <th>Mohamed Salah</th>\n      <td>FW</td>\n      <td>1992</td>\n      <td>no. 11</td>\n      <td>Egypt</td>\n    </tr>\n    <tr>\n      <th>Joe Gomez</th>\n      <td>DF</td>\n      <td>1997</td>\n      <td>no. 12</td>\n      <td>England</td>\n    </tr>\n    <tr>\n      <th>Alisson Becker</th>\n      <td>GK</td>\n      <td>1992</td>\n      <td>no. 13</td>\n      <td>Brazil</td>\n    </tr>\n  </tbody>\n</table>\n</div>"
     },
     "execution_count": 30,
     "metadata": {},
     "output_type": "execute_result"
    }
   ],
   "source": [
    "# 인덱스 이름 설정\n",
    "liverpool_df.index.name = \"Player Name\"\n",
    "liverpool_df    "
   ],
   "metadata": {
    "collapsed": false,
    "ExecuteTime": {
     "end_time": "2024-04-22T05:43:17.435372100Z",
     "start_time": "2024-04-22T05:43:17.251580300Z"
    }
   },
   "id": "426177f630b2e675",
   "execution_count": 30
  },
  {
   "cell_type": "code",
   "outputs": [
    {
     "data": {
      "text/plain": "       Position  Born Nationality\nNumber                           \nno. 9        FW  1991      Brazil\nno. 10       FW  1992     Senegal\nno. 11       FW  1992       Egypt\nno. 12       DF  1997     England\nno. 13       GK  1992      Brazil",
      "text/html": "<div>\n<style scoped>\n    .dataframe tbody tr th:only-of-type {\n        vertical-align: middle;\n    }\n\n    .dataframe tbody tr th {\n        vertical-align: top;\n    }\n\n    .dataframe thead th {\n        text-align: right;\n    }\n</style>\n<table border=\"1\" class=\"dataframe\">\n  <thead>\n    <tr style=\"text-align: right;\">\n      <th></th>\n      <th>Position</th>\n      <th>Born</th>\n      <th>Nationality</th>\n    </tr>\n    <tr>\n      <th>Number</th>\n      <th></th>\n      <th></th>\n      <th></th>\n    </tr>\n  </thead>\n  <tbody>\n    <tr>\n      <th>no. 9</th>\n      <td>FW</td>\n      <td>1991</td>\n      <td>Brazil</td>\n    </tr>\n    <tr>\n      <th>no. 10</th>\n      <td>FW</td>\n      <td>1992</td>\n      <td>Senegal</td>\n    </tr>\n    <tr>\n      <th>no. 11</th>\n      <td>FW</td>\n      <td>1992</td>\n      <td>Egypt</td>\n    </tr>\n    <tr>\n      <th>no. 12</th>\n      <td>DF</td>\n      <td>1997</td>\n      <td>England</td>\n    </tr>\n    <tr>\n      <th>no. 13</th>\n      <td>GK</td>\n      <td>1992</td>\n      <td>Brazil</td>\n    </tr>\n  </tbody>\n</table>\n</div>"
     },
     "execution_count": 31,
     "metadata": {},
     "output_type": "execute_result"
    }
   ],
   "source": [
    "# 인덱스 설정\n",
    "# set_index() 메서드를 통해 기존 컬럼 중 하나의 컬럼을 인덱스로 만들 수 있습니다. 기존의 인덱스는 사라지게 됩니다.\n",
    "liverpool_df.set_index('Number')"
   ],
   "metadata": {
    "collapsed": false,
    "ExecuteTime": {
     "end_time": "2024-04-22T05:43:18.455364Z",
     "start_time": "2024-04-22T05:43:18.109242300Z"
    }
   },
   "id": "278b6e580a0c50aa",
   "execution_count": 31
  },
  {
   "cell_type": "code",
   "outputs": [
    {
     "data": {
      "text/plain": "       Position  Born Nationality      player_name\nNumber                                            \nno. 9        FW  1991      Brazil  Roberto Firmino\nno. 10       FW  1992     Senegal       Sadio Mane\nno. 11       FW  1992       Egypt    Mohamed Salah\nno. 12       DF  1997     England        Joe Gomez\nno. 13       GK  1992      Brazil   Alisson Becker",
      "text/html": "<div>\n<style scoped>\n    .dataframe tbody tr th:only-of-type {\n        vertical-align: middle;\n    }\n\n    .dataframe tbody tr th {\n        vertical-align: top;\n    }\n\n    .dataframe thead th {\n        text-align: right;\n    }\n</style>\n<table border=\"1\" class=\"dataframe\">\n  <thead>\n    <tr style=\"text-align: right;\">\n      <th></th>\n      <th>Position</th>\n      <th>Born</th>\n      <th>Nationality</th>\n      <th>player_name</th>\n    </tr>\n    <tr>\n      <th>Number</th>\n      <th></th>\n      <th></th>\n      <th></th>\n      <th></th>\n    </tr>\n  </thead>\n  <tbody>\n    <tr>\n      <th>no. 9</th>\n      <td>FW</td>\n      <td>1991</td>\n      <td>Brazil</td>\n      <td>Roberto Firmino</td>\n    </tr>\n    <tr>\n      <th>no. 10</th>\n      <td>FW</td>\n      <td>1992</td>\n      <td>Senegal</td>\n      <td>Sadio Mane</td>\n    </tr>\n    <tr>\n      <th>no. 11</th>\n      <td>FW</td>\n      <td>1992</td>\n      <td>Egypt</td>\n      <td>Mohamed Salah</td>\n    </tr>\n    <tr>\n      <th>no. 12</th>\n      <td>DF</td>\n      <td>1997</td>\n      <td>England</td>\n      <td>Joe Gomez</td>\n    </tr>\n    <tr>\n      <th>no. 13</th>\n      <td>GK</td>\n      <td>1992</td>\n      <td>Brazil</td>\n      <td>Alisson Becker</td>\n    </tr>\n  </tbody>\n</table>\n</div>"
     },
     "execution_count": 32,
     "metadata": {},
     "output_type": "execute_result"
    }
   ],
   "source": [
    "# 인덱스 설정\n",
    "# 기존의 인덱스가 사라지는것을 방지하기 위해 따로 추가\n",
    "liverpool_df['player_name'] = liverpool_df.index\n",
    "liverpool_df.set_index('Number', inplace = True)\n",
    "liverpool_df"
   ],
   "metadata": {
    "collapsed": false,
    "ExecuteTime": {
     "end_time": "2024-04-22T05:43:19.555775400Z",
     "start_time": "2024-04-22T05:43:19.302686200Z"
    }
   },
   "id": "af04a42060a664b3",
   "execution_count": 32
  }
 ],
 "metadata": {
  "kernelspec": {
   "display_name": "Python 3",
   "language": "python",
   "name": "python3"
  },
  "language_info": {
   "codemirror_mode": {
    "name": "ipython",
    "version": 2
   },
   "file_extension": ".py",
   "mimetype": "text/x-python",
   "name": "python",
   "nbconvert_exporter": "python",
   "pygments_lexer": "ipython2",
   "version": "2.7.6"
  }
 },
 "nbformat": 4,
 "nbformat_minor": 5
}
