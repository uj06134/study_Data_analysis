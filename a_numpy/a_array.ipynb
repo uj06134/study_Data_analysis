{
 "cells": [
  {
   "cell_type": "code",
   "outputs": [],
   "source": [
    "import numpy"
   ],
   "metadata": {
    "collapsed": false,
    "ExecuteTime": {
     "end_time": "2024-03-07T09:41:35.486691800Z",
     "start_time": "2024-03-07T09:41:35.459366300Z"
    }
   },
   "id": "2776693d5345dbbb",
   "execution_count": 36
  },
  {
   "cell_type": "markdown",
   "source": [
    "# 파이썬 리스트를 통해 생성\n",
    "numpy 모듈의 array 메소드에 파라미터로 파이썬 리스트를 넘겨주면 numpy array가 리턴됩니다."
   ],
   "metadata": {
    "collapsed": false
   },
   "id": "755e0a4a9ba55ff3"
  },
  {
   "cell_type": "code",
   "outputs": [
    {
     "name": "stdout",
     "output_type": "stream",
     "text": [
      "[ 2  3  5  7 11 13 17 19 23 29 31]\n"
     ]
    }
   ],
   "source": [
    "array1 = numpy.array([2, 3, 5, 7, 11, 13, 17, 19, 23, 29, 31])\n",
    "    \n",
    "print(array1)"
   ],
   "metadata": {
    "collapsed": false,
    "ExecuteTime": {
     "end_time": "2024-03-07T08:39:46.937465100Z",
     "start_time": "2024-03-07T08:39:46.914001800Z"
    }
   },
   "id": "6b4f2d2bce5e07c1",
   "execution_count": 18
  },
  {
   "cell_type": "markdown",
   "source": [
    "# 균일한 값으로 생성\n",
    "numpy 모듈의 full 메소드를 사용하면, 모든 값이 같은 numpy array를 생성할 수 있습니다."
   ],
   "metadata": {
    "collapsed": false
   },
   "id": "b71ffa0ef362f98e"
  },
  {
   "cell_type": "code",
   "outputs": [
    {
     "name": "stdout",
     "output_type": "stream",
     "text": [
      "[7 7 7 7 7 7]\n"
     ]
    }
   ],
   "source": [
    "array1 = numpy.full(6, 7)\n",
    "    \n",
    "print(array1)"
   ],
   "metadata": {
    "collapsed": false,
    "ExecuteTime": {
     "end_time": "2024-03-07T08:39:47.637605700Z",
     "start_time": "2024-03-07T08:39:47.615907400Z"
    }
   },
   "id": "c27fba31806e4210",
   "execution_count": 19
  },
  {
   "cell_type": "markdown",
   "source": [
    "# 모든 값이 0인 numpy array 생성\n",
    "모든 값이 0인 numpy array를 생성하기 위해서는 full 메소드를 사용하면 되겠죠. 하지만 사실은 더 간편한 방법이 있습니다."
   ],
   "metadata": {
    "collapsed": false
   },
   "id": "42da9548d2b3f47f"
  },
  {
   "cell_type": "code",
   "outputs": [
    {
     "name": "stdout",
     "output_type": "stream",
     "text": [
      "[0 0 0 0 0 0]\n",
      "\n",
      "[0 0 0 0 0 0]\n"
     ]
    }
   ],
   "source": [
    "array1 = numpy.full(6, 0)\n",
    "array2 = numpy.zeros(6, dtype=int)\n",
    "    \n",
    "print(array1)\n",
    "print()\n",
    "print(array2)"
   ],
   "metadata": {
    "collapsed": false,
    "ExecuteTime": {
     "end_time": "2024-03-07T08:40:19.814141700Z",
     "start_time": "2024-03-07T08:40:19.779981300Z"
    }
   },
   "id": "e7e6cae42db19b2d",
   "execution_count": 20
  },
  {
   "cell_type": "markdown",
   "source": [
    "# 모든 값이 1인 numpy array 생성\n",
    "모든 값이 1인 numpy array를 생성하는 것도 비슷합니다. zeros 메소드 대신 ones를 사용하면 됩니다."
   ],
   "metadata": {
    "collapsed": false
   },
   "id": "313e1ebdc61394d5"
  },
  {
   "cell_type": "code",
   "outputs": [
    {
     "name": "stdout",
     "output_type": "stream",
     "text": [
      "[1 1 1 1 1 1]\n",
      "\n",
      "[1 1 1 1 1 1]\n"
     ]
    }
   ],
   "source": [
    "array1 = numpy.full(6, 1)\n",
    "array2 = numpy.ones(6, dtype=int)\n",
    "    \n",
    "print(array1)\n",
    "print()\n",
    "print(array2)"
   ],
   "metadata": {
    "collapsed": false,
    "ExecuteTime": {
     "end_time": "2024-03-07T08:41:11.489500Z",
     "start_time": "2024-03-07T08:41:11.439741100Z"
    }
   },
   "id": "54f66fedbd350cf",
   "execution_count": 21
  },
  {
   "cell_type": "markdown",
   "source": [
    "# 랜덤한 값들로 생성\n",
    "어쩔 때는 임의의 값들로 배열을 생성시키고 싶습니다. 그럴 때는 numpy의 random 모듈의 random 함수를 사용하면 됩니다."
   ],
   "metadata": {
    "collapsed": false
   },
   "id": "7933cfc62111b1b5"
  },
  {
   "cell_type": "code",
   "outputs": [
    {
     "name": "stdout",
     "output_type": "stream",
     "text": [
      "[0.18542964 0.52266292 0.58316545 0.86098622 0.1143246  0.64515791]\n",
      "\n",
      "[0.01570688 0.44978346 0.42042569 0.48349673 0.87094253 0.66029021]\n"
     ]
    }
   ],
   "source": [
    "array1 = numpy.random.random(6)\n",
    "array2 = numpy.random.random(6)\n",
    "    \n",
    "print(array1)\n",
    "print()\n",
    "print(array2)"
   ],
   "metadata": {
    "collapsed": false,
    "ExecuteTime": {
     "end_time": "2024-03-07T08:41:49.799650700Z",
     "start_time": "2024-03-07T08:41:49.782899700Z"
    }
   },
   "id": "35e9ed984c56d706",
   "execution_count": 22
  },
  {
   "cell_type": "markdown",
   "source": [
    "# 연속된 값들이 담긴 numpy array 생성\n",
    "numpy 모듈의 arange 함수를 사용하면 연속된 값들이 담겨 있는 numpy array를 생성할 수 있습니다.\n",
    "arange 함수는 파이썬의 기본 함수인 range와 굉장히 비슷한 원리로 동작하는데요. 파라미터가 1개인 경우, 2개인 경우, 3개인 경우 모두 살펴봅시다."
   ],
   "metadata": {
    "collapsed": false
   },
   "id": "5e202cda4615ecf8"
  },
  {
   "cell_type": "markdown",
   "source": [
    "### 파라미터 1개\n",
    "arange(m)을 하면 0부터 m-1까지의 값들이 담긴 numpy array가 리턴됩니다."
   ],
   "metadata": {
    "collapsed": false
   },
   "id": "193df438996dee8"
  },
  {
   "cell_type": "code",
   "outputs": [
    {
     "name": "stdout",
     "output_type": "stream",
     "text": [
      "[0 1 2 3 4 5]\n"
     ]
    }
   ],
   "source": [
    "array1 = numpy.arange(6)\n",
    "print(array1)"
   ],
   "metadata": {
    "collapsed": false,
    "ExecuteTime": {
     "end_time": "2024-03-07T08:43:39.814776200Z",
     "start_time": "2024-03-07T08:43:39.797780400Z"
    }
   },
   "id": "ae54f3bb0798d53b",
   "execution_count": 24
  },
  {
   "cell_type": "markdown",
   "source": [
    "### 파라미터 2개\n",
    "arange(n, m)을 하면 n부터 m-1까지의 값들이 담긴 numpy array가 리턴됩니다."
   ],
   "metadata": {
    "collapsed": false
   },
   "id": "37e3644fd5dc6c59"
  },
  {
   "cell_type": "code",
   "outputs": [
    {
     "name": "stdout",
     "output_type": "stream",
     "text": [
      "[2 3 4 5 6]\n"
     ]
    }
   ],
   "source": [
    "array1 = numpy.arange(2, 7)\n",
    "print(array1)"
   ],
   "metadata": {
    "collapsed": false,
    "ExecuteTime": {
     "end_time": "2024-03-07T08:43:46.117675700Z",
     "start_time": "2024-03-07T08:43:46.086939800Z"
    }
   },
   "id": "8008447346927bd5",
   "execution_count": 25
  },
  {
   "cell_type": "markdown",
   "source": [
    "### 파라미터 3개\n",
    "arange(n, m, s)를 하면 n부터 m-1까지의 값들 중 간격이 s인 값들이 담긴 numpy array가 리턴됩니다."
   ],
   "metadata": {
    "collapsed": false
   },
   "id": "dc67783362bf3e0d"
  },
  {
   "cell_type": "code",
   "outputs": [
    {
     "name": "stdout",
     "output_type": "stream",
     "text": [
      "[ 3  6  9 12 15]\n"
     ]
    }
   ],
   "source": [
    "array1 = numpy.arange(3, 17, 3)\n",
    "print(array1)"
   ],
   "metadata": {
    "collapsed": false,
    "ExecuteTime": {
     "end_time": "2024-03-07T08:44:27.616261Z",
     "start_time": "2024-03-07T08:44:27.600528500Z"
    }
   },
   "id": "fc7eb0e6e2a722ca",
   "execution_count": 27
  },
  {
   "cell_type": "code",
   "outputs": [
    {
     "data": {
      "text/plain": "array([  1,   2,   3,   4,   5,   6,   7,   8,   9,  10,  11,  12,  13,\n        14,  15,  16,  17,  18,  19,  20,  21,  22,  23,  24,  25,  26,\n        27,  28,  29,  30,  31,  32,  33,  34,  35,  36,  37,  38,  39,\n        40,  41,  42,  43,  44,  45,  46,  47,  48,  49,  50,  51,  52,\n        53,  54,  55,  56,  57,  58,  59,  60,  61,  62,  63,  64,  65,\n        66,  67,  68,  69,  70,  71,  72,  73,  74,  75,  76,  77,  78,\n        79,  80,  81,  82,  83,  84,  85,  86,  87,  88,  89,  90,  91,\n        92,  93,  94,  95,  96,  97,  98,  99, 100])"
     },
     "execution_count": 34,
     "metadata": {},
     "output_type": "execute_result"
    }
   ],
   "source": [
    "# 1부터 100까지(1과 100 포함) 담겨 있는 numpy array를 생성하고 출력해 주세요.\n",
    "import numpy as np\n",
    "arr = np.arange(1, 101)\n",
    "arr"
   ],
   "metadata": {
    "collapsed": false,
    "ExecuteTime": {
     "end_time": "2024-03-07T09:26:57.829161300Z",
     "start_time": "2024-03-07T09:26:57.818507Z"
    }
   },
   "id": "940a50a5f303388a",
   "execution_count": 34
  },
  {
   "cell_type": "code",
   "outputs": [
    {
     "data": {
      "text/plain": "array([ 3,  6,  9, 12, 15, 18, 21, 24, 27, 30, 33, 36, 39, 42, 45, 48, 51,\n       54, 57, 60, 63, 66, 69, 72, 75, 78, 81, 84, 87, 90, 93, 96, 99])"
     },
     "execution_count": 35,
     "metadata": {},
     "output_type": "execute_result"
    }
   ],
   "source": [
    "# 1 이상 100 이하의 자연수(수나 순서를 셀 때 쓰는 1, 2, 3 과 같은 수) 중 3의 배수만 담겨 있는 numpy array를 생성하고 출력해 주세요.\n",
    "import numpy as np\n",
    "arr = np.arange(3, 101, 3)\n",
    "arr"
   ],
   "metadata": {
    "collapsed": false,
    "ExecuteTime": {
     "end_time": "2024-03-07T09:27:00.182811900Z",
     "start_time": "2024-03-07T09:27:00.145038100Z"
    }
   },
   "id": "80b663b06a27497a",
   "execution_count": 35
  }
 ],
 "metadata": {
  "kernelspec": {
   "display_name": "Python 3",
   "language": "python",
   "name": "python3"
  },
  "language_info": {
   "codemirror_mode": {
    "name": "ipython",
    "version": 2
   },
   "file_extension": ".py",
   "mimetype": "text/x-python",
   "name": "python",
   "nbconvert_exporter": "python",
   "pygments_lexer": "ipython2",
   "version": "2.7.6"
  }
 },
 "nbformat": 4,
 "nbformat_minor": 5
}
