{
 "cells": [
  {
   "cell_type": "code",
   "execution_count": 1,
   "id": "initial_id",
   "metadata": {
    "collapsed": true,
    "ExecuteTime": {
     "end_time": "2024-04-22T07:12:06.308053200Z",
     "start_time": "2024-04-22T07:12:04.830918200Z"
    }
   },
   "outputs": [],
   "source": [
    "import pandas as pd"
   ]
  },
  {
   "cell_type": "code",
   "outputs": [
    {
     "data": {
      "text/plain": "     brand             model  ram hd_type  hd_size  screen_size   price  \\\n0     Dell  Inspiron 15-3567    4     hdd     1024         15.6   40000   \n1    Apple       MacBook Air    8     ssd      128         13.3   55499   \n2    Apple       MacBook Air    8     ssd      256         13.3   71500   \n3    Apple       MacBook Pro    8     ssd      128         13.3   96890   \n4    Apple       MacBook Pro    8     ssd      256         13.3  112666   \n..     ...               ...  ...     ...      ...          ...     ...   \n162   Asus            A555LF    8     hdd     1024         15.6   39961   \n163   Asus     X555LA-XX172D    4     hdd      500         15.6   28489   \n164   Asus            X554LD    2     hdd      500         15.6   29199   \n165   Asus    X550LAV-XX771D    2     hdd      500         15.6   29990   \n166   Asus     X540LA-XX538T    4     hdd     1024         15.6   30899   \n\n    processor_brand processor_model  clock_speed graphic_card_brand  \\\n0             intel              i5          2.5              intel   \n1             intel              i5          1.8              intel   \n2             intel              i5          1.8              intel   \n3             intel              i5          2.3              intel   \n4             intel              i5          2.3              intel   \n..              ...             ...          ...                ...   \n162           intel      i3 4th gen          1.7             nvidia   \n163           intel      i3 4th gen          1.9              intel   \n164           intel      i3 4th gen          1.9              intel   \n165           intel      i3 4th gen          1.7              intel   \n166           intel      i3 5th gen          2.0              intel   \n\n     graphic_card_size       os  weight comments  \n0                  NaN    linux    2.50      NaN  \n1                  2.0      mac    1.35      NaN  \n2                  2.0      mac    1.35      NaN  \n3                  2.0      mac    3.02      NaN  \n4                  2.0      mac    3.02      NaN  \n..                 ...      ...     ...      ...  \n162                2.0  windows    2.30      NaN  \n163                NaN    linux    2.30      NaN  \n164                1.0    linux    2.30      NaN  \n165                NaN    linux    2.50      NaN  \n166                NaN  windows    2.30      NaN  \n\n[167 rows x 15 columns]",
      "text/html": "<div>\n<style scoped>\n    .dataframe tbody tr th:only-of-type {\n        vertical-align: middle;\n    }\n\n    .dataframe tbody tr th {\n        vertical-align: top;\n    }\n\n    .dataframe thead th {\n        text-align: right;\n    }\n</style>\n<table border=\"1\" class=\"dataframe\">\n  <thead>\n    <tr style=\"text-align: right;\">\n      <th></th>\n      <th>brand</th>\n      <th>model</th>\n      <th>ram</th>\n      <th>hd_type</th>\n      <th>hd_size</th>\n      <th>screen_size</th>\n      <th>price</th>\n      <th>processor_brand</th>\n      <th>processor_model</th>\n      <th>clock_speed</th>\n      <th>graphic_card_brand</th>\n      <th>graphic_card_size</th>\n      <th>os</th>\n      <th>weight</th>\n      <th>comments</th>\n    </tr>\n  </thead>\n  <tbody>\n    <tr>\n      <th>0</th>\n      <td>Dell</td>\n      <td>Inspiron 15-3567</td>\n      <td>4</td>\n      <td>hdd</td>\n      <td>1024</td>\n      <td>15.6</td>\n      <td>40000</td>\n      <td>intel</td>\n      <td>i5</td>\n      <td>2.5</td>\n      <td>intel</td>\n      <td>NaN</td>\n      <td>linux</td>\n      <td>2.50</td>\n      <td>NaN</td>\n    </tr>\n    <tr>\n      <th>1</th>\n      <td>Apple</td>\n      <td>MacBook Air</td>\n      <td>8</td>\n      <td>ssd</td>\n      <td>128</td>\n      <td>13.3</td>\n      <td>55499</td>\n      <td>intel</td>\n      <td>i5</td>\n      <td>1.8</td>\n      <td>intel</td>\n      <td>2.0</td>\n      <td>mac</td>\n      <td>1.35</td>\n      <td>NaN</td>\n    </tr>\n    <tr>\n      <th>2</th>\n      <td>Apple</td>\n      <td>MacBook Air</td>\n      <td>8</td>\n      <td>ssd</td>\n      <td>256</td>\n      <td>13.3</td>\n      <td>71500</td>\n      <td>intel</td>\n      <td>i5</td>\n      <td>1.8</td>\n      <td>intel</td>\n      <td>2.0</td>\n      <td>mac</td>\n      <td>1.35</td>\n      <td>NaN</td>\n    </tr>\n    <tr>\n      <th>3</th>\n      <td>Apple</td>\n      <td>MacBook Pro</td>\n      <td>8</td>\n      <td>ssd</td>\n      <td>128</td>\n      <td>13.3</td>\n      <td>96890</td>\n      <td>intel</td>\n      <td>i5</td>\n      <td>2.3</td>\n      <td>intel</td>\n      <td>2.0</td>\n      <td>mac</td>\n      <td>3.02</td>\n      <td>NaN</td>\n    </tr>\n    <tr>\n      <th>4</th>\n      <td>Apple</td>\n      <td>MacBook Pro</td>\n      <td>8</td>\n      <td>ssd</td>\n      <td>256</td>\n      <td>13.3</td>\n      <td>112666</td>\n      <td>intel</td>\n      <td>i5</td>\n      <td>2.3</td>\n      <td>intel</td>\n      <td>2.0</td>\n      <td>mac</td>\n      <td>3.02</td>\n      <td>NaN</td>\n    </tr>\n    <tr>\n      <th>...</th>\n      <td>...</td>\n      <td>...</td>\n      <td>...</td>\n      <td>...</td>\n      <td>...</td>\n      <td>...</td>\n      <td>...</td>\n      <td>...</td>\n      <td>...</td>\n      <td>...</td>\n      <td>...</td>\n      <td>...</td>\n      <td>...</td>\n      <td>...</td>\n      <td>...</td>\n    </tr>\n    <tr>\n      <th>162</th>\n      <td>Asus</td>\n      <td>A555LF</td>\n      <td>8</td>\n      <td>hdd</td>\n      <td>1024</td>\n      <td>15.6</td>\n      <td>39961</td>\n      <td>intel</td>\n      <td>i3 4th gen</td>\n      <td>1.7</td>\n      <td>nvidia</td>\n      <td>2.0</td>\n      <td>windows</td>\n      <td>2.30</td>\n      <td>NaN</td>\n    </tr>\n    <tr>\n      <th>163</th>\n      <td>Asus</td>\n      <td>X555LA-XX172D</td>\n      <td>4</td>\n      <td>hdd</td>\n      <td>500</td>\n      <td>15.6</td>\n      <td>28489</td>\n      <td>intel</td>\n      <td>i3 4th gen</td>\n      <td>1.9</td>\n      <td>intel</td>\n      <td>NaN</td>\n      <td>linux</td>\n      <td>2.30</td>\n      <td>NaN</td>\n    </tr>\n    <tr>\n      <th>164</th>\n      <td>Asus</td>\n      <td>X554LD</td>\n      <td>2</td>\n      <td>hdd</td>\n      <td>500</td>\n      <td>15.6</td>\n      <td>29199</td>\n      <td>intel</td>\n      <td>i3 4th gen</td>\n      <td>1.9</td>\n      <td>intel</td>\n      <td>1.0</td>\n      <td>linux</td>\n      <td>2.30</td>\n      <td>NaN</td>\n    </tr>\n    <tr>\n      <th>165</th>\n      <td>Asus</td>\n      <td>X550LAV-XX771D</td>\n      <td>2</td>\n      <td>hdd</td>\n      <td>500</td>\n      <td>15.6</td>\n      <td>29990</td>\n      <td>intel</td>\n      <td>i3 4th gen</td>\n      <td>1.7</td>\n      <td>intel</td>\n      <td>NaN</td>\n      <td>linux</td>\n      <td>2.50</td>\n      <td>NaN</td>\n    </tr>\n    <tr>\n      <th>166</th>\n      <td>Asus</td>\n      <td>X540LA-XX538T</td>\n      <td>4</td>\n      <td>hdd</td>\n      <td>1024</td>\n      <td>15.6</td>\n      <td>30899</td>\n      <td>intel</td>\n      <td>i3 5th gen</td>\n      <td>2.0</td>\n      <td>intel</td>\n      <td>NaN</td>\n      <td>windows</td>\n      <td>2.30</td>\n      <td>NaN</td>\n    </tr>\n  </tbody>\n</table>\n<p>167 rows × 15 columns</p>\n</div>"
     },
     "execution_count": 3,
     "metadata": {},
     "output_type": "execute_result"
    }
   ],
   "source": [
    "laptops_df = pd.read_csv('data/laptops.csv')\n",
    "laptops_df"
   ],
   "metadata": {
    "collapsed": false,
    "ExecuteTime": {
     "end_time": "2024-04-22T07:12:46.106126400Z",
     "start_time": "2024-04-22T07:12:45.949484300Z"
    }
   },
   "id": "5b02e22ca322d5d4",
   "execution_count": 3
  },
  {
   "cell_type": "code",
   "outputs": [
    {
     "data": {
      "text/plain": "   brand             model  ram hd_type  hd_size  screen_size  price  \\\n0   Dell  Inspiron 15-3567    4     hdd     1024         15.6  40000   \n1  Apple       MacBook Air    8     ssd      128         13.3  55499   \n2  Apple       MacBook Air    8     ssd      256         13.3  71500   \n\n  processor_brand processor_model  clock_speed graphic_card_brand  \\\n0           intel              i5          2.5              intel   \n1           intel              i5          1.8              intel   \n2           intel              i5          1.8              intel   \n\n   graphic_card_size     os  weight comments  \n0                NaN  linux    2.50      NaN  \n1                2.0    mac    1.35      NaN  \n2                2.0    mac    1.35      NaN  ",
      "text/html": "<div>\n<style scoped>\n    .dataframe tbody tr th:only-of-type {\n        vertical-align: middle;\n    }\n\n    .dataframe tbody tr th {\n        vertical-align: top;\n    }\n\n    .dataframe thead th {\n        text-align: right;\n    }\n</style>\n<table border=\"1\" class=\"dataframe\">\n  <thead>\n    <tr style=\"text-align: right;\">\n      <th></th>\n      <th>brand</th>\n      <th>model</th>\n      <th>ram</th>\n      <th>hd_type</th>\n      <th>hd_size</th>\n      <th>screen_size</th>\n      <th>price</th>\n      <th>processor_brand</th>\n      <th>processor_model</th>\n      <th>clock_speed</th>\n      <th>graphic_card_brand</th>\n      <th>graphic_card_size</th>\n      <th>os</th>\n      <th>weight</th>\n      <th>comments</th>\n    </tr>\n  </thead>\n  <tbody>\n    <tr>\n      <th>0</th>\n      <td>Dell</td>\n      <td>Inspiron 15-3567</td>\n      <td>4</td>\n      <td>hdd</td>\n      <td>1024</td>\n      <td>15.6</td>\n      <td>40000</td>\n      <td>intel</td>\n      <td>i5</td>\n      <td>2.5</td>\n      <td>intel</td>\n      <td>NaN</td>\n      <td>linux</td>\n      <td>2.50</td>\n      <td>NaN</td>\n    </tr>\n    <tr>\n      <th>1</th>\n      <td>Apple</td>\n      <td>MacBook Air</td>\n      <td>8</td>\n      <td>ssd</td>\n      <td>128</td>\n      <td>13.3</td>\n      <td>55499</td>\n      <td>intel</td>\n      <td>i5</td>\n      <td>1.8</td>\n      <td>intel</td>\n      <td>2.0</td>\n      <td>mac</td>\n      <td>1.35</td>\n      <td>NaN</td>\n    </tr>\n    <tr>\n      <th>2</th>\n      <td>Apple</td>\n      <td>MacBook Air</td>\n      <td>8</td>\n      <td>ssd</td>\n      <td>256</td>\n      <td>13.3</td>\n      <td>71500</td>\n      <td>intel</td>\n      <td>i5</td>\n      <td>1.8</td>\n      <td>intel</td>\n      <td>2.0</td>\n      <td>mac</td>\n      <td>1.35</td>\n      <td>NaN</td>\n    </tr>\n  </tbody>\n</table>\n</div>"
     },
     "execution_count": 4,
     "metadata": {},
     "output_type": "execute_result"
    }
   ],
   "source": [
    "# 상단 3줄 출력\n",
    "laptops_df.head(3)"
   ],
   "metadata": {
    "collapsed": false,
    "ExecuteTime": {
     "end_time": "2024-04-22T07:13:22.867857300Z",
     "start_time": "2024-04-22T07:13:22.789513200Z"
    }
   },
   "id": "3893b0f1939b9a87",
   "execution_count": 4
  },
  {
   "cell_type": "code",
   "outputs": [
    {
     "data": {
      "text/plain": "    brand           model  ram hd_type  hd_size  screen_size  price  \\\n164  Asus          X554LD    2     hdd      500         15.6  29199   \n165  Asus  X550LAV-XX771D    2     hdd      500         15.6  29990   \n166  Asus   X540LA-XX538T    4     hdd     1024         15.6  30899   \n\n    processor_brand processor_model  clock_speed graphic_card_brand  \\\n164           intel      i3 4th gen          1.9              intel   \n165           intel      i3 4th gen          1.7              intel   \n166           intel      i3 5th gen          2.0              intel   \n\n     graphic_card_size       os  weight comments  \n164                1.0    linux     2.3      NaN  \n165                NaN    linux     2.5      NaN  \n166                NaN  windows     2.3      NaN  ",
      "text/html": "<div>\n<style scoped>\n    .dataframe tbody tr th:only-of-type {\n        vertical-align: middle;\n    }\n\n    .dataframe tbody tr th {\n        vertical-align: top;\n    }\n\n    .dataframe thead th {\n        text-align: right;\n    }\n</style>\n<table border=\"1\" class=\"dataframe\">\n  <thead>\n    <tr style=\"text-align: right;\">\n      <th></th>\n      <th>brand</th>\n      <th>model</th>\n      <th>ram</th>\n      <th>hd_type</th>\n      <th>hd_size</th>\n      <th>screen_size</th>\n      <th>price</th>\n      <th>processor_brand</th>\n      <th>processor_model</th>\n      <th>clock_speed</th>\n      <th>graphic_card_brand</th>\n      <th>graphic_card_size</th>\n      <th>os</th>\n      <th>weight</th>\n      <th>comments</th>\n    </tr>\n  </thead>\n  <tbody>\n    <tr>\n      <th>164</th>\n      <td>Asus</td>\n      <td>X554LD</td>\n      <td>2</td>\n      <td>hdd</td>\n      <td>500</td>\n      <td>15.6</td>\n      <td>29199</td>\n      <td>intel</td>\n      <td>i3 4th gen</td>\n      <td>1.9</td>\n      <td>intel</td>\n      <td>1.0</td>\n      <td>linux</td>\n      <td>2.3</td>\n      <td>NaN</td>\n    </tr>\n    <tr>\n      <th>165</th>\n      <td>Asus</td>\n      <td>X550LAV-XX771D</td>\n      <td>2</td>\n      <td>hdd</td>\n      <td>500</td>\n      <td>15.6</td>\n      <td>29990</td>\n      <td>intel</td>\n      <td>i3 4th gen</td>\n      <td>1.7</td>\n      <td>intel</td>\n      <td>NaN</td>\n      <td>linux</td>\n      <td>2.5</td>\n      <td>NaN</td>\n    </tr>\n    <tr>\n      <th>166</th>\n      <td>Asus</td>\n      <td>X540LA-XX538T</td>\n      <td>4</td>\n      <td>hdd</td>\n      <td>1024</td>\n      <td>15.6</td>\n      <td>30899</td>\n      <td>intel</td>\n      <td>i3 5th gen</td>\n      <td>2.0</td>\n      <td>intel</td>\n      <td>NaN</td>\n      <td>windows</td>\n      <td>2.3</td>\n      <td>NaN</td>\n    </tr>\n  </tbody>\n</table>\n</div>"
     },
     "execution_count": 6,
     "metadata": {},
     "output_type": "execute_result"
    }
   ],
   "source": [
    "# 하단 3줄 출력\n",
    "laptops_df.tail(3)"
   ],
   "metadata": {
    "collapsed": false,
    "ExecuteTime": {
     "end_time": "2024-04-22T07:14:19.882098800Z",
     "start_time": "2024-04-22T07:14:19.827127700Z"
    }
   },
   "id": "8854fb6ccc4c63be",
   "execution_count": 6
  },
  {
   "cell_type": "code",
   "outputs": [
    {
     "data": {
      "text/plain": "(167, 15)"
     },
     "execution_count": 7,
     "metadata": {},
     "output_type": "execute_result"
    }
   ],
   "source": [
    "# shape: 행과 열의 개수를 튜플로 반환\n",
    "laptops_df.shape"
   ],
   "metadata": {
    "collapsed": false,
    "ExecuteTime": {
     "end_time": "2024-04-22T07:15:10.854744400Z",
     "start_time": "2024-04-22T07:15:10.818087100Z"
    }
   },
   "id": "c7942dca89c586fe",
   "execution_count": 7
  },
  {
   "cell_type": "code",
   "outputs": [
    {
     "data": {
      "text/plain": "brand                  object\nmodel                  object\nram                     int64\nhd_type                object\nhd_size                 int64\nscreen_size           float64\nprice                   int64\nprocessor_brand        object\nprocessor_model        object\nclock_speed           float64\ngraphic_card_brand     object\ngraphic_card_size     float64\nos                     object\nweight                float64\ncomments               object\ndtype: object"
     },
     "execution_count": 8,
     "metadata": {},
     "output_type": "execute_result"
    }
   ],
   "source": [
    "# dtypes: 열을 기준으로 데이터 형태 반환\n",
    "laptops_df.dtypes"
   ],
   "metadata": {
    "collapsed": false,
    "ExecuteTime": {
     "end_time": "2024-04-22T07:16:46.304645500Z",
     "start_time": "2024-04-22T07:16:46.240374600Z"
    }
   },
   "id": "2c07c3f6d7c76ccf",
   "execution_count": 8
  },
  {
   "cell_type": "code",
   "outputs": [
    {
     "data": {
      "text/plain": "              ram     hd_size  screen_size          price  clock_speed  \\\ncount  167.000000   167.00000   167.000000     167.000000   166.000000   \nmean     6.898204   768.91018    14.775210   64132.898204     2.321084   \nstd      3.787479   392.99080     1.376526   42797.674010     0.554187   \nmin      2.000000    32.00000    10.100000   13872.000000     1.100000   \n25%      4.000000   500.00000    14.000000   35457.500000     1.900000   \n50%      8.000000  1024.00000    15.600000   47990.000000     2.300000   \n75%      8.000000  1024.00000    15.600000   77494.500000     2.600000   \nmax     16.000000  2048.00000    17.600000  226000.000000     3.800000   \n\n       graphic_card_size      weight  \ncount          81.000000  160.000000  \nmean           52.160494    2.250813  \nstd           444.134142    0.648446  \nmin             1.000000    0.780000  \n25%             2.000000    1.900000  \n50%             2.000000    2.200000  \n75%             4.000000    2.600000  \nmax          4000.000000    4.200000  ",
      "text/html": "<div>\n<style scoped>\n    .dataframe tbody tr th:only-of-type {\n        vertical-align: middle;\n    }\n\n    .dataframe tbody tr th {\n        vertical-align: top;\n    }\n\n    .dataframe thead th {\n        text-align: right;\n    }\n</style>\n<table border=\"1\" class=\"dataframe\">\n  <thead>\n    <tr style=\"text-align: right;\">\n      <th></th>\n      <th>ram</th>\n      <th>hd_size</th>\n      <th>screen_size</th>\n      <th>price</th>\n      <th>clock_speed</th>\n      <th>graphic_card_size</th>\n      <th>weight</th>\n    </tr>\n  </thead>\n  <tbody>\n    <tr>\n      <th>count</th>\n      <td>167.000000</td>\n      <td>167.00000</td>\n      <td>167.000000</td>\n      <td>167.000000</td>\n      <td>166.000000</td>\n      <td>81.000000</td>\n      <td>160.000000</td>\n    </tr>\n    <tr>\n      <th>mean</th>\n      <td>6.898204</td>\n      <td>768.91018</td>\n      <td>14.775210</td>\n      <td>64132.898204</td>\n      <td>2.321084</td>\n      <td>52.160494</td>\n      <td>2.250813</td>\n    </tr>\n    <tr>\n      <th>std</th>\n      <td>3.787479</td>\n      <td>392.99080</td>\n      <td>1.376526</td>\n      <td>42797.674010</td>\n      <td>0.554187</td>\n      <td>444.134142</td>\n      <td>0.648446</td>\n    </tr>\n    <tr>\n      <th>min</th>\n      <td>2.000000</td>\n      <td>32.00000</td>\n      <td>10.100000</td>\n      <td>13872.000000</td>\n      <td>1.100000</td>\n      <td>1.000000</td>\n      <td>0.780000</td>\n    </tr>\n    <tr>\n      <th>25%</th>\n      <td>4.000000</td>\n      <td>500.00000</td>\n      <td>14.000000</td>\n      <td>35457.500000</td>\n      <td>1.900000</td>\n      <td>2.000000</td>\n      <td>1.900000</td>\n    </tr>\n    <tr>\n      <th>50%</th>\n      <td>8.000000</td>\n      <td>1024.00000</td>\n      <td>15.600000</td>\n      <td>47990.000000</td>\n      <td>2.300000</td>\n      <td>2.000000</td>\n      <td>2.200000</td>\n    </tr>\n    <tr>\n      <th>75%</th>\n      <td>8.000000</td>\n      <td>1024.00000</td>\n      <td>15.600000</td>\n      <td>77494.500000</td>\n      <td>2.600000</td>\n      <td>4.000000</td>\n      <td>2.600000</td>\n    </tr>\n    <tr>\n      <th>max</th>\n      <td>16.000000</td>\n      <td>2048.00000</td>\n      <td>17.600000</td>\n      <td>226000.000000</td>\n      <td>3.800000</td>\n      <td>4000.000000</td>\n      <td>4.200000</td>\n    </tr>\n  </tbody>\n</table>\n</div>"
     },
     "execution_count": 10,
     "metadata": {},
     "output_type": "execute_result"
    }
   ],
   "source": [
    "# describe(): 통계량 요약\n",
    "laptops_df.describe()"
   ],
   "metadata": {
    "collapsed": false,
    "ExecuteTime": {
     "end_time": "2024-04-22T07:18:54.274536400Z",
     "start_time": "2024-04-22T07:18:54.194683900Z"
    }
   },
   "id": "99f15dc4d690024",
   "execution_count": 10
  },
  {
   "cell_type": "code",
   "outputs": [
    {
     "data": {
      "text/plain": "         brand                       model  ram hd_type  hd_size  screen_size  \\\n148       Acer             Aspire SW3-016     2     ssd       32         10.1   \n83        Acer     A315-31CDC UN.GNTSI.001    2     ssd      500         15.6   \n108       Acer  Aspire ES-15 NX.GKYSI.010     4     hdd      500         15.6   \n100       Acer    A315-31-P4CRUN.GNTSI.002    4     hdd      500         15.6   \n73        Acer             Aspire ES1-523     4     hdd     1024         15.6   \n..         ...                         ...  ...     ...      ...          ...   \n154  Microsoft      Surface Book CR9-00013    8     ssd      128         13.5   \n31        Acer                 Predator 17   16     ssd      256         17.3   \n96   Alienware          AW13R3-7000SLV-PUS    8     ssd      256         13.3   \n90   Alienware                 15 Notebook   16     hdd     1024         15.6   \n5        Apple      MacBook Pro (TouchBar)   16     ssd      512         15.0   \n\n      price processor_brand processor_model  clock_speed graphic_card_brand  \\\n148   13872           intel      Atom Z8300         1.44              intel   \n83    17990           intel         Celeron         1.10              intel   \n108   17990             amd         A4-7210         1.80                amd   \n100   18990           intel         pentium         1.10              intel   \n73    19465             amd         A4-7210         1.80                amd   \n..      ...             ...             ...          ...                ...   \n154  178799           intel              i5         1.80              intel   \n31   178912           intel              i7         2.60             nvidia   \n96   190256           intel              i7         3.00             nvidia   \n90   199000           intel              i7         2.60             nvidia   \n5    226000           intel              i7         2.70              intel   \n\n     graphic_card_size       os  weight  \\\n148                NaN  windows     1.2   \n83                 NaN  windows     2.1   \n108                NaN  windows     2.4   \n100                NaN  windows     NaN   \n73                 NaN    linux     2.4   \n..                 ...      ...     ...   \n154                NaN  windows     1.5   \n31                 NaN  windows     4.2   \n96                 6.0  windows     2.6   \n90                 8.0  windows     3.5   \n5                  2.0      mac     2.5   \n\n                                              comments  \n148                                                NaN  \n83                                                 NaN  \n108                                                NaN  \n100                                                NaN  \n73                                                 NaN  \n..                                                 ...  \n154                                                NaN  \n31                                 Integrated Graphics  \n96   13.3 inch FHD (1920 x 1080) IPS Anti-Glare 300...  \n90      Maximum Display Resolution : 1920 x 1080 pixel  \n5                                                  NaN  \n\n[167 rows x 15 columns]",
      "text/html": "<div>\n<style scoped>\n    .dataframe tbody tr th:only-of-type {\n        vertical-align: middle;\n    }\n\n    .dataframe tbody tr th {\n        vertical-align: top;\n    }\n\n    .dataframe thead th {\n        text-align: right;\n    }\n</style>\n<table border=\"1\" class=\"dataframe\">\n  <thead>\n    <tr style=\"text-align: right;\">\n      <th></th>\n      <th>brand</th>\n      <th>model</th>\n      <th>ram</th>\n      <th>hd_type</th>\n      <th>hd_size</th>\n      <th>screen_size</th>\n      <th>price</th>\n      <th>processor_brand</th>\n      <th>processor_model</th>\n      <th>clock_speed</th>\n      <th>graphic_card_brand</th>\n      <th>graphic_card_size</th>\n      <th>os</th>\n      <th>weight</th>\n      <th>comments</th>\n    </tr>\n  </thead>\n  <tbody>\n    <tr>\n      <th>148</th>\n      <td>Acer</td>\n      <td>Aspire SW3-016</td>\n      <td>2</td>\n      <td>ssd</td>\n      <td>32</td>\n      <td>10.1</td>\n      <td>13872</td>\n      <td>intel</td>\n      <td>Atom Z8300</td>\n      <td>1.44</td>\n      <td>intel</td>\n      <td>NaN</td>\n      <td>windows</td>\n      <td>1.2</td>\n      <td>NaN</td>\n    </tr>\n    <tr>\n      <th>83</th>\n      <td>Acer</td>\n      <td>A315-31CDC UN.GNTSI.001</td>\n      <td>2</td>\n      <td>ssd</td>\n      <td>500</td>\n      <td>15.6</td>\n      <td>17990</td>\n      <td>intel</td>\n      <td>Celeron</td>\n      <td>1.10</td>\n      <td>intel</td>\n      <td>NaN</td>\n      <td>windows</td>\n      <td>2.1</td>\n      <td>NaN</td>\n    </tr>\n    <tr>\n      <th>108</th>\n      <td>Acer</td>\n      <td>Aspire ES-15 NX.GKYSI.010</td>\n      <td>4</td>\n      <td>hdd</td>\n      <td>500</td>\n      <td>15.6</td>\n      <td>17990</td>\n      <td>amd</td>\n      <td>A4-7210</td>\n      <td>1.80</td>\n      <td>amd</td>\n      <td>NaN</td>\n      <td>windows</td>\n      <td>2.4</td>\n      <td>NaN</td>\n    </tr>\n    <tr>\n      <th>100</th>\n      <td>Acer</td>\n      <td>A315-31-P4CRUN.GNTSI.002</td>\n      <td>4</td>\n      <td>hdd</td>\n      <td>500</td>\n      <td>15.6</td>\n      <td>18990</td>\n      <td>intel</td>\n      <td>pentium</td>\n      <td>1.10</td>\n      <td>intel</td>\n      <td>NaN</td>\n      <td>windows</td>\n      <td>NaN</td>\n      <td>NaN</td>\n    </tr>\n    <tr>\n      <th>73</th>\n      <td>Acer</td>\n      <td>Aspire ES1-523</td>\n      <td>4</td>\n      <td>hdd</td>\n      <td>1024</td>\n      <td>15.6</td>\n      <td>19465</td>\n      <td>amd</td>\n      <td>A4-7210</td>\n      <td>1.80</td>\n      <td>amd</td>\n      <td>NaN</td>\n      <td>linux</td>\n      <td>2.4</td>\n      <td>NaN</td>\n    </tr>\n    <tr>\n      <th>...</th>\n      <td>...</td>\n      <td>...</td>\n      <td>...</td>\n      <td>...</td>\n      <td>...</td>\n      <td>...</td>\n      <td>...</td>\n      <td>...</td>\n      <td>...</td>\n      <td>...</td>\n      <td>...</td>\n      <td>...</td>\n      <td>...</td>\n      <td>...</td>\n      <td>...</td>\n    </tr>\n    <tr>\n      <th>154</th>\n      <td>Microsoft</td>\n      <td>Surface Book CR9-00013</td>\n      <td>8</td>\n      <td>ssd</td>\n      <td>128</td>\n      <td>13.5</td>\n      <td>178799</td>\n      <td>intel</td>\n      <td>i5</td>\n      <td>1.80</td>\n      <td>intel</td>\n      <td>NaN</td>\n      <td>windows</td>\n      <td>1.5</td>\n      <td>NaN</td>\n    </tr>\n    <tr>\n      <th>31</th>\n      <td>Acer</td>\n      <td>Predator 17</td>\n      <td>16</td>\n      <td>ssd</td>\n      <td>256</td>\n      <td>17.3</td>\n      <td>178912</td>\n      <td>intel</td>\n      <td>i7</td>\n      <td>2.60</td>\n      <td>nvidia</td>\n      <td>NaN</td>\n      <td>windows</td>\n      <td>4.2</td>\n      <td>Integrated Graphics</td>\n    </tr>\n    <tr>\n      <th>96</th>\n      <td>Alienware</td>\n      <td>AW13R3-7000SLV-PUS</td>\n      <td>8</td>\n      <td>ssd</td>\n      <td>256</td>\n      <td>13.3</td>\n      <td>190256</td>\n      <td>intel</td>\n      <td>i7</td>\n      <td>3.00</td>\n      <td>nvidia</td>\n      <td>6.0</td>\n      <td>windows</td>\n      <td>2.6</td>\n      <td>13.3 inch FHD (1920 x 1080) IPS Anti-Glare 300...</td>\n    </tr>\n    <tr>\n      <th>90</th>\n      <td>Alienware</td>\n      <td>15 Notebook</td>\n      <td>16</td>\n      <td>hdd</td>\n      <td>1024</td>\n      <td>15.6</td>\n      <td>199000</td>\n      <td>intel</td>\n      <td>i7</td>\n      <td>2.60</td>\n      <td>nvidia</td>\n      <td>8.0</td>\n      <td>windows</td>\n      <td>3.5</td>\n      <td>Maximum Display Resolution : 1920 x 1080 pixel</td>\n    </tr>\n    <tr>\n      <th>5</th>\n      <td>Apple</td>\n      <td>MacBook Pro (TouchBar)</td>\n      <td>16</td>\n      <td>ssd</td>\n      <td>512</td>\n      <td>15.0</td>\n      <td>226000</td>\n      <td>intel</td>\n      <td>i7</td>\n      <td>2.70</td>\n      <td>intel</td>\n      <td>2.0</td>\n      <td>mac</td>\n      <td>2.5</td>\n      <td>NaN</td>\n    </tr>\n  </tbody>\n</table>\n<p>167 rows × 15 columns</p>\n</div>"
     },
     "execution_count": 12,
     "metadata": {},
     "output_type": "execute_result"
    }
   ],
   "source": [
    "# sort_values(): 값이 작은 것부터 정렬\n",
    "laptops_df.sort_values(by = 'price')"
   ],
   "metadata": {
    "collapsed": false,
    "ExecuteTime": {
     "end_time": "2024-04-22T07:26:58.832061300Z",
     "start_time": "2024-04-22T07:26:58.567367300Z"
    }
   },
   "id": "a55f394e11adfda1",
   "execution_count": 12
  },
  {
   "cell_type": "code",
   "outputs": [
    {
     "data": {
      "text/plain": "         brand                       model  ram hd_type  hd_size  screen_size  \\\n5        Apple      MacBook Pro (TouchBar)   16     ssd      512         15.0   \n90   Alienware                 15 Notebook   16     hdd     1024         15.6   \n96   Alienware          AW13R3-7000SLV-PUS    8     ssd      256         13.3   \n31        Acer                 Predator 17   16     ssd      256         17.3   \n154  Microsoft      Surface Book CR9-00013    8     ssd      128         13.5   \n..         ...                         ...  ...     ...      ...          ...   \n73        Acer             Aspire ES1-523     4     hdd     1024         15.6   \n100       Acer    A315-31-P4CRUN.GNTSI.002    4     hdd      500         15.6   \n108       Acer  Aspire ES-15 NX.GKYSI.010     4     hdd      500         15.6   \n83        Acer     A315-31CDC UN.GNTSI.001    2     ssd      500         15.6   \n148       Acer             Aspire SW3-016     2     ssd       32         10.1   \n\n      price processor_brand processor_model  clock_speed graphic_card_brand  \\\n5    226000           intel              i7         2.70              intel   \n90   199000           intel              i7         2.60             nvidia   \n96   190256           intel              i7         3.00             nvidia   \n31   178912           intel              i7         2.60             nvidia   \n154  178799           intel              i5         1.80              intel   \n..      ...             ...             ...          ...                ...   \n73    19465             amd         A4-7210         1.80                amd   \n100   18990           intel         pentium         1.10              intel   \n108   17990             amd         A4-7210         1.80                amd   \n83    17990           intel         Celeron         1.10              intel   \n148   13872           intel      Atom Z8300         1.44              intel   \n\n     graphic_card_size       os  weight  \\\n5                  2.0      mac     2.5   \n90                 8.0  windows     3.5   \n96                 6.0  windows     2.6   \n31                 NaN  windows     4.2   \n154                NaN  windows     1.5   \n..                 ...      ...     ...   \n73                 NaN    linux     2.4   \n100                NaN  windows     NaN   \n108                NaN  windows     2.4   \n83                 NaN  windows     2.1   \n148                NaN  windows     1.2   \n\n                                              comments  \n5                                                  NaN  \n90      Maximum Display Resolution : 1920 x 1080 pixel  \n96   13.3 inch FHD (1920 x 1080) IPS Anti-Glare 300...  \n31                                 Integrated Graphics  \n154                                                NaN  \n..                                                 ...  \n73                                                 NaN  \n100                                                NaN  \n108                                                NaN  \n83                                                 NaN  \n148                                                NaN  \n\n[167 rows x 15 columns]",
      "text/html": "<div>\n<style scoped>\n    .dataframe tbody tr th:only-of-type {\n        vertical-align: middle;\n    }\n\n    .dataframe tbody tr th {\n        vertical-align: top;\n    }\n\n    .dataframe thead th {\n        text-align: right;\n    }\n</style>\n<table border=\"1\" class=\"dataframe\">\n  <thead>\n    <tr style=\"text-align: right;\">\n      <th></th>\n      <th>brand</th>\n      <th>model</th>\n      <th>ram</th>\n      <th>hd_type</th>\n      <th>hd_size</th>\n      <th>screen_size</th>\n      <th>price</th>\n      <th>processor_brand</th>\n      <th>processor_model</th>\n      <th>clock_speed</th>\n      <th>graphic_card_brand</th>\n      <th>graphic_card_size</th>\n      <th>os</th>\n      <th>weight</th>\n      <th>comments</th>\n    </tr>\n  </thead>\n  <tbody>\n    <tr>\n      <th>5</th>\n      <td>Apple</td>\n      <td>MacBook Pro (TouchBar)</td>\n      <td>16</td>\n      <td>ssd</td>\n      <td>512</td>\n      <td>15.0</td>\n      <td>226000</td>\n      <td>intel</td>\n      <td>i7</td>\n      <td>2.70</td>\n      <td>intel</td>\n      <td>2.0</td>\n      <td>mac</td>\n      <td>2.5</td>\n      <td>NaN</td>\n    </tr>\n    <tr>\n      <th>90</th>\n      <td>Alienware</td>\n      <td>15 Notebook</td>\n      <td>16</td>\n      <td>hdd</td>\n      <td>1024</td>\n      <td>15.6</td>\n      <td>199000</td>\n      <td>intel</td>\n      <td>i7</td>\n      <td>2.60</td>\n      <td>nvidia</td>\n      <td>8.0</td>\n      <td>windows</td>\n      <td>3.5</td>\n      <td>Maximum Display Resolution : 1920 x 1080 pixel</td>\n    </tr>\n    <tr>\n      <th>96</th>\n      <td>Alienware</td>\n      <td>AW13R3-7000SLV-PUS</td>\n      <td>8</td>\n      <td>ssd</td>\n      <td>256</td>\n      <td>13.3</td>\n      <td>190256</td>\n      <td>intel</td>\n      <td>i7</td>\n      <td>3.00</td>\n      <td>nvidia</td>\n      <td>6.0</td>\n      <td>windows</td>\n      <td>2.6</td>\n      <td>13.3 inch FHD (1920 x 1080) IPS Anti-Glare 300...</td>\n    </tr>\n    <tr>\n      <th>31</th>\n      <td>Acer</td>\n      <td>Predator 17</td>\n      <td>16</td>\n      <td>ssd</td>\n      <td>256</td>\n      <td>17.3</td>\n      <td>178912</td>\n      <td>intel</td>\n      <td>i7</td>\n      <td>2.60</td>\n      <td>nvidia</td>\n      <td>NaN</td>\n      <td>windows</td>\n      <td>4.2</td>\n      <td>Integrated Graphics</td>\n    </tr>\n    <tr>\n      <th>154</th>\n      <td>Microsoft</td>\n      <td>Surface Book CR9-00013</td>\n      <td>8</td>\n      <td>ssd</td>\n      <td>128</td>\n      <td>13.5</td>\n      <td>178799</td>\n      <td>intel</td>\n      <td>i5</td>\n      <td>1.80</td>\n      <td>intel</td>\n      <td>NaN</td>\n      <td>windows</td>\n      <td>1.5</td>\n      <td>NaN</td>\n    </tr>\n    <tr>\n      <th>...</th>\n      <td>...</td>\n      <td>...</td>\n      <td>...</td>\n      <td>...</td>\n      <td>...</td>\n      <td>...</td>\n      <td>...</td>\n      <td>...</td>\n      <td>...</td>\n      <td>...</td>\n      <td>...</td>\n      <td>...</td>\n      <td>...</td>\n      <td>...</td>\n      <td>...</td>\n    </tr>\n    <tr>\n      <th>73</th>\n      <td>Acer</td>\n      <td>Aspire ES1-523</td>\n      <td>4</td>\n      <td>hdd</td>\n      <td>1024</td>\n      <td>15.6</td>\n      <td>19465</td>\n      <td>amd</td>\n      <td>A4-7210</td>\n      <td>1.80</td>\n      <td>amd</td>\n      <td>NaN</td>\n      <td>linux</td>\n      <td>2.4</td>\n      <td>NaN</td>\n    </tr>\n    <tr>\n      <th>100</th>\n      <td>Acer</td>\n      <td>A315-31-P4CRUN.GNTSI.002</td>\n      <td>4</td>\n      <td>hdd</td>\n      <td>500</td>\n      <td>15.6</td>\n      <td>18990</td>\n      <td>intel</td>\n      <td>pentium</td>\n      <td>1.10</td>\n      <td>intel</td>\n      <td>NaN</td>\n      <td>windows</td>\n      <td>NaN</td>\n      <td>NaN</td>\n    </tr>\n    <tr>\n      <th>108</th>\n      <td>Acer</td>\n      <td>Aspire ES-15 NX.GKYSI.010</td>\n      <td>4</td>\n      <td>hdd</td>\n      <td>500</td>\n      <td>15.6</td>\n      <td>17990</td>\n      <td>amd</td>\n      <td>A4-7210</td>\n      <td>1.80</td>\n      <td>amd</td>\n      <td>NaN</td>\n      <td>windows</td>\n      <td>2.4</td>\n      <td>NaN</td>\n    </tr>\n    <tr>\n      <th>83</th>\n      <td>Acer</td>\n      <td>A315-31CDC UN.GNTSI.001</td>\n      <td>2</td>\n      <td>ssd</td>\n      <td>500</td>\n      <td>15.6</td>\n      <td>17990</td>\n      <td>intel</td>\n      <td>Celeron</td>\n      <td>1.10</td>\n      <td>intel</td>\n      <td>NaN</td>\n      <td>windows</td>\n      <td>2.1</td>\n      <td>NaN</td>\n    </tr>\n    <tr>\n      <th>148</th>\n      <td>Acer</td>\n      <td>Aspire SW3-016</td>\n      <td>2</td>\n      <td>ssd</td>\n      <td>32</td>\n      <td>10.1</td>\n      <td>13872</td>\n      <td>intel</td>\n      <td>Atom Z8300</td>\n      <td>1.44</td>\n      <td>intel</td>\n      <td>NaN</td>\n      <td>windows</td>\n      <td>1.2</td>\n      <td>NaN</td>\n    </tr>\n  </tbody>\n</table>\n<p>167 rows × 15 columns</p>\n</div>"
     },
     "execution_count": 14,
     "metadata": {},
     "output_type": "execute_result"
    }
   ],
   "source": [
    "# sort_values(): 값이 큰 것부터 정렬\n",
    "laptops_df.sort_values(by = 'price', ascending = False)"
   ],
   "metadata": {
    "collapsed": false,
    "ExecuteTime": {
     "end_time": "2024-04-22T07:32:26.007168100Z",
     "start_time": "2024-04-22T07:32:25.877152600Z"
    }
   },
   "id": "6004b5ec93229471",
   "execution_count": 14
  },
  {
   "cell_type": "code",
   "outputs": [
    {
     "data": {
      "text/plain": "array(['Dell', 'Apple', 'Acer', 'HP', 'Lenovo', 'Alienware', 'Microsoft',\n       'Asus'], dtype=object)"
     },
     "execution_count": 17,
     "metadata": {},
     "output_type": "execute_result"
    }
   ],
   "source": [
    "# unique(): 고유값 찾기\n",
    "laptops_df['brand'].unique()"
   ],
   "metadata": {
    "collapsed": false,
    "ExecuteTime": {
     "end_time": "2024-04-22T07:36:57.062471Z",
     "start_time": "2024-04-22T07:36:56.971055700Z"
    }
   },
   "id": "3916a5c7aa2b513f",
   "execution_count": 17
  },
  {
   "cell_type": "code",
   "outputs": [
    {
     "data": {
      "text/plain": "brand\nHP           55\nAcer         35\nDell         31\nLenovo       18\nAsus          9\nApple         7\nAlienware     6\nMicrosoft     6\nName: count, dtype: int64"
     },
     "execution_count": 18,
     "metadata": {},
     "output_type": "execute_result"
    }
   ],
   "source": [
    "# value_counts(): 열의 각 값(value)에 대한 발생 횟수\n",
    "laptops_df['brand'].value_counts()"
   ],
   "metadata": {
    "collapsed": false,
    "ExecuteTime": {
     "end_time": "2024-04-22T07:38:38.832295700Z",
     "start_time": "2024-04-22T07:38:38.749752700Z"
    }
   },
   "id": "1dc342393ad32fec",
   "execution_count": 18
  },
  {
   "cell_type": "code",
   "outputs": [
    {
     "data": {
      "text/plain": "count     167\nunique      8\ntop        HP\nfreq       55\nName: brand, dtype: object"
     },
     "execution_count": 19,
     "metadata": {},
     "output_type": "execute_result"
    }
   ],
   "source": [
    "# describe(): 통계량 요약\n",
    "laptops_df['brand'].describe()"
   ],
   "metadata": {
    "collapsed": false,
    "ExecuteTime": {
     "end_time": "2024-04-22T07:39:31.435648800Z",
     "start_time": "2024-04-22T07:39:31.393793700Z"
    }
   },
   "id": "b17a296d73a06ecd",
   "execution_count": 19
  }
 ],
 "metadata": {
  "kernelspec": {
   "display_name": "Python 3",
   "language": "python",
   "name": "python3"
  },
  "language_info": {
   "codemirror_mode": {
    "name": "ipython",
    "version": 2
   },
   "file_extension": ".py",
   "mimetype": "text/x-python",
   "name": "python",
   "nbconvert_exporter": "python",
   "pygments_lexer": "ipython2",
   "version": "2.7.6"
  }
 },
 "nbformat": 4,
 "nbformat_minor": 5
}
