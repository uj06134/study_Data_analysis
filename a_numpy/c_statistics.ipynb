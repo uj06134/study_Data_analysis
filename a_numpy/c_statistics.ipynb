{
 "cells": [
  {
   "cell_type": "code",
   "execution_count": 1,
   "id": "initial_id",
   "metadata": {
    "collapsed": true,
    "ExecuteTime": {
     "end_time": "2024-03-21T08:40:50.352593400Z",
     "start_time": "2024-03-21T08:40:49.786980700Z"
    }
   },
   "outputs": [],
   "source": [
    "import numpy as np"
   ]
  },
  {
   "cell_type": "markdown",
   "source": [
    "# 최댓값, 최솟값\n",
    "max 메소드와 min 메소드를 사용하면 numpy array의 최댓값과 최솟값을 구할 수 있습니다."
   ],
   "metadata": {
    "collapsed": false
   },
   "id": "ddf2edd1d82555e0"
  },
  {
   "cell_type": "code",
   "outputs": [
    {
     "name": "stdout",
     "output_type": "stream",
     "text": [
      "31\n",
      "5\n"
     ]
    }
   ],
   "source": [
    "array1 = np.array([14, 6, 13, 21, 23, 31, 9, 5])\n",
    "\n",
    "print(array1.max()) # 최댓값\n",
    "print(array1.min()) # 최솟값"
   ],
   "metadata": {
    "collapsed": false,
    "ExecuteTime": {
     "end_time": "2024-03-21T08:42:25.092049Z",
     "start_time": "2024-03-21T08:42:25.082201500Z"
    }
   },
   "id": "f83c7141d3167cb9",
   "execution_count": 3
  },
  {
   "cell_type": "markdown",
   "source": [
    "# 평균값\n",
    "mean 메소드를 사용하면 numpy array의 평균값을 구할 수 있습니다."
   ],
   "metadata": {
    "collapsed": false
   },
   "id": "701bf4a01e67d71c"
  },
  {
   "cell_type": "code",
   "outputs": [
    {
     "name": "stdout",
     "output_type": "stream",
     "text": [
      "15.25\n"
     ]
    }
   ],
   "source": [
    "array1 = np.array([14, 6, 13, 21, 23, 31, 9, 5])\n",
    "\n",
    "print(array1.mean()) # 평균값"
   ],
   "metadata": {
    "collapsed": false,
    "ExecuteTime": {
     "end_time": "2024-03-21T08:42:48.115963500Z",
     "start_time": "2024-03-21T08:42:48.099324900Z"
    }
   },
   "id": "f22e07f79139eb63",
   "execution_count": 4
  },
  {
   "cell_type": "markdown",
   "source": [
    "# 중앙값\n",
    "median 메소드를 사용하면 중간값을 구할 수 있는데요. 특이하게 median은 numpy array의 메소드가 아니라 numpy의 메소드입니다."
   ],
   "metadata": {
    "collapsed": false
   },
   "id": "cd7825b315fb141e"
  },
  {
   "cell_type": "code",
   "outputs": [
    {
     "name": "stdout",
     "output_type": "stream",
     "text": [
      "12.0\n",
      "13.5\n"
     ]
    }
   ],
   "source": [
    "array1 = np.array([8, 12, 9, 15, 16])\n",
    "array2 = np.array([14, 6, 13, 21, 23, 31, 9, 5])\n",
    "\n",
    "print(np.median(array1)) # 중앙값\n",
    "print(np.median(array2)) # 중앙값"
   ],
   "metadata": {
    "collapsed": false,
    "ExecuteTime": {
     "end_time": "2024-03-21T08:43:24.049385200Z",
     "start_time": "2024-03-21T08:43:24.013762800Z"
    }
   },
   "id": "7f7213a29eb85127",
   "execution_count": 5
  },
  {
   "cell_type": "markdown",
   "source": [
    "# 표준 편차, 분산\n",
    "표준 편차와 분산은 값들이 평균에서 얼마나 떨어져 있는지 나타내는 지표입니다."
   ],
   "metadata": {
    "collapsed": false
   },
   "id": "7f1f2598c3bc807b"
  },
  {
   "cell_type": "code",
   "outputs": [
    {
     "name": "stdout",
     "output_type": "stream",
     "text": [
      "8.496322733983215\n",
      "72.1875\n"
     ]
    }
   ],
   "source": [
    "array1 = np.array([14, 6, 13, 21, 23, 31, 9, 5])\n",
    "\n",
    "print(array1.std()) # 표준 편차\n",
    "print(array1.var()) # 분산"
   ],
   "metadata": {
    "collapsed": false,
    "ExecuteTime": {
     "end_time": "2024-03-21T08:43:48.338975600Z",
     "start_time": "2024-03-21T08:43:48.310084100Z"
    }
   },
   "id": "757c34d76b90604",
   "execution_count": 6
  }
 ],
 "metadata": {
  "kernelspec": {
   "display_name": "Python 3",
   "language": "python",
   "name": "python3"
  },
  "language_info": {
   "codemirror_mode": {
    "name": "ipython",
    "version": 2
   },
   "file_extension": ".py",
   "mimetype": "text/x-python",
   "name": "python",
   "nbconvert_exporter": "python",
   "pygments_lexer": "ipython2",
   "version": "2.7.6"
  }
 },
 "nbformat": 4,
 "nbformat_minor": 5
}
