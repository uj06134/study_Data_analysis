{
 "cells": [
  {
   "cell_type": "markdown",
   "source": [
    "파이썬 사전과 .map()을 사용해서 지역명을 알아낸 솔희는, 조금 더 편한 방법을 고민하고 있습니다.\n",
    "고민하던 중, '지역번호와 지역명에 대한 데이터는 누군가 이미 만들어두지 않았을까'라는 생각을 하게 되는데요.\n",
    "인터넷에서 지역번호와 지역명이 있는 데이터 region_number.csv를 구했습니다!\n",
    "이 데이터를 먼저 살펴보고, .merge() 메소드를 활용해서 museum_3.csv에 '지역명' column을 추가해 보세요.\n",
    "단, museum_3.csv의 박물관 순서가 유지되어야 합니다."
   ],
   "metadata": {
    "collapsed": false
   },
   "id": "d6924f36b0efae82"
  },
  {
   "cell_type": "code",
   "outputs": [],
   "source": [
    "import pandas as pd"
   ],
   "metadata": {
    "collapsed": false,
    "ExecuteTime": {
     "end_time": "2024-05-07T09:05:45.098874Z",
     "start_time": "2024-05-07T09:05:45.084390700Z"
    }
   },
   "id": "b115072bc59b1024",
   "execution_count": 4
  },
  {
   "cell_type": "code",
   "outputs": [],
   "source": [
    "museum = pd.read_csv(\"../data/museum_3.csv\", dtype={'지역번호': str})\n",
    "number = pd.read_csv(\"../data/region_number.csv\", dtype={'지역번호': str})"
   ],
   "metadata": {
    "collapsed": false,
    "ExecuteTime": {
     "end_time": "2024-05-07T09:05:56.263160500Z",
     "start_time": "2024-05-07T09:05:56.225194400Z"
    }
   },
   "id": "52fa87deace01868",
   "execution_count": 5
  },
  {
   "cell_type": "code",
   "outputs": [
    {
     "data": {
      "text/plain": "             시설명  어른관람료      운영기관전화번호  분류 지역번호    지역명\n0     필암서원 유물전시관    500  061-390-7224  일반  061   전라남도\n1        원주역사박물관      0  033-737-4371  일반  033    강원도\n2        뮤지엄산미술관  15000  033-730-9000  일반  033    강원도\n3      오랜미래신화미술관      0  033-746-5256  일반  033    강원도\n4    연세대학교 원주박물관      0  033-760-2731  대학  033    강원도\n..           ...    ...           ...  ..  ...    ...\n895        함양박물관      0  055-960-5532  일반  055   경상남도\n896         박물관수   5000  053-744-5500  일반  053  대구광역시\n897    대구은행금융박물관      0  053-740-2061  일반  053  대구광역시\n898      국립대구박물관      0  053-768-6051  일반  053  대구광역시\n899    증평민속체험박물관      0  043-835-4161  일반  043   충청북도\n\n[900 rows x 6 columns]",
      "text/html": "<div>\n<style scoped>\n    .dataframe tbody tr th:only-of-type {\n        vertical-align: middle;\n    }\n\n    .dataframe tbody tr th {\n        vertical-align: top;\n    }\n\n    .dataframe thead th {\n        text-align: right;\n    }\n</style>\n<table border=\"1\" class=\"dataframe\">\n  <thead>\n    <tr style=\"text-align: right;\">\n      <th></th>\n      <th>시설명</th>\n      <th>어른관람료</th>\n      <th>운영기관전화번호</th>\n      <th>분류</th>\n      <th>지역번호</th>\n      <th>지역명</th>\n    </tr>\n  </thead>\n  <tbody>\n    <tr>\n      <th>0</th>\n      <td>필암서원 유물전시관</td>\n      <td>500</td>\n      <td>061-390-7224</td>\n      <td>일반</td>\n      <td>061</td>\n      <td>전라남도</td>\n    </tr>\n    <tr>\n      <th>1</th>\n      <td>원주역사박물관</td>\n      <td>0</td>\n      <td>033-737-4371</td>\n      <td>일반</td>\n      <td>033</td>\n      <td>강원도</td>\n    </tr>\n    <tr>\n      <th>2</th>\n      <td>뮤지엄산미술관</td>\n      <td>15000</td>\n      <td>033-730-9000</td>\n      <td>일반</td>\n      <td>033</td>\n      <td>강원도</td>\n    </tr>\n    <tr>\n      <th>3</th>\n      <td>오랜미래신화미술관</td>\n      <td>0</td>\n      <td>033-746-5256</td>\n      <td>일반</td>\n      <td>033</td>\n      <td>강원도</td>\n    </tr>\n    <tr>\n      <th>4</th>\n      <td>연세대학교 원주박물관</td>\n      <td>0</td>\n      <td>033-760-2731</td>\n      <td>대학</td>\n      <td>033</td>\n      <td>강원도</td>\n    </tr>\n    <tr>\n      <th>...</th>\n      <td>...</td>\n      <td>...</td>\n      <td>...</td>\n      <td>...</td>\n      <td>...</td>\n      <td>...</td>\n    </tr>\n    <tr>\n      <th>895</th>\n      <td>함양박물관</td>\n      <td>0</td>\n      <td>055-960-5532</td>\n      <td>일반</td>\n      <td>055</td>\n      <td>경상남도</td>\n    </tr>\n    <tr>\n      <th>896</th>\n      <td>박물관수</td>\n      <td>5000</td>\n      <td>053-744-5500</td>\n      <td>일반</td>\n      <td>053</td>\n      <td>대구광역시</td>\n    </tr>\n    <tr>\n      <th>897</th>\n      <td>대구은행금융박물관</td>\n      <td>0</td>\n      <td>053-740-2061</td>\n      <td>일반</td>\n      <td>053</td>\n      <td>대구광역시</td>\n    </tr>\n    <tr>\n      <th>898</th>\n      <td>국립대구박물관</td>\n      <td>0</td>\n      <td>053-768-6051</td>\n      <td>일반</td>\n      <td>053</td>\n      <td>대구광역시</td>\n    </tr>\n    <tr>\n      <th>899</th>\n      <td>증평민속체험박물관</td>\n      <td>0</td>\n      <td>043-835-4161</td>\n      <td>일반</td>\n      <td>043</td>\n      <td>충청북도</td>\n    </tr>\n  </tbody>\n</table>\n<p>900 rows × 6 columns</p>\n</div>"
     },
     "execution_count": 15,
     "metadata": {},
     "output_type": "execute_result"
    }
   ],
   "source": [
    "pd.merge(museum, number, on='지역번호', how='left')"
   ],
   "metadata": {
    "collapsed": false,
    "ExecuteTime": {
     "end_time": "2024-05-07T09:13:29.203252Z",
     "start_time": "2024-05-07T09:13:29.178687900Z"
    }
   },
   "id": "50e0e80ee351e697",
   "execution_count": 15
  }
 ],
 "metadata": {
  "kernelspec": {
   "display_name": "Python 3",
   "language": "python",
   "name": "python3"
  },
  "language_info": {
   "codemirror_mode": {
    "name": "ipython",
    "version": 2
   },
   "file_extension": ".py",
   "mimetype": "text/x-python",
   "name": "python",
   "nbconvert_exporter": "python",
   "pygments_lexer": "ipython2",
   "version": "2.7.6"
  }
 },
 "nbformat": 4,
 "nbformat_minor": 5
}
