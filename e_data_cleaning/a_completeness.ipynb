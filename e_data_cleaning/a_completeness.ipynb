{
 "cells": [
  {
   "cell_type": "markdown",
   "source": [
    "## 데이터 클리닝 (완결성)"
   ],
   "metadata": {
    "collapsed": false
   },
   "id": "b4a6cfa3de23d75d"
  },
  {
   "cell_type": "code",
   "outputs": [],
   "source": [
    "import pandas as pd"
   ],
   "metadata": {
    "collapsed": false,
    "ExecuteTime": {
     "end_time": "2024-05-08T05:48:22.660114300Z",
     "start_time": "2024-05-08T05:48:18.618357900Z"
    }
   },
   "id": "d3ac0d87b148913",
   "execution_count": 1
  },
  {
   "cell_type": "code",
   "outputs": [
    {
     "data": {
      "text/plain": "         야구     축구      배구  남자농구  여자농구\n연도                                    \n2008  10881  11642  1253.0  4208  1329\n2009  11562  10983  1471.0  4152  1206\n2010  11402  12873     NaN  3870   705\n2011  13055  10709  1774.0  3955  1445\n2012  13747   7157     NaN  4537  1150\n2013  11373   7656     NaN  4092  1237\n2014  11429   8115  1967.0  4458  1417\n2015  10357   7720  2311.0  3953  1480\n2016  11583   7854  2336.0  3543  1425\n2017  11668   6502  2425.0  3188  1097",
      "text/html": "<div>\n<style scoped>\n    .dataframe tbody tr th:only-of-type {\n        vertical-align: middle;\n    }\n\n    .dataframe tbody tr th {\n        vertical-align: top;\n    }\n\n    .dataframe thead th {\n        text-align: right;\n    }\n</style>\n<table border=\"1\" class=\"dataframe\">\n  <thead>\n    <tr style=\"text-align: right;\">\n      <th></th>\n      <th>야구</th>\n      <th>축구</th>\n      <th>배구</th>\n      <th>남자농구</th>\n      <th>여자농구</th>\n    </tr>\n    <tr>\n      <th>연도</th>\n      <th></th>\n      <th></th>\n      <th></th>\n      <th></th>\n      <th></th>\n    </tr>\n  </thead>\n  <tbody>\n    <tr>\n      <th>2008</th>\n      <td>10881</td>\n      <td>11642</td>\n      <td>1253.0</td>\n      <td>4208</td>\n      <td>1329</td>\n    </tr>\n    <tr>\n      <th>2009</th>\n      <td>11562</td>\n      <td>10983</td>\n      <td>1471.0</td>\n      <td>4152</td>\n      <td>1206</td>\n    </tr>\n    <tr>\n      <th>2010</th>\n      <td>11402</td>\n      <td>12873</td>\n      <td>NaN</td>\n      <td>3870</td>\n      <td>705</td>\n    </tr>\n    <tr>\n      <th>2011</th>\n      <td>13055</td>\n      <td>10709</td>\n      <td>1774.0</td>\n      <td>3955</td>\n      <td>1445</td>\n    </tr>\n    <tr>\n      <th>2012</th>\n      <td>13747</td>\n      <td>7157</td>\n      <td>NaN</td>\n      <td>4537</td>\n      <td>1150</td>\n    </tr>\n    <tr>\n      <th>2013</th>\n      <td>11373</td>\n      <td>7656</td>\n      <td>NaN</td>\n      <td>4092</td>\n      <td>1237</td>\n    </tr>\n    <tr>\n      <th>2014</th>\n      <td>11429</td>\n      <td>8115</td>\n      <td>1967.0</td>\n      <td>4458</td>\n      <td>1417</td>\n    </tr>\n    <tr>\n      <th>2015</th>\n      <td>10357</td>\n      <td>7720</td>\n      <td>2311.0</td>\n      <td>3953</td>\n      <td>1480</td>\n    </tr>\n    <tr>\n      <th>2016</th>\n      <td>11583</td>\n      <td>7854</td>\n      <td>2336.0</td>\n      <td>3543</td>\n      <td>1425</td>\n    </tr>\n    <tr>\n      <th>2017</th>\n      <td>11668</td>\n      <td>6502</td>\n      <td>2425.0</td>\n      <td>3188</td>\n      <td>1097</td>\n    </tr>\n  </tbody>\n</table>\n</div>"
     },
     "execution_count": 2,
     "metadata": {},
     "output_type": "execute_result"
    }
   ],
   "source": [
    "df = pd.read_csv('data/attendance.csv', index_col = 0)\n",
    "df"
   ],
   "metadata": {
    "collapsed": false,
    "ExecuteTime": {
     "end_time": "2024-05-08T05:48:30.012531500Z",
     "start_time": "2024-05-08T05:48:29.920015200Z"
    }
   },
   "id": "3eb792aa9da596a3",
   "execution_count": 2
  },
  {
   "cell_type": "code",
   "outputs": [
    {
     "data": {
      "text/plain": "         야구     축구     배구   남자농구   여자농구\n연도                                     \n2008  False  False  False  False  False\n2009  False  False  False  False  False\n2010  False  False   True  False  False\n2011  False  False  False  False  False\n2012  False  False   True  False  False\n2013  False  False   True  False  False\n2014  False  False  False  False  False\n2015  False  False  False  False  False\n2016  False  False  False  False  False\n2017  False  False  False  False  False",
      "text/html": "<div>\n<style scoped>\n    .dataframe tbody tr th:only-of-type {\n        vertical-align: middle;\n    }\n\n    .dataframe tbody tr th {\n        vertical-align: top;\n    }\n\n    .dataframe thead th {\n        text-align: right;\n    }\n</style>\n<table border=\"1\" class=\"dataframe\">\n  <thead>\n    <tr style=\"text-align: right;\">\n      <th></th>\n      <th>야구</th>\n      <th>축구</th>\n      <th>배구</th>\n      <th>남자농구</th>\n      <th>여자농구</th>\n    </tr>\n    <tr>\n      <th>연도</th>\n      <th></th>\n      <th></th>\n      <th></th>\n      <th></th>\n      <th></th>\n    </tr>\n  </thead>\n  <tbody>\n    <tr>\n      <th>2008</th>\n      <td>False</td>\n      <td>False</td>\n      <td>False</td>\n      <td>False</td>\n      <td>False</td>\n    </tr>\n    <tr>\n      <th>2009</th>\n      <td>False</td>\n      <td>False</td>\n      <td>False</td>\n      <td>False</td>\n      <td>False</td>\n    </tr>\n    <tr>\n      <th>2010</th>\n      <td>False</td>\n      <td>False</td>\n      <td>True</td>\n      <td>False</td>\n      <td>False</td>\n    </tr>\n    <tr>\n      <th>2011</th>\n      <td>False</td>\n      <td>False</td>\n      <td>False</td>\n      <td>False</td>\n      <td>False</td>\n    </tr>\n    <tr>\n      <th>2012</th>\n      <td>False</td>\n      <td>False</td>\n      <td>True</td>\n      <td>False</td>\n      <td>False</td>\n    </tr>\n    <tr>\n      <th>2013</th>\n      <td>False</td>\n      <td>False</td>\n      <td>True</td>\n      <td>False</td>\n      <td>False</td>\n    </tr>\n    <tr>\n      <th>2014</th>\n      <td>False</td>\n      <td>False</td>\n      <td>False</td>\n      <td>False</td>\n      <td>False</td>\n    </tr>\n    <tr>\n      <th>2015</th>\n      <td>False</td>\n      <td>False</td>\n      <td>False</td>\n      <td>False</td>\n      <td>False</td>\n    </tr>\n    <tr>\n      <th>2016</th>\n      <td>False</td>\n      <td>False</td>\n      <td>False</td>\n      <td>False</td>\n      <td>False</td>\n    </tr>\n    <tr>\n      <th>2017</th>\n      <td>False</td>\n      <td>False</td>\n      <td>False</td>\n      <td>False</td>\n      <td>False</td>\n    </tr>\n  </tbody>\n</table>\n</div>"
     },
     "execution_count": 3,
     "metadata": {},
     "output_type": "execute_result"
    }
   ],
   "source": [
    "# 결측값 확인\n",
    "df.isnull()"
   ],
   "metadata": {
    "collapsed": false,
    "ExecuteTime": {
     "end_time": "2024-05-08T05:49:28.305375500Z",
     "start_time": "2024-05-08T05:49:28.270220500Z"
    }
   },
   "id": "af4fa0b83ebfd8f8",
   "execution_count": 3
  },
  {
   "cell_type": "code",
   "outputs": [
    {
     "data": {
      "text/plain": "야구      0\n축구      0\n배구      3\n남자농구    0\n여자농구    0\ndtype: int64"
     },
     "execution_count": 5,
     "metadata": {},
     "output_type": "execute_result"
    }
   ],
   "source": [
    "# 각 컬럼에 결측값이 몇개인지 확인\n",
    "df.isnull().sum()"
   ],
   "metadata": {
    "collapsed": false,
    "ExecuteTime": {
     "end_time": "2024-05-08T05:50:21.830160700Z",
     "start_time": "2024-05-08T05:50:21.694012300Z"
    }
   },
   "id": "6a6383d5f64aa7bd",
   "execution_count": 5
  },
  {
   "cell_type": "code",
   "outputs": [
    {
     "data": {
      "text/plain": "         야구     축구      배구  남자농구  여자농구\n연도                                    \n2008  10881  11642  1253.0  4208  1329\n2009  11562  10983  1471.0  4152  1206\n2011  13055  10709  1774.0  3955  1445\n2014  11429   8115  1967.0  4458  1417\n2015  10357   7720  2311.0  3953  1480\n2016  11583   7854  2336.0  3543  1425\n2017  11668   6502  2425.0  3188  1097",
      "text/html": "<div>\n<style scoped>\n    .dataframe tbody tr th:only-of-type {\n        vertical-align: middle;\n    }\n\n    .dataframe tbody tr th {\n        vertical-align: top;\n    }\n\n    .dataframe thead th {\n        text-align: right;\n    }\n</style>\n<table border=\"1\" class=\"dataframe\">\n  <thead>\n    <tr style=\"text-align: right;\">\n      <th></th>\n      <th>야구</th>\n      <th>축구</th>\n      <th>배구</th>\n      <th>남자농구</th>\n      <th>여자농구</th>\n    </tr>\n    <tr>\n      <th>연도</th>\n      <th></th>\n      <th></th>\n      <th></th>\n      <th></th>\n      <th></th>\n    </tr>\n  </thead>\n  <tbody>\n    <tr>\n      <th>2008</th>\n      <td>10881</td>\n      <td>11642</td>\n      <td>1253.0</td>\n      <td>4208</td>\n      <td>1329</td>\n    </tr>\n    <tr>\n      <th>2009</th>\n      <td>11562</td>\n      <td>10983</td>\n      <td>1471.0</td>\n      <td>4152</td>\n      <td>1206</td>\n    </tr>\n    <tr>\n      <th>2011</th>\n      <td>13055</td>\n      <td>10709</td>\n      <td>1774.0</td>\n      <td>3955</td>\n      <td>1445</td>\n    </tr>\n    <tr>\n      <th>2014</th>\n      <td>11429</td>\n      <td>8115</td>\n      <td>1967.0</td>\n      <td>4458</td>\n      <td>1417</td>\n    </tr>\n    <tr>\n      <th>2015</th>\n      <td>10357</td>\n      <td>7720</td>\n      <td>2311.0</td>\n      <td>3953</td>\n      <td>1480</td>\n    </tr>\n    <tr>\n      <th>2016</th>\n      <td>11583</td>\n      <td>7854</td>\n      <td>2336.0</td>\n      <td>3543</td>\n      <td>1425</td>\n    </tr>\n    <tr>\n      <th>2017</th>\n      <td>11668</td>\n      <td>6502</td>\n      <td>2425.0</td>\n      <td>3188</td>\n      <td>1097</td>\n    </tr>\n  </tbody>\n</table>\n</div>"
     },
     "execution_count": 7,
     "metadata": {},
     "output_type": "execute_result"
    }
   ],
   "source": [
    "# 결측값이 있는 행 제거\n",
    "df.dropna(inplace=True)\n",
    "df"
   ],
   "metadata": {
    "collapsed": false,
    "ExecuteTime": {
     "end_time": "2024-05-08T05:53:43.032381700Z",
     "start_time": "2024-05-08T05:53:42.983392400Z"
    }
   },
   "id": "859c89bbdf383013",
   "execution_count": 7
  },
  {
   "cell_type": "code",
   "outputs": [],
   "source": [
    "# 원본 데이터 불러오기\n",
    "df = pd.read_csv('data/attendance.csv', index_col = 0)"
   ],
   "metadata": {
    "collapsed": false,
    "ExecuteTime": {
     "end_time": "2024-05-08T05:54:13.235805100Z",
     "start_time": "2024-05-08T05:54:13.202166600Z"
    }
   },
   "id": "89f75468baec9988",
   "execution_count": 8
  },
  {
   "cell_type": "code",
   "outputs": [
    {
     "data": {
      "text/plain": "         야구     축구  남자농구  여자농구\n연도                            \n2008  10881  11642  4208  1329\n2009  11562  10983  4152  1206\n2010  11402  12873  3870   705\n2011  13055  10709  3955  1445\n2012  13747   7157  4537  1150\n2013  11373   7656  4092  1237\n2014  11429   8115  4458  1417\n2015  10357   7720  3953  1480\n2016  11583   7854  3543  1425\n2017  11668   6502  3188  1097",
      "text/html": "<div>\n<style scoped>\n    .dataframe tbody tr th:only-of-type {\n        vertical-align: middle;\n    }\n\n    .dataframe tbody tr th {\n        vertical-align: top;\n    }\n\n    .dataframe thead th {\n        text-align: right;\n    }\n</style>\n<table border=\"1\" class=\"dataframe\">\n  <thead>\n    <tr style=\"text-align: right;\">\n      <th></th>\n      <th>야구</th>\n      <th>축구</th>\n      <th>남자농구</th>\n      <th>여자농구</th>\n    </tr>\n    <tr>\n      <th>연도</th>\n      <th></th>\n      <th></th>\n      <th></th>\n      <th></th>\n    </tr>\n  </thead>\n  <tbody>\n    <tr>\n      <th>2008</th>\n      <td>10881</td>\n      <td>11642</td>\n      <td>4208</td>\n      <td>1329</td>\n    </tr>\n    <tr>\n      <th>2009</th>\n      <td>11562</td>\n      <td>10983</td>\n      <td>4152</td>\n      <td>1206</td>\n    </tr>\n    <tr>\n      <th>2010</th>\n      <td>11402</td>\n      <td>12873</td>\n      <td>3870</td>\n      <td>705</td>\n    </tr>\n    <tr>\n      <th>2011</th>\n      <td>13055</td>\n      <td>10709</td>\n      <td>3955</td>\n      <td>1445</td>\n    </tr>\n    <tr>\n      <th>2012</th>\n      <td>13747</td>\n      <td>7157</td>\n      <td>4537</td>\n      <td>1150</td>\n    </tr>\n    <tr>\n      <th>2013</th>\n      <td>11373</td>\n      <td>7656</td>\n      <td>4092</td>\n      <td>1237</td>\n    </tr>\n    <tr>\n      <th>2014</th>\n      <td>11429</td>\n      <td>8115</td>\n      <td>4458</td>\n      <td>1417</td>\n    </tr>\n    <tr>\n      <th>2015</th>\n      <td>10357</td>\n      <td>7720</td>\n      <td>3953</td>\n      <td>1480</td>\n    </tr>\n    <tr>\n      <th>2016</th>\n      <td>11583</td>\n      <td>7854</td>\n      <td>3543</td>\n      <td>1425</td>\n    </tr>\n    <tr>\n      <th>2017</th>\n      <td>11668</td>\n      <td>6502</td>\n      <td>3188</td>\n      <td>1097</td>\n    </tr>\n  </tbody>\n</table>\n</div>"
     },
     "execution_count": 9,
     "metadata": {},
     "output_type": "execute_result"
    }
   ],
   "source": [
    "# 결측값이 있는 열 제거\n",
    "df.dropna(axis='columns')"
   ],
   "metadata": {
    "collapsed": false,
    "ExecuteTime": {
     "end_time": "2024-05-08T05:55:31.302189Z",
     "start_time": "2024-05-08T05:55:31.234307300Z"
    }
   },
   "id": "63809c09f5703c22",
   "execution_count": 9
  },
  {
   "cell_type": "code",
   "outputs": [
    {
     "data": {
      "text/plain": "         야구     축구      배구  남자농구  여자농구\n연도                                    \n2008  10881  11642  1253.0  4208  1329\n2009  11562  10983  1471.0  4152  1206\n2010  11402  12873     0.0  3870   705\n2011  13055  10709  1774.0  3955  1445\n2012  13747   7157     0.0  4537  1150\n2013  11373   7656     0.0  4092  1237\n2014  11429   8115  1967.0  4458  1417\n2015  10357   7720  2311.0  3953  1480\n2016  11583   7854  2336.0  3543  1425\n2017  11668   6502  2425.0  3188  1097",
      "text/html": "<div>\n<style scoped>\n    .dataframe tbody tr th:only-of-type {\n        vertical-align: middle;\n    }\n\n    .dataframe tbody tr th {\n        vertical-align: top;\n    }\n\n    .dataframe thead th {\n        text-align: right;\n    }\n</style>\n<table border=\"1\" class=\"dataframe\">\n  <thead>\n    <tr style=\"text-align: right;\">\n      <th></th>\n      <th>야구</th>\n      <th>축구</th>\n      <th>배구</th>\n      <th>남자농구</th>\n      <th>여자농구</th>\n    </tr>\n    <tr>\n      <th>연도</th>\n      <th></th>\n      <th></th>\n      <th></th>\n      <th></th>\n      <th></th>\n    </tr>\n  </thead>\n  <tbody>\n    <tr>\n      <th>2008</th>\n      <td>10881</td>\n      <td>11642</td>\n      <td>1253.0</td>\n      <td>4208</td>\n      <td>1329</td>\n    </tr>\n    <tr>\n      <th>2009</th>\n      <td>11562</td>\n      <td>10983</td>\n      <td>1471.0</td>\n      <td>4152</td>\n      <td>1206</td>\n    </tr>\n    <tr>\n      <th>2010</th>\n      <td>11402</td>\n      <td>12873</td>\n      <td>0.0</td>\n      <td>3870</td>\n      <td>705</td>\n    </tr>\n    <tr>\n      <th>2011</th>\n      <td>13055</td>\n      <td>10709</td>\n      <td>1774.0</td>\n      <td>3955</td>\n      <td>1445</td>\n    </tr>\n    <tr>\n      <th>2012</th>\n      <td>13747</td>\n      <td>7157</td>\n      <td>0.0</td>\n      <td>4537</td>\n      <td>1150</td>\n    </tr>\n    <tr>\n      <th>2013</th>\n      <td>11373</td>\n      <td>7656</td>\n      <td>0.0</td>\n      <td>4092</td>\n      <td>1237</td>\n    </tr>\n    <tr>\n      <th>2014</th>\n      <td>11429</td>\n      <td>8115</td>\n      <td>1967.0</td>\n      <td>4458</td>\n      <td>1417</td>\n    </tr>\n    <tr>\n      <th>2015</th>\n      <td>10357</td>\n      <td>7720</td>\n      <td>2311.0</td>\n      <td>3953</td>\n      <td>1480</td>\n    </tr>\n    <tr>\n      <th>2016</th>\n      <td>11583</td>\n      <td>7854</td>\n      <td>2336.0</td>\n      <td>3543</td>\n      <td>1425</td>\n    </tr>\n    <tr>\n      <th>2017</th>\n      <td>11668</td>\n      <td>6502</td>\n      <td>2425.0</td>\n      <td>3188</td>\n      <td>1097</td>\n    </tr>\n  </tbody>\n</table>\n</div>"
     },
     "execution_count": 10,
     "metadata": {},
     "output_type": "execute_result"
    }
   ],
   "source": [
    "# 결측값 대체 (0으로 대체)\n",
    "df.fillna(0)"
   ],
   "metadata": {
    "collapsed": false,
    "ExecuteTime": {
     "end_time": "2024-05-08T05:56:01.902134Z",
     "start_time": "2024-05-08T05:56:01.836929600Z"
    }
   },
   "id": "6345cfd61cdc57bf",
   "execution_count": 10
  },
  {
   "cell_type": "code",
   "outputs": [
    {
     "data": {
      "text/plain": "         야구     축구           배구  남자농구  여자농구\n연도                                         \n2008  10881  11642  1253.000000  4208  1329\n2009  11562  10983  1471.000000  4152  1206\n2010  11402  12873  1933.857143  3870   705\n2011  13055  10709  1774.000000  3955  1445\n2012  13747   7157  1933.857143  4537  1150\n2013  11373   7656  1933.857143  4092  1237\n2014  11429   8115  1967.000000  4458  1417\n2015  10357   7720  2311.000000  3953  1480\n2016  11583   7854  2336.000000  3543  1425\n2017  11668   6502  2425.000000  3188  1097",
      "text/html": "<div>\n<style scoped>\n    .dataframe tbody tr th:only-of-type {\n        vertical-align: middle;\n    }\n\n    .dataframe tbody tr th {\n        vertical-align: top;\n    }\n\n    .dataframe thead th {\n        text-align: right;\n    }\n</style>\n<table border=\"1\" class=\"dataframe\">\n  <thead>\n    <tr style=\"text-align: right;\">\n      <th></th>\n      <th>야구</th>\n      <th>축구</th>\n      <th>배구</th>\n      <th>남자농구</th>\n      <th>여자농구</th>\n    </tr>\n    <tr>\n      <th>연도</th>\n      <th></th>\n      <th></th>\n      <th></th>\n      <th></th>\n      <th></th>\n    </tr>\n  </thead>\n  <tbody>\n    <tr>\n      <th>2008</th>\n      <td>10881</td>\n      <td>11642</td>\n      <td>1253.000000</td>\n      <td>4208</td>\n      <td>1329</td>\n    </tr>\n    <tr>\n      <th>2009</th>\n      <td>11562</td>\n      <td>10983</td>\n      <td>1471.000000</td>\n      <td>4152</td>\n      <td>1206</td>\n    </tr>\n    <tr>\n      <th>2010</th>\n      <td>11402</td>\n      <td>12873</td>\n      <td>1933.857143</td>\n      <td>3870</td>\n      <td>705</td>\n    </tr>\n    <tr>\n      <th>2011</th>\n      <td>13055</td>\n      <td>10709</td>\n      <td>1774.000000</td>\n      <td>3955</td>\n      <td>1445</td>\n    </tr>\n    <tr>\n      <th>2012</th>\n      <td>13747</td>\n      <td>7157</td>\n      <td>1933.857143</td>\n      <td>4537</td>\n      <td>1150</td>\n    </tr>\n    <tr>\n      <th>2013</th>\n      <td>11373</td>\n      <td>7656</td>\n      <td>1933.857143</td>\n      <td>4092</td>\n      <td>1237</td>\n    </tr>\n    <tr>\n      <th>2014</th>\n      <td>11429</td>\n      <td>8115</td>\n      <td>1967.000000</td>\n      <td>4458</td>\n      <td>1417</td>\n    </tr>\n    <tr>\n      <th>2015</th>\n      <td>10357</td>\n      <td>7720</td>\n      <td>2311.000000</td>\n      <td>3953</td>\n      <td>1480</td>\n    </tr>\n    <tr>\n      <th>2016</th>\n      <td>11583</td>\n      <td>7854</td>\n      <td>2336.000000</td>\n      <td>3543</td>\n      <td>1425</td>\n    </tr>\n    <tr>\n      <th>2017</th>\n      <td>11668</td>\n      <td>6502</td>\n      <td>2425.000000</td>\n      <td>3188</td>\n      <td>1097</td>\n    </tr>\n  </tbody>\n</table>\n</div>"
     },
     "execution_count": 11,
     "metadata": {},
     "output_type": "execute_result"
    }
   ],
   "source": [
    "# 평균값으로 대체\n",
    "df.fillna(df.mean())"
   ],
   "metadata": {
    "collapsed": false,
    "ExecuteTime": {
     "end_time": "2024-05-08T05:57:15.250991100Z",
     "start_time": "2024-05-08T05:57:15.183741900Z"
    }
   },
   "id": "ae9941dcbd2a96b2",
   "execution_count": 11
  },
  {
   "cell_type": "code",
   "outputs": [
    {
     "data": {
      "text/plain": "         야구     축구      배구  남자농구  여자농구\n연도                                    \n2008  10881  11642  1253.0  4208  1329\n2009  11562  10983  1471.0  4152  1206\n2010  11402  12873  1967.0  3870   705\n2011  13055  10709  1774.0  3955  1445\n2012  13747   7157  1967.0  4537  1150\n2013  11373   7656  1967.0  4092  1237\n2014  11429   8115  1967.0  4458  1417\n2015  10357   7720  2311.0  3953  1480\n2016  11583   7854  2336.0  3543  1425\n2017  11668   6502  2425.0  3188  1097",
      "text/html": "<div>\n<style scoped>\n    .dataframe tbody tr th:only-of-type {\n        vertical-align: middle;\n    }\n\n    .dataframe tbody tr th {\n        vertical-align: top;\n    }\n\n    .dataframe thead th {\n        text-align: right;\n    }\n</style>\n<table border=\"1\" class=\"dataframe\">\n  <thead>\n    <tr style=\"text-align: right;\">\n      <th></th>\n      <th>야구</th>\n      <th>축구</th>\n      <th>배구</th>\n      <th>남자농구</th>\n      <th>여자농구</th>\n    </tr>\n    <tr>\n      <th>연도</th>\n      <th></th>\n      <th></th>\n      <th></th>\n      <th></th>\n      <th></th>\n    </tr>\n  </thead>\n  <tbody>\n    <tr>\n      <th>2008</th>\n      <td>10881</td>\n      <td>11642</td>\n      <td>1253.0</td>\n      <td>4208</td>\n      <td>1329</td>\n    </tr>\n    <tr>\n      <th>2009</th>\n      <td>11562</td>\n      <td>10983</td>\n      <td>1471.0</td>\n      <td>4152</td>\n      <td>1206</td>\n    </tr>\n    <tr>\n      <th>2010</th>\n      <td>11402</td>\n      <td>12873</td>\n      <td>1967.0</td>\n      <td>3870</td>\n      <td>705</td>\n    </tr>\n    <tr>\n      <th>2011</th>\n      <td>13055</td>\n      <td>10709</td>\n      <td>1774.0</td>\n      <td>3955</td>\n      <td>1445</td>\n    </tr>\n    <tr>\n      <th>2012</th>\n      <td>13747</td>\n      <td>7157</td>\n      <td>1967.0</td>\n      <td>4537</td>\n      <td>1150</td>\n    </tr>\n    <tr>\n      <th>2013</th>\n      <td>11373</td>\n      <td>7656</td>\n      <td>1967.0</td>\n      <td>4092</td>\n      <td>1237</td>\n    </tr>\n    <tr>\n      <th>2014</th>\n      <td>11429</td>\n      <td>8115</td>\n      <td>1967.0</td>\n      <td>4458</td>\n      <td>1417</td>\n    </tr>\n    <tr>\n      <th>2015</th>\n      <td>10357</td>\n      <td>7720</td>\n      <td>2311.0</td>\n      <td>3953</td>\n      <td>1480</td>\n    </tr>\n    <tr>\n      <th>2016</th>\n      <td>11583</td>\n      <td>7854</td>\n      <td>2336.0</td>\n      <td>3543</td>\n      <td>1425</td>\n    </tr>\n    <tr>\n      <th>2017</th>\n      <td>11668</td>\n      <td>6502</td>\n      <td>2425.0</td>\n      <td>3188</td>\n      <td>1097</td>\n    </tr>\n  </tbody>\n</table>\n</div>"
     },
     "execution_count": 12,
     "metadata": {},
     "output_type": "execute_result"
    }
   ],
   "source": [
    "# 중간값으로 대체\n",
    "df.fillna(df.median())"
   ],
   "metadata": {
    "collapsed": false,
    "ExecuteTime": {
     "end_time": "2024-05-08T05:57:50.191313800Z",
     "start_time": "2024-05-08T05:57:50.087560900Z"
    }
   },
   "id": "f41e83252f45df1c",
   "execution_count": 12
  }
 ],
 "metadata": {
  "kernelspec": {
   "display_name": "Python 3",
   "language": "python",
   "name": "python3"
  },
  "language_info": {
   "codemirror_mode": {
    "name": "ipython",
    "version": 2
   },
   "file_extension": ".py",
   "mimetype": "text/x-python",
   "name": "python",
   "nbconvert_exporter": "python",
   "pygments_lexer": "ipython2",
   "version": "2.7.6"
  }
 },
 "nbformat": 4,
 "nbformat_minor": 5
}
