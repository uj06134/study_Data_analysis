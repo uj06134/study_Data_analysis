{
 "cells": [
  {
   "cell_type": "code",
   "outputs": [],
   "source": [
    "import pandas as pd"
   ],
   "metadata": {
    "collapsed": false,
    "ExecuteTime": {
     "end_time": "2024-03-21T08:53:41.339584900Z",
     "start_time": "2024-03-21T08:53:40.479833500Z"
    }
   },
   "id": "6cf7054c2aadcbaf",
   "execution_count": 10
  },
  {
   "cell_type": "code",
   "outputs": [
    {
     "name": "stdout",
     "output_type": "stream",
     "text": [
      "       name  english_score  math_score\n",
      "a  dongwook             50          86\n",
      "b    sineui             89          31\n",
      "c   ikjoong             67          91\n",
      "d   yoonsoo             88          75\n"
     ]
    }
   ],
   "source": [
    "two_dimensional_list = [['dongwook', 50, 86], ['sineui', 89, 31], ['ikjoong', 67, 91], ['yoonsoo', 88, 75]]\n",
    "my_df = pd.DataFrame(two_dimensional_list, columns=['name', 'english_score', 'math_score'], index=['a', 'b', 'c', 'd'])\n",
    "print(my_df)"
   ],
   "metadata": {
    "collapsed": false,
    "ExecuteTime": {
     "end_time": "2024-03-21T08:59:40.541877100Z",
     "start_time": "2024-03-21T08:59:40.519171200Z"
    }
   },
   "id": "a0760b61a03cd618",
   "execution_count": 15
  },
  {
   "cell_type": "code",
   "outputs": [
    {
     "name": "stdout",
     "output_type": "stream",
     "text": [
      "Index(['name', 'english_score', 'math_score'], dtype='object')\n"
     ]
    }
   ],
   "source": [
    "print(my_df.columns)"
   ],
   "metadata": {
    "collapsed": false,
    "ExecuteTime": {
     "end_time": "2024-03-21T09:00:46.632180500Z",
     "start_time": "2024-03-21T09:00:46.623734Z"
    }
   },
   "id": "d13b4b59e5005708",
   "execution_count": 20
  },
  {
   "cell_type": "code",
   "outputs": [
    {
     "name": "stdout",
     "output_type": "stream",
     "text": [
      "Index(['a', 'b', 'c', 'd'], dtype='object')\n"
     ]
    }
   ],
   "source": [
    "print(my_df.index)"
   ],
   "metadata": {
    "collapsed": false,
    "ExecuteTime": {
     "end_time": "2024-03-21T09:00:22.485121200Z",
     "start_time": "2024-03-21T09:00:22.453653600Z"
    }
   },
   "id": "e682d0c6c8c14ec0",
   "execution_count": 19
  },
  {
   "cell_type": "code",
   "outputs": [
    {
     "name": "stdout",
     "output_type": "stream",
     "text": [
      "name             object\n",
      "english_score     int64\n",
      "math_score        int64\n",
      "dtype: object\n"
     ]
    }
   ],
   "source": [
    "# 각 컬럼이 어떤 자료형을 갖고 있는지 출력\n",
    "print(my_df.dtypes)"
   ],
   "metadata": {
    "collapsed": false,
    "ExecuteTime": {
     "end_time": "2024-03-21T09:11:09.108718400Z",
     "start_time": "2024-03-21T09:11:09.079036500Z"
    }
   },
   "id": "623d25190b05d11b",
   "execution_count": 22
  },
  {
   "cell_type": "markdown",
   "source": [
    "# From list of lists, array of arrays, list of series\n",
    "2차원 리스트나 2차원 numpy array로 DataFrame을 만들 수 있습니다. 심지어 pandas Series를 담고 있는 리스트로도 DataFrame을 만들 수 있습니다."
   ],
   "metadata": {
    "collapsed": false
   },
   "id": "9a0ee10b6514c15e"
  },
  {
   "cell_type": "code",
   "outputs": [
    {
     "name": "stdout",
     "output_type": "stream",
     "text": [
      "          0   1   2\n",
      "0  dongwook  50  86\n",
      "1    sineui  89  31\n",
      "2   ikjoong  68  91\n",
      "3   yoonsoo  88  75\n"
     ]
    }
   ],
   "source": [
    "import numpy as np\n",
    "import pandas as pd\n",
    "\n",
    "two_dimensional_list = [['dongwook', 50, 86], ['sineui', 89, 31], ['ikjoong', 68, 91], ['yoonsoo', 88, 75]]\n",
    "two_dimensional_array = np.array(two_dimensional_list)\n",
    "list_of_series = [\n",
    "    pd.Series(['dongwook', 50, 86]), \n",
    "    pd.Series(['sineui', 89, 31]), \n",
    "    pd.Series(['ikjoong', 68, 91]), \n",
    "    pd.Series(['yoonsoo', 88, 75])\n",
    "]\n",
    "\n",
    "# 아래 셋은 모두 동일합니다\n",
    "df1 = pd.DataFrame(two_dimensional_list)\n",
    "df2 = pd.DataFrame(two_dimensional_array)\n",
    "df3 = pd.DataFrame(list_of_series)\n",
    "\n",
    "print(df1)"
   ],
   "metadata": {
    "collapsed": false,
    "ExecuteTime": {
     "end_time": "2024-03-21T09:14:06.471094500Z",
     "start_time": "2024-03-21T09:14:06.447110900Z"
    }
   },
   "id": "866408f2f04599f5",
   "execution_count": 28
  },
  {
   "cell_type": "markdown",
   "source": [
    "# From dict of lists, dict of arrays, dict of series\n",
    "파이썬 사전(dictionary)으로도 DataFrame을 만들 수 있습니다.\n",
    "사전의 key로는 column 이름을 쓰고, 그 column에 해당하는 리스트, numpy array, 혹은 pandas Series를 사전의 value로 넣어주면 됩니다."
   ],
   "metadata": {
    "collapsed": false
   },
   "id": "48687c531c2e811f"
  },
  {
   "cell_type": "code",
   "outputs": [
    {
     "name": "stdout",
     "output_type": "stream",
     "text": [
      "       name  english_score  math_score\n",
      "0  dongwook             50          86\n",
      "1    sineui             89          31\n",
      "2   ikjoong             68          91\n",
      "3   yoonsoo             88          75\n"
     ]
    }
   ],
   "source": [
    "import numpy as np\n",
    "import pandas as pd\n",
    "\n",
    "names = ['dongwook', 'sineui', 'ikjoong', 'yoonsoo']\n",
    "english_scores = [50, 89, 68, 88]\n",
    "math_scores = [86, 31, 91, 75]\n",
    "\n",
    "dict1 = {\n",
    "    'name': names, \n",
    "    'english_score': english_scores, \n",
    "    'math_score': math_scores\n",
    "}\n",
    "\n",
    "dict2 = {\n",
    "    'name': np.array(names), \n",
    "    'english_score': np.array(english_scores), \n",
    "    'math_score': np.array(math_scores)\n",
    "}\n",
    "\n",
    "dict3 = {\n",
    "    'name': pd.Series(names), \n",
    "    'english_score': pd.Series(english_scores), \n",
    "    'math_score': pd.Series(math_scores)\n",
    "}\n",
    "\n",
    "\n",
    "# 아래 셋은 모두 동일합니다\n",
    "df1 = pd.DataFrame(dict1)\n",
    "df2 = pd.DataFrame(dict2)\n",
    "df3 = pd.DataFrame(dict3)\n",
    "\n",
    "print(df1)"
   ],
   "metadata": {
    "collapsed": false,
    "ExecuteTime": {
     "end_time": "2024-03-21T09:14:38.764668300Z",
     "start_time": "2024-03-21T09:14:38.742948800Z"
    }
   },
   "id": "4fe37bc5725b70c5",
   "execution_count": 30
  },
  {
   "cell_type": "markdown",
   "source": [
    "# From list of dicts\n",
    "리스트가 담긴 사전이 아니라, 사전이 담긴 리스트로도 DataFrame을 만들 수 있습니다."
   ],
   "metadata": {
    "collapsed": false
   },
   "id": "19ad45e5d2f356b9"
  },
  {
   "cell_type": "code",
   "outputs": [
    {
     "name": "stdout",
     "output_type": "stream",
     "text": [
      "       name  english_score  math_score\n",
      "0  dongwook             50          86\n",
      "1    sineui             89          31\n",
      "2   ikjoong             68          91\n",
      "3   yoonsoo             88          75\n"
     ]
    }
   ],
   "source": [
    "import numpy as np\n",
    "import pandas as pd\n",
    "\n",
    "my_list = [\n",
    "    {'name': 'dongwook', 'english_score': 50, 'math_score': 86},\n",
    "    {'name': 'sineui', 'english_score': 89, 'math_score': 31},\n",
    "    {'name': 'ikjoong', 'english_score': 68, 'math_score': 91},\n",
    "    {'name': 'yoonsoo', 'english_score': 88, 'math_score': 75}\n",
    "]\n",
    "\n",
    "df = pd.DataFrame(my_list)\n",
    "print(df)"
   ],
   "metadata": {
    "collapsed": false,
    "ExecuteTime": {
     "end_time": "2024-03-21T09:13:53.116840500Z",
     "start_time": "2024-03-21T09:13:53.085842200Z"
    }
   },
   "id": "42debddaf56c5330",
   "execution_count": 26
  }
 ],
 "metadata": {
  "kernelspec": {
   "display_name": "Python 3",
   "language": "python",
   "name": "python3"
  },
  "language_info": {
   "codemirror_mode": {
    "name": "ipython",
    "version": 2
   },
   "file_extension": ".py",
   "mimetype": "text/x-python",
   "name": "python",
   "nbconvert_exporter": "python",
   "pygments_lexer": "ipython2",
   "version": "2.7.6"
  }
 },
 "nbformat": 4,
 "nbformat_minor": 5
}
