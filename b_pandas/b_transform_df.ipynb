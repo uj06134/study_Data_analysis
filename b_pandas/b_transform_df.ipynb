{
 "cells": [
  {
   "cell_type": "code",
   "execution_count": 85,
   "id": "initial_id",
   "metadata": {
    "collapsed": true,
    "ExecuteTime": {
     "end_time": "2024-04-19T06:43:00.130930500Z",
     "start_time": "2024-04-19T06:43:00.113012500Z"
    }
   },
   "outputs": [],
   "source": [
    "import pandas as pd"
   ]
  },
  {
   "cell_type": "code",
   "outputs": [
    {
     "data": {
      "text/plain": "      Unnamed: 0         출시일  디스플레이  메모리     출시 버전 Face ID\n0       iPhone 7  2016-09-16    4.7  2GB  iOS 10.0      No\n1  iPhone 7 Plus  2016-09-16    5.5  3GB  iOS 10.0      No\n2       iPhone 8  2017-09-22    4.7  2GB  iOS 11.0      No\n3  iPhone 8 Plus  2017-09-22    5.5  3GB  iOS 11.0      No\n4       iPhone X  2017-11-03    5.8  3GB  iOS 11.1     Yes\n5      iPhone XS  2018-09-21    5.8  4GB  iOS 12.0     Yes\n6  iPhone XS Max  2018-09-21    6.5  4GB  iOS 12.0     Yes",
      "text/html": "<div>\n<style scoped>\n    .dataframe tbody tr th:only-of-type {\n        vertical-align: middle;\n    }\n\n    .dataframe tbody tr th {\n        vertical-align: top;\n    }\n\n    .dataframe thead th {\n        text-align: right;\n    }\n</style>\n<table border=\"1\" class=\"dataframe\">\n  <thead>\n    <tr style=\"text-align: right;\">\n      <th></th>\n      <th>Unnamed: 0</th>\n      <th>출시일</th>\n      <th>디스플레이</th>\n      <th>메모리</th>\n      <th>출시 버전</th>\n      <th>Face ID</th>\n    </tr>\n  </thead>\n  <tbody>\n    <tr>\n      <th>0</th>\n      <td>iPhone 7</td>\n      <td>2016-09-16</td>\n      <td>4.7</td>\n      <td>2GB</td>\n      <td>iOS 10.0</td>\n      <td>No</td>\n    </tr>\n    <tr>\n      <th>1</th>\n      <td>iPhone 7 Plus</td>\n      <td>2016-09-16</td>\n      <td>5.5</td>\n      <td>3GB</td>\n      <td>iOS 10.0</td>\n      <td>No</td>\n    </tr>\n    <tr>\n      <th>2</th>\n      <td>iPhone 8</td>\n      <td>2017-09-22</td>\n      <td>4.7</td>\n      <td>2GB</td>\n      <td>iOS 11.0</td>\n      <td>No</td>\n    </tr>\n    <tr>\n      <th>3</th>\n      <td>iPhone 8 Plus</td>\n      <td>2017-09-22</td>\n      <td>5.5</td>\n      <td>3GB</td>\n      <td>iOS 11.0</td>\n      <td>No</td>\n    </tr>\n    <tr>\n      <th>4</th>\n      <td>iPhone X</td>\n      <td>2017-11-03</td>\n      <td>5.8</td>\n      <td>3GB</td>\n      <td>iOS 11.1</td>\n      <td>Yes</td>\n    </tr>\n    <tr>\n      <th>5</th>\n      <td>iPhone XS</td>\n      <td>2018-09-21</td>\n      <td>5.8</td>\n      <td>4GB</td>\n      <td>iOS 12.0</td>\n      <td>Yes</td>\n    </tr>\n    <tr>\n      <th>6</th>\n      <td>iPhone XS Max</td>\n      <td>2018-09-21</td>\n      <td>6.5</td>\n      <td>4GB</td>\n      <td>iOS 12.0</td>\n      <td>Yes</td>\n    </tr>\n  </tbody>\n</table>\n</div>"
     },
     "execution_count": 86,
     "metadata": {},
     "output_type": "execute_result"
    }
   ],
   "source": [
    "# read_csv를 하면 자동으로 윗줄이 header로 들어감\n",
    "iphone_df = pd.read_csv('data/iphone.csv')\n",
    "iphone_df"
   ],
   "metadata": {
    "collapsed": false,
    "ExecuteTime": {
     "end_time": "2024-04-19T06:43:00.423114900Z",
     "start_time": "2024-04-19T06:43:00.381575700Z"
    }
   },
   "id": "2942f6ba4ca94b58",
   "execution_count": 86
  },
  {
   "cell_type": "code",
   "outputs": [
    {
     "data": {
      "text/plain": "               0           1    2    3         4    5\n0       iPhone 7  2016-09-16  4.7  2GB  iOS 10.0   No\n1  iPhone 7 Plus  2016-09-16  5.5  3GB  iOS 10.0   No\n2       iPhone 8  2017-09-22  4.7  2GB  iOS 11.0   No\n3  iPhone 8 Plus  2017-09-22  5.5  3GB  iOS 11.0   No\n4       iPhone X  2017-11-03  5.8  3GB  iOS 11.1  Yes\n5      iPhone XS  2018-09-21  5.8  4GB  iOS 12.0  Yes\n6  iPhone XS Max  2018-09-21  6.5  4GB  iOS 12.0  Yes",
      "text/html": "<div>\n<style scoped>\n    .dataframe tbody tr th:only-of-type {\n        vertical-align: middle;\n    }\n\n    .dataframe tbody tr th {\n        vertical-align: top;\n    }\n\n    .dataframe thead th {\n        text-align: right;\n    }\n</style>\n<table border=\"1\" class=\"dataframe\">\n  <thead>\n    <tr style=\"text-align: right;\">\n      <th></th>\n      <th>0</th>\n      <th>1</th>\n      <th>2</th>\n      <th>3</th>\n      <th>4</th>\n      <th>5</th>\n    </tr>\n  </thead>\n  <tbody>\n    <tr>\n      <th>0</th>\n      <td>iPhone 7</td>\n      <td>2016-09-16</td>\n      <td>4.7</td>\n      <td>2GB</td>\n      <td>iOS 10.0</td>\n      <td>No</td>\n    </tr>\n    <tr>\n      <th>1</th>\n      <td>iPhone 7 Plus</td>\n      <td>2016-09-16</td>\n      <td>5.5</td>\n      <td>3GB</td>\n      <td>iOS 10.0</td>\n      <td>No</td>\n    </tr>\n    <tr>\n      <th>2</th>\n      <td>iPhone 8</td>\n      <td>2017-09-22</td>\n      <td>4.7</td>\n      <td>2GB</td>\n      <td>iOS 11.0</td>\n      <td>No</td>\n    </tr>\n    <tr>\n      <th>3</th>\n      <td>iPhone 8 Plus</td>\n      <td>2017-09-22</td>\n      <td>5.5</td>\n      <td>3GB</td>\n      <td>iOS 11.0</td>\n      <td>No</td>\n    </tr>\n    <tr>\n      <th>4</th>\n      <td>iPhone X</td>\n      <td>2017-11-03</td>\n      <td>5.8</td>\n      <td>3GB</td>\n      <td>iOS 11.1</td>\n      <td>Yes</td>\n    </tr>\n    <tr>\n      <th>5</th>\n      <td>iPhone XS</td>\n      <td>2018-09-21</td>\n      <td>5.8</td>\n      <td>4GB</td>\n      <td>iOS 12.0</td>\n      <td>Yes</td>\n    </tr>\n    <tr>\n      <th>6</th>\n      <td>iPhone XS Max</td>\n      <td>2018-09-21</td>\n      <td>6.5</td>\n      <td>4GB</td>\n      <td>iOS 12.0</td>\n      <td>Yes</td>\n    </tr>\n  </tbody>\n</table>\n</div>"
     },
     "execution_count": 87,
     "metadata": {},
     "output_type": "execute_result"
    }
   ],
   "source": [
    "# header가 없을 경우\n",
    "iphone_none_header_df = pd.read_csv('data/iphone_none_header.csv', header = None)\n",
    "iphone_none_header_df"
   ],
   "metadata": {
    "collapsed": false,
    "ExecuteTime": {
     "end_time": "2024-04-19T06:43:00.664266600Z",
     "start_time": "2024-04-19T06:43:00.594740200Z"
    }
   },
   "id": "8624602584e2d15b",
   "execution_count": 87
  },
  {
   "cell_type": "code",
   "outputs": [
    {
     "data": {
      "text/plain": "                      출시일  디스플레이  메모리     출시 버전 Face ID\niPhone 7       2016-09-16    4.7  2GB  iOS 10.0      No\niPhone 7 Plus  2016-09-16    5.5  3GB  iOS 10.0      No\niPhone 8       2017-09-22    4.7  2GB  iOS 11.0      No\niPhone 8 Plus  2017-09-22    5.5  3GB  iOS 11.0      No\niPhone X       2017-11-03    5.8  3GB  iOS 11.1     Yes\niPhone XS      2018-09-21    5.8  4GB  iOS 12.0     Yes\niPhone XS Max  2018-09-21    6.5  4GB  iOS 12.0     Yes",
      "text/html": "<div>\n<style scoped>\n    .dataframe tbody tr th:only-of-type {\n        vertical-align: middle;\n    }\n\n    .dataframe tbody tr th {\n        vertical-align: top;\n    }\n\n    .dataframe thead th {\n        text-align: right;\n    }\n</style>\n<table border=\"1\" class=\"dataframe\">\n  <thead>\n    <tr style=\"text-align: right;\">\n      <th></th>\n      <th>출시일</th>\n      <th>디스플레이</th>\n      <th>메모리</th>\n      <th>출시 버전</th>\n      <th>Face ID</th>\n    </tr>\n  </thead>\n  <tbody>\n    <tr>\n      <th>iPhone 7</th>\n      <td>2016-09-16</td>\n      <td>4.7</td>\n      <td>2GB</td>\n      <td>iOS 10.0</td>\n      <td>No</td>\n    </tr>\n    <tr>\n      <th>iPhone 7 Plus</th>\n      <td>2016-09-16</td>\n      <td>5.5</td>\n      <td>3GB</td>\n      <td>iOS 10.0</td>\n      <td>No</td>\n    </tr>\n    <tr>\n      <th>iPhone 8</th>\n      <td>2017-09-22</td>\n      <td>4.7</td>\n      <td>2GB</td>\n      <td>iOS 11.0</td>\n      <td>No</td>\n    </tr>\n    <tr>\n      <th>iPhone 8 Plus</th>\n      <td>2017-09-22</td>\n      <td>5.5</td>\n      <td>3GB</td>\n      <td>iOS 11.0</td>\n      <td>No</td>\n    </tr>\n    <tr>\n      <th>iPhone X</th>\n      <td>2017-11-03</td>\n      <td>5.8</td>\n      <td>3GB</td>\n      <td>iOS 11.1</td>\n      <td>Yes</td>\n    </tr>\n    <tr>\n      <th>iPhone XS</th>\n      <td>2018-09-21</td>\n      <td>5.8</td>\n      <td>4GB</td>\n      <td>iOS 12.0</td>\n      <td>Yes</td>\n    </tr>\n    <tr>\n      <th>iPhone XS Max</th>\n      <td>2018-09-21</td>\n      <td>6.5</td>\n      <td>4GB</td>\n      <td>iOS 12.0</td>\n      <td>Yes</td>\n    </tr>\n  </tbody>\n</table>\n</div>"
     },
     "execution_count": 88,
     "metadata": {},
     "output_type": "execute_result"
    }
   ],
   "source": [
    "# 제품명이 비었을 경우\n",
    "iphone_df = pd.read_csv('data/iphone.csv', index_col = 0)\n",
    "iphone_df   "
   ],
   "metadata": {
    "collapsed": false,
    "ExecuteTime": {
     "end_time": "2024-04-19T06:43:00.872950Z",
     "start_time": "2024-04-19T06:43:00.838708800Z"
    }
   },
   "id": "c2d40c69b9d23299",
   "execution_count": 88
  },
  {
   "cell_type": "code",
   "outputs": [
    {
     "data": {
      "text/plain": "                      출시일  디스플레이    메모리     출시 버전 Face ID\niPhone 7       2016-09-16    4.7    2GB  iOS 10.0      No\niPhone 7 Plus  2016-09-16    5.5    3GB  iOS 10.0      No\niPhone 8       2017-09-22    4.7  2.5GB  iOS 11.0      No\niPhone 8 Plus  2017-09-22    5.5    3GB  iOS 11.0      No\niPhone X       2017-11-03    5.8    3GB  iOS 11.1     Yes\niPhone XS      2018-09-21    5.8    4GB  iOS 12.0     Yes\niPhone XS Max  2018-09-21    6.5    4GB  iOS 12.0     Yes",
      "text/html": "<div>\n<style scoped>\n    .dataframe tbody tr th:only-of-type {\n        vertical-align: middle;\n    }\n\n    .dataframe tbody tr th {\n        vertical-align: top;\n    }\n\n    .dataframe thead th {\n        text-align: right;\n    }\n</style>\n<table border=\"1\" class=\"dataframe\">\n  <thead>\n    <tr style=\"text-align: right;\">\n      <th></th>\n      <th>출시일</th>\n      <th>디스플레이</th>\n      <th>메모리</th>\n      <th>출시 버전</th>\n      <th>Face ID</th>\n    </tr>\n  </thead>\n  <tbody>\n    <tr>\n      <th>iPhone 7</th>\n      <td>2016-09-16</td>\n      <td>4.7</td>\n      <td>2GB</td>\n      <td>iOS 10.0</td>\n      <td>No</td>\n    </tr>\n    <tr>\n      <th>iPhone 7 Plus</th>\n      <td>2016-09-16</td>\n      <td>5.5</td>\n      <td>3GB</td>\n      <td>iOS 10.0</td>\n      <td>No</td>\n    </tr>\n    <tr>\n      <th>iPhone 8</th>\n      <td>2017-09-22</td>\n      <td>4.7</td>\n      <td>2.5GB</td>\n      <td>iOS 11.0</td>\n      <td>No</td>\n    </tr>\n    <tr>\n      <th>iPhone 8 Plus</th>\n      <td>2017-09-22</td>\n      <td>5.5</td>\n      <td>3GB</td>\n      <td>iOS 11.0</td>\n      <td>No</td>\n    </tr>\n    <tr>\n      <th>iPhone X</th>\n      <td>2017-11-03</td>\n      <td>5.8</td>\n      <td>3GB</td>\n      <td>iOS 11.1</td>\n      <td>Yes</td>\n    </tr>\n    <tr>\n      <th>iPhone XS</th>\n      <td>2018-09-21</td>\n      <td>5.8</td>\n      <td>4GB</td>\n      <td>iOS 12.0</td>\n      <td>Yes</td>\n    </tr>\n    <tr>\n      <th>iPhone XS Max</th>\n      <td>2018-09-21</td>\n      <td>6.5</td>\n      <td>4GB</td>\n      <td>iOS 12.0</td>\n      <td>Yes</td>\n    </tr>\n  </tbody>\n</table>\n</div>"
     },
     "execution_count": 89,
     "metadata": {},
     "output_type": "execute_result"
    }
   ],
   "source": [
    "iphone_df.loc['iPhone 8','메모리'] = '2.5GB'\n",
    "iphone_df"
   ],
   "metadata": {
    "collapsed": false,
    "ExecuteTime": {
     "end_time": "2024-04-19T06:43:01.154918400Z",
     "start_time": "2024-04-19T06:43:01.011658900Z"
    }
   },
   "id": "404b6fb89bbd7273",
   "execution_count": 89
  },
  {
   "cell_type": "code",
   "outputs": [
    {
     "data": {
      "text/plain": "                      출시일  디스플레이  메모리     출시 버전 Face ID\niPhone 7       2016-09-16    4.7  2GB  iOS 10.0      No\niPhone 7 Plus  2016-09-16    5.5  3GB  iOS 10.0      No\niPhone 8       2016-09-22    4.7  2GB  iOS 11.0      No\niPhone 8 Plus  2017-09-22    5.5  3GB  iOS 11.0      No\niPhone X       2017-11-03    5.8  3GB  iOS 11.1     Yes\niPhone XS      2018-09-21    5.8  4GB  iOS 12.0     Yes\niPhone XS Max  2018-09-21    6.5  4GB  iOS 12.0     Yes",
      "text/html": "<div>\n<style scoped>\n    .dataframe tbody tr th:only-of-type {\n        vertical-align: middle;\n    }\n\n    .dataframe tbody tr th {\n        vertical-align: top;\n    }\n\n    .dataframe thead th {\n        text-align: right;\n    }\n</style>\n<table border=\"1\" class=\"dataframe\">\n  <thead>\n    <tr style=\"text-align: right;\">\n      <th></th>\n      <th>출시일</th>\n      <th>디스플레이</th>\n      <th>메모리</th>\n      <th>출시 버전</th>\n      <th>Face ID</th>\n    </tr>\n  </thead>\n  <tbody>\n    <tr>\n      <th>iPhone 7</th>\n      <td>2016-09-16</td>\n      <td>4.7</td>\n      <td>2GB</td>\n      <td>iOS 10.0</td>\n      <td>No</td>\n    </tr>\n    <tr>\n      <th>iPhone 7 Plus</th>\n      <td>2016-09-16</td>\n      <td>5.5</td>\n      <td>3GB</td>\n      <td>iOS 10.0</td>\n      <td>No</td>\n    </tr>\n    <tr>\n      <th>iPhone 8</th>\n      <td>2016-09-22</td>\n      <td>4.7</td>\n      <td>2GB</td>\n      <td>iOS 11.0</td>\n      <td>No</td>\n    </tr>\n    <tr>\n      <th>iPhone 8 Plus</th>\n      <td>2017-09-22</td>\n      <td>5.5</td>\n      <td>3GB</td>\n      <td>iOS 11.0</td>\n      <td>No</td>\n    </tr>\n    <tr>\n      <th>iPhone X</th>\n      <td>2017-11-03</td>\n      <td>5.8</td>\n      <td>3GB</td>\n      <td>iOS 11.1</td>\n      <td>Yes</td>\n    </tr>\n    <tr>\n      <th>iPhone XS</th>\n      <td>2018-09-21</td>\n      <td>5.8</td>\n      <td>4GB</td>\n      <td>iOS 12.0</td>\n      <td>Yes</td>\n    </tr>\n    <tr>\n      <th>iPhone XS Max</th>\n      <td>2018-09-21</td>\n      <td>6.5</td>\n      <td>4GB</td>\n      <td>iOS 12.0</td>\n      <td>Yes</td>\n    </tr>\n  </tbody>\n</table>\n</div>"
     },
     "execution_count": 90,
     "metadata": {},
     "output_type": "execute_result"
    }
   ],
   "source": [
    "iphone_df.loc['iPhone 8'] = ['2016-09-22', 4.7, '2GB', 'iOS 11.0', 'No']\n",
    "iphone_df"
   ],
   "metadata": {
    "collapsed": false,
    "ExecuteTime": {
     "end_time": "2024-04-19T06:43:01.331723200Z",
     "start_time": "2024-04-19T06:43:01.191935500Z"
    }
   },
   "id": "71cd9614c7a3ed53",
   "execution_count": 90
  },
  {
   "cell_type": "code",
   "outputs": [
    {
     "data": {
      "text/plain": "                      출시일   디스플레이  메모리     출시 버전 Face ID\niPhone 7       2016-09-16  4.7 in  2GB  iOS 10.0      No\niPhone 7 Plus  2016-09-16  5.5 in  3GB  iOS 10.0      No\niPhone 8       2016-09-22  4.7 in  2GB  iOS 11.0      No\niPhone 8 Plus  2017-09-22  5.5 in  3GB  iOS 11.0      No\niPhone X       2017-11-03  5.8 in  3GB  iOS 11.1     Yes\niPhone XS      2018-09-21  5.8 in  4GB  iOS 12.0     Yes\niPhone XS Max  2018-09-21  6.5 in  4GB  iOS 12.0     Yes",
      "text/html": "<div>\n<style scoped>\n    .dataframe tbody tr th:only-of-type {\n        vertical-align: middle;\n    }\n\n    .dataframe tbody tr th {\n        vertical-align: top;\n    }\n\n    .dataframe thead th {\n        text-align: right;\n    }\n</style>\n<table border=\"1\" class=\"dataframe\">\n  <thead>\n    <tr style=\"text-align: right;\">\n      <th></th>\n      <th>출시일</th>\n      <th>디스플레이</th>\n      <th>메모리</th>\n      <th>출시 버전</th>\n      <th>Face ID</th>\n    </tr>\n  </thead>\n  <tbody>\n    <tr>\n      <th>iPhone 7</th>\n      <td>2016-09-16</td>\n      <td>4.7 in</td>\n      <td>2GB</td>\n      <td>iOS 10.0</td>\n      <td>No</td>\n    </tr>\n    <tr>\n      <th>iPhone 7 Plus</th>\n      <td>2016-09-16</td>\n      <td>5.5 in</td>\n      <td>3GB</td>\n      <td>iOS 10.0</td>\n      <td>No</td>\n    </tr>\n    <tr>\n      <th>iPhone 8</th>\n      <td>2016-09-22</td>\n      <td>4.7 in</td>\n      <td>2GB</td>\n      <td>iOS 11.0</td>\n      <td>No</td>\n    </tr>\n    <tr>\n      <th>iPhone 8 Plus</th>\n      <td>2017-09-22</td>\n      <td>5.5 in</td>\n      <td>3GB</td>\n      <td>iOS 11.0</td>\n      <td>No</td>\n    </tr>\n    <tr>\n      <th>iPhone X</th>\n      <td>2017-11-03</td>\n      <td>5.8 in</td>\n      <td>3GB</td>\n      <td>iOS 11.1</td>\n      <td>Yes</td>\n    </tr>\n    <tr>\n      <th>iPhone XS</th>\n      <td>2018-09-21</td>\n      <td>5.8 in</td>\n      <td>4GB</td>\n      <td>iOS 12.0</td>\n      <td>Yes</td>\n    </tr>\n    <tr>\n      <th>iPhone XS Max</th>\n      <td>2018-09-21</td>\n      <td>6.5 in</td>\n      <td>4GB</td>\n      <td>iOS 12.0</td>\n      <td>Yes</td>\n    </tr>\n  </tbody>\n</table>\n</div>"
     },
     "execution_count": 91,
     "metadata": {},
     "output_type": "execute_result"
    }
   ],
   "source": [
    "# lambda 함수를 사용하여 각 값에 \"in(인치)\"을 붙임 \n",
    "# apply 함수는 시리즈의 각 요소에 함수를 적용\n",
    "iphone_df['디스플레이'] = iphone_df['디스플레이'].apply(lambda x: f\"{x} in\")\n",
    "iphone_df"
   ],
   "metadata": {
    "collapsed": false,
    "ExecuteTime": {
     "end_time": "2024-04-19T06:43:01.421552Z",
     "start_time": "2024-04-19T06:43:01.343503400Z"
    }
   },
   "id": "218ada53ce8bad11",
   "execution_count": 91
  },
  {
   "cell_type": "code",
   "outputs": [
    {
     "data": {
      "text/plain": "                      출시일   디스플레이  메모리       출시 버전 Face ID\niPhone 7       2016-09-16  4.7 in  2GB    iOS 10.0      No\niPhone 7 Plus  2016-09-16  5.5 in  3GB    iOS 10.0      No\niPhone 8       2016-09-22  4.7 in  2GB    iOS 11.0      No\niPhone 8 Plus  2017-09-22  5.5 in  3GB    iOS 11.0      No\niPhone X       2017-11-03  5.8 in  3GB    iOS 11.1     Yes\niPhone XS      2018-09-21  5.8 in  4GB    iOS 12.0     Yes\niPhone XS Max  2018-09-21  6.5 in  4GB    iOS 12.0     Yes\niPhone XR      2018-10-26     6.1  4GB  iOS 12.0.1     yes",
      "text/html": "<div>\n<style scoped>\n    .dataframe tbody tr th:only-of-type {\n        vertical-align: middle;\n    }\n\n    .dataframe tbody tr th {\n        vertical-align: top;\n    }\n\n    .dataframe thead th {\n        text-align: right;\n    }\n</style>\n<table border=\"1\" class=\"dataframe\">\n  <thead>\n    <tr style=\"text-align: right;\">\n      <th></th>\n      <th>출시일</th>\n      <th>디스플레이</th>\n      <th>메모리</th>\n      <th>출시 버전</th>\n      <th>Face ID</th>\n    </tr>\n  </thead>\n  <tbody>\n    <tr>\n      <th>iPhone 7</th>\n      <td>2016-09-16</td>\n      <td>4.7 in</td>\n      <td>2GB</td>\n      <td>iOS 10.0</td>\n      <td>No</td>\n    </tr>\n    <tr>\n      <th>iPhone 7 Plus</th>\n      <td>2016-09-16</td>\n      <td>5.5 in</td>\n      <td>3GB</td>\n      <td>iOS 10.0</td>\n      <td>No</td>\n    </tr>\n    <tr>\n      <th>iPhone 8</th>\n      <td>2016-09-22</td>\n      <td>4.7 in</td>\n      <td>2GB</td>\n      <td>iOS 11.0</td>\n      <td>No</td>\n    </tr>\n    <tr>\n      <th>iPhone 8 Plus</th>\n      <td>2017-09-22</td>\n      <td>5.5 in</td>\n      <td>3GB</td>\n      <td>iOS 11.0</td>\n      <td>No</td>\n    </tr>\n    <tr>\n      <th>iPhone X</th>\n      <td>2017-11-03</td>\n      <td>5.8 in</td>\n      <td>3GB</td>\n      <td>iOS 11.1</td>\n      <td>Yes</td>\n    </tr>\n    <tr>\n      <th>iPhone XS</th>\n      <td>2018-09-21</td>\n      <td>5.8 in</td>\n      <td>4GB</td>\n      <td>iOS 12.0</td>\n      <td>Yes</td>\n    </tr>\n    <tr>\n      <th>iPhone XS Max</th>\n      <td>2018-09-21</td>\n      <td>6.5 in</td>\n      <td>4GB</td>\n      <td>iOS 12.0</td>\n      <td>Yes</td>\n    </tr>\n    <tr>\n      <th>iPhone XR</th>\n      <td>2018-10-26</td>\n      <td>6.1</td>\n      <td>4GB</td>\n      <td>iOS 12.0.1</td>\n      <td>yes</td>\n    </tr>\n  </tbody>\n</table>\n</div>"
     },
     "execution_count": 92,
     "metadata": {},
     "output_type": "execute_result"
    }
   ],
   "source": [
    "# df 값 추가 \n",
    "iphone_df.loc['iPhone XR'] = ['2018-10-26', 6.1, '4GB', 'iOS 12.0.1', 'yes']\n",
    "iphone_df"
   ],
   "metadata": {
    "collapsed": false,
    "ExecuteTime": {
     "end_time": "2024-04-19T06:43:02.019732700Z",
     "start_time": "2024-04-19T06:43:01.918084200Z"
    }
   },
   "id": "ed9cade91aa03c38",
   "execution_count": 92
  },
  {
   "cell_type": "code",
   "outputs": [
    {
     "data": {
      "text/plain": "                      출시일   디스플레이  메모리       출시 버전 Face ID    제조사\niPhone 7       2016-09-16  4.7 in  2GB    iOS 10.0      No  Apple\niPhone 7 Plus  2016-09-16  5.5 in  3GB    iOS 10.0      No  Apple\niPhone 8       2016-09-22  4.7 in  2GB    iOS 11.0      No  Apple\niPhone 8 Plus  2017-09-22  5.5 in  3GB    iOS 11.0      No  Apple\niPhone X       2017-11-03  5.8 in  3GB    iOS 11.1     Yes  Apple\niPhone XS      2018-09-21  5.8 in  4GB    iOS 12.0     Yes  Apple\niPhone XS Max  2018-09-21  6.5 in  4GB    iOS 12.0     Yes  Apple\niPhone XR      2018-10-26     6.1  4GB  iOS 12.0.1     yes  Apple",
      "text/html": "<div>\n<style scoped>\n    .dataframe tbody tr th:only-of-type {\n        vertical-align: middle;\n    }\n\n    .dataframe tbody tr th {\n        vertical-align: top;\n    }\n\n    .dataframe thead th {\n        text-align: right;\n    }\n</style>\n<table border=\"1\" class=\"dataframe\">\n  <thead>\n    <tr style=\"text-align: right;\">\n      <th></th>\n      <th>출시일</th>\n      <th>디스플레이</th>\n      <th>메모리</th>\n      <th>출시 버전</th>\n      <th>Face ID</th>\n      <th>제조사</th>\n    </tr>\n  </thead>\n  <tbody>\n    <tr>\n      <th>iPhone 7</th>\n      <td>2016-09-16</td>\n      <td>4.7 in</td>\n      <td>2GB</td>\n      <td>iOS 10.0</td>\n      <td>No</td>\n      <td>Apple</td>\n    </tr>\n    <tr>\n      <th>iPhone 7 Plus</th>\n      <td>2016-09-16</td>\n      <td>5.5 in</td>\n      <td>3GB</td>\n      <td>iOS 10.0</td>\n      <td>No</td>\n      <td>Apple</td>\n    </tr>\n    <tr>\n      <th>iPhone 8</th>\n      <td>2016-09-22</td>\n      <td>4.7 in</td>\n      <td>2GB</td>\n      <td>iOS 11.0</td>\n      <td>No</td>\n      <td>Apple</td>\n    </tr>\n    <tr>\n      <th>iPhone 8 Plus</th>\n      <td>2017-09-22</td>\n      <td>5.5 in</td>\n      <td>3GB</td>\n      <td>iOS 11.0</td>\n      <td>No</td>\n      <td>Apple</td>\n    </tr>\n    <tr>\n      <th>iPhone X</th>\n      <td>2017-11-03</td>\n      <td>5.8 in</td>\n      <td>3GB</td>\n      <td>iOS 11.1</td>\n      <td>Yes</td>\n      <td>Apple</td>\n    </tr>\n    <tr>\n      <th>iPhone XS</th>\n      <td>2018-09-21</td>\n      <td>5.8 in</td>\n      <td>4GB</td>\n      <td>iOS 12.0</td>\n      <td>Yes</td>\n      <td>Apple</td>\n    </tr>\n    <tr>\n      <th>iPhone XS Max</th>\n      <td>2018-09-21</td>\n      <td>6.5 in</td>\n      <td>4GB</td>\n      <td>iOS 12.0</td>\n      <td>Yes</td>\n      <td>Apple</td>\n    </tr>\n    <tr>\n      <th>iPhone XR</th>\n      <td>2018-10-26</td>\n      <td>6.1</td>\n      <td>4GB</td>\n      <td>iOS 12.0.1</td>\n      <td>yes</td>\n      <td>Apple</td>\n    </tr>\n  </tbody>\n</table>\n</div>"
     },
     "execution_count": 93,
     "metadata": {},
     "output_type": "execute_result"
    }
   ],
   "source": [
    "# column 추가 \n",
    "iphone_df['제조사'] = 'Apple'\n",
    "iphone_df"
   ],
   "metadata": {
    "collapsed": false,
    "ExecuteTime": {
     "end_time": "2024-04-19T06:43:02.537272400Z",
     "start_time": "2024-04-19T06:43:02.455510900Z"
    }
   },
   "id": "d5135b77f89cac8c",
   "execution_count": 93
  },
  {
   "cell_type": "code",
   "outputs": [
    {
     "data": {
      "text/plain": "                      출시일   디스플레이  메모리     출시 버전 Face ID    제조사\niPhone 7       2016-09-16  4.7 in  2GB  iOS 10.0      No  Apple\niPhone 7 Plus  2016-09-16  5.5 in  3GB  iOS 10.0      No  Apple\niPhone 8       2016-09-22  4.7 in  2GB  iOS 11.0      No  Apple\niPhone 8 Plus  2017-09-22  5.5 in  3GB  iOS 11.0      No  Apple\niPhone X       2017-11-03  5.8 in  3GB  iOS 11.1     Yes  Apple\niPhone XS      2018-09-21  5.8 in  4GB  iOS 12.0     Yes  Apple\niPhone XS Max  2018-09-21  6.5 in  4GB  iOS 12.0     Yes  Apple",
      "text/html": "<div>\n<style scoped>\n    .dataframe tbody tr th:only-of-type {\n        vertical-align: middle;\n    }\n\n    .dataframe tbody tr th {\n        vertical-align: top;\n    }\n\n    .dataframe thead th {\n        text-align: right;\n    }\n</style>\n<table border=\"1\" class=\"dataframe\">\n  <thead>\n    <tr style=\"text-align: right;\">\n      <th></th>\n      <th>출시일</th>\n      <th>디스플레이</th>\n      <th>메모리</th>\n      <th>출시 버전</th>\n      <th>Face ID</th>\n      <th>제조사</th>\n    </tr>\n  </thead>\n  <tbody>\n    <tr>\n      <th>iPhone 7</th>\n      <td>2016-09-16</td>\n      <td>4.7 in</td>\n      <td>2GB</td>\n      <td>iOS 10.0</td>\n      <td>No</td>\n      <td>Apple</td>\n    </tr>\n    <tr>\n      <th>iPhone 7 Plus</th>\n      <td>2016-09-16</td>\n      <td>5.5 in</td>\n      <td>3GB</td>\n      <td>iOS 10.0</td>\n      <td>No</td>\n      <td>Apple</td>\n    </tr>\n    <tr>\n      <th>iPhone 8</th>\n      <td>2016-09-22</td>\n      <td>4.7 in</td>\n      <td>2GB</td>\n      <td>iOS 11.0</td>\n      <td>No</td>\n      <td>Apple</td>\n    </tr>\n    <tr>\n      <th>iPhone 8 Plus</th>\n      <td>2017-09-22</td>\n      <td>5.5 in</td>\n      <td>3GB</td>\n      <td>iOS 11.0</td>\n      <td>No</td>\n      <td>Apple</td>\n    </tr>\n    <tr>\n      <th>iPhone X</th>\n      <td>2017-11-03</td>\n      <td>5.8 in</td>\n      <td>3GB</td>\n      <td>iOS 11.1</td>\n      <td>Yes</td>\n      <td>Apple</td>\n    </tr>\n    <tr>\n      <th>iPhone XS</th>\n      <td>2018-09-21</td>\n      <td>5.8 in</td>\n      <td>4GB</td>\n      <td>iOS 12.0</td>\n      <td>Yes</td>\n      <td>Apple</td>\n    </tr>\n    <tr>\n      <th>iPhone XS Max</th>\n      <td>2018-09-21</td>\n      <td>6.5 in</td>\n      <td>4GB</td>\n      <td>iOS 12.0</td>\n      <td>Yes</td>\n      <td>Apple</td>\n    </tr>\n  </tbody>\n</table>\n</div>"
     },
     "execution_count": 94,
     "metadata": {},
     "output_type": "execute_result"
    }
   ],
   "source": [
    "# df 값 삭제\n",
    "# inplace = False : 기존의 df를 건드리지 않음 (iphone_df는 그대로 보존)\n",
    "iphone_df.drop('iPhone XR', axis = 'index', inplace = False)"
   ],
   "metadata": {
    "collapsed": false,
    "ExecuteTime": {
     "end_time": "2024-04-19T06:43:02.988629400Z",
     "start_time": "2024-04-19T06:43:02.909910500Z"
    }
   },
   "id": "9a8b6d730474fe1c",
   "execution_count": 94
  },
  {
   "cell_type": "code",
   "outputs": [
    {
     "data": {
      "text/plain": "                      출시일   디스플레이  메모리       출시 버전 Face ID\niPhone 7       2016-09-16  4.7 in  2GB    iOS 10.0      No\niPhone 7 Plus  2016-09-16  5.5 in  3GB    iOS 10.0      No\niPhone 8       2016-09-22  4.7 in  2GB    iOS 11.0      No\niPhone 8 Plus  2017-09-22  5.5 in  3GB    iOS 11.0      No\niPhone X       2017-11-03  5.8 in  3GB    iOS 11.1     Yes\niPhone XS      2018-09-21  5.8 in  4GB    iOS 12.0     Yes\niPhone XS Max  2018-09-21  6.5 in  4GB    iOS 12.0     Yes\niPhone XR      2018-10-26     6.1  4GB  iOS 12.0.1     yes",
      "text/html": "<div>\n<style scoped>\n    .dataframe tbody tr th:only-of-type {\n        vertical-align: middle;\n    }\n\n    .dataframe tbody tr th {\n        vertical-align: top;\n    }\n\n    .dataframe thead th {\n        text-align: right;\n    }\n</style>\n<table border=\"1\" class=\"dataframe\">\n  <thead>\n    <tr style=\"text-align: right;\">\n      <th></th>\n      <th>출시일</th>\n      <th>디스플레이</th>\n      <th>메모리</th>\n      <th>출시 버전</th>\n      <th>Face ID</th>\n    </tr>\n  </thead>\n  <tbody>\n    <tr>\n      <th>iPhone 7</th>\n      <td>2016-09-16</td>\n      <td>4.7 in</td>\n      <td>2GB</td>\n      <td>iOS 10.0</td>\n      <td>No</td>\n    </tr>\n    <tr>\n      <th>iPhone 7 Plus</th>\n      <td>2016-09-16</td>\n      <td>5.5 in</td>\n      <td>3GB</td>\n      <td>iOS 10.0</td>\n      <td>No</td>\n    </tr>\n    <tr>\n      <th>iPhone 8</th>\n      <td>2016-09-22</td>\n      <td>4.7 in</td>\n      <td>2GB</td>\n      <td>iOS 11.0</td>\n      <td>No</td>\n    </tr>\n    <tr>\n      <th>iPhone 8 Plus</th>\n      <td>2017-09-22</td>\n      <td>5.5 in</td>\n      <td>3GB</td>\n      <td>iOS 11.0</td>\n      <td>No</td>\n    </tr>\n    <tr>\n      <th>iPhone X</th>\n      <td>2017-11-03</td>\n      <td>5.8 in</td>\n      <td>3GB</td>\n      <td>iOS 11.1</td>\n      <td>Yes</td>\n    </tr>\n    <tr>\n      <th>iPhone XS</th>\n      <td>2018-09-21</td>\n      <td>5.8 in</td>\n      <td>4GB</td>\n      <td>iOS 12.0</td>\n      <td>Yes</td>\n    </tr>\n    <tr>\n      <th>iPhone XS Max</th>\n      <td>2018-09-21</td>\n      <td>6.5 in</td>\n      <td>4GB</td>\n      <td>iOS 12.0</td>\n      <td>Yes</td>\n    </tr>\n    <tr>\n      <th>iPhone XR</th>\n      <td>2018-10-26</td>\n      <td>6.1</td>\n      <td>4GB</td>\n      <td>iOS 12.0.1</td>\n      <td>yes</td>\n    </tr>\n  </tbody>\n</table>\n</div>"
     },
     "execution_count": 95,
     "metadata": {},
     "output_type": "execute_result"
    }
   ],
   "source": [
    "# column 삭제\n",
    "iphone_df.drop('제조사', axis='columns', inplace = True)\n",
    "iphone_df"
   ],
   "metadata": {
    "collapsed": false,
    "ExecuteTime": {
     "end_time": "2024-04-19T06:43:03.383930600Z",
     "start_time": "2024-04-19T06:43:03.310746200Z"
    }
   },
   "id": "ee0a4cd2a0417719",
   "execution_count": 95
  }
 ],
 "metadata": {
  "kernelspec": {
   "display_name": "Python 3",
   "language": "python",
   "name": "python3"
  },
  "language_info": {
   "codemirror_mode": {
    "name": "ipython",
    "version": 2
   },
   "file_extension": ".py",
   "mimetype": "text/x-python",
   "name": "python",
   "nbconvert_exporter": "python",
   "pygments_lexer": "ipython2",
   "version": "2.7.6"
  }
 },
 "nbformat": 4,
 "nbformat_minor": 5
}
