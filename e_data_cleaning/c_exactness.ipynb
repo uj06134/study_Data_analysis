{
 "cells": [
  {
   "cell_type": "markdown",
   "source": [
    "## 데이터 클리닝 (정확성)"
   ],
   "metadata": {
    "collapsed": false
   },
   "id": "e83b0d690dbdfcfb"
  },
  {
   "cell_type": "code",
   "outputs": [],
   "source": [
    "%matplotlib inline\n",
    "import pandas as pd"
   ],
   "metadata": {
    "collapsed": false,
    "ExecuteTime": {
     "end_time": "2024-05-08T06:27:07.093246Z",
     "start_time": "2024-05-08T06:27:06.339803100Z"
    }
   },
   "id": "63d523d78e0e6d68",
   "execution_count": 2
  },
  {
   "cell_type": "code",
   "outputs": [
    {
     "data": {
      "text/plain": "        abv   ibu    id                  name                     style  \\\n0     0.050   NaN  1436              Pub Beer       American Pale Lager   \n1     0.066   NaN  2265           Devil's Cup   American Pale Ale (APA)   \n2     0.071   NaN  2264   Rise of the Phoenix              American IPA   \n3     0.075   NaN  2262         Sex and Candy              American IPA   \n4     0.077   NaN  2261          Black Exodus             Oatmeal Stout   \n...     ...   ...   ...                   ...                       ...   \n2247  0.067  45.0   928             Belgorado               Belgian IPA   \n2248  0.052   NaN   807         Rail Yard Ale  American Amber / Red Ale   \n2249  0.055   NaN   620       B3K Black Lager               Schwarzbier   \n2250  5.500  40.0   145   Silverback Pale Ale   American Pale Ale (APA)   \n2251  0.052   NaN    84  Rail Yard Ale (2009)  American Amber / Red Ale   \n\n      brewery_id  ounces  \n0            408    12.0  \n1            177    12.0  \n2            177    12.0  \n3            177    12.0  \n4            177    12.0  \n...          ...     ...  \n2247         424    12.0  \n2248         424    12.0  \n2249         424    12.0  \n2250         424    12.0  \n2251         424    12.0  \n\n[2252 rows x 7 columns]",
      "text/html": "<div>\n<style scoped>\n    .dataframe tbody tr th:only-of-type {\n        vertical-align: middle;\n    }\n\n    .dataframe tbody tr th {\n        vertical-align: top;\n    }\n\n    .dataframe thead th {\n        text-align: right;\n    }\n</style>\n<table border=\"1\" class=\"dataframe\">\n  <thead>\n    <tr style=\"text-align: right;\">\n      <th></th>\n      <th>abv</th>\n      <th>ibu</th>\n      <th>id</th>\n      <th>name</th>\n      <th>style</th>\n      <th>brewery_id</th>\n      <th>ounces</th>\n    </tr>\n  </thead>\n  <tbody>\n    <tr>\n      <th>0</th>\n      <td>0.050</td>\n      <td>NaN</td>\n      <td>1436</td>\n      <td>Pub Beer</td>\n      <td>American Pale Lager</td>\n      <td>408</td>\n      <td>12.0</td>\n    </tr>\n    <tr>\n      <th>1</th>\n      <td>0.066</td>\n      <td>NaN</td>\n      <td>2265</td>\n      <td>Devil's Cup</td>\n      <td>American Pale Ale (APA)</td>\n      <td>177</td>\n      <td>12.0</td>\n    </tr>\n    <tr>\n      <th>2</th>\n      <td>0.071</td>\n      <td>NaN</td>\n      <td>2264</td>\n      <td>Rise of the Phoenix</td>\n      <td>American IPA</td>\n      <td>177</td>\n      <td>12.0</td>\n    </tr>\n    <tr>\n      <th>3</th>\n      <td>0.075</td>\n      <td>NaN</td>\n      <td>2262</td>\n      <td>Sex and Candy</td>\n      <td>American IPA</td>\n      <td>177</td>\n      <td>12.0</td>\n    </tr>\n    <tr>\n      <th>4</th>\n      <td>0.077</td>\n      <td>NaN</td>\n      <td>2261</td>\n      <td>Black Exodus</td>\n      <td>Oatmeal Stout</td>\n      <td>177</td>\n      <td>12.0</td>\n    </tr>\n    <tr>\n      <th>...</th>\n      <td>...</td>\n      <td>...</td>\n      <td>...</td>\n      <td>...</td>\n      <td>...</td>\n      <td>...</td>\n      <td>...</td>\n    </tr>\n    <tr>\n      <th>2247</th>\n      <td>0.067</td>\n      <td>45.0</td>\n      <td>928</td>\n      <td>Belgorado</td>\n      <td>Belgian IPA</td>\n      <td>424</td>\n      <td>12.0</td>\n    </tr>\n    <tr>\n      <th>2248</th>\n      <td>0.052</td>\n      <td>NaN</td>\n      <td>807</td>\n      <td>Rail Yard Ale</td>\n      <td>American Amber / Red Ale</td>\n      <td>424</td>\n      <td>12.0</td>\n    </tr>\n    <tr>\n      <th>2249</th>\n      <td>0.055</td>\n      <td>NaN</td>\n      <td>620</td>\n      <td>B3K Black Lager</td>\n      <td>Schwarzbier</td>\n      <td>424</td>\n      <td>12.0</td>\n    </tr>\n    <tr>\n      <th>2250</th>\n      <td>5.500</td>\n      <td>40.0</td>\n      <td>145</td>\n      <td>Silverback Pale Ale</td>\n      <td>American Pale Ale (APA)</td>\n      <td>424</td>\n      <td>12.0</td>\n    </tr>\n    <tr>\n      <th>2251</th>\n      <td>0.052</td>\n      <td>NaN</td>\n      <td>84</td>\n      <td>Rail Yard Ale (2009)</td>\n      <td>American Amber / Red Ale</td>\n      <td>424</td>\n      <td>12.0</td>\n    </tr>\n  </tbody>\n</table>\n<p>2252 rows × 7 columns</p>\n</div>"
     },
     "execution_count": 50,
     "metadata": {},
     "output_type": "execute_result"
    }
   ],
   "source": [
    "df = pd.read_csv('data/beer.csv', index_col=0)\n",
    "df"
   ],
   "metadata": {
    "collapsed": false,
    "ExecuteTime": {
     "end_time": "2024-05-08T06:44:01.823797600Z",
     "start_time": "2024-05-08T06:44:01.782193Z"
    }
   },
   "id": "2406746078533e66",
   "execution_count": 50
  },
  {
   "cell_type": "code",
   "outputs": [
    {
     "data": {
      "text/plain": "<Axes: >"
     },
     "execution_count": 51,
     "metadata": {},
     "output_type": "execute_result"
    },
    {
     "data": {
      "text/plain": "<Figure size 640x480 with 1 Axes>",
      "image/png": "[encoded data removed]"
     },
     "metadata": {},
     "output_type": "display_data"
    }
   ],
   "source": [
    "# 박스플롯으로 이상치 찾기\n",
    "df.plot(kind='box', y='abv')"
   ],
   "metadata": {
    "collapsed": false,
    "ExecuteTime": {
     "end_time": "2024-05-08T06:44:02.428939800Z",
     "start_time": "2024-05-08T06:44:02.100662600Z"
    }
   },
   "id": "5822a8a37fc6f4",
   "execution_count": 51
  },
  {
   "cell_type": "code",
   "outputs": [
    {
     "data": {
      "text/plain": "count    2190.000000\nmean        0.060186\nstd         0.117010\nmin         0.032000\n25%         0.050000\n50%         0.055000\n75%         0.065000\nmax         5.500000\nName: abv, dtype: float64"
     },
     "execution_count": 52,
     "metadata": {},
     "output_type": "execute_result"
    }
   ],
   "source": [
    "df['abv'].describe()"
   ],
   "metadata": {
    "collapsed": false,
    "ExecuteTime": {
     "end_time": "2024-05-08T06:44:02.727680100Z",
     "start_time": "2024-05-08T06:44:02.487984800Z"
    }
   },
   "id": "f9f06e33ba644405",
   "execution_count": 52
  },
  {
   "cell_type": "code",
   "outputs": [],
   "source": [
    "# 제1사분면\n",
    "q1 = df['abv'].quantile(q=0.25)\n",
    "# 제3사분면\n",
    "q3 = df['abv'].quantile(q=0.75)"
   ],
   "metadata": {
    "collapsed": false,
    "ExecuteTime": {
     "end_time": "2024-05-08T06:44:02.729285800Z",
     "start_time": "2024-05-08T06:44:02.519540800Z"
    }
   },
   "id": "e81cec5d5506a03f",
   "execution_count": 53
  },
  {
   "cell_type": "code",
   "outputs": [
    {
     "data": {
      "text/plain": "0.015"
     },
     "execution_count": 54,
     "metadata": {},
     "output_type": "execute_result"
    }
   ],
   "source": [
    "# IQR: 제3사분면 - 제1사분면\n",
    "iqr = q3 - q1\n",
    "iqr"
   ],
   "metadata": {
    "collapsed": false,
    "ExecuteTime": {
     "end_time": "2024-05-08T06:44:02.878493900Z",
     "start_time": "2024-05-08T06:44:02.741546800Z"
    }
   },
   "id": "fef538030f0162f5",
   "execution_count": 54
  },
  {
   "cell_type": "code",
   "outputs": [
    {
     "data": {
      "text/plain": "        abv   ibu    id                 name                    style  \\\n963   0.172   NaN  3691       Chamisul Fresh                     Soju   \n1856  0.400   NaN  3012           Grey Goose                    Vodka   \n2250  5.500  40.0   145  Silverback Pale Ale  American Pale Ale (APA)   \n\n      brewery_id  ounces  \n963          993   12.17  \n1856         893   25.26  \n2250         424   12.00  ",
      "text/html": "<div>\n<style scoped>\n    .dataframe tbody tr th:only-of-type {\n        vertical-align: middle;\n    }\n\n    .dataframe tbody tr th {\n        vertical-align: top;\n    }\n\n    .dataframe thead th {\n        text-align: right;\n    }\n</style>\n<table border=\"1\" class=\"dataframe\">\n  <thead>\n    <tr style=\"text-align: right;\">\n      <th></th>\n      <th>abv</th>\n      <th>ibu</th>\n      <th>id</th>\n      <th>name</th>\n      <th>style</th>\n      <th>brewery_id</th>\n      <th>ounces</th>\n    </tr>\n  </thead>\n  <tbody>\n    <tr>\n      <th>963</th>\n      <td>0.172</td>\n      <td>NaN</td>\n      <td>3691</td>\n      <td>Chamisul Fresh</td>\n      <td>Soju</td>\n      <td>993</td>\n      <td>12.17</td>\n    </tr>\n    <tr>\n      <th>1856</th>\n      <td>0.400</td>\n      <td>NaN</td>\n      <td>3012</td>\n      <td>Grey Goose</td>\n      <td>Vodka</td>\n      <td>893</td>\n      <td>25.26</td>\n    </tr>\n    <tr>\n      <th>2250</th>\n      <td>5.500</td>\n      <td>40.0</td>\n      <td>145</td>\n      <td>Silverback Pale Ale</td>\n      <td>American Pale Ale (APA)</td>\n      <td>424</td>\n      <td>12.00</td>\n    </tr>\n  </tbody>\n</table>\n</div>"
     },
     "execution_count": 55,
     "metadata": {},
     "output_type": "execute_result"
    }
   ],
   "source": [
    "# 이상치 구하기\n",
    "# 제 1사분면 - IQR * 1.5 > x | 제 3사분면 + IQR * 1.5 < x\n",
    "condition = (df['abv'] < q1 - iqr * 1.5) | (df['abv'] > q3 + iqr * 1.5)\n",
    "df[condition]"
   ],
   "metadata": {
    "collapsed": false,
    "ExecuteTime": {
     "end_time": "2024-05-08T06:44:02.933262200Z",
     "start_time": "2024-05-08T06:44:02.821703800Z"
    }
   },
   "id": "630c09686c6b9a34",
   "execution_count": 55
  },
  {
   "cell_type": "code",
   "outputs": [],
   "source": [
    "# 이상치 값 변경\n",
    "df.loc[2250, 'abv'] = 0.055"
   ],
   "metadata": {
    "collapsed": false,
    "ExecuteTime": {
     "end_time": "2024-05-08T06:44:03.151083Z",
     "start_time": "2024-05-08T06:44:03.012439100Z"
    }
   },
   "id": "24805afe64502331",
   "execution_count": 56
  },
  {
   "cell_type": "code",
   "outputs": [
    {
     "data": {
      "text/plain": "        abv  ibu    id            name  style  brewery_id  ounces\n963   0.172  NaN  3691  Chamisul Fresh   Soju         993   12.17\n1856  0.400  NaN  3012      Grey Goose  Vodka         893   25.26",
      "text/html": "<div>\n<style scoped>\n    .dataframe tbody tr th:only-of-type {\n        vertical-align: middle;\n    }\n\n    .dataframe tbody tr th {\n        vertical-align: top;\n    }\n\n    .dataframe thead th {\n        text-align: right;\n    }\n</style>\n<table border=\"1\" class=\"dataframe\">\n  <thead>\n    <tr style=\"text-align: right;\">\n      <th></th>\n      <th>abv</th>\n      <th>ibu</th>\n      <th>id</th>\n      <th>name</th>\n      <th>style</th>\n      <th>brewery_id</th>\n      <th>ounces</th>\n    </tr>\n  </thead>\n  <tbody>\n    <tr>\n      <th>963</th>\n      <td>0.172</td>\n      <td>NaN</td>\n      <td>3691</td>\n      <td>Chamisul Fresh</td>\n      <td>Soju</td>\n      <td>993</td>\n      <td>12.17</td>\n    </tr>\n    <tr>\n      <th>1856</th>\n      <td>0.400</td>\n      <td>NaN</td>\n      <td>3012</td>\n      <td>Grey Goose</td>\n      <td>Vodka</td>\n      <td>893</td>\n      <td>25.26</td>\n    </tr>\n  </tbody>\n</table>\n</div>"
     },
     "execution_count": 57,
     "metadata": {},
     "output_type": "execute_result"
    }
   ],
   "source": [
    "# 다시 이상치 구하기\n",
    "condition = (df['abv'] < q1 - iqr * 1.5) | (df['abv'] > q3 + iqr * 1.5)\n",
    "df[condition]"
   ],
   "metadata": {
    "collapsed": false,
    "ExecuteTime": {
     "end_time": "2024-05-08T06:44:03.506064200Z",
     "start_time": "2024-05-08T06:44:03.232213500Z"
    }
   },
   "id": "ec7c4b383888c41a",
   "execution_count": 57
  },
  {
   "cell_type": "code",
   "outputs": [],
   "source": [
    "# 나머지 이상치(index) 제거\n",
    "df.drop(df[condition].index, inplace=True)"
   ],
   "metadata": {
    "collapsed": false,
    "ExecuteTime": {
     "end_time": "2024-05-08T06:44:03.851726400Z",
     "start_time": "2024-05-08T06:44:03.732603700Z"
    }
   },
   "id": "f825b16bffbad6ea",
   "execution_count": 58
  },
  {
   "cell_type": "code",
   "outputs": [
    {
     "data": {
      "text/plain": "<Axes: >"
     },
     "execution_count": 61,
     "metadata": {},
     "output_type": "execute_result"
    },
    {
     "data": {
      "text/plain": "<Figure size 640x480 with 1 Axes>",
      "image/png": "[encoded data removed]"
     },
     "metadata": {},
     "output_type": "display_data"
    }
   ],
   "source": [
    "# 박스플롯 그리기\n",
    "df.plot(kind='box', y='abv')"
   ],
   "metadata": {
    "collapsed": false,
    "ExecuteTime": {
     "end_time": "2024-05-08T06:45:37.370928300Z",
     "start_time": "2024-05-08T06:45:36.836001400Z"
    }
   },
   "id": "b54c4a9666f935fc",
   "execution_count": 61
  }
 ],
 "metadata": {
  "kernelspec": {
   "display_name": "Python 3",
   "language": "python",
   "name": "python3"
  },
  "language_info": {
   "codemirror_mode": {
    "name": "ipython",
    "version": 2
   },
   "file_extension": ".py",
   "mimetype": "text/x-python",
   "name": "python",
   "nbconvert_exporter": "python",
   "pygments_lexer": "ipython2",
   "version": "2.7.6"
  }
 },
 "nbformat": 4,
 "nbformat_minor": 5
}
