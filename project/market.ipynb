{
 "cells": [
  {
   "cell_type": "markdown",
   "source": [
    "## 1. 데이터 불러오기\n",
    "- data 폴더 안에 있는 customer_data.csv 파일을 DataFrame으로 불러옵시다.\n",
    "## 2. 데이터 탐색 및 전처리\n",
    "- 데이터 개수, 컬럼별 데이터 타입, 통계 정보, 결측값 존재 여부 등을 확인해 보세요.\n",
    "- 각 컬럼이 어떤 값들로 이루어져 있는지 확인해 보세요.\n",
    "- 결측값이 있다면 다른 값으로 채우거나 해당 로우를 제거해 보세요.\n",
    "- 고객마다 총 구매 금액, 총 구매 횟수를 계산해 보세요.\n",
    "- 데이터 분석에 불필요한 컬럼은 없는지 확인해 보세요.\n",
    "## 3. 데이터 분석\n",
    "- 고객들의 연령, 소득, 가족 구성 등 인구통계학적 정보를 파악해 보세요.\n",
    "- 이상값이 존재한다면 적절히 처리해 보세요.\n",
    "- RFM 분석 방법에 따라 고객 세그먼트를 분류해 보세요.\n",
    "- 고객 세그먼트별로 고객 특성 및 소비 성향을 분석해 보세요."
   ],
   "metadata": {
    "collapsed": false
   },
   "id": "d496f135ba29df22"
  },
  {
   "cell_type": "code",
   "outputs": [],
   "source": [
    "import pandas as pd\n",
    "import matplotlib.pyplot as plt\n",
    "import seaborn as sns\n",
    "import platform\n",
    "%matplotlib inline"
   ],
   "metadata": {
    "collapsed": false,
    "ExecuteTime": {
     "end_time": "2024-05-15T08:05:53.261154Z",
     "start_time": "2024-05-15T08:05:52.889636800Z"
    }
   },
   "id": "49ecf9475926ad54",
   "execution_count": 138
  },
  {
   "cell_type": "code",
   "outputs": [],
   "source": [
    "# 사용자 운영체제 확인\n",
    "platform.system()\n",
    "# 운영체제별 한글 폰트 설정\n",
    "if platform.system() == 'Darwin': # Mac 환경 폰트 설정\n",
    "    plt.rc('font', family='AppleGothic')\n",
    "elif platform.system() == 'Windows': # Windows 환경 폰트 설정\n",
    "    plt.rc('font', family='Malgun Gothic')"
   ],
   "metadata": {
    "collapsed": false,
    "ExecuteTime": {
     "end_time": "2024-05-15T08:05:53.343271Z",
     "start_time": "2024-05-15T08:05:53.272601100Z"
    }
   },
   "id": "46e6e8ed3ebe18a",
   "execution_count": 139
  },
  {
   "cell_type": "code",
   "outputs": [
    {
     "data": {
      "text/plain": "         ID signup_ym  birth_year  annual_income marital_status  children  \\\n0      5524   2020-12        1965     75579400.0             미혼         0   \n1      2174   2022-06        1962     60247200.0             미혼         2   \n2      4141   2021-11        1973     93096900.0         배우자 있음         0   \n3      6182   2022-05        1992     34639800.0         배우자 있음         1   \n4      5324   2022-04        1989     75780900.0         배우자 있음         1   \n...     ...       ...         ...            ...            ...       ...   \n2235  10870   2021-09        1975     79589900.0         배우자 있음         1   \n2236   4001   2022-09        1954     83218200.0         배우자 있음         3   \n2237   7270   2022-04        1989     74075300.0             이혼         0   \n2238   8235   2022-04        1964     90018500.0         배우자 있음         1   \n2239   9405   2021-01        1962     68729700.0         배우자 있음         2   \n\n      recency  amount_alcohol  amount_fruit  amount_meat  ...  \\\n0          58          825500        114400       709800  ...   \n1          38           14300          1300         7800  ...   \n2          26          553800         63700       165100  ...   \n3          26           14300          5200        26000  ...   \n4          94          224900         55900       153400  ...   \n...       ...             ...           ...          ...  ...   \n2235       46          921700         55900       236600  ...   \n2236       56          527800             0        39000  ...   \n2237       91         1180400         62400       282100  ...   \n2238        8          556400         39000       278200  ...   \n2239       40          109200          3900        79300  ...   \n\n      num_purchase_web  num_purchase_store  num_purchase_discount  \\\n0                    8                   4                      3   \n1                    1                   2                      2   \n2                    8                  10                      1   \n3                    2                   4                      2   \n4                    5                   6                      5   \n...                ...                 ...                    ...   \n2235                 9                   4                      2   \n2236                 8                   5                      7   \n2237                 2                  13                      1   \n2238                 6                  10                      2   \n2239                 3                   4                      3   \n\n      promotion_1  promotion_2  promotion_3  promotion_4  promotion_5  \\\n0               0            0            0            0            0   \n1               0            0            0            0            0   \n2               0            0            0            0            0   \n3               0            0            0            0            0   \n4               0            0            0            0            0   \n...           ...          ...          ...          ...          ...   \n2235            0            0            0            0            0   \n2236            1            0            0            0            0   \n2237            0            0            0            1            0   \n2238            0            0            0            0            0   \n2239            0            0            0            0            0   \n\n      promotion_6  revenue  \n0               1       11  \n1               0       11  \n2               0       11  \n3               0       11  \n4               0       11  \n...           ...      ...  \n2235            0       11  \n2236            0       11  \n2237            0       11  \n2238            0       11  \n2239            1       11  \n\n[2240 rows x 23 columns]",
      "text/html": "<div>\n<style scoped>\n    .dataframe tbody tr th:only-of-type {\n        vertical-align: middle;\n    }\n\n    .dataframe tbody tr th {\n        vertical-align: top;\n    }\n\n    .dataframe thead th {\n        text-align: right;\n    }\n</style>\n<table border=\"1\" class=\"dataframe\">\n  <thead>\n    <tr style=\"text-align: right;\">\n      <th></th>\n      <th>ID</th>\n      <th>signup_ym</th>\n      <th>birth_year</th>\n      <th>annual_income</th>\n      <th>marital_status</th>\n      <th>children</th>\n      <th>recency</th>\n      <th>amount_alcohol</th>\n      <th>amount_fruit</th>\n      <th>amount_meat</th>\n      <th>...</th>\n      <th>num_purchase_web</th>\n      <th>num_purchase_store</th>\n      <th>num_purchase_discount</th>\n      <th>promotion_1</th>\n      <th>promotion_2</th>\n      <th>promotion_3</th>\n      <th>promotion_4</th>\n      <th>promotion_5</th>\n      <th>promotion_6</th>\n      <th>revenue</th>\n    </tr>\n  </thead>\n  <tbody>\n    <tr>\n      <th>0</th>\n      <td>5524</td>\n      <td>2020-12</td>\n      <td>1965</td>\n      <td>75579400.0</td>\n      <td>미혼</td>\n      <td>0</td>\n      <td>58</td>\n      <td>825500</td>\n      <td>114400</td>\n      <td>709800</td>\n      <td>...</td>\n      <td>8</td>\n      <td>4</td>\n      <td>3</td>\n      <td>0</td>\n      <td>0</td>\n      <td>0</td>\n      <td>0</td>\n      <td>0</td>\n      <td>1</td>\n      <td>11</td>\n    </tr>\n    <tr>\n      <th>1</th>\n      <td>2174</td>\n      <td>2022-06</td>\n      <td>1962</td>\n      <td>60247200.0</td>\n      <td>미혼</td>\n      <td>2</td>\n      <td>38</td>\n      <td>14300</td>\n      <td>1300</td>\n      <td>7800</td>\n      <td>...</td>\n      <td>1</td>\n      <td>2</td>\n      <td>2</td>\n      <td>0</td>\n      <td>0</td>\n      <td>0</td>\n      <td>0</td>\n      <td>0</td>\n      <td>0</td>\n      <td>11</td>\n    </tr>\n    <tr>\n      <th>2</th>\n      <td>4141</td>\n      <td>2021-11</td>\n      <td>1973</td>\n      <td>93096900.0</td>\n      <td>배우자 있음</td>\n      <td>0</td>\n      <td>26</td>\n      <td>553800</td>\n      <td>63700</td>\n      <td>165100</td>\n      <td>...</td>\n      <td>8</td>\n      <td>10</td>\n      <td>1</td>\n      <td>0</td>\n      <td>0</td>\n      <td>0</td>\n      <td>0</td>\n      <td>0</td>\n      <td>0</td>\n      <td>11</td>\n    </tr>\n    <tr>\n      <th>3</th>\n      <td>6182</td>\n      <td>2022-05</td>\n      <td>1992</td>\n      <td>34639800.0</td>\n      <td>배우자 있음</td>\n      <td>1</td>\n      <td>26</td>\n      <td>14300</td>\n      <td>5200</td>\n      <td>26000</td>\n      <td>...</td>\n      <td>2</td>\n      <td>4</td>\n      <td>2</td>\n      <td>0</td>\n      <td>0</td>\n      <td>0</td>\n      <td>0</td>\n      <td>0</td>\n      <td>0</td>\n      <td>11</td>\n    </tr>\n    <tr>\n      <th>4</th>\n      <td>5324</td>\n      <td>2022-04</td>\n      <td>1989</td>\n      <td>75780900.0</td>\n      <td>배우자 있음</td>\n      <td>1</td>\n      <td>94</td>\n      <td>224900</td>\n      <td>55900</td>\n      <td>153400</td>\n      <td>...</td>\n      <td>5</td>\n      <td>6</td>\n      <td>5</td>\n      <td>0</td>\n      <td>0</td>\n      <td>0</td>\n      <td>0</td>\n      <td>0</td>\n      <td>0</td>\n      <td>11</td>\n    </tr>\n    <tr>\n      <th>...</th>\n      <td>...</td>\n      <td>...</td>\n      <td>...</td>\n      <td>...</td>\n      <td>...</td>\n      <td>...</td>\n      <td>...</td>\n      <td>...</td>\n      <td>...</td>\n      <td>...</td>\n      <td>...</td>\n      <td>...</td>\n      <td>...</td>\n      <td>...</td>\n      <td>...</td>\n      <td>...</td>\n      <td>...</td>\n      <td>...</td>\n      <td>...</td>\n      <td>...</td>\n      <td>...</td>\n    </tr>\n    <tr>\n      <th>2235</th>\n      <td>10870</td>\n      <td>2021-09</td>\n      <td>1975</td>\n      <td>79589900.0</td>\n      <td>배우자 있음</td>\n      <td>1</td>\n      <td>46</td>\n      <td>921700</td>\n      <td>55900</td>\n      <td>236600</td>\n      <td>...</td>\n      <td>9</td>\n      <td>4</td>\n      <td>2</td>\n      <td>0</td>\n      <td>0</td>\n      <td>0</td>\n      <td>0</td>\n      <td>0</td>\n      <td>0</td>\n      <td>11</td>\n    </tr>\n    <tr>\n      <th>2236</th>\n      <td>4001</td>\n      <td>2022-09</td>\n      <td>1954</td>\n      <td>83218200.0</td>\n      <td>배우자 있음</td>\n      <td>3</td>\n      <td>56</td>\n      <td>527800</td>\n      <td>0</td>\n      <td>39000</td>\n      <td>...</td>\n      <td>8</td>\n      <td>5</td>\n      <td>7</td>\n      <td>1</td>\n      <td>0</td>\n      <td>0</td>\n      <td>0</td>\n      <td>0</td>\n      <td>0</td>\n      <td>11</td>\n    </tr>\n    <tr>\n      <th>2237</th>\n      <td>7270</td>\n      <td>2022-04</td>\n      <td>1989</td>\n      <td>74075300.0</td>\n      <td>이혼</td>\n      <td>0</td>\n      <td>91</td>\n      <td>1180400</td>\n      <td>62400</td>\n      <td>282100</td>\n      <td>...</td>\n      <td>2</td>\n      <td>13</td>\n      <td>1</td>\n      <td>0</td>\n      <td>0</td>\n      <td>0</td>\n      <td>1</td>\n      <td>0</td>\n      <td>0</td>\n      <td>11</td>\n    </tr>\n    <tr>\n      <th>2238</th>\n      <td>8235</td>\n      <td>2022-04</td>\n      <td>1964</td>\n      <td>90018500.0</td>\n      <td>배우자 있음</td>\n      <td>1</td>\n      <td>8</td>\n      <td>556400</td>\n      <td>39000</td>\n      <td>278200</td>\n      <td>...</td>\n      <td>6</td>\n      <td>10</td>\n      <td>2</td>\n      <td>0</td>\n      <td>0</td>\n      <td>0</td>\n      <td>0</td>\n      <td>0</td>\n      <td>0</td>\n      <td>11</td>\n    </tr>\n    <tr>\n      <th>2239</th>\n      <td>9405</td>\n      <td>2021-01</td>\n      <td>1962</td>\n      <td>68729700.0</td>\n      <td>배우자 있음</td>\n      <td>2</td>\n      <td>40</td>\n      <td>109200</td>\n      <td>3900</td>\n      <td>79300</td>\n      <td>...</td>\n      <td>3</td>\n      <td>4</td>\n      <td>3</td>\n      <td>0</td>\n      <td>0</td>\n      <td>0</td>\n      <td>0</td>\n      <td>0</td>\n      <td>1</td>\n      <td>11</td>\n    </tr>\n  </tbody>\n</table>\n<p>2240 rows × 23 columns</p>\n</div>"
     },
     "execution_count": 140,
     "metadata": {},
     "output_type": "execute_result"
    }
   ],
   "source": [
    "# 데이터 불러오기\n",
    "# 쉼표가 아닌 tab으로 구분되어 있기 떄문에 sep='\\t'\n",
    "df = pd.read_csv('data/customer_data.csv', sep='\\t')\n",
    "df"
   ],
   "metadata": {
    "collapsed": false,
    "ExecuteTime": {
     "end_time": "2024-05-15T08:05:53.487994Z",
     "start_time": "2024-05-15T08:05:53.315807800Z"
    }
   },
   "id": "2dde0a422d0c171e",
   "execution_count": 140
  },
  {
   "cell_type": "code",
   "outputs": [
    {
     "data": {
      "text/plain": "(2240, 23)"
     },
     "execution_count": 141,
     "metadata": {},
     "output_type": "execute_result"
    }
   ],
   "source": [
    "# 데이터 개수\n",
    "df.shape"
   ],
   "metadata": {
    "collapsed": false,
    "ExecuteTime": {
     "end_time": "2024-05-15T08:05:53.555301300Z",
     "start_time": "2024-05-15T08:05:53.468399300Z"
    }
   },
   "id": "4c772439d166be3c",
   "execution_count": 141
  },
  {
   "cell_type": "code",
   "outputs": [
    {
     "data": {
      "text/plain": "ID                         int64\nsignup_ym                 object\nbirth_year                 int64\nannual_income            float64\nmarital_status            object\nchildren                   int64\nrecency                    int64\namount_alcohol             int64\namount_fruit               int64\namount_meat                int64\namount_fish                int64\namount_snack               int64\namount_general             int64\nnum_purchase_web           int64\nnum_purchase_store         int64\nnum_purchase_discount      int64\npromotion_1                int64\npromotion_2                int64\npromotion_3                int64\npromotion_4                int64\npromotion_5                int64\npromotion_6                int64\nrevenue                    int64\ndtype: object"
     },
     "execution_count": 142,
     "metadata": {},
     "output_type": "execute_result"
    }
   ],
   "source": [
    "# 컬럼별 데이터 타입 확인\n",
    "df.dtypes"
   ],
   "metadata": {
    "collapsed": false,
    "ExecuteTime": {
     "end_time": "2024-05-15T08:05:53.924994600Z",
     "start_time": "2024-05-15T08:05:53.506568200Z"
    }
   },
   "id": "fd668f99c51f7b15",
   "execution_count": 142
  },
  {
   "cell_type": "code",
   "outputs": [
    {
     "data": {
      "text/plain": "                  ID signup_ym   birth_year  annual_income marital_status  \\\ncount    2240.000000      2240  2240.000000   2.216000e+03           2240   \nunique           NaN        24          NaN            NaN              4   \ntop              NaN   2021-12          NaN            NaN         배우자 있음   \nfreq             NaN       111          NaN            NaN           1444   \nmean     5592.159821       NaN  1976.805804   6.792143e+07            NaN   \nstd      3246.662198       NaN    11.984069   3.272500e+07            NaN   \nmin         0.000000       NaN  1901.000000   2.249000e+06            NaN   \n25%      2828.250000       NaN  1967.000000   4.589390e+07            NaN   \n50%      5458.500000       NaN  1978.000000   6.679595e+07            NaN   \n75%      8427.750000       NaN  1985.000000   8.907860e+07            NaN   \nmax     11191.000000       NaN  2004.000000   8.666658e+08            NaN   \n\n           children      recency  amount_alcohol   amount_fruit   amount_meat  \\\ncount   2240.000000  2240.000000    2.240000e+03    2240.000000  2.240000e+03   \nunique          NaN          NaN             NaN            NaN           NaN   \ntop             NaN          NaN             NaN            NaN           NaN   \nfreq            NaN          NaN             NaN            NaN           NaN   \nmean       0.950446    49.109375    3.951164e+05   34192.901786  2.170350e+05   \nstd        0.751803    28.962453    4.375766e+05   51705.463894  2.934300e+05   \nmin        0.000000     0.000000    0.000000e+00       0.000000  0.000000e+00   \n25%        0.000000    24.000000    3.087500e+04    1300.000000  2.080000e+04   \n50%        1.000000    49.000000    2.255500e+05   10400.000000  8.710000e+04   \n75%        1.000000    74.000000    6.555250e+05   42900.000000  3.016000e+05   \nmax        3.000000    99.000000    1.940900e+06  258700.000000  2.242500e+06   \n\n        ...  num_purchase_web  num_purchase_store  num_purchase_discount  \\\ncount   ...       2240.000000         2240.000000            2240.000000   \nunique  ...               NaN                 NaN                    NaN   \ntop     ...               NaN                 NaN                    NaN   \nfreq    ...               NaN                 NaN                    NaN   \nmean    ...          4.084821            5.790179               2.325000   \nstd     ...          2.778714            3.250958               1.932238   \nmin     ...          0.000000            0.000000               0.000000   \n25%     ...          2.000000            3.000000               1.000000   \n50%     ...          4.000000            5.000000               2.000000   \n75%     ...          6.000000            8.000000               3.000000   \nmax     ...         27.000000           13.000000              15.000000   \n\n        promotion_1  promotion_2  promotion_3  promotion_4  promotion_5  \\\ncount   2240.000000  2240.000000  2240.000000  2240.000000  2240.000000   \nunique          NaN          NaN          NaN          NaN          NaN   \ntop             NaN          NaN          NaN          NaN          NaN   \nfreq            NaN          NaN          NaN          NaN          NaN   \nmean       0.064286     0.013393     0.072768     0.074554     0.072768   \nstd        0.245316     0.114976     0.259813     0.262728     0.259813   \nmin        0.000000     0.000000     0.000000     0.000000     0.000000   \n25%        0.000000     0.000000     0.000000     0.000000     0.000000   \n50%        0.000000     0.000000     0.000000     0.000000     0.000000   \n75%        0.000000     0.000000     0.000000     0.000000     0.000000   \nmax        1.000000     1.000000     1.000000     1.000000     1.000000   \n\n        promotion_6  revenue  \ncount   2240.000000   2240.0  \nunique          NaN      NaN  \ntop             NaN      NaN  \nfreq            NaN      NaN  \nmean       0.149107     11.0  \nstd        0.356274      0.0  \nmin        0.000000     11.0  \n25%        0.000000     11.0  \n50%        0.000000     11.0  \n75%        0.000000     11.0  \nmax        1.000000     11.0  \n\n[11 rows x 23 columns]",
      "text/html": "<div>\n<style scoped>\n    .dataframe tbody tr th:only-of-type {\n        vertical-align: middle;\n    }\n\n    .dataframe tbody tr th {\n        vertical-align: top;\n    }\n\n    .dataframe thead th {\n        text-align: right;\n    }\n</style>\n<table border=\"1\" class=\"dataframe\">\n  <thead>\n    <tr style=\"text-align: right;\">\n      <th></th>\n      <th>ID</th>\n      <th>signup_ym</th>\n      <th>birth_year</th>\n      <th>annual_income</th>\n      <th>marital_status</th>\n      <th>children</th>\n      <th>recency</th>\n      <th>amount_alcohol</th>\n      <th>amount_fruit</th>\n      <th>amount_meat</th>\n      <th>...</th>\n      <th>num_purchase_web</th>\n      <th>num_purchase_store</th>\n      <th>num_purchase_discount</th>\n      <th>promotion_1</th>\n      <th>promotion_2</th>\n      <th>promotion_3</th>\n      <th>promotion_4</th>\n      <th>promotion_5</th>\n      <th>promotion_6</th>\n      <th>revenue</th>\n    </tr>\n  </thead>\n  <tbody>\n    <tr>\n      <th>count</th>\n      <td>2240.000000</td>\n      <td>2240</td>\n      <td>2240.000000</td>\n      <td>2.216000e+03</td>\n      <td>2240</td>\n      <td>2240.000000</td>\n      <td>2240.000000</td>\n      <td>2.240000e+03</td>\n      <td>2240.000000</td>\n      <td>2.240000e+03</td>\n      <td>...</td>\n      <td>2240.000000</td>\n      <td>2240.000000</td>\n      <td>2240.000000</td>\n      <td>2240.000000</td>\n      <td>2240.000000</td>\n      <td>2240.000000</td>\n      <td>2240.000000</td>\n      <td>2240.000000</td>\n      <td>2240.000000</td>\n      <td>2240.0</td>\n    </tr>\n    <tr>\n      <th>unique</th>\n      <td>NaN</td>\n      <td>24</td>\n      <td>NaN</td>\n      <td>NaN</td>\n      <td>4</td>\n      <td>NaN</td>\n      <td>NaN</td>\n      <td>NaN</td>\n      <td>NaN</td>\n      <td>NaN</td>\n      <td>...</td>\n      <td>NaN</td>\n      <td>NaN</td>\n      <td>NaN</td>\n      <td>NaN</td>\n      <td>NaN</td>\n      <td>NaN</td>\n      <td>NaN</td>\n      <td>NaN</td>\n      <td>NaN</td>\n      <td>NaN</td>\n    </tr>\n    <tr>\n      <th>top</th>\n      <td>NaN</td>\n      <td>2021-12</td>\n      <td>NaN</td>\n      <td>NaN</td>\n      <td>배우자 있음</td>\n      <td>NaN</td>\n      <td>NaN</td>\n      <td>NaN</td>\n      <td>NaN</td>\n      <td>NaN</td>\n      <td>...</td>\n      <td>NaN</td>\n      <td>NaN</td>\n      <td>NaN</td>\n      <td>NaN</td>\n      <td>NaN</td>\n      <td>NaN</td>\n      <td>NaN</td>\n      <td>NaN</td>\n      <td>NaN</td>\n      <td>NaN</td>\n    </tr>\n    <tr>\n      <th>freq</th>\n      <td>NaN</td>\n      <td>111</td>\n      <td>NaN</td>\n      <td>NaN</td>\n      <td>1444</td>\n      <td>NaN</td>\n      <td>NaN</td>\n      <td>NaN</td>\n      <td>NaN</td>\n      <td>NaN</td>\n      <td>...</td>\n      <td>NaN</td>\n      <td>NaN</td>\n      <td>NaN</td>\n      <td>NaN</td>\n      <td>NaN</td>\n      <td>NaN</td>\n      <td>NaN</td>\n      <td>NaN</td>\n      <td>NaN</td>\n      <td>NaN</td>\n    </tr>\n    <tr>\n      <th>mean</th>\n      <td>5592.159821</td>\n      <td>NaN</td>\n      <td>1976.805804</td>\n      <td>6.792143e+07</td>\n      <td>NaN</td>\n      <td>0.950446</td>\n      <td>49.109375</td>\n      <td>3.951164e+05</td>\n      <td>34192.901786</td>\n      <td>2.170350e+05</td>\n      <td>...</td>\n      <td>4.084821</td>\n      <td>5.790179</td>\n      <td>2.325000</td>\n      <td>0.064286</td>\n      <td>0.013393</td>\n      <td>0.072768</td>\n      <td>0.074554</td>\n      <td>0.072768</td>\n      <td>0.149107</td>\n      <td>11.0</td>\n    </tr>\n    <tr>\n      <th>std</th>\n      <td>3246.662198</td>\n      <td>NaN</td>\n      <td>11.984069</td>\n      <td>3.272500e+07</td>\n      <td>NaN</td>\n      <td>0.751803</td>\n      <td>28.962453</td>\n      <td>4.375766e+05</td>\n      <td>51705.463894</td>\n      <td>2.934300e+05</td>\n      <td>...</td>\n      <td>2.778714</td>\n      <td>3.250958</td>\n      <td>1.932238</td>\n      <td>0.245316</td>\n      <td>0.114976</td>\n      <td>0.259813</td>\n      <td>0.262728</td>\n      <td>0.259813</td>\n      <td>0.356274</td>\n      <td>0.0</td>\n    </tr>\n    <tr>\n      <th>min</th>\n      <td>0.000000</td>\n      <td>NaN</td>\n      <td>1901.000000</td>\n      <td>2.249000e+06</td>\n      <td>NaN</td>\n      <td>0.000000</td>\n      <td>0.000000</td>\n      <td>0.000000e+00</td>\n      <td>0.000000</td>\n      <td>0.000000e+00</td>\n      <td>...</td>\n      <td>0.000000</td>\n      <td>0.000000</td>\n      <td>0.000000</td>\n      <td>0.000000</td>\n      <td>0.000000</td>\n      <td>0.000000</td>\n      <td>0.000000</td>\n      <td>0.000000</td>\n      <td>0.000000</td>\n      <td>11.0</td>\n    </tr>\n    <tr>\n      <th>25%</th>\n      <td>2828.250000</td>\n      <td>NaN</td>\n      <td>1967.000000</td>\n      <td>4.589390e+07</td>\n      <td>NaN</td>\n      <td>0.000000</td>\n      <td>24.000000</td>\n      <td>3.087500e+04</td>\n      <td>1300.000000</td>\n      <td>2.080000e+04</td>\n      <td>...</td>\n      <td>2.000000</td>\n      <td>3.000000</td>\n      <td>1.000000</td>\n      <td>0.000000</td>\n      <td>0.000000</td>\n      <td>0.000000</td>\n      <td>0.000000</td>\n      <td>0.000000</td>\n      <td>0.000000</td>\n      <td>11.0</td>\n    </tr>\n    <tr>\n      <th>50%</th>\n      <td>5458.500000</td>\n      <td>NaN</td>\n      <td>1978.000000</td>\n      <td>6.679595e+07</td>\n      <td>NaN</td>\n      <td>1.000000</td>\n      <td>49.000000</td>\n      <td>2.255500e+05</td>\n      <td>10400.000000</td>\n      <td>8.710000e+04</td>\n      <td>...</td>\n      <td>4.000000</td>\n      <td>5.000000</td>\n      <td>2.000000</td>\n      <td>0.000000</td>\n      <td>0.000000</td>\n      <td>0.000000</td>\n      <td>0.000000</td>\n      <td>0.000000</td>\n      <td>0.000000</td>\n      <td>11.0</td>\n    </tr>\n    <tr>\n      <th>75%</th>\n      <td>8427.750000</td>\n      <td>NaN</td>\n      <td>1985.000000</td>\n      <td>8.907860e+07</td>\n      <td>NaN</td>\n      <td>1.000000</td>\n      <td>74.000000</td>\n      <td>6.555250e+05</td>\n      <td>42900.000000</td>\n      <td>3.016000e+05</td>\n      <td>...</td>\n      <td>6.000000</td>\n      <td>8.000000</td>\n      <td>3.000000</td>\n      <td>0.000000</td>\n      <td>0.000000</td>\n      <td>0.000000</td>\n      <td>0.000000</td>\n      <td>0.000000</td>\n      <td>0.000000</td>\n      <td>11.0</td>\n    </tr>\n    <tr>\n      <th>max</th>\n      <td>11191.000000</td>\n      <td>NaN</td>\n      <td>2004.000000</td>\n      <td>8.666658e+08</td>\n      <td>NaN</td>\n      <td>3.000000</td>\n      <td>99.000000</td>\n      <td>1.940900e+06</td>\n      <td>258700.000000</td>\n      <td>2.242500e+06</td>\n      <td>...</td>\n      <td>27.000000</td>\n      <td>13.000000</td>\n      <td>15.000000</td>\n      <td>1.000000</td>\n      <td>1.000000</td>\n      <td>1.000000</td>\n      <td>1.000000</td>\n      <td>1.000000</td>\n      <td>1.000000</td>\n      <td>11.0</td>\n    </tr>\n  </tbody>\n</table>\n<p>11 rows × 23 columns</p>\n</div>"
     },
     "execution_count": 143,
     "metadata": {},
     "output_type": "execute_result"
    }
   ],
   "source": [
    "# 통계정보\n",
    "df.describe(include='all')"
   ],
   "metadata": {
    "collapsed": false,
    "ExecuteTime": {
     "end_time": "2024-05-15T08:05:54.307471200Z",
     "start_time": "2024-05-15T08:05:53.803231500Z"
    }
   },
   "id": "338b3396e9d97ee2",
   "execution_count": 143
  },
  {
   "cell_type": "code",
   "outputs": [
    {
     "data": {
      "text/plain": "ID                        0\nsignup_ym                 0\nbirth_year                0\nannual_income            24\nmarital_status            0\nchildren                  0\nrecency                   0\namount_alcohol            0\namount_fruit              0\namount_meat               0\namount_fish               0\namount_snack              0\namount_general            0\nnum_purchase_web          0\nnum_purchase_store        0\nnum_purchase_discount     0\npromotion_1               0\npromotion_2               0\npromotion_3               0\npromotion_4               0\npromotion_5               0\npromotion_6               0\nrevenue                   0\ndtype: int64"
     },
     "execution_count": 144,
     "metadata": {},
     "output_type": "execute_result"
    }
   ],
   "source": [
    "# 결측값 여부 확인\n",
    "df.isnull().sum()"
   ],
   "metadata": {
    "collapsed": false,
    "ExecuteTime": {
     "end_time": "2024-05-15T08:05:54.362357800Z",
     "start_time": "2024-05-15T08:05:54.047334400Z"
    }
   },
   "id": "36f47ade66fcc67d",
   "execution_count": 144
  },
  {
   "cell_type": "code",
   "outputs": [],
   "source": [
    "# 결측값 제거\n",
    "df = df.dropna()"
   ],
   "metadata": {
    "collapsed": false,
    "ExecuteTime": {
     "end_time": "2024-05-15T08:05:54.526032900Z",
     "start_time": "2024-05-15T08:05:54.316818Z"
    }
   },
   "id": "672a442e7487c030",
   "execution_count": 145
  },
  {
   "cell_type": "code",
   "outputs": [
    {
     "data": {
      "text/plain": "ID                       0\nsignup_ym                0\nbirth_year               0\nannual_income            0\nmarital_status           0\nchildren                 0\nrecency                  0\namount_alcohol           0\namount_fruit             0\namount_meat              0\namount_fish              0\namount_snack             0\namount_general           0\nnum_purchase_web         0\nnum_purchase_store       0\nnum_purchase_discount    0\npromotion_1              0\npromotion_2              0\npromotion_3              0\npromotion_4              0\npromotion_5              0\npromotion_6              0\nrevenue                  0\ndtype: int64"
     },
     "execution_count": 146,
     "metadata": {},
     "output_type": "execute_result"
    }
   ],
   "source": [
    "# 결측값 제거 후 확인\n",
    "df.isnull().sum()"
   ],
   "metadata": {
    "collapsed": false,
    "ExecuteTime": {
     "end_time": "2024-05-15T08:05:54.785841100Z",
     "start_time": "2024-05-15T08:05:54.489904200Z"
    }
   },
   "id": "599b8251768fef26",
   "execution_count": 146
  },
  {
   "cell_type": "code",
   "outputs": [
    {
     "name": "stderr",
     "output_type": "stream",
     "text": [
      "C:\\Users\\wjd43\\AppData\\Local\\Temp\\ipykernel_17820\\721866552.py:2: SettingWithCopyWarning: \n",
      "A value is trying to be set on a copy of a slice from a DataFrame.\n",
      "Try using .loc[row_indexer,col_indexer] = value instead\n",
      "\n",
      "See the caveats in the documentation: https://pandas.pydata.org/pandas-docs/stable/user_guide/indexing.html#returning-a-view-versus-a-copy\n",
      "  df['amount_total'] = df['amount_alcohol'] + df['amount_fruit'] + df['amount_meat'] + df['amount_fish'] + df['amount_snack'] + df['amount_general']\n"
     ]
    },
    {
     "data": {
      "text/plain": "     ID signup_ym  birth_year  annual_income marital_status  children  \\\n0  5524   2020-12        1965     75579400.0             미혼         0   \n1  2174   2022-06        1962     60247200.0             미혼         2   \n2  4141   2021-11        1973     93096900.0         배우자 있음         0   \n3  6182   2022-05        1992     34639800.0         배우자 있음         1   \n4  5324   2022-04        1989     75780900.0         배우자 있음         1   \n\n   recency  amount_alcohol  amount_fruit  amount_meat  ...  \\\n0       58          825500        114400       709800  ...   \n1       38           14300          1300         7800  ...   \n2       26          553800         63700       165100  ...   \n3       26           14300          5200        26000  ...   \n4       94          224900         55900       153400  ...   \n\n   num_purchase_store  num_purchase_discount  promotion_1  promotion_2  \\\n0                   4                      3            0            0   \n1                   2                      2            0            0   \n2                  10                      1            0            0   \n3                   4                      2            0            0   \n4                   6                      5            0            0   \n\n   promotion_3  promotion_4  promotion_5  promotion_6  revenue  amount_total  \n0            0            0            0            1       11       2102100  \n1            0            0            0            0       11         35100  \n2            0            0            0            0       11       1008800  \n3            0            0            0            0       11         68900  \n4            0            0            0            0       11        548600  \n\n[5 rows x 24 columns]",
      "text/html": "<div>\n<style scoped>\n    .dataframe tbody tr th:only-of-type {\n        vertical-align: middle;\n    }\n\n    .dataframe tbody tr th {\n        vertical-align: top;\n    }\n\n    .dataframe thead th {\n        text-align: right;\n    }\n</style>\n<table border=\"1\" class=\"dataframe\">\n  <thead>\n    <tr style=\"text-align: right;\">\n      <th></th>\n      <th>ID</th>\n      <th>signup_ym</th>\n      <th>birth_year</th>\n      <th>annual_income</th>\n      <th>marital_status</th>\n      <th>children</th>\n      <th>recency</th>\n      <th>amount_alcohol</th>\n      <th>amount_fruit</th>\n      <th>amount_meat</th>\n      <th>...</th>\n      <th>num_purchase_store</th>\n      <th>num_purchase_discount</th>\n      <th>promotion_1</th>\n      <th>promotion_2</th>\n      <th>promotion_3</th>\n      <th>promotion_4</th>\n      <th>promotion_5</th>\n      <th>promotion_6</th>\n      <th>revenue</th>\n      <th>amount_total</th>\n    </tr>\n  </thead>\n  <tbody>\n    <tr>\n      <th>0</th>\n      <td>5524</td>\n      <td>2020-12</td>\n      <td>1965</td>\n      <td>75579400.0</td>\n      <td>미혼</td>\n      <td>0</td>\n      <td>58</td>\n      <td>825500</td>\n      <td>114400</td>\n      <td>709800</td>\n      <td>...</td>\n      <td>4</td>\n      <td>3</td>\n      <td>0</td>\n      <td>0</td>\n      <td>0</td>\n      <td>0</td>\n      <td>0</td>\n      <td>1</td>\n      <td>11</td>\n      <td>2102100</td>\n    </tr>\n    <tr>\n      <th>1</th>\n      <td>2174</td>\n      <td>2022-06</td>\n      <td>1962</td>\n      <td>60247200.0</td>\n      <td>미혼</td>\n      <td>2</td>\n      <td>38</td>\n      <td>14300</td>\n      <td>1300</td>\n      <td>7800</td>\n      <td>...</td>\n      <td>2</td>\n      <td>2</td>\n      <td>0</td>\n      <td>0</td>\n      <td>0</td>\n      <td>0</td>\n      <td>0</td>\n      <td>0</td>\n      <td>11</td>\n      <td>35100</td>\n    </tr>\n    <tr>\n      <th>2</th>\n      <td>4141</td>\n      <td>2021-11</td>\n      <td>1973</td>\n      <td>93096900.0</td>\n      <td>배우자 있음</td>\n      <td>0</td>\n      <td>26</td>\n      <td>553800</td>\n      <td>63700</td>\n      <td>165100</td>\n      <td>...</td>\n      <td>10</td>\n      <td>1</td>\n      <td>0</td>\n      <td>0</td>\n      <td>0</td>\n      <td>0</td>\n      <td>0</td>\n      <td>0</td>\n      <td>11</td>\n      <td>1008800</td>\n    </tr>\n    <tr>\n      <th>3</th>\n      <td>6182</td>\n      <td>2022-05</td>\n      <td>1992</td>\n      <td>34639800.0</td>\n      <td>배우자 있음</td>\n      <td>1</td>\n      <td>26</td>\n      <td>14300</td>\n      <td>5200</td>\n      <td>26000</td>\n      <td>...</td>\n      <td>4</td>\n      <td>2</td>\n      <td>0</td>\n      <td>0</td>\n      <td>0</td>\n      <td>0</td>\n      <td>0</td>\n      <td>0</td>\n      <td>11</td>\n      <td>68900</td>\n    </tr>\n    <tr>\n      <th>4</th>\n      <td>5324</td>\n      <td>2022-04</td>\n      <td>1989</td>\n      <td>75780900.0</td>\n      <td>배우자 있음</td>\n      <td>1</td>\n      <td>94</td>\n      <td>224900</td>\n      <td>55900</td>\n      <td>153400</td>\n      <td>...</td>\n      <td>6</td>\n      <td>5</td>\n      <td>0</td>\n      <td>0</td>\n      <td>0</td>\n      <td>0</td>\n      <td>0</td>\n      <td>0</td>\n      <td>11</td>\n      <td>548600</td>\n    </tr>\n  </tbody>\n</table>\n<p>5 rows × 24 columns</p>\n</div>"
     },
     "execution_count": 147,
     "metadata": {},
     "output_type": "execute_result"
    }
   ],
   "source": [
    "# 고객마다 총 구매금액\n",
    "df['amount_total'] = df['amount_alcohol'] + df['amount_fruit'] + df['amount_meat'] + df['amount_fish'] + df['amount_snack'] + df['amount_general']\n",
    "df.head(5)"
   ],
   "metadata": {
    "collapsed": false,
    "ExecuteTime": {
     "end_time": "2024-05-15T08:05:54.994968400Z",
     "start_time": "2024-05-15T08:05:54.666519400Z"
    }
   },
   "id": "d8efa68715f423d4",
   "execution_count": 147
  },
  {
   "cell_type": "code",
   "outputs": [
    {
     "name": "stderr",
     "output_type": "stream",
     "text": [
      "C:\\Users\\wjd43\\AppData\\Local\\Temp\\ipykernel_17820\\3377890603.py:2: SettingWithCopyWarning: \n",
      "A value is trying to be set on a copy of a slice from a DataFrame.\n",
      "Try using .loc[row_indexer,col_indexer] = value instead\n",
      "\n",
      "See the caveats in the documentation: https://pandas.pydata.org/pandas-docs/stable/user_guide/indexing.html#returning-a-view-versus-a-copy\n",
      "  df['num_purchase_total'] = df['num_purchase_web'] + df['num_purchase_store'] + df['num_purchase_discount']\n"
     ]
    },
    {
     "data": {
      "text/plain": "     ID signup_ym  birth_year  annual_income marital_status  children  \\\n0  5524   2020-12        1965     75579400.0             미혼         0   \n1  2174   2022-06        1962     60247200.0             미혼         2   \n2  4141   2021-11        1973     93096900.0         배우자 있음         0   \n3  6182   2022-05        1992     34639800.0         배우자 있음         1   \n4  5324   2022-04        1989     75780900.0         배우자 있음         1   \n\n   recency  amount_alcohol  amount_fruit  amount_meat  ...  \\\n0       58          825500        114400       709800  ...   \n1       38           14300          1300         7800  ...   \n2       26          553800         63700       165100  ...   \n3       26           14300          5200        26000  ...   \n4       94          224900         55900       153400  ...   \n\n   num_purchase_discount  promotion_1  promotion_2  promotion_3  promotion_4  \\\n0                      3            0            0            0            0   \n1                      2            0            0            0            0   \n2                      1            0            0            0            0   \n3                      2            0            0            0            0   \n4                      5            0            0            0            0   \n\n   promotion_5  promotion_6  revenue  amount_total  num_purchase_total  \n0            0            1       11       2102100                  15  \n1            0            0       11         35100                   5  \n2            0            0       11       1008800                  19  \n3            0            0       11         68900                   8  \n4            0            0       11        548600                  16  \n\n[5 rows x 25 columns]",
      "text/html": "<div>\n<style scoped>\n    .dataframe tbody tr th:only-of-type {\n        vertical-align: middle;\n    }\n\n    .dataframe tbody tr th {\n        vertical-align: top;\n    }\n\n    .dataframe thead th {\n        text-align: right;\n    }\n</style>\n<table border=\"1\" class=\"dataframe\">\n  <thead>\n    <tr style=\"text-align: right;\">\n      <th></th>\n      <th>ID</th>\n      <th>signup_ym</th>\n      <th>birth_year</th>\n      <th>annual_income</th>\n      <th>marital_status</th>\n      <th>children</th>\n      <th>recency</th>\n      <th>amount_alcohol</th>\n      <th>amount_fruit</th>\n      <th>amount_meat</th>\n      <th>...</th>\n      <th>num_purchase_discount</th>\n      <th>promotion_1</th>\n      <th>promotion_2</th>\n      <th>promotion_3</th>\n      <th>promotion_4</th>\n      <th>promotion_5</th>\n      <th>promotion_6</th>\n      <th>revenue</th>\n      <th>amount_total</th>\n      <th>num_purchase_total</th>\n    </tr>\n  </thead>\n  <tbody>\n    <tr>\n      <th>0</th>\n      <td>5524</td>\n      <td>2020-12</td>\n      <td>1965</td>\n      <td>75579400.0</td>\n      <td>미혼</td>\n      <td>0</td>\n      <td>58</td>\n      <td>825500</td>\n      <td>114400</td>\n      <td>709800</td>\n      <td>...</td>\n      <td>3</td>\n      <td>0</td>\n      <td>0</td>\n      <td>0</td>\n      <td>0</td>\n      <td>0</td>\n      <td>1</td>\n      <td>11</td>\n      <td>2102100</td>\n      <td>15</td>\n    </tr>\n    <tr>\n      <th>1</th>\n      <td>2174</td>\n      <td>2022-06</td>\n      <td>1962</td>\n      <td>60247200.0</td>\n      <td>미혼</td>\n      <td>2</td>\n      <td>38</td>\n      <td>14300</td>\n      <td>1300</td>\n      <td>7800</td>\n      <td>...</td>\n      <td>2</td>\n      <td>0</td>\n      <td>0</td>\n      <td>0</td>\n      <td>0</td>\n      <td>0</td>\n      <td>0</td>\n      <td>11</td>\n      <td>35100</td>\n      <td>5</td>\n    </tr>\n    <tr>\n      <th>2</th>\n      <td>4141</td>\n      <td>2021-11</td>\n      <td>1973</td>\n      <td>93096900.0</td>\n      <td>배우자 있음</td>\n      <td>0</td>\n      <td>26</td>\n      <td>553800</td>\n      <td>63700</td>\n      <td>165100</td>\n      <td>...</td>\n      <td>1</td>\n      <td>0</td>\n      <td>0</td>\n      <td>0</td>\n      <td>0</td>\n      <td>0</td>\n      <td>0</td>\n      <td>11</td>\n      <td>1008800</td>\n      <td>19</td>\n    </tr>\n    <tr>\n      <th>3</th>\n      <td>6182</td>\n      <td>2022-05</td>\n      <td>1992</td>\n      <td>34639800.0</td>\n      <td>배우자 있음</td>\n      <td>1</td>\n      <td>26</td>\n      <td>14300</td>\n      <td>5200</td>\n      <td>26000</td>\n      <td>...</td>\n      <td>2</td>\n      <td>0</td>\n      <td>0</td>\n      <td>0</td>\n      <td>0</td>\n      <td>0</td>\n      <td>0</td>\n      <td>11</td>\n      <td>68900</td>\n      <td>8</td>\n    </tr>\n    <tr>\n      <th>4</th>\n      <td>5324</td>\n      <td>2022-04</td>\n      <td>1989</td>\n      <td>75780900.0</td>\n      <td>배우자 있음</td>\n      <td>1</td>\n      <td>94</td>\n      <td>224900</td>\n      <td>55900</td>\n      <td>153400</td>\n      <td>...</td>\n      <td>5</td>\n      <td>0</td>\n      <td>0</td>\n      <td>0</td>\n      <td>0</td>\n      <td>0</td>\n      <td>0</td>\n      <td>11</td>\n      <td>548600</td>\n      <td>16</td>\n    </tr>\n  </tbody>\n</table>\n<p>5 rows × 25 columns</p>\n</div>"
     },
     "execution_count": 148,
     "metadata": {},
     "output_type": "execute_result"
    }
   ],
   "source": [
    "# 고객마다 총 구매횟수\n",
    "df['num_purchase_total'] = df['num_purchase_web'] + df['num_purchase_store'] + df['num_purchase_discount']\n",
    "df.head(5)"
   ],
   "metadata": {
    "collapsed": false,
    "ExecuteTime": {
     "end_time": "2024-05-15T08:05:55.191921800Z",
     "start_time": "2024-05-15T08:05:54.920730Z"
    }
   },
   "id": "71a2a8337e054fdb",
   "execution_count": 148
  },
  {
   "cell_type": "code",
   "outputs": [
    {
     "name": "stderr",
     "output_type": "stream",
     "text": [
      "C:\\Users\\wjd43\\AppData\\Local\\Temp\\ipykernel_17820\\502917027.py:2: SettingWithCopyWarning: \n",
      "A value is trying to be set on a copy of a slice from a DataFrame.\n",
      "Try using .loc[row_indexer,col_indexer] = value instead\n",
      "\n",
      "See the caveats in the documentation: https://pandas.pydata.org/pandas-docs/stable/user_guide/indexing.html#returning-a-view-versus-a-copy\n",
      "  df['age'] = 2024 - df['birth_year']\n"
     ]
    },
    {
     "data": {
      "text/plain": "         ID signup_ym  birth_year  annual_income marital_status  children  \\\n0      5524   2020-12        1965     75579400.0             미혼         0   \n1      2174   2022-06        1962     60247200.0             미혼         2   \n2      4141   2021-11        1973     93096900.0         배우자 있음         0   \n3      6182   2022-05        1992     34639800.0         배우자 있음         1   \n4      5324   2022-04        1989     75780900.0         배우자 있음         1   \n...     ...       ...         ...            ...            ...       ...   \n2235  10870   2021-09        1975     79589900.0         배우자 있음         1   \n2236   4001   2022-09        1954     83218200.0         배우자 있음         3   \n2237   7270   2022-04        1989     74075300.0             이혼         0   \n2238   8235   2022-04        1964     90018500.0         배우자 있음         1   \n2239   9405   2021-01        1962     68729700.0         배우자 있음         2   \n\n      recency  amount_alcohol  amount_fruit  amount_meat  ...  promotion_1  \\\n0          58          825500        114400       709800  ...            0   \n1          38           14300          1300         7800  ...            0   \n2          26          553800         63700       165100  ...            0   \n3          26           14300          5200        26000  ...            0   \n4          94          224900         55900       153400  ...            0   \n...       ...             ...           ...          ...  ...          ...   \n2235       46          921700         55900       236600  ...            0   \n2236       56          527800             0        39000  ...            1   \n2237       91         1180400         62400       282100  ...            0   \n2238        8          556400         39000       278200  ...            0   \n2239       40          109200          3900        79300  ...            0   \n\n      promotion_2  promotion_3  promotion_4  promotion_5  promotion_6  \\\n0               0            0            0            0            1   \n1               0            0            0            0            0   \n2               0            0            0            0            0   \n3               0            0            0            0            0   \n4               0            0            0            0            0   \n...           ...          ...          ...          ...          ...   \n2235            0            0            0            0            0   \n2236            0            0            0            0            0   \n2237            0            0            1            0            0   \n2238            0            0            0            0            0   \n2239            0            0            0            0            1   \n\n      revenue  amount_total  num_purchase_total  age  \n0          11       2102100                  15   59  \n1          11         35100                   5   62  \n2          11       1008800                  19   51  \n3          11         68900                   8   32  \n4          11        548600                  16   35  \n...       ...           ...                 ...  ...  \n2235       11       1743300                  15   49  \n2236       11        577200                  20   70  \n2237       11       1613300                  16   35  \n2238       11       1095900                  18   60  \n2239       11        223600                  10   62  \n\n[2216 rows x 26 columns]",
      "text/html": "<div>\n<style scoped>\n    .dataframe tbody tr th:only-of-type {\n        vertical-align: middle;\n    }\n\n    .dataframe tbody tr th {\n        vertical-align: top;\n    }\n\n    .dataframe thead th {\n        text-align: right;\n    }\n</style>\n<table border=\"1\" class=\"dataframe\">\n  <thead>\n    <tr style=\"text-align: right;\">\n      <th></th>\n      <th>ID</th>\n      <th>signup_ym</th>\n      <th>birth_year</th>\n      <th>annual_income</th>\n      <th>marital_status</th>\n      <th>children</th>\n      <th>recency</th>\n      <th>amount_alcohol</th>\n      <th>amount_fruit</th>\n      <th>amount_meat</th>\n      <th>...</th>\n      <th>promotion_1</th>\n      <th>promotion_2</th>\n      <th>promotion_3</th>\n      <th>promotion_4</th>\n      <th>promotion_5</th>\n      <th>promotion_6</th>\n      <th>revenue</th>\n      <th>amount_total</th>\n      <th>num_purchase_total</th>\n      <th>age</th>\n    </tr>\n  </thead>\n  <tbody>\n    <tr>\n      <th>0</th>\n      <td>5524</td>\n      <td>2020-12</td>\n      <td>1965</td>\n      <td>75579400.0</td>\n      <td>미혼</td>\n      <td>0</td>\n      <td>58</td>\n      <td>825500</td>\n      <td>114400</td>\n      <td>709800</td>\n      <td>...</td>\n      <td>0</td>\n      <td>0</td>\n      <td>0</td>\n      <td>0</td>\n      <td>0</td>\n      <td>1</td>\n      <td>11</td>\n      <td>2102100</td>\n      <td>15</td>\n      <td>59</td>\n    </tr>\n    <tr>\n      <th>1</th>\n      <td>2174</td>\n      <td>2022-06</td>\n      <td>1962</td>\n      <td>60247200.0</td>\n      <td>미혼</td>\n      <td>2</td>\n      <td>38</td>\n      <td>14300</td>\n      <td>1300</td>\n      <td>7800</td>\n      <td>...</td>\n      <td>0</td>\n      <td>0</td>\n      <td>0</td>\n      <td>0</td>\n      <td>0</td>\n      <td>0</td>\n      <td>11</td>\n      <td>35100</td>\n      <td>5</td>\n      <td>62</td>\n    </tr>\n    <tr>\n      <th>2</th>\n      <td>4141</td>\n      <td>2021-11</td>\n      <td>1973</td>\n      <td>93096900.0</td>\n      <td>배우자 있음</td>\n      <td>0</td>\n      <td>26</td>\n      <td>553800</td>\n      <td>63700</td>\n      <td>165100</td>\n      <td>...</td>\n      <td>0</td>\n      <td>0</td>\n      <td>0</td>\n      <td>0</td>\n      <td>0</td>\n      <td>0</td>\n      <td>11</td>\n      <td>1008800</td>\n      <td>19</td>\n      <td>51</td>\n    </tr>\n    <tr>\n      <th>3</th>\n      <td>6182</td>\n      <td>2022-05</td>\n      <td>1992</td>\n      <td>34639800.0</td>\n      <td>배우자 있음</td>\n      <td>1</td>\n      <td>26</td>\n      <td>14300</td>\n      <td>5200</td>\n      <td>26000</td>\n      <td>...</td>\n      <td>0</td>\n      <td>0</td>\n      <td>0</td>\n      <td>0</td>\n      <td>0</td>\n      <td>0</td>\n      <td>11</td>\n      <td>68900</td>\n      <td>8</td>\n      <td>32</td>\n    </tr>\n    <tr>\n      <th>4</th>\n      <td>5324</td>\n      <td>2022-04</td>\n      <td>1989</td>\n      <td>75780900.0</td>\n      <td>배우자 있음</td>\n      <td>1</td>\n      <td>94</td>\n      <td>224900</td>\n      <td>55900</td>\n      <td>153400</td>\n      <td>...</td>\n      <td>0</td>\n      <td>0</td>\n      <td>0</td>\n      <td>0</td>\n      <td>0</td>\n      <td>0</td>\n      <td>11</td>\n      <td>548600</td>\n      <td>16</td>\n      <td>35</td>\n    </tr>\n    <tr>\n      <th>...</th>\n      <td>...</td>\n      <td>...</td>\n      <td>...</td>\n      <td>...</td>\n      <td>...</td>\n      <td>...</td>\n      <td>...</td>\n      <td>...</td>\n      <td>...</td>\n      <td>...</td>\n      <td>...</td>\n      <td>...</td>\n      <td>...</td>\n      <td>...</td>\n      <td>...</td>\n      <td>...</td>\n      <td>...</td>\n      <td>...</td>\n      <td>...</td>\n      <td>...</td>\n      <td>...</td>\n    </tr>\n    <tr>\n      <th>2235</th>\n      <td>10870</td>\n      <td>2021-09</td>\n      <td>1975</td>\n      <td>79589900.0</td>\n      <td>배우자 있음</td>\n      <td>1</td>\n      <td>46</td>\n      <td>921700</td>\n      <td>55900</td>\n      <td>236600</td>\n      <td>...</td>\n      <td>0</td>\n      <td>0</td>\n      <td>0</td>\n      <td>0</td>\n      <td>0</td>\n      <td>0</td>\n      <td>11</td>\n      <td>1743300</td>\n      <td>15</td>\n      <td>49</td>\n    </tr>\n    <tr>\n      <th>2236</th>\n      <td>4001</td>\n      <td>2022-09</td>\n      <td>1954</td>\n      <td>83218200.0</td>\n      <td>배우자 있음</td>\n      <td>3</td>\n      <td>56</td>\n      <td>527800</td>\n      <td>0</td>\n      <td>39000</td>\n      <td>...</td>\n      <td>1</td>\n      <td>0</td>\n      <td>0</td>\n      <td>0</td>\n      <td>0</td>\n      <td>0</td>\n      <td>11</td>\n      <td>577200</td>\n      <td>20</td>\n      <td>70</td>\n    </tr>\n    <tr>\n      <th>2237</th>\n      <td>7270</td>\n      <td>2022-04</td>\n      <td>1989</td>\n      <td>74075300.0</td>\n      <td>이혼</td>\n      <td>0</td>\n      <td>91</td>\n      <td>1180400</td>\n      <td>62400</td>\n      <td>282100</td>\n      <td>...</td>\n      <td>0</td>\n      <td>0</td>\n      <td>0</td>\n      <td>1</td>\n      <td>0</td>\n      <td>0</td>\n      <td>11</td>\n      <td>1613300</td>\n      <td>16</td>\n      <td>35</td>\n    </tr>\n    <tr>\n      <th>2238</th>\n      <td>8235</td>\n      <td>2022-04</td>\n      <td>1964</td>\n      <td>90018500.0</td>\n      <td>배우자 있음</td>\n      <td>1</td>\n      <td>8</td>\n      <td>556400</td>\n      <td>39000</td>\n      <td>278200</td>\n      <td>...</td>\n      <td>0</td>\n      <td>0</td>\n      <td>0</td>\n      <td>0</td>\n      <td>0</td>\n      <td>0</td>\n      <td>11</td>\n      <td>1095900</td>\n      <td>18</td>\n      <td>60</td>\n    </tr>\n    <tr>\n      <th>2239</th>\n      <td>9405</td>\n      <td>2021-01</td>\n      <td>1962</td>\n      <td>68729700.0</td>\n      <td>배우자 있음</td>\n      <td>2</td>\n      <td>40</td>\n      <td>109200</td>\n      <td>3900</td>\n      <td>79300</td>\n      <td>...</td>\n      <td>0</td>\n      <td>0</td>\n      <td>0</td>\n      <td>0</td>\n      <td>0</td>\n      <td>1</td>\n      <td>11</td>\n      <td>223600</td>\n      <td>10</td>\n      <td>62</td>\n    </tr>\n  </tbody>\n</table>\n<p>2216 rows × 26 columns</p>\n</div>"
     },
     "execution_count": 149,
     "metadata": {},
     "output_type": "execute_result"
    }
   ],
   "source": [
    "# 출생연도를 나이로 바꾸기\n",
    "df['age'] = 2024 - df['birth_year']\n",
    "df"
   ],
   "metadata": {
    "collapsed": false,
    "ExecuteTime": {
     "end_time": "2024-05-15T08:05:55.375008200Z",
     "start_time": "2024-05-15T08:05:55.136370500Z"
    }
   },
   "id": "215caeaf9402ae4",
   "execution_count": 149
  },
  {
   "cell_type": "code",
   "outputs": [
    {
     "data": {
      "text/plain": "<Axes: xlabel='annual_income'>"
     },
     "execution_count": 150,
     "metadata": {},
     "output_type": "execute_result"
    },
    {
     "data": {
      "text/plain": "<Figure size 640x480 with 1 Axes>",
      "image/png": "[encoded data removed]"
     },
     "metadata": {},
     "output_type": "display_data"
    }
   ],
   "source": [
    "# 이상치 탐지\n",
    "sns.boxplot(data = df, x='annual_income')"
   ],
   "metadata": {
    "collapsed": false,
    "ExecuteTime": {
     "end_time": "2024-05-15T08:05:56.024520100Z",
     "start_time": "2024-05-15T08:05:55.278582200Z"
    }
   },
   "id": "9b0747a6cfcc38d8",
   "execution_count": 150
  },
  {
   "cell_type": "code",
   "outputs": [],
   "source": [
    "# iqr 구하기\n",
    "q1 = df['annual_income'].quantile(0.25)\n",
    "q3 = df['annual_income'].quantile(0.75)\n",
    "iqr= q3 - q1"
   ],
   "metadata": {
    "collapsed": false,
    "ExecuteTime": {
     "end_time": "2024-05-15T08:05:56.025518700Z",
     "start_time": "2024-05-15T08:05:55.691555200Z"
    }
   },
   "id": "4eabba397feb2e8d",
   "execution_count": 151
  },
  {
   "cell_type": "code",
   "outputs": [
    {
     "name": "stderr",
     "output_type": "stream",
     "text": [
      "C:\\Users\\wjd43\\AppData\\Local\\Temp\\ipykernel_17820\\620779705.py:3: SettingWithCopyWarning: \n",
      "A value is trying to be set on a copy of a slice from a DataFrame\n",
      "\n",
      "See the caveats in the documentation: https://pandas.pydata.org/pandas-docs/stable/user_guide/indexing.html#returning-a-view-versus-a-copy\n",
      "  df.drop(df[cond].index, inplace=True)\n"
     ]
    },
    {
     "data": {
      "text/plain": "<Axes: xlabel='annual_income'>"
     },
     "execution_count": 152,
     "metadata": {},
     "output_type": "execute_result"
    },
    {
     "data": {
      "text/plain": "<Figure size 640x480 with 1 Axes>",
      "image/png": "[encoded data removed]"
     },
     "metadata": {},
     "output_type": "display_data"
    }
   ],
   "source": [
    "# 이상치 삭제\n",
    "cond = (q3 + iqr * 1.5 < df['annual_income']) | (q1 - iqr * 1.5 > df['annual_income'])\n",
    "df.drop(df[cond].index, inplace=True)\n",
    "sns.boxplot(data = df, x='annual_income')"
   ],
   "metadata": {
    "collapsed": false,
    "ExecuteTime": {
     "end_time": "2024-05-15T08:05:56.332695300Z",
     "start_time": "2024-05-15T08:05:55.722386Z"
    }
   },
   "id": "e3edd2769398c1e1",
   "execution_count": 152
  },
  {
   "cell_type": "markdown",
   "source": [
    "## Recency, Frequency, Monetary 등급 매기기\n",
    "우선 Recency, Frequency, Monetary 각 항목의 등급 개수를 지정해야 합니다. 편의상 3개로 하여 1등급, 2등급, 3등급으로 나누겠습니다. 이때 등급의 숫자는 클수록 더 긍정적인 것으로 가정할게요. 즉, Recency 등급의 숫자는 클수록 더 최근에 구매했다는 뜻이고, Frequency 등급의 숫자는 클수록 더 자주 구매했다는 뜻이며, Monetary 등급의 숫자는 클수록 돈을 더 많이 썼다는 의미가 됩니다. 등급 개수는 앞으로 자주 사용할 예정이라서 미리 num_grades라는 변수에 담아 놓겠습니다.\n"
   ],
   "metadata": {
    "collapsed": false
   },
   "id": "b569141784f3a3d0"
  },
  {
   "cell_type": "code",
   "outputs": [],
   "source": [
    "num_grades = 3"
   ],
   "metadata": {
    "collapsed": false,
    "ExecuteTime": {
     "end_time": "2024-05-15T08:51:04.044688800Z",
     "start_time": "2024-05-15T08:51:04.036681300Z"
    }
   },
   "id": "a593d624c6b2960e",
   "execution_count": 154
  },
  {
   "cell_type": "code",
   "outputs": [
    {
     "data": {
      "text/plain": "[1, 2, 3]"
     },
     "execution_count": 155,
     "metadata": {},
     "output_type": "execute_result"
    }
   ],
   "source": [
    "# Recency, Frequency, Monetary 각 항목의 등급을 숫자로 표시하기 위해 grade_labels라는 리스트 변수\n",
    "grade_labels = list(range(1, num_grades + 1))\n",
    "grade_labels"
   ],
   "metadata": {
    "collapsed": false,
    "ExecuteTime": {
     "end_time": "2024-05-15T08:51:33.836157400Z",
     "start_time": "2024-05-15T08:51:33.750497800Z"
    }
   },
   "id": "f799b5a5410ecdcd",
   "execution_count": 155
  },
  {
   "cell_type": "markdown",
   "source": [
    "이번 해설 노트에서는 편의상 각 등급마다 고객의 수를 최대한 균등하게 나누겠습니다. 이런 방식에 사용되는 함수는 qcut()으로, x 파라미터에 넣어 준 데이터를 q 파라미터에 넣어 준 값만큼 등분해 줍니다.이 함수에서는 labels 파라미터를 통해 각 등급을 어떻게 표시할지 지정할 수 있는데요. recency 컬럼 값이 작은 고객일수록 최근에 구매를 했다는 뜻이니 Recency 등급을 더 높게 부여해야 합니다. 즉, qcut()을 통해 고객을 세 그룹으로 나누었을 때 앞 그룹이 3등급, 중간 그룹이 2등급, 뒷 그룹이 1등급이 되는 거죠. 따라서 labels 파라미터에 grade_labels를 역순으로 넣어 줘야 해요. 역순으로 뒤집힌 리스트는 원본 리스트를 [::-1]처럼 슬라이싱 해 주면 얻을 수 있습니다. 그럼 qcut() 함수의 x에 recency 컬럼 데이터를 전달하고, q에는 num_grades 변수를 전달하고, labels에는 grade_labels[::-1]을 전달해 볼게요."
   ],
   "metadata": {
    "collapsed": false
   },
   "id": "b5713f514b96f6ce"
  },
  {
   "cell_type": "code",
   "outputs": [],
   "source": [
    "# qcut(x, q): x 파라미터에 넣어 준 데이터를 q 파라미터에 넣어 준 값만큼 등분\n",
    "recency_grade = pd.qcut(x=df['recency'], q=num_grades, labels=grade_labels[::-1])"
   ],
   "metadata": {
    "collapsed": false,
    "ExecuteTime": {
     "end_time": "2024-05-15T08:56:12.062848700Z",
     "start_time": "2024-05-15T08:56:11.994133100Z"
    }
   },
   "id": "dabbbf257628fffc",
   "execution_count": 156
  },
  {
   "cell_type": "code",
   "outputs": [
    {
     "name": "stderr",
     "output_type": "stream",
     "text": [
      "C:\\Users\\wjd43\\AppData\\Local\\Temp\\ipykernel_17820\\4152851442.py:1: SettingWithCopyWarning: \n",
      "A value is trying to be set on a copy of a slice from a DataFrame.\n",
      "Try using .loc[row_indexer,col_indexer] = value instead\n",
      "\n",
      "See the caveats in the documentation: https://pandas.pydata.org/pandas-docs/stable/user_guide/indexing.html#returning-a-view-versus-a-copy\n",
      "  df['recency_grade'] = recency_grade\n"
     ]
    }
   ],
   "source": [
    "df['recency_grade'] = recency_grade"
   ],
   "metadata": {
    "collapsed": false,
    "ExecuteTime": {
     "end_time": "2024-05-15T08:56:36.898254900Z",
     "start_time": "2024-05-15T08:56:36.868954100Z"
    }
   },
   "id": "885c53514d3ca6a2",
   "execution_count": 157
  },
  {
   "cell_type": "code",
   "outputs": [
    {
     "data": {
      "text/plain": "recency_grade\n3    753\n1    731\n2    724\nName: count, dtype: int64"
     },
     "execution_count": 160,
     "metadata": {},
     "output_type": "execute_result"
    }
   ],
   "source": [
    "df['recency_grade'].value_counts()"
   ],
   "metadata": {
    "collapsed": false,
    "ExecuteTime": {
     "end_time": "2024-05-15T09:24:48.689208Z",
     "start_time": "2024-05-15T09:24:48.616727400Z"
    }
   },
   "id": "dcae3e79678c06ba",
   "execution_count": 160
  },
  {
   "cell_type": "markdown",
   "source": [
    "그럼 Recency 등급에 따라 매출 기여도가 어떻게 다른지 시각화해 볼까요? 각 등급의 매출 기여도는 전체 매출 대비 해당 등급의 매출 비율로 구할 수 있습니다. 그렇다면 먼저 recency_grade 컬럼 기준으로 groupby 한 다음 sum() 함수를 써서 등급별 매출 합계를 구해야겠군요. sum() 함수를 사용할 때에는 숫자 값들만 합을 구할 수 있게 numeric_only 값을 True로 설정하겠습니다. 마지막으로 reset_index() 함수까지 사용해 주면 깔끔하게 recency_grade도 컬럼으로 만들 수 있어요. 이 groupby 결과는 groupby_recency_grade 변수에 담겠습니다. 1등급에서 3등급으로 갈수록 recency 컬럼의 값이 줄어드는 걸 보면 등급이 제대로 매겨진 것 같군요."
   ],
   "metadata": {
    "collapsed": false
   },
   "id": "fd1925a68f7cab3d"
  },
  {
   "cell_type": "code",
   "outputs": [
    {
     "name": "stderr",
     "output_type": "stream",
     "text": [
      "C:\\Users\\wjd43\\AppData\\Local\\Temp\\ipykernel_17820\\2207962456.py:1: FutureWarning: The default of observed=False is deprecated and will be changed to True in a future version of pandas. Pass observed=False to retain current behavior or observed=True to adopt the future default and silence this warning.\n",
      "  groupby_recency_grade = df.groupby('recency_grade').sum(numeric_only=True).reset_index()\n"
     ]
    },
    {
     "data": {
      "text/plain": "  recency_grade       ID  birth_year  annual_income  children  recency  \\\n0             3  4349747     1488871   5.067041e+10       679    12011   \n1             2  4002340     1430799   4.829855e+10       724    35876   \n2             1  3983790     1445120   4.924024e+10       691    60336   \n\n   amount_alcohol  amount_fruit  amount_meat  amount_fish  ...  promotion_1  \\\n0       293956000      26728000    157583400     37592100  ...           54   \n1       295054500      23862800    152473100     35181900  ...           47   \n2       289621800      25288900    164557900     35608300  ...           41   \n\n   promotion_2  promotion_3  promotion_4  promotion_5  promotion_6  revenue  \\\n0           12           67           55           60          179     8283   \n1            8           47           52           49           95     7964   \n2           10           49           57           53           59     8041   \n\n   amount_total  num_purchase_total    age  \n0     583887200                9186  35201  \n1     573362400                9012  34577  \n2     584727000                8815  34424  \n\n[3 rows x 25 columns]",
      "text/html": "<div>\n<style scoped>\n    .dataframe tbody tr th:only-of-type {\n        vertical-align: middle;\n    }\n\n    .dataframe tbody tr th {\n        vertical-align: top;\n    }\n\n    .dataframe thead th {\n        text-align: right;\n    }\n</style>\n<table border=\"1\" class=\"dataframe\">\n  <thead>\n    <tr style=\"text-align: right;\">\n      <th></th>\n      <th>recency_grade</th>\n      <th>ID</th>\n      <th>birth_year</th>\n      <th>annual_income</th>\n      <th>children</th>\n      <th>recency</th>\n      <th>amount_alcohol</th>\n      <th>amount_fruit</th>\n      <th>amount_meat</th>\n      <th>amount_fish</th>\n      <th>...</th>\n      <th>promotion_1</th>\n      <th>promotion_2</th>\n      <th>promotion_3</th>\n      <th>promotion_4</th>\n      <th>promotion_5</th>\n      <th>promotion_6</th>\n      <th>revenue</th>\n      <th>amount_total</th>\n      <th>num_purchase_total</th>\n      <th>age</th>\n    </tr>\n  </thead>\n  <tbody>\n    <tr>\n      <th>0</th>\n      <td>3</td>\n      <td>4349747</td>\n      <td>1488871</td>\n      <td>5.067041e+10</td>\n      <td>679</td>\n      <td>12011</td>\n      <td>293956000</td>\n      <td>26728000</td>\n      <td>157583400</td>\n      <td>37592100</td>\n      <td>...</td>\n      <td>54</td>\n      <td>12</td>\n      <td>67</td>\n      <td>55</td>\n      <td>60</td>\n      <td>179</td>\n      <td>8283</td>\n      <td>583887200</td>\n      <td>9186</td>\n      <td>35201</td>\n    </tr>\n    <tr>\n      <th>1</th>\n      <td>2</td>\n      <td>4002340</td>\n      <td>1430799</td>\n      <td>4.829855e+10</td>\n      <td>724</td>\n      <td>35876</td>\n      <td>295054500</td>\n      <td>23862800</td>\n      <td>152473100</td>\n      <td>35181900</td>\n      <td>...</td>\n      <td>47</td>\n      <td>8</td>\n      <td>47</td>\n      <td>52</td>\n      <td>49</td>\n      <td>95</td>\n      <td>7964</td>\n      <td>573362400</td>\n      <td>9012</td>\n      <td>34577</td>\n    </tr>\n    <tr>\n      <th>2</th>\n      <td>1</td>\n      <td>3983790</td>\n      <td>1445120</td>\n      <td>4.924024e+10</td>\n      <td>691</td>\n      <td>60336</td>\n      <td>289621800</td>\n      <td>25288900</td>\n      <td>164557900</td>\n      <td>35608300</td>\n      <td>...</td>\n      <td>41</td>\n      <td>10</td>\n      <td>49</td>\n      <td>57</td>\n      <td>53</td>\n      <td>59</td>\n      <td>8041</td>\n      <td>584727000</td>\n      <td>8815</td>\n      <td>34424</td>\n    </tr>\n  </tbody>\n</table>\n<p>3 rows × 25 columns</p>\n</div>"
     },
     "execution_count": 162,
     "metadata": {},
     "output_type": "execute_result"
    }
   ],
   "source": [
    "groupby_recency_grade = df.groupby('recency_grade').sum(numeric_only=True).reset_index()\n",
    "groupby_recency_grade"
   ],
   "metadata": {
    "collapsed": false,
    "ExecuteTime": {
     "end_time": "2024-05-15T09:28:25.554416200Z",
     "start_time": "2024-05-15T09:28:25.450907200Z"
    }
   },
   "id": "e7a5bfada63919ea",
   "execution_count": 162
  },
  {
   "cell_type": "code",
   "outputs": [
    {
     "data": {
      "text/plain": "<Axes: title={'center': 'Recency 등급별 매출 기여도'}>"
     },
     "execution_count": 164,
     "metadata": {},
     "output_type": "execute_result"
    },
    {
     "data": {
      "text/plain": "<Figure size 640x480 with 1 Axes>",
      "image/png": "[encoded data removed]"
     },
     "metadata": {},
     "output_type": "display_data"
    }
   ],
   "source": [
    "# Recency 등급별 매출 기여도\n",
    "groupby_recency_grade['amount_total'].plot(\n",
    "    kind='pie',\n",
    "    autopct='%.1f%%',\n",
    "    labels=[f'{x}등급' for x in grade_labels[::-1]],\n",
    "    title='Recency 등급별 매출 기여도',\n",
    "    ylabel='',\n",
    ")"
   ],
   "metadata": {
    "collapsed": false,
    "ExecuteTime": {
     "end_time": "2024-05-15T09:29:59.155873300Z",
     "start_time": "2024-05-15T09:29:58.810881700Z"
    }
   },
   "id": "7cee5441828e1bdc",
   "execution_count": 164
  },
  {
   "cell_type": "code",
   "outputs": [
    {
     "name": "stderr",
     "output_type": "stream",
     "text": [
      "C:\\Users\\wjd43\\AppData\\Local\\Temp\\ipykernel_17820\\1447752713.py:2: SettingWithCopyWarning: \n",
      "A value is trying to be set on a copy of a slice from a DataFrame.\n",
      "Try using .loc[row_indexer,col_indexer] = value instead\n",
      "\n",
      "See the caveats in the documentation: https://pandas.pydata.org/pandas-docs/stable/user_guide/indexing.html#returning-a-view-versus-a-copy\n",
      "  df['frequency_grade'] = pd.qcut(\n"
     ]
    }
   ],
   "source": [
    "# Frequency 등급\n",
    "df['frequency_grade'] = pd.qcut(\n",
    "    x=df['num_purchase_total'], q=num_grades, labels=grade_labels\n",
    ")"
   ],
   "metadata": {
    "collapsed": false,
    "ExecuteTime": {
     "end_time": "2024-05-15T09:33:58.524315700Z",
     "start_time": "2024-05-15T09:33:58.419025600Z"
    }
   },
   "id": "2e81b5764afe1ee8",
   "execution_count": 165
  },
  {
   "cell_type": "code",
   "outputs": [
    {
     "data": {
      "text/plain": "frequency_grade\n1    854\n2    679\n3    675\nName: count, dtype: int64"
     },
     "execution_count": 167,
     "metadata": {},
     "output_type": "execute_result"
    }
   ],
   "source": [
    "df['frequency_grade'].value_counts()"
   ],
   "metadata": {
    "collapsed": false,
    "ExecuteTime": {
     "end_time": "2024-05-15T09:34:06.984217500Z",
     "start_time": "2024-05-15T09:34:06.924171300Z"
    }
   },
   "id": "edffa6c38e834fd6",
   "execution_count": 167
  },
  {
   "cell_type": "code",
   "outputs": [
    {
     "name": "stderr",
     "output_type": "stream",
     "text": [
      "C:\\Users\\wjd43\\AppData\\Local\\Temp\\ipykernel_17820\\799083880.py:2: FutureWarning: The default of observed=False is deprecated and will be changed to True in a future version of pandas. Pass observed=False to retain current behavior or observed=True to adopt the future default and silence this warning.\n",
      "  groupby_frequency_grade = df.groupby('frequency_grade').sum(numeric_only=True).reset_index()\n"
     ]
    },
    {
     "data": {
      "text/plain": "<Axes: title={'center': 'Frequency 등급별 매출 기여도'}>"
     },
     "execution_count": 168,
     "metadata": {},
     "output_type": "execute_result"
    },
    {
     "data": {
      "text/plain": "<Figure size 640x480 with 1 Axes>",
      "image/png": "[encoded data removed]"
     },
     "metadata": {},
     "output_type": "display_data"
    }
   ],
   "source": [
    "# Frequency 등급별 매출 기여도\n",
    "groupby_frequency_grade = df.groupby('frequency_grade').sum(numeric_only=True).reset_index()\n",
    "groupby_frequency_grade['amount_total'].plot(\n",
    "    kind='pie',\n",
    "    autopct='%.1f%%',\n",
    "    labels=[f'{x}등급' for x in grade_labels],\n",
    "    title='Frequency 등급별 매출 기여도',\n",
    "    ylabel='',\n",
    ")"
   ],
   "metadata": {
    "collapsed": false,
    "ExecuteTime": {
     "end_time": "2024-05-15T09:42:35.017862800Z",
     "start_time": "2024-05-15T09:42:34.729242400Z"
    }
   },
   "id": "1fdd4a2761b3c7f1",
   "execution_count": 168
  },
  {
   "cell_type": "code",
   "outputs": [
    {
     "name": "stderr",
     "output_type": "stream",
     "text": [
      "C:\\Users\\wjd43\\AppData\\Local\\Temp\\ipykernel_17820\\788364976.py:2: SettingWithCopyWarning: \n",
      "A value is trying to be set on a copy of a slice from a DataFrame.\n",
      "Try using .loc[row_indexer,col_indexer] = value instead\n",
      "\n",
      "See the caveats in the documentation: https://pandas.pydata.org/pandas-docs/stable/user_guide/indexing.html#returning-a-view-versus-a-copy\n",
      "  df['monetary_grade'] = pd.qcut(\n"
     ]
    }
   ],
   "source": [
    "# Monetary 등급\n",
    "df['monetary_grade'] = pd.qcut(\n",
    "    x=df['amount_total'], q=num_grades, labels=grade_labels\n",
    ")"
   ],
   "metadata": {
    "collapsed": false,
    "ExecuteTime": {
     "end_time": "2024-05-15T09:43:24.867327Z",
     "start_time": "2024-05-15T09:43:24.692934900Z"
    }
   },
   "id": "d8db8d99ba88a1ea",
   "execution_count": 169
  },
  {
   "cell_type": "code",
   "outputs": [
    {
     "data": {
      "text/plain": "monetary_grade\n1    737\n3    736\n2    735\nName: count, dtype: int64"
     },
     "execution_count": 171,
     "metadata": {},
     "output_type": "execute_result"
    }
   ],
   "source": [
    "df['monetary_grade'].value_counts()"
   ],
   "metadata": {
    "collapsed": false,
    "ExecuteTime": {
     "end_time": "2024-05-15T09:43:35.162784200Z",
     "start_time": "2024-05-15T09:43:35.097171700Z"
    }
   },
   "id": "5a2f5341a74a7b0f",
   "execution_count": 171
  },
  {
   "cell_type": "code",
   "outputs": [
    {
     "name": "stderr",
     "output_type": "stream",
     "text": [
      "C:\\Users\\wjd43\\AppData\\Local\\Temp\\ipykernel_17820\\1516449522.py:2: FutureWarning: The default of observed=False is deprecated and will be changed to True in a future version of pandas. Pass observed=False to retain current behavior or observed=True to adopt the future default and silence this warning.\n",
      "  groupby_monetary_grade = df.groupby('monetary_grade').sum(numeric_only=True).reset_index()\n"
     ]
    },
    {
     "data": {
      "text/plain": "<Axes: title={'center': 'Monetary 등급별 매출 기여도'}>"
     },
     "execution_count": 172,
     "metadata": {},
     "output_type": "execute_result"
    },
    {
     "data": {
      "text/plain": "<Figure size 640x480 with 1 Axes>",
      "image/png": "[encoded data removed]"
     },
     "metadata": {},
     "output_type": "display_data"
    }
   ],
   "source": [
    "# Monetary 등급별 기여 매출도\n",
    "groupby_monetary_grade = df.groupby('monetary_grade').sum(numeric_only=True).reset_index()\n",
    "groupby_monetary_grade['amount_total'].plot(\n",
    "    kind='pie',\n",
    "    autopct='%.1f%%',\n",
    "    labels=[f'{x}등급' for x in grade_labels],\n",
    "    title='Monetary 등급별 매출 기여도',\n",
    "    ylabel='',\n",
    ")"
   ],
   "metadata": {
    "collapsed": false,
    "ExecuteTime": {
     "end_time": "2024-05-15T09:44:00.883871Z",
     "start_time": "2024-05-15T09:44:00.391000100Z"
    }
   },
   "id": "eeb79bf4de211050",
   "execution_count": 172
  },
  {
   "cell_type": "markdown",
   "source": [
    "## 가중합을 이용해 RFM 고객 세그먼트 분류하기\n",
    "Recency, Frequency, Monetary 각 항목의 등급을 모두 매겼으니 이제 이를 활용해 고객 지표를 구하고 고객 세그먼트 분류까지 해 볼게요. 먼저 Recency, Frequency, Monetary 등급 각각에 가중치를 곱한 뒤 더하면 고객 지표가 계산됩니다. 이 고객 지표를 몇 가지 등급으로 나누면 최종 고객 세그먼트를 구할 수 있죠."
   ],
   "metadata": {
    "collapsed": false
   },
   "id": "25f8d6f76b2bbf6d"
  },
  {
   "cell_type": "markdown",
   "source": [
    "일단 세 항목에 동일하게 가중치를 줄 때 고객 세그먼트가 어떻게 나오는지 확인해 볼까요? 세 항목에 대한 가중치에는 조건이 있었죠. 각각 0보다 크거나 같아야 하고 모두 더했을 때 1이 되어야 합니다. 가중치 조건을 고려했을 때 각 항목에 1/3씩 가중치를 부여하면 되겠군요. 가중치는 weight라는 이름의 딕셔너리 변수를 이용해 관리하겠습니다."
   ],
   "metadata": {
    "collapsed": false
   },
   "id": "ee7dae2267d6a047"
  },
  {
   "cell_type": "code",
   "outputs": [],
   "source": [
    "weight = {}\n",
    "weight['recency'] = 1 / 3\n",
    "weight['frequency'] = 1 / 3\n",
    "weight['monetary'] = 1 / 3"
   ],
   "metadata": {
    "collapsed": false,
    "ExecuteTime": {
     "end_time": "2024-05-15T09:45:10.359403500Z",
     "start_time": "2024-05-15T09:45:10.248370200Z"
    }
   },
   "id": "580178eee28255e6",
   "execution_count": 174
  },
  {
   "cell_type": "markdown",
   "source": [
    "여기서 주의할 점이 하나 있는데요. customer_df에 Recency, Frequency, Monetary 각 등급이 숫자 1, 2, 3으로 표시되어 있지만, 엄밀히 말하면 등급 값은 모두 숫자형 데이터가 아니라 범주형 데이터인 상태입니다. 가중치를 적용하는 연산을 하려면 astype() 함수를 이용해 숫자형 데이터로 바꿔 줘야 해요. 어차피 등급 값은 1, 2, 3 뿐이니 정수형으로 바꿔도 무방하겠습니다. 그럼 항목에 맞게 가중치와 등급을 곱한 뒤 더해 줍시다. 이렇게 구한 고객 지표는 customer_df에 rfm_score 컬럼으로 추가할게요."
   ],
   "metadata": {
    "collapsed": false
   },
   "id": "2e5263cdccd39358"
  },
  {
   "cell_type": "code",
   "outputs": [
    {
     "name": "stderr",
     "output_type": "stream",
     "text": [
      "C:\\Users\\wjd43\\AppData\\Local\\Temp\\ipykernel_17820\\2856532442.py:1: SettingWithCopyWarning: \n",
      "A value is trying to be set on a copy of a slice from a DataFrame.\n",
      "Try using .loc[row_indexer,col_indexer] = value instead\n",
      "\n",
      "See the caveats in the documentation: https://pandas.pydata.org/pandas-docs/stable/user_guide/indexing.html#returning-a-view-versus-a-copy\n",
      "  df['rfm_score'] = (\n"
     ]
    }
   ],
   "source": [
    "df['rfm_score'] = (\n",
    "    weight['recency'] * df['recency_grade'].astype('int')\n",
    "    + weight['frequency'] * df['frequency_grade'].astype('int')\n",
    "    + weight['monetary'] * df['monetary_grade'].astype('int')\n",
    ")"
   ],
   "metadata": {
    "collapsed": false,
    "ExecuteTime": {
     "end_time": "2024-05-15T10:08:06.855921400Z",
     "start_time": "2024-05-15T10:08:06.772220700Z"
    }
   },
   "id": "e6c3c5103fe9cb2f",
   "execution_count": 175
  },
  {
   "cell_type": "markdown",
   "source": [
    "이렇게 구간 경계의 포함 여부가 일관되지 않은 경우에는 cut() 함수로 구간화를 할 수가 없습니다. 그래서 이번에는 apply() 함수를 이용해 구간화를 해 볼게요. 먼저 rfm_score 값을 받으면 위의 기준에 따라 RFM 세그먼트를 리턴해 주는 함수 rfm_segment_bins()를 정의합시다."
   ],
   "metadata": {
    "collapsed": false
   },
   "id": "6d5815a05770c1c4"
  },
  {
   "cell_type": "code",
   "outputs": [],
   "source": [
    "def rfm_segment_bins(x):\n",
    "    if x < 5 / 3:\n",
    "        return 1\n",
    "    elif x <= 7 / 3:\n",
    "        return 2\n",
    "    else:\n",
    "        return 3"
   ],
   "metadata": {
    "collapsed": false,
    "ExecuteTime": {
     "end_time": "2024-05-15T10:09:10.576929300Z",
     "start_time": "2024-05-15T10:09:10.511467700Z"
    }
   },
   "id": "a78186db5bfb042",
   "execution_count": 181
  },
  {
   "cell_type": "code",
   "outputs": [
    {
     "name": "stderr",
     "output_type": "stream",
     "text": [
      "C:\\Users\\wjd43\\AppData\\Local\\Temp\\ipykernel_17820\\1803791392.py:1: SettingWithCopyWarning: \n",
      "A value is trying to be set on a copy of a slice from a DataFrame.\n",
      "Try using .loc[row_indexer,col_indexer] = value instead\n",
      "\n",
      "See the caveats in the documentation: https://pandas.pydata.org/pandas-docs/stable/user_guide/indexing.html#returning-a-view-versus-a-copy\n",
      "  df['rfm_segment'] = df['rfm_score'].apply(rfm_segment_bins)\n"
     ]
    }
   ],
   "source": [
    "df['rfm_segment'] = df['rfm_score'].apply(rfm_segment_bins)"
   ],
   "metadata": {
    "collapsed": false,
    "ExecuteTime": {
     "end_time": "2024-05-15T10:09:11.106257100Z",
     "start_time": "2024-05-15T10:09:10.991705100Z"
    }
   },
   "id": "817b3491050d19fb",
   "execution_count": 182
  },
  {
   "cell_type": "code",
   "outputs": [
    {
     "data": {
      "text/plain": "rfm_segment\n1    928\n2    812\n3    468\nName: count, dtype: int64"
     },
     "execution_count": 184,
     "metadata": {},
     "output_type": "execute_result"
    }
   ],
   "source": [
    "df['rfm_segment'].value_counts()"
   ],
   "metadata": {
    "collapsed": false,
    "ExecuteTime": {
     "end_time": "2024-05-15T10:09:15.121178400Z",
     "start_time": "2024-05-15T10:09:15.043344300Z"
    }
   },
   "id": "175619233bcf67e1",
   "execution_count": 184
  },
  {
   "cell_type": "code",
   "outputs": [
    {
     "data": {
      "text/plain": "<Axes: title={'center': 'RFM 고객 세그먼트별 매출 기여도'}>"
     },
     "execution_count": 186,
     "metadata": {},
     "output_type": "execute_result"
    },
    {
     "data": {
      "text/plain": "<Figure size 640x480 with 1 Axes>",
      "image/png": "[encoded data removed]"
     },
     "metadata": {},
     "output_type": "display_data"
    }
   ],
   "source": [
    "groupby_rfm_segment = df.groupby('rfm_segment').sum(numeric_only=True).reset_index()\n",
    "groupby_rfm_segment['amount_total'].plot(\n",
    "    kind='pie',\n",
    "    autopct='%.1f%%',\n",
    "    labels=[f'{x}등급' for x in grade_labels],\n",
    "    title='RFM 고객 세그먼트별 매출 기여도',\n",
    "    ylabel='',\n",
    ")"
   ],
   "metadata": {
    "collapsed": false,
    "ExecuteTime": {
     "end_time": "2024-05-15T10:09:33.642423300Z",
     "start_time": "2024-05-15T10:09:33.388965600Z"
    }
   },
   "id": "907fb7833657aa88",
   "execution_count": 186
  },
  {
   "cell_type": "code",
   "outputs": [
    {
     "name": "stderr",
     "output_type": "stream",
     "text": [
      "C:\\Users\\wjd43\\AppData\\Local\\Temp\\ipykernel_17820\\3847303657.py:7: SettingWithCopyWarning: \n",
      "A value is trying to be set on a copy of a slice from a DataFrame.\n",
      "Try using .loc[row_indexer,col_indexer] = value instead\n",
      "\n",
      "See the caveats in the documentation: https://pandas.pydata.org/pandas-docs/stable/user_guide/indexing.html#returning-a-view-versus-a-copy\n",
      "  df['rfm_score'] = (\n",
      "C:\\Users\\wjd43\\AppData\\Local\\Temp\\ipykernel_17820\\3847303657.py:14: SettingWithCopyWarning: \n",
      "A value is trying to be set on a copy of a slice from a DataFrame.\n",
      "Try using .loc[row_indexer,col_indexer] = value instead\n",
      "\n",
      "See the caveats in the documentation: https://pandas.pydata.org/pandas-docs/stable/user_guide/indexing.html#returning-a-view-versus-a-copy\n",
      "  df['rfm_segment'] = df['rfm_score'].apply(rfm_segment_bins)\n"
     ]
    }
   ],
   "source": [
    "# 가중치 재설정\n",
    "weight['recency'] = 0.2\n",
    "weight['frequency'] = 0.4\n",
    "weight['monetary'] = 0.4\n",
    "\n",
    "# 가중합 계산\n",
    "df['rfm_score'] = (\n",
    "    weight['recency'] * df['recency_grade'].astype('int')\n",
    "    + weight['frequency'] * df['frequency_grade'].astype('int')\n",
    "    + weight['monetary'] * df['monetary_grade'].astype('int')\n",
    ")\n",
    "\n",
    "# RFM 고객 지표 구간화\n",
    "df['rfm_segment'] = df['rfm_score'].apply(rfm_segment_bins)"
   ],
   "metadata": {
    "collapsed": false,
    "ExecuteTime": {
     "end_time": "2024-05-15T10:09:48.721782900Z",
     "start_time": "2024-05-15T10:09:48.587995300Z"
    }
   },
   "id": "8fdeb3edf58ce2b4",
   "execution_count": 187
  },
  {
   "cell_type": "code",
   "outputs": [
    {
     "data": {
      "text/plain": "rfm_segment\n1    804\n3    792\n2    612\nName: count, dtype: int64"
     },
     "execution_count": 189,
     "metadata": {},
     "output_type": "execute_result"
    }
   ],
   "source": [
    "df['rfm_segment'].value_counts()"
   ],
   "metadata": {
    "collapsed": false,
    "ExecuteTime": {
     "end_time": "2024-05-15T10:10:29.372567700Z",
     "start_time": "2024-05-15T10:10:29.221845700Z"
    }
   },
   "id": "1080e70fd4b32aaa",
   "execution_count": 189
  },
  {
   "cell_type": "code",
   "outputs": [
    {
     "data": {
      "text/plain": "<Axes: title={'center': 'RFM 고객 세그먼트별 매출 기여도'}>"
     },
     "execution_count": 191,
     "metadata": {},
     "output_type": "execute_result"
    },
    {
     "data": {
      "text/plain": "<Figure size 640x480 with 1 Axes>",
      "image/png": "[encoded data removed]"
     },
     "metadata": {},
     "output_type": "display_data"
    }
   ],
   "source": [
    "groupby_rfm_segment = df.groupby('rfm_segment').sum(numeric_only=True).reset_index()\n",
    "groupby_rfm_segment['amount_total'].plot(\n",
    "    kind='pie',\n",
    "    autopct='%.1f%%',\n",
    "    labels=[f'{x}등급' for x in grade_labels],\n",
    "    title='RFM 고객 세그먼트별 매출 기여도',\n",
    "    ylabel='',\n",
    ")"
   ],
   "metadata": {
    "collapsed": false,
    "ExecuteTime": {
     "end_time": "2024-05-15T10:10:39.463632Z",
     "start_time": "2024-05-15T10:10:39.223897300Z"
    }
   },
   "id": "2f33456df8a3ab1b",
   "execution_count": 191
  }
 ],
 "metadata": {
  "kernelspec": {
   "display_name": "Python 3",
   "language": "python",
   "name": "python3"
  },
  "language_info": {
   "codemirror_mode": {
    "name": "ipython",
    "version": 2
   },
   "file_extension": ".py",
   "mimetype": "text/x-python",
   "name": "python",
   "nbconvert_exporter": "python",
   "pygments_lexer": "ipython2",
   "version": "2.7.6"
  }
 },
 "nbformat": 4,
 "nbformat_minor": 5
}
