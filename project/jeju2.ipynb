{
 "cells": [
  {
   "cell_type": "markdown",
   "source": [
    "## 1. 데이터 불러오기\n",
    "- data 폴더 안에 있는 csv 파일을 DataFrame으로 불러옵시다.\n",
    "- 읍면동별, 상세 업종별 카드 이용 데이터(2017년): jeju_card_region_2017.csv\n",
    "- 읍면동별, 상세 업종별 카드 이용 데이터(2018년): jeju_card_region_2018.csv\n",
    "- 읍면동 단위 내국인 유동인구 데이터: jeju_population.csv\n",
    "## 2. 데이터 탐색 및 전처리\n",
    "- 데이터 개수, 컬럼별 데이터 타입, 통계 정보, 결측값 존재 여부 등을 확인해 보세요.\n",
    "- 각 컬럼이 어떤 값들로 이루어져 있는지 확인해 보세요.\n",
    "- 2017년과 2018년 카드 데이터를 하나로 합쳐 주세요.\n",
    "## 3. 데이터 분석\n",
    "- 이용금액과 이용자수가 많은 업종과 지역 Top 10을 각각 뽑아 보세요.\n",
    "- 인당 이용금액이 많은 지역 Top 10도 뽑아 봅시다.\n",
    "- 각 지역에서 어떤 업종들이 활성화되어 있는지도 함께 확인해 보세요.\n",
    "- 카드 매출액 데이터와 유동인구 데이터를 하나로 합쳐서 보면 되겠죠? 어떻게 데이터를 합치는 게 좋을지 한번 고민해 보세요."
   ],
   "metadata": {
    "collapsed": false
   },
   "id": "be1fcc18cf396a1f"
  },
  {
   "cell_type": "code",
   "outputs": [],
   "source": [
    "import pandas as pd\n",
    "import matplotlib.pyplot as plt\n",
    "import seaborn as sns\n",
    "import platform\n",
    "%matplotlib inline"
   ],
   "metadata": {
    "collapsed": false,
    "ExecuteTime": {
     "end_time": "2024-05-14T09:10:43.208269900Z",
     "start_time": "2024-05-14T09:10:43.049512100Z"
    }
   },
   "id": "dceacd39322b706c",
   "execution_count": 231
  },
  {
   "cell_type": "code",
   "outputs": [],
   "source": [
    "# 사용자 운영체제 확인\n",
    "platform.system()\n",
    "# 운영체제별 한글 폰트 설정\n",
    "if platform.system() == 'Darwin': # Mac 환경 폰트 설정\n",
    "    plt.rc('font', family='AppleGothic')\n",
    "elif platform.system() == 'Windows': # Windows 환경 폰트 설정\n",
    "    plt.rc('font', family='Malgun Gothic')"
   ],
   "metadata": {
    "collapsed": false,
    "ExecuteTime": {
     "end_time": "2024-05-14T09:10:43.213609800Z",
     "start_time": "2024-05-14T09:10:43.123115500Z"
    }
   },
   "id": "d45ef87ef8ab2731",
   "execution_count": 232
  },
  {
   "cell_type": "code",
   "outputs": [],
   "source": [
    "# 데이터 불러오기\n",
    "jeju_reg_17_df = pd.read_csv('data/jeju_card_region_2017.csv')\n",
    "jeju_reg_18_df = pd.read_csv('data/jeju_card_region_2018.csv')\n",
    "jeju_pop_df = pd.read_csv('data/jeju_population.csv')"
   ],
   "metadata": {
    "collapsed": false,
    "ExecuteTime": {
     "end_time": "2024-05-14T09:10:43.971440700Z",
     "start_time": "2024-05-14T09:10:43.220432800Z"
    }
   },
   "id": "ac265d66f3ddabcc",
   "execution_count": 233
  },
  {
   "cell_type": "code",
   "outputs": [
    {
     "name": "stdout",
     "output_type": "stream",
     "text": [
      "(26968, 7)\n",
      "(27183, 7)\n",
      "(527026, 6)\n"
     ]
    }
   ],
   "source": [
    "# 데이터 개수 확인\n",
    "print(jeju_reg_17_df.shape) \n",
    "print(jeju_reg_18_df.shape)\n",
    "print(jeju_pop_df.shape)   "
   ],
   "metadata": {
    "collapsed": false,
    "ExecuteTime": {
     "end_time": "2024-05-14T09:10:43.994545Z",
     "start_time": "2024-05-14T09:10:43.967742700Z"
    }
   },
   "id": "f5a0a131e819a10e",
   "execution_count": 234
  },
  {
   "cell_type": "code",
   "outputs": [
    {
     "data": {
      "text/plain": "                연월   시군구명   읍면동명    업종명     성별      이용자수           이용금액\ncount        26968  26968  26968  26968  26968 26968.000      26968.000\nunique          12      2     43     41      2       NaN            NaN\ntop     2017-11-01    제주시    노형동   슈퍼마켓     남성       NaN            NaN\nfreq          2265  16076    795   1032  13518       NaN            NaN\nmean           NaN    NaN    NaN    NaN    NaN  1703.495   63231393.341\nstd            NaN    NaN    NaN    NaN    NaN  4313.161  198798394.063\nmin            NaN    NaN    NaN    NaN    NaN     1.000         10.000\n25%            NaN    NaN    NaN    NaN    NaN    43.000    2635000.000\n50%            NaN    NaN    NaN    NaN    NaN   281.000   12125170.000\n75%            NaN    NaN    NaN    NaN    NaN  1333.250   49059281.000\nmax            NaN    NaN    NaN    NaN    NaN 62761.000 5092989749.000",
      "text/html": "<div>\n<style scoped>\n    .dataframe tbody tr th:only-of-type {\n        vertical-align: middle;\n    }\n\n    .dataframe tbody tr th {\n        vertical-align: top;\n    }\n\n    .dataframe thead th {\n        text-align: right;\n    }\n</style>\n<table border=\"1\" class=\"dataframe\">\n  <thead>\n    <tr style=\"text-align: right;\">\n      <th></th>\n      <th>연월</th>\n      <th>시군구명</th>\n      <th>읍면동명</th>\n      <th>업종명</th>\n      <th>성별</th>\n      <th>이용자수</th>\n      <th>이용금액</th>\n    </tr>\n  </thead>\n  <tbody>\n    <tr>\n      <th>count</th>\n      <td>26968</td>\n      <td>26968</td>\n      <td>26968</td>\n      <td>26968</td>\n      <td>26968</td>\n      <td>26968.000</td>\n      <td>26968.000</td>\n    </tr>\n    <tr>\n      <th>unique</th>\n      <td>12</td>\n      <td>2</td>\n      <td>43</td>\n      <td>41</td>\n      <td>2</td>\n      <td>NaN</td>\n      <td>NaN</td>\n    </tr>\n    <tr>\n      <th>top</th>\n      <td>2017-11-01</td>\n      <td>제주시</td>\n      <td>노형동</td>\n      <td>슈퍼마켓</td>\n      <td>남성</td>\n      <td>NaN</td>\n      <td>NaN</td>\n    </tr>\n    <tr>\n      <th>freq</th>\n      <td>2265</td>\n      <td>16076</td>\n      <td>795</td>\n      <td>1032</td>\n      <td>13518</td>\n      <td>NaN</td>\n      <td>NaN</td>\n    </tr>\n    <tr>\n      <th>mean</th>\n      <td>NaN</td>\n      <td>NaN</td>\n      <td>NaN</td>\n      <td>NaN</td>\n      <td>NaN</td>\n      <td>1703.495</td>\n      <td>63231393.341</td>\n    </tr>\n    <tr>\n      <th>std</th>\n      <td>NaN</td>\n      <td>NaN</td>\n      <td>NaN</td>\n      <td>NaN</td>\n      <td>NaN</td>\n      <td>4313.161</td>\n      <td>198798394.063</td>\n    </tr>\n    <tr>\n      <th>min</th>\n      <td>NaN</td>\n      <td>NaN</td>\n      <td>NaN</td>\n      <td>NaN</td>\n      <td>NaN</td>\n      <td>1.000</td>\n      <td>10.000</td>\n    </tr>\n    <tr>\n      <th>25%</th>\n      <td>NaN</td>\n      <td>NaN</td>\n      <td>NaN</td>\n      <td>NaN</td>\n      <td>NaN</td>\n      <td>43.000</td>\n      <td>2635000.000</td>\n    </tr>\n    <tr>\n      <th>50%</th>\n      <td>NaN</td>\n      <td>NaN</td>\n      <td>NaN</td>\n      <td>NaN</td>\n      <td>NaN</td>\n      <td>281.000</td>\n      <td>12125170.000</td>\n    </tr>\n    <tr>\n      <th>75%</th>\n      <td>NaN</td>\n      <td>NaN</td>\n      <td>NaN</td>\n      <td>NaN</td>\n      <td>NaN</td>\n      <td>1333.250</td>\n      <td>49059281.000</td>\n    </tr>\n    <tr>\n      <th>max</th>\n      <td>NaN</td>\n      <td>NaN</td>\n      <td>NaN</td>\n      <td>NaN</td>\n      <td>NaN</td>\n      <td>62761.000</td>\n      <td>5092989749.000</td>\n    </tr>\n  </tbody>\n</table>\n</div>"
     },
     "execution_count": 235,
     "metadata": {},
     "output_type": "execute_result"
    }
   ],
   "source": [
    "# 17년도 통계정보 확인\n",
    "jeju_reg_17_df.describe(include='all')"
   ],
   "metadata": {
    "collapsed": false,
    "ExecuteTime": {
     "end_time": "2024-05-14T09:10:44.072307900Z",
     "start_time": "2024-05-14T09:10:43.981703Z"
    }
   },
   "id": "4f868bf8ee1cb1f0",
   "execution_count": 235
  },
  {
   "cell_type": "code",
   "outputs": [],
   "source": [
    "# 고정 소수점 표기법으로 변경\n",
    "pd.options.display.float_format = '{:.3f}'.format"
   ],
   "metadata": {
    "collapsed": false,
    "ExecuteTime": {
     "end_time": "2024-05-14T09:10:44.073430200Z",
     "start_time": "2024-05-14T09:10:44.027192300Z"
    }
   },
   "id": "86f585a67f0143f1",
   "execution_count": 236
  },
  {
   "cell_type": "code",
   "outputs": [],
   "source": [
    "# 2017년과 2018년 데이터 비교 및 전처리\n",
    "def print_unique_values(df):\n",
    "    object_columns = df.columns[df.dtypes == 'object']\n",
    "    for col in object_columns:\n",
    "        print(f'{col} 컬럼의 unique 값 개수: {df[col].nunique()}')\n",
    "        print(sorted(df[col].unique()), '\\n')"
   ],
   "metadata": {
    "collapsed": false,
    "ExecuteTime": {
     "end_time": "2024-05-14T09:10:44.144490200Z",
     "start_time": "2024-05-14T09:10:44.047166700Z"
    }
   },
   "id": "e0020a88eea1ac85",
   "execution_count": 237
  },
  {
   "cell_type": "code",
   "outputs": [
    {
     "name": "stdout",
     "output_type": "stream",
     "text": [
      "연월 컬럼의 unique 값 개수: 12\n",
      "['2017-01-01', '2017-02-01', '2017-03-01', '2017-04-01', '2017-05-01', '2017-06-01', '2017-07-01', '2017-08-01', '2017-09-01', '2017-10-01', '2017-11-01', '2017-12-01'] \n",
      "\n",
      "시군구명 컬럼의 unique 값 개수: 2\n",
      "['서귀포시', '제주시'] \n",
      "\n",
      "읍면동명 컬럼의 unique 값 개수: 43\n",
      "['건입동', '구좌읍', '남원읍', '노형동', '대륜동', '대정읍', '대천동', '도두동', '동홍동', '봉개동', '삼도1동', '삼도2동', '삼양동', '서홍동', '성산읍', '송산동', '아라동', '안덕면', '애월읍', '연동', '영천동', '예래동', '오라동', '외도동', '용담1동', '용담2동', '우도면', '이도1동', '이도2동', '이호동', '일도1동', '일도2동', '정방동', '조천읍', '중문동', '중앙동', '천지동', '추자면', '표선면', '한경면', '한림읍', '화북동', '효돈동'] \n",
      "\n",
      "업종명 컬럼의 unique 값 개수: 41\n",
      "['건강보조식품 소매업', '골프장 운영업', '과실 및 채소 소매업', '관광 민예품 및 선물용품 소매업', '그외 기타 분류안된 오락관련 서비스업', '그외 기타 스포츠시설 운영업', '그외 기타 종합 소매업', '기타 갬블링 및 베팅업', '기타 대형 종합 소매업', '기타 수상오락 서비스업', '기타 외국식 음식점업', '기타 주점업', '기타음식료품위주종합소매업', '내항 여객 운송업', '마사지업', '면세점', '버스 운송업', '비알콜 음료점업', '빵 및 과자류 소매업', '서양식 음식점업', '수산물 소매업', '슈퍼마켓', '스포츠 및 레크레이션 용품 임대업', '여관업', '여행사업', '욕탕업', '육류 소매업', '일반유흥 주점업', '일식 음식점업', '자동차 임대업', '전시 및 행사 대행업', '정기 항공 운송업', '중식 음식점업', '차량용 가스 충전업', '차량용 주유소 운영업', '체인화 편의점', '피자, 햄버거, 샌드위치 및 유사 음식점업', '한식 음식점업', '호텔업', '화장품 및 방향제 소매업', '휴양콘도 운영업'] \n",
      "\n",
      "성별 컬럼의 unique 값 개수: 2\n",
      "['남성', '여성'] \n"
     ]
    }
   ],
   "source": [
    "print_unique_values(jeju_reg_17_df)"
   ],
   "metadata": {
    "collapsed": false,
    "ExecuteTime": {
     "end_time": "2024-05-14T09:10:44.147001100Z",
     "start_time": "2024-05-14T09:10:44.059570300Z"
    }
   },
   "id": "77f3647ce646d8d7",
   "execution_count": 238
  },
  {
   "cell_type": "code",
   "outputs": [
    {
     "name": "stdout",
     "output_type": "stream",
     "text": [
      "연월 컬럼의 unique 값 개수: 12\n",
      "['2018-01-01', '2018-02-01', '2018-03-01', '2018-04-01', '2018-05-01', '2018-06-01', '2018-07-01', '2018-08-01', '2018-09-01', '2018-10-01', '2018-11-01', '2018-12-01'] \n",
      "\n",
      "시군구명 컬럼의 unique 값 개수: 2\n",
      "['서귀포시', '제주시'] \n",
      "\n",
      "읍면동명 컬럼의 unique 값 개수: 43\n",
      "['건입동', '구좌읍', '남원읍', '노형동', '대륜동', '대정읍', '대천동', '도두동', '동홍동', '봉개동', '삼도1동', '삼도2동', '삼양동', '서홍동', '성산읍', '송산동', '아라동', '안덕면', '애월읍', '연동', '영천동', '예래동', '오라동', '외도동', '용담1동', '용담2동', '우도면', '이도1동', '이도2동', '이호동', '일도1동', '일도2동', '정방동', '조천읍', '중문동', '중앙동', '천지동', '추자면', '표선면', '한경면', '한림읍', '화북동', '효돈동'] \n",
      "\n",
      "업종명 컬럼의 unique 값 개수: 41\n",
      "['건강보조식품 소매업', '골프장 운영업', '과실 및 채소 소매업', '관광 민예품 및 선물용품 소매업', '그외 기타 분류안된 오락관련 서비스업', '그외 기타 스포츠시설 운영업', '그외 기타 종합 소매업', '기타 대형 종합 소매업', '기타 수상오락 서비스업', '기타 외국식 음식점업', '기타 주점업', '기타음식료품위주종합소매업', '내항 여객 운송업', '마사지업', '면세점', '버스 운송업', '비알콜 음료점업', '빵 및 과자류 소매업', '서양식 음식점업', '수산물 소매업', '슈퍼마켓', '스포츠 및 레크레이션 용품 임대업', '여관업', '여행사업', '욕탕업', '육류 소매업', '일반유흥 주점업', '일식 음식점업', '자동차 임대업', '전시 및 행사 대행업', '정기 항공 운송업', '중식 음식점업', '차량용 가스 충전업', '차량용 주유소 운영업', '체인화 편의점', '택시 운송업', '피자, 햄버거, 샌드위치 및 유사 음식점업', '한식 음식점업', '호텔업', '화장품 및 방향제 소매업', '휴양콘도 운영업'] \n",
      "\n",
      "성별 컬럼의 unique 값 개수: 2\n",
      "['남성', '여성'] \n"
     ]
    }
   ],
   "source": [
    "print_unique_values(jeju_reg_18_df)"
   ],
   "metadata": {
    "collapsed": false,
    "ExecuteTime": {
     "end_time": "2024-05-14T09:10:44.150673500Z",
     "start_time": "2024-05-14T09:10:44.097083200Z"
    }
   },
   "id": "550610269be3adc4",
   "execution_count": 239
  },
  {
   "cell_type": "code",
   "outputs": [
    {
     "name": "stdout",
     "output_type": "stream",
     "text": [
      "2017년에만 있는 값: 기타 갬블링 및 베팅업\n",
      "2018년에만 있는 값: 택시 운송업\n"
     ]
    }
   ],
   "source": [
    "# 공통되지 않은 업종 찾기 \n",
    "for item in jeju_reg_17_df['업종명'].unique():\n",
    "    if item not in jeju_reg_18_df['업종명'].unique():\n",
    "        print(f'2017년에만 있는 값: {item}')\n",
    "        \n",
    "for item in jeju_reg_18_df['업종명'].unique():\n",
    "    if item not in jeju_reg_17_df['업종명'].unique():\n",
    "        print(f'2018년에만 있는 값: {item}')"
   ],
   "metadata": {
    "collapsed": false,
    "ExecuteTime": {
     "end_time": "2024-05-14T09:10:44.375665400Z",
     "start_time": "2024-05-14T09:10:44.124390400Z"
    }
   },
   "id": "3fd95bc9e0a27067",
   "execution_count": 240
  },
  {
   "cell_type": "code",
   "outputs": [],
   "source": [
    "# 공통되지 않은 업종 제거\n",
    "jeju_reg_17_df = jeju_reg_17_df[jeju_reg_17_df['업종명'] != '기타 갬블링 및 베팅업']\n",
    "jeju_reg_18_df = jeju_reg_18_df[jeju_reg_18_df['업종명'] != '택시 운송업']"
   ],
   "metadata": {
    "collapsed": false,
    "ExecuteTime": {
     "end_time": "2024-05-14T09:10:44.377031900Z",
     "start_time": "2024-05-14T09:10:44.327792400Z"
    }
   },
   "id": "20cb60455269c3b6",
   "execution_count": 241
  },
  {
   "cell_type": "code",
   "outputs": [],
   "source": [
    "# 데이터 합치기\n",
    "jeju_reg_df = pd.concat([jeju_reg_17_df, jeju_reg_18_df])"
   ],
   "metadata": {
    "collapsed": false,
    "ExecuteTime": {
     "end_time": "2024-05-14T09:10:44.379233200Z",
     "start_time": "2024-05-14T09:10:44.343843200Z"
    }
   },
   "id": "ba080e7564a79fb1",
   "execution_count": 242
  },
  {
   "cell_type": "code",
   "outputs": [
    {
     "data": {
      "text/plain": "array(['2017-01-01', '2017-02-01', '2017-03-01', '2017-04-01',\n       '2017-05-01', '2017-06-01', '2017-07-01', '2017-08-01',\n       '2017-09-01', '2017-10-01', '2017-11-01', '2017-12-01',\n       '2018-01-01', '2018-02-01', '2018-03-01', '2018-04-01',\n       '2018-05-01', '2018-06-01', '2018-07-01', '2018-08-01',\n       '2018-09-01', '2018-10-01', '2018-11-01', '2018-12-01'],\n      dtype=object)"
     },
     "execution_count": 243,
     "metadata": {},
     "output_type": "execute_result"
    }
   ],
   "source": [
    "# 연월 컬럼 확인\n",
    "jeju_reg_df['연월'].unique()"
   ],
   "metadata": {
    "collapsed": false,
    "ExecuteTime": {
     "end_time": "2024-05-14T09:10:44.405935400Z",
     "start_time": "2024-05-14T09:10:44.356808200Z"
    }
   },
   "id": "ac02469c5adf8a59",
   "execution_count": 243
  },
  {
   "cell_type": "code",
   "outputs": [
    {
     "data": {
      "text/plain": "            연월  시군구명 읍면동명                 업종명  성별  이용자수       이용금액\n0      2017-01  서귀포시  남원읍          건강보조식품 소매업  남성    11     137500\n1      2017-01  서귀포시  천지동          건강보조식품 소매업  여성    61   12334400\n2      2017-01  서귀포시  대정읍       기타음식료품위주종합소매업  남성   555   17301300\n3      2017-01  서귀포시  대정읍              기타 주점업  남성   324   71843080\n4      2017-01  서귀포시  대정읍         기타 외국식 음식점업  남성    40     971000\n...        ...   ...  ...                 ...  ..   ...        ...\n27178  2018-12   제주시  오라동             중식 음식점업  여성   110    3043250\n27179  2018-12   제주시   연동  스포츠 및 레크레이션 용품 임대업  여성  2317  365724920\n27180  2018-12   제주시   연동                 호텔업  여성   810  232661992\n27181  2018-12   제주시  오라동       기타음식료품위주종합소매업  남성    25    1225510\n27182  2018-12   제주시   연동       화장품 및 방향제 소매업  여성  2351   84518980\n\n[54146 rows x 7 columns]",
      "text/html": "<div>\n<style scoped>\n    .dataframe tbody tr th:only-of-type {\n        vertical-align: middle;\n    }\n\n    .dataframe tbody tr th {\n        vertical-align: top;\n    }\n\n    .dataframe thead th {\n        text-align: right;\n    }\n</style>\n<table border=\"1\" class=\"dataframe\">\n  <thead>\n    <tr style=\"text-align: right;\">\n      <th></th>\n      <th>연월</th>\n      <th>시군구명</th>\n      <th>읍면동명</th>\n      <th>업종명</th>\n      <th>성별</th>\n      <th>이용자수</th>\n      <th>이용금액</th>\n    </tr>\n  </thead>\n  <tbody>\n    <tr>\n      <th>0</th>\n      <td>2017-01</td>\n      <td>서귀포시</td>\n      <td>남원읍</td>\n      <td>건강보조식품 소매업</td>\n      <td>남성</td>\n      <td>11</td>\n      <td>137500</td>\n    </tr>\n    <tr>\n      <th>1</th>\n      <td>2017-01</td>\n      <td>서귀포시</td>\n      <td>천지동</td>\n      <td>건강보조식품 소매업</td>\n      <td>여성</td>\n      <td>61</td>\n      <td>12334400</td>\n    </tr>\n    <tr>\n      <th>2</th>\n      <td>2017-01</td>\n      <td>서귀포시</td>\n      <td>대정읍</td>\n      <td>기타음식료품위주종합소매업</td>\n      <td>남성</td>\n      <td>555</td>\n      <td>17301300</td>\n    </tr>\n    <tr>\n      <th>3</th>\n      <td>2017-01</td>\n      <td>서귀포시</td>\n      <td>대정읍</td>\n      <td>기타 주점업</td>\n      <td>남성</td>\n      <td>324</td>\n      <td>71843080</td>\n    </tr>\n    <tr>\n      <th>4</th>\n      <td>2017-01</td>\n      <td>서귀포시</td>\n      <td>대정읍</td>\n      <td>기타 외국식 음식점업</td>\n      <td>남성</td>\n      <td>40</td>\n      <td>971000</td>\n    </tr>\n    <tr>\n      <th>...</th>\n      <td>...</td>\n      <td>...</td>\n      <td>...</td>\n      <td>...</td>\n      <td>...</td>\n      <td>...</td>\n      <td>...</td>\n    </tr>\n    <tr>\n      <th>27178</th>\n      <td>2018-12</td>\n      <td>제주시</td>\n      <td>오라동</td>\n      <td>중식 음식점업</td>\n      <td>여성</td>\n      <td>110</td>\n      <td>3043250</td>\n    </tr>\n    <tr>\n      <th>27179</th>\n      <td>2018-12</td>\n      <td>제주시</td>\n      <td>연동</td>\n      <td>스포츠 및 레크레이션 용품 임대업</td>\n      <td>여성</td>\n      <td>2317</td>\n      <td>365724920</td>\n    </tr>\n    <tr>\n      <th>27180</th>\n      <td>2018-12</td>\n      <td>제주시</td>\n      <td>연동</td>\n      <td>호텔업</td>\n      <td>여성</td>\n      <td>810</td>\n      <td>232661992</td>\n    </tr>\n    <tr>\n      <th>27181</th>\n      <td>2018-12</td>\n      <td>제주시</td>\n      <td>오라동</td>\n      <td>기타음식료품위주종합소매업</td>\n      <td>남성</td>\n      <td>25</td>\n      <td>1225510</td>\n    </tr>\n    <tr>\n      <th>27182</th>\n      <td>2018-12</td>\n      <td>제주시</td>\n      <td>연동</td>\n      <td>화장품 및 방향제 소매업</td>\n      <td>여성</td>\n      <td>2351</td>\n      <td>84518980</td>\n    </tr>\n  </tbody>\n</table>\n<p>54146 rows × 7 columns</p>\n</div>"
     },
     "execution_count": 244,
     "metadata": {},
     "output_type": "execute_result"
    }
   ],
   "source": [
    "# 연월 컬럼 전처리\n",
    "jeju_reg_df['연월'] = jeju_reg_df['연월'].str[:7]\n",
    "jeju_reg_df"
   ],
   "metadata": {
    "collapsed": false,
    "ExecuteTime": {
     "end_time": "2024-05-14T09:10:44.442112600Z",
     "start_time": "2024-05-14T09:10:44.374587300Z"
    }
   },
   "id": "54a1e144cd2ffe66",
   "execution_count": 244
  },
  {
   "cell_type": "code",
   "outputs": [
    {
     "data": {
      "text/plain": "                             이용자수          이용금액\n업종명                                            \n건강보조식품 소매업                  43738    7042351269\n골프장 운영업                    454602   63978385373\n과실 및 채소 소매업               1088336   70647018956\n관광 민예품 및 선물용품 소매업          611692   20571366644\n그외 기타 분류안된 오락관련 서비스업         2361     116100063\n그외 기타 스포츠시설 운영업             18761    1191623694\n그외 기타 종합 소매업               920327   61397685585\n기타 대형 종합 소매업              3026355  176181070237\n기타 수상오락 서비스업                 1188     214491300\n기타 외국식 음식점업                515110   18630892911\n기타 주점업                     262989   51724117734\n기타음식료품위주종합소매업             2238649   94161392029\n내항 여객 운송업                  239458    7749726604\n마사지업                         3621     441834050\n면세점                       2122760  216084015155\n버스 운송업                          5       6564000\n비알콜 음료점업                  2990107   32196462878\n빵 및 과자류 소매업               3295046   45801876571\n서양식 음식점업                  3483836   82613944504\n수산물 소매업                    804683   56999528206\n슈퍼마켓                     11427536  303567124207\n스포츠 및 레크레이션 용품 임대업         991236  112011498985\n여관업                        953862   72403114967\n여행사업                        63548    5790670098\n욕탕업                        268457    5920642458\n육류 소매업                     695049   40759962062\n일반유흥 주점업                   541603  116184655729\n일식 음식점업                   1294471   92915797327\n자동차 임대업                    375290   29386903192\n전시 및 행사 대행업                868990   26877644577\n정기 항공 운송업                  640930  102803758104\n중식 음식점업                   1017353   28747667386\n차량용 가스 충전업                 318051   15997899960\n차량용 주유소 운영업               5683264  302282701948\n체인화 편의점                  22577070  208385597308\n피자, 햄버거, 샌드위치 및 유사 음식점업   2963257   38337318851\n한식 음식점업                  18828766  764903591034\n호텔업                        261891   55612663219\n화장품 및 방향제 소매업              662329   31541757654\n휴양콘도 운영업                   317552   29585862101",
      "text/html": "<div>\n<style scoped>\n    .dataframe tbody tr th:only-of-type {\n        vertical-align: middle;\n    }\n\n    .dataframe tbody tr th {\n        vertical-align: top;\n    }\n\n    .dataframe thead th {\n        text-align: right;\n    }\n</style>\n<table border=\"1\" class=\"dataframe\">\n  <thead>\n    <tr style=\"text-align: right;\">\n      <th></th>\n      <th>이용자수</th>\n      <th>이용금액</th>\n    </tr>\n    <tr>\n      <th>업종명</th>\n      <th></th>\n      <th></th>\n    </tr>\n  </thead>\n  <tbody>\n    <tr>\n      <th>건강보조식품 소매업</th>\n      <td>43738</td>\n      <td>7042351269</td>\n    </tr>\n    <tr>\n      <th>골프장 운영업</th>\n      <td>454602</td>\n      <td>63978385373</td>\n    </tr>\n    <tr>\n      <th>과실 및 채소 소매업</th>\n      <td>1088336</td>\n      <td>70647018956</td>\n    </tr>\n    <tr>\n      <th>관광 민예품 및 선물용품 소매업</th>\n      <td>611692</td>\n      <td>20571366644</td>\n    </tr>\n    <tr>\n      <th>그외 기타 분류안된 오락관련 서비스업</th>\n      <td>2361</td>\n      <td>116100063</td>\n    </tr>\n    <tr>\n      <th>그외 기타 스포츠시설 운영업</th>\n      <td>18761</td>\n      <td>1191623694</td>\n    </tr>\n    <tr>\n      <th>그외 기타 종합 소매업</th>\n      <td>920327</td>\n      <td>61397685585</td>\n    </tr>\n    <tr>\n      <th>기타 대형 종합 소매업</th>\n      <td>3026355</td>\n      <td>176181070237</td>\n    </tr>\n    <tr>\n      <th>기타 수상오락 서비스업</th>\n      <td>1188</td>\n      <td>214491300</td>\n    </tr>\n    <tr>\n      <th>기타 외국식 음식점업</th>\n      <td>515110</td>\n      <td>18630892911</td>\n    </tr>\n    <tr>\n      <th>기타 주점업</th>\n      <td>262989</td>\n      <td>51724117734</td>\n    </tr>\n    <tr>\n      <th>기타음식료품위주종합소매업</th>\n      <td>2238649</td>\n      <td>94161392029</td>\n    </tr>\n    <tr>\n      <th>내항 여객 운송업</th>\n      <td>239458</td>\n      <td>7749726604</td>\n    </tr>\n    <tr>\n      <th>마사지업</th>\n      <td>3621</td>\n      <td>441834050</td>\n    </tr>\n    <tr>\n      <th>면세점</th>\n      <td>2122760</td>\n      <td>216084015155</td>\n    </tr>\n    <tr>\n      <th>버스 운송업</th>\n      <td>5</td>\n      <td>6564000</td>\n    </tr>\n    <tr>\n      <th>비알콜 음료점업</th>\n      <td>2990107</td>\n      <td>32196462878</td>\n    </tr>\n    <tr>\n      <th>빵 및 과자류 소매업</th>\n      <td>3295046</td>\n      <td>45801876571</td>\n    </tr>\n    <tr>\n      <th>서양식 음식점업</th>\n      <td>3483836</td>\n      <td>82613944504</td>\n    </tr>\n    <tr>\n      <th>수산물 소매업</th>\n      <td>804683</td>\n      <td>56999528206</td>\n    </tr>\n    <tr>\n      <th>슈퍼마켓</th>\n      <td>11427536</td>\n      <td>303567124207</td>\n    </tr>\n    <tr>\n      <th>스포츠 및 레크레이션 용품 임대업</th>\n      <td>991236</td>\n      <td>112011498985</td>\n    </tr>\n    <tr>\n      <th>여관업</th>\n      <td>953862</td>\n      <td>72403114967</td>\n    </tr>\n    <tr>\n      <th>여행사업</th>\n      <td>63548</td>\n      <td>5790670098</td>\n    </tr>\n    <tr>\n      <th>욕탕업</th>\n      <td>268457</td>\n      <td>5920642458</td>\n    </tr>\n    <tr>\n      <th>육류 소매업</th>\n      <td>695049</td>\n      <td>40759962062</td>\n    </tr>\n    <tr>\n      <th>일반유흥 주점업</th>\n      <td>541603</td>\n      <td>116184655729</td>\n    </tr>\n    <tr>\n      <th>일식 음식점업</th>\n      <td>1294471</td>\n      <td>92915797327</td>\n    </tr>\n    <tr>\n      <th>자동차 임대업</th>\n      <td>375290</td>\n      <td>29386903192</td>\n    </tr>\n    <tr>\n      <th>전시 및 행사 대행업</th>\n      <td>868990</td>\n      <td>26877644577</td>\n    </tr>\n    <tr>\n      <th>정기 항공 운송업</th>\n      <td>640930</td>\n      <td>102803758104</td>\n    </tr>\n    <tr>\n      <th>중식 음식점업</th>\n      <td>1017353</td>\n      <td>28747667386</td>\n    </tr>\n    <tr>\n      <th>차량용 가스 충전업</th>\n      <td>318051</td>\n      <td>15997899960</td>\n    </tr>\n    <tr>\n      <th>차량용 주유소 운영업</th>\n      <td>5683264</td>\n      <td>302282701948</td>\n    </tr>\n    <tr>\n      <th>체인화 편의점</th>\n      <td>22577070</td>\n      <td>208385597308</td>\n    </tr>\n    <tr>\n      <th>피자, 햄버거, 샌드위치 및 유사 음식점업</th>\n      <td>2963257</td>\n      <td>38337318851</td>\n    </tr>\n    <tr>\n      <th>한식 음식점업</th>\n      <td>18828766</td>\n      <td>764903591034</td>\n    </tr>\n    <tr>\n      <th>호텔업</th>\n      <td>261891</td>\n      <td>55612663219</td>\n    </tr>\n    <tr>\n      <th>화장품 및 방향제 소매업</th>\n      <td>662329</td>\n      <td>31541757654</td>\n    </tr>\n    <tr>\n      <th>휴양콘도 운영업</th>\n      <td>317552</td>\n      <td>29585862101</td>\n    </tr>\n  </tbody>\n</table>\n</div>"
     },
     "execution_count": 245,
     "metadata": {},
     "output_type": "execute_result"
    }
   ],
   "source": [
    "# groupby로 업종명으로 합치기\n",
    "groupby_sector = jeju_reg_df.groupby('업종명').sum(numeric_only=True)\n",
    "groupby_sector"
   ],
   "metadata": {
    "collapsed": false,
    "ExecuteTime": {
     "end_time": "2024-05-14T09:10:44.445853600Z",
     "start_time": "2024-05-14T09:10:44.407307400Z"
    }
   },
   "id": "c837236b821cf795",
   "execution_count": 245
  },
  {
   "cell_type": "code",
   "outputs": [
    {
     "data": {
      "text/plain": "                        이용자수          이용금액\n업종명                                       \n한식 음식점업             18828766  764903591034\n슈퍼마켓                11427536  303567124207\n차량용 주유소 운영업          5683264  302282701948\n면세점                  2122760  216084015155\n체인화 편의점             22577070  208385597308\n기타 대형 종합 소매업         3026355  176181070237\n일반유흥 주점업              541603  116184655729\n스포츠 및 레크레이션 용품 임대업    991236  112011498985\n정기 항공 운송업             640930  102803758104\n기타음식료품위주종합소매업        2238649   94161392029",
      "text/html": "<div>\n<style scoped>\n    .dataframe tbody tr th:only-of-type {\n        vertical-align: middle;\n    }\n\n    .dataframe tbody tr th {\n        vertical-align: top;\n    }\n\n    .dataframe thead th {\n        text-align: right;\n    }\n</style>\n<table border=\"1\" class=\"dataframe\">\n  <thead>\n    <tr style=\"text-align: right;\">\n      <th></th>\n      <th>이용자수</th>\n      <th>이용금액</th>\n    </tr>\n    <tr>\n      <th>업종명</th>\n      <th></th>\n      <th></th>\n    </tr>\n  </thead>\n  <tbody>\n    <tr>\n      <th>한식 음식점업</th>\n      <td>18828766</td>\n      <td>764903591034</td>\n    </tr>\n    <tr>\n      <th>슈퍼마켓</th>\n      <td>11427536</td>\n      <td>303567124207</td>\n    </tr>\n    <tr>\n      <th>차량용 주유소 운영업</th>\n      <td>5683264</td>\n      <td>302282701948</td>\n    </tr>\n    <tr>\n      <th>면세점</th>\n      <td>2122760</td>\n      <td>216084015155</td>\n    </tr>\n    <tr>\n      <th>체인화 편의점</th>\n      <td>22577070</td>\n      <td>208385597308</td>\n    </tr>\n    <tr>\n      <th>기타 대형 종합 소매업</th>\n      <td>3026355</td>\n      <td>176181070237</td>\n    </tr>\n    <tr>\n      <th>일반유흥 주점업</th>\n      <td>541603</td>\n      <td>116184655729</td>\n    </tr>\n    <tr>\n      <th>스포츠 및 레크레이션 용품 임대업</th>\n      <td>991236</td>\n      <td>112011498985</td>\n    </tr>\n    <tr>\n      <th>정기 항공 운송업</th>\n      <td>640930</td>\n      <td>102803758104</td>\n    </tr>\n    <tr>\n      <th>기타음식료품위주종합소매업</th>\n      <td>2238649</td>\n      <td>94161392029</td>\n    </tr>\n  </tbody>\n</table>\n</div>"
     },
     "execution_count": 246,
     "metadata": {},
     "output_type": "execute_result"
    }
   ],
   "source": [
    "# 이용금액이 많은 업종 Top 10\n",
    "groupby_sector.sort_values(by='이용금액', ascending=False).head(10)"
   ],
   "metadata": {
    "collapsed": false,
    "ExecuteTime": {
     "end_time": "2024-05-14T09:10:44.488907600Z",
     "start_time": "2024-05-14T09:10:44.439716300Z"
    }
   },
   "id": "fea9bfd5f4e7b4ee",
   "execution_count": 246
  },
  {
   "cell_type": "code",
   "outputs": [
    {
     "data": {
      "text/plain": "                             이용자수          이용금액\n업종명                                            \n체인화 편의점                  22577070  208385597308\n한식 음식점업                  18828766  764903591034\n슈퍼마켓                     11427536  303567124207\n차량용 주유소 운영업               5683264  302282701948\n서양식 음식점업                  3483836   82613944504\n빵 및 과자류 소매업               3295046   45801876571\n기타 대형 종합 소매업              3026355  176181070237\n비알콜 음료점업                  2990107   32196462878\n피자, 햄버거, 샌드위치 및 유사 음식점업   2963257   38337318851\n기타음식료품위주종합소매업             2238649   94161392029",
      "text/html": "<div>\n<style scoped>\n    .dataframe tbody tr th:only-of-type {\n        vertical-align: middle;\n    }\n\n    .dataframe tbody tr th {\n        vertical-align: top;\n    }\n\n    .dataframe thead th {\n        text-align: right;\n    }\n</style>\n<table border=\"1\" class=\"dataframe\">\n  <thead>\n    <tr style=\"text-align: right;\">\n      <th></th>\n      <th>이용자수</th>\n      <th>이용금액</th>\n    </tr>\n    <tr>\n      <th>업종명</th>\n      <th></th>\n      <th></th>\n    </tr>\n  </thead>\n  <tbody>\n    <tr>\n      <th>체인화 편의점</th>\n      <td>22577070</td>\n      <td>208385597308</td>\n    </tr>\n    <tr>\n      <th>한식 음식점업</th>\n      <td>18828766</td>\n      <td>764903591034</td>\n    </tr>\n    <tr>\n      <th>슈퍼마켓</th>\n      <td>11427536</td>\n      <td>303567124207</td>\n    </tr>\n    <tr>\n      <th>차량용 주유소 운영업</th>\n      <td>5683264</td>\n      <td>302282701948</td>\n    </tr>\n    <tr>\n      <th>서양식 음식점업</th>\n      <td>3483836</td>\n      <td>82613944504</td>\n    </tr>\n    <tr>\n      <th>빵 및 과자류 소매업</th>\n      <td>3295046</td>\n      <td>45801876571</td>\n    </tr>\n    <tr>\n      <th>기타 대형 종합 소매업</th>\n      <td>3026355</td>\n      <td>176181070237</td>\n    </tr>\n    <tr>\n      <th>비알콜 음료점업</th>\n      <td>2990107</td>\n      <td>32196462878</td>\n    </tr>\n    <tr>\n      <th>피자, 햄버거, 샌드위치 및 유사 음식점업</th>\n      <td>2963257</td>\n      <td>38337318851</td>\n    </tr>\n    <tr>\n      <th>기타음식료품위주종합소매업</th>\n      <td>2238649</td>\n      <td>94161392029</td>\n    </tr>\n  </tbody>\n</table>\n</div>"
     },
     "execution_count": 247,
     "metadata": {},
     "output_type": "execute_result"
    }
   ],
   "source": [
    "# 이용자수가 많은 업종 Top 10\n",
    "groupby_sector.sort_values(by='이용자수', ascending=False).head(10)"
   ],
   "metadata": {
    "collapsed": false,
    "ExecuteTime": {
     "end_time": "2024-05-14T09:10:44.528636Z",
     "start_time": "2024-05-14T09:10:44.452859200Z"
    }
   },
   "id": "57e8198e074dc7a4",
   "execution_count": 247
  },
  {
   "cell_type": "code",
   "outputs": [
    {
     "data": {
      "text/plain": "         이용자수          이용금액\n읍면동명                       \n건입동   1247860   46077137130\n구좌읍   1593134   48035516926\n남원읍   1209827   52349473146\n노형동   7642921  245644045189\n대륜동   1735095   67069487603\n대정읍   1715861   56164010423\n대천동   1221892   33847001011\n도두동    741136   29033944428\n동홍동   1959703   65748200288\n봉개동    631429   24768113201\n삼도1동  1094904   34275405385\n삼도2동  1436282   63122056691\n삼양동   1571391   40040100193\n서홍동    630414   14340555341\n성산읍   2361002   79796700869\n송산동   5468346  205357714141\n아라동   3653006   80280971143\n안덕면   2057774   69668716092\n애월읍   3397281  120988320522\n연동    7100596  340461915654\n영천동    652686   35970307258\n예래동   1259725   72430813294\n오라동   1339046   46704908156\n외도동   1574154   42808089522\n용담1동   482876   19326144801\n용담2동  5820083  289912196043\n우도면    600163   14336890907\n이도1동  1082146   45553719645\n이도2동  6742075  201304448132\n이호동    423538   12463690048\n일도1동  1161659   55313193619\n일도2동  3145294  106631315225\n정방동   3053162  118137020208\n조천읍   2475686   81088543827\n중문동   1599439   66174146830\n중앙동   3053162  118137020208\n천지동   3683576  132477575549\n추자면     63461    2495633607\n표선면   1278988   50551227038\n한경면    572525   22391791132\n한림읍   2195237   80368290420\n화북동   1723143   48701154512\n효돈동    422451   11419773573",
      "text/html": "<div>\n<style scoped>\n    .dataframe tbody tr th:only-of-type {\n        vertical-align: middle;\n    }\n\n    .dataframe tbody tr th {\n        vertical-align: top;\n    }\n\n    .dataframe thead th {\n        text-align: right;\n    }\n</style>\n<table border=\"1\" class=\"dataframe\">\n  <thead>\n    <tr style=\"text-align: right;\">\n      <th></th>\n      <th>이용자수</th>\n      <th>이용금액</th>\n    </tr>\n    <tr>\n      <th>읍면동명</th>\n      <th></th>\n      <th></th>\n    </tr>\n  </thead>\n  <tbody>\n    <tr>\n      <th>건입동</th>\n      <td>1247860</td>\n      <td>46077137130</td>\n    </tr>\n    <tr>\n      <th>구좌읍</th>\n      <td>1593134</td>\n      <td>48035516926</td>\n    </tr>\n    <tr>\n      <th>남원읍</th>\n      <td>1209827</td>\n      <td>52349473146</td>\n    </tr>\n    <tr>\n      <th>노형동</th>\n      <td>7642921</td>\n      <td>245644045189</td>\n    </tr>\n    <tr>\n      <th>대륜동</th>\n      <td>1735095</td>\n      <td>67069487603</td>\n    </tr>\n    <tr>\n      <th>대정읍</th>\n      <td>1715861</td>\n      <td>56164010423</td>\n    </tr>\n    <tr>\n      <th>대천동</th>\n      <td>1221892</td>\n      <td>33847001011</td>\n    </tr>\n    <tr>\n      <th>도두동</th>\n      <td>741136</td>\n      <td>29033944428</td>\n    </tr>\n    <tr>\n      <th>동홍동</th>\n      <td>1959703</td>\n      <td>65748200288</td>\n    </tr>\n    <tr>\n      <th>봉개동</th>\n      <td>631429</td>\n      <td>24768113201</td>\n    </tr>\n    <tr>\n      <th>삼도1동</th>\n      <td>1094904</td>\n      <td>34275405385</td>\n    </tr>\n    <tr>\n      <th>삼도2동</th>\n      <td>1436282</td>\n      <td>63122056691</td>\n    </tr>\n    <tr>\n      <th>삼양동</th>\n      <td>1571391</td>\n      <td>40040100193</td>\n    </tr>\n    <tr>\n      <th>서홍동</th>\n      <td>630414</td>\n      <td>14340555341</td>\n    </tr>\n    <tr>\n      <th>성산읍</th>\n      <td>2361002</td>\n      <td>79796700869</td>\n    </tr>\n    <tr>\n      <th>송산동</th>\n      <td>5468346</td>\n      <td>205357714141</td>\n    </tr>\n    <tr>\n      <th>아라동</th>\n      <td>3653006</td>\n      <td>80280971143</td>\n    </tr>\n    <tr>\n      <th>안덕면</th>\n      <td>2057774</td>\n      <td>69668716092</td>\n    </tr>\n    <tr>\n      <th>애월읍</th>\n      <td>3397281</td>\n      <td>120988320522</td>\n    </tr>\n    <tr>\n      <th>연동</th>\n      <td>7100596</td>\n      <td>340461915654</td>\n    </tr>\n    <tr>\n      <th>영천동</th>\n      <td>652686</td>\n      <td>35970307258</td>\n    </tr>\n    <tr>\n      <th>예래동</th>\n      <td>1259725</td>\n      <td>72430813294</td>\n    </tr>\n    <tr>\n      <th>오라동</th>\n      <td>1339046</td>\n      <td>46704908156</td>\n    </tr>\n    <tr>\n      <th>외도동</th>\n      <td>1574154</td>\n      <td>42808089522</td>\n    </tr>\n    <tr>\n      <th>용담1동</th>\n      <td>482876</td>\n      <td>19326144801</td>\n    </tr>\n    <tr>\n      <th>용담2동</th>\n      <td>5820083</td>\n      <td>289912196043</td>\n    </tr>\n    <tr>\n      <th>우도면</th>\n      <td>600163</td>\n      <td>14336890907</td>\n    </tr>\n    <tr>\n      <th>이도1동</th>\n      <td>1082146</td>\n      <td>45553719645</td>\n    </tr>\n    <tr>\n      <th>이도2동</th>\n      <td>6742075</td>\n      <td>201304448132</td>\n    </tr>\n    <tr>\n      <th>이호동</th>\n      <td>423538</td>\n      <td>12463690048</td>\n    </tr>\n    <tr>\n      <th>일도1동</th>\n      <td>1161659</td>\n      <td>55313193619</td>\n    </tr>\n    <tr>\n      <th>일도2동</th>\n      <td>3145294</td>\n      <td>106631315225</td>\n    </tr>\n    <tr>\n      <th>정방동</th>\n      <td>3053162</td>\n      <td>118137020208</td>\n    </tr>\n    <tr>\n      <th>조천읍</th>\n      <td>2475686</td>\n      <td>81088543827</td>\n    </tr>\n    <tr>\n      <th>중문동</th>\n      <td>1599439</td>\n      <td>66174146830</td>\n    </tr>\n    <tr>\n      <th>중앙동</th>\n      <td>3053162</td>\n      <td>118137020208</td>\n    </tr>\n    <tr>\n      <th>천지동</th>\n      <td>3683576</td>\n      <td>132477575549</td>\n    </tr>\n    <tr>\n      <th>추자면</th>\n      <td>63461</td>\n      <td>2495633607</td>\n    </tr>\n    <tr>\n      <th>표선면</th>\n      <td>1278988</td>\n      <td>50551227038</td>\n    </tr>\n    <tr>\n      <th>한경면</th>\n      <td>572525</td>\n      <td>22391791132</td>\n    </tr>\n    <tr>\n      <th>한림읍</th>\n      <td>2195237</td>\n      <td>80368290420</td>\n    </tr>\n    <tr>\n      <th>화북동</th>\n      <td>1723143</td>\n      <td>48701154512</td>\n    </tr>\n    <tr>\n      <th>효돈동</th>\n      <td>422451</td>\n      <td>11419773573</td>\n    </tr>\n  </tbody>\n</table>\n</div>"
     },
     "execution_count": 248,
     "metadata": {},
     "output_type": "execute_result"
    }
   ],
   "source": [
    "# groupby로 지역명으로 합치기\n",
    "groupby_region = jeju_reg_df.groupby('읍면동명').sum(numeric_only=True)\n",
    "groupby_region"
   ],
   "metadata": {
    "collapsed": false,
    "ExecuteTime": {
     "end_time": "2024-05-14T09:10:44.533336600Z",
     "start_time": "2024-05-14T09:10:44.467053400Z"
    }
   },
   "id": "c0d047b88add048c",
   "execution_count": 248
  },
  {
   "cell_type": "code",
   "outputs": [
    {
     "data": {
      "text/plain": "         이용자수          이용금액\n읍면동명                       \n연동    7100596  340461915654\n용담2동  5820083  289912196043\n노형동   7642921  245644045189\n송산동   5468346  205357714141\n이도2동  6742075  201304448132\n천지동   3683576  132477575549\n애월읍   3397281  120988320522\n중앙동   3053162  118137020208\n정방동   3053162  118137020208\n일도2동  3145294  106631315225",
      "text/html": "<div>\n<style scoped>\n    .dataframe tbody tr th:only-of-type {\n        vertical-align: middle;\n    }\n\n    .dataframe tbody tr th {\n        vertical-align: top;\n    }\n\n    .dataframe thead th {\n        text-align: right;\n    }\n</style>\n<table border=\"1\" class=\"dataframe\">\n  <thead>\n    <tr style=\"text-align: right;\">\n      <th></th>\n      <th>이용자수</th>\n      <th>이용금액</th>\n    </tr>\n    <tr>\n      <th>읍면동명</th>\n      <th></th>\n      <th></th>\n    </tr>\n  </thead>\n  <tbody>\n    <tr>\n      <th>연동</th>\n      <td>7100596</td>\n      <td>340461915654</td>\n    </tr>\n    <tr>\n      <th>용담2동</th>\n      <td>5820083</td>\n      <td>289912196043</td>\n    </tr>\n    <tr>\n      <th>노형동</th>\n      <td>7642921</td>\n      <td>245644045189</td>\n    </tr>\n    <tr>\n      <th>송산동</th>\n      <td>5468346</td>\n      <td>205357714141</td>\n    </tr>\n    <tr>\n      <th>이도2동</th>\n      <td>6742075</td>\n      <td>201304448132</td>\n    </tr>\n    <tr>\n      <th>천지동</th>\n      <td>3683576</td>\n      <td>132477575549</td>\n    </tr>\n    <tr>\n      <th>애월읍</th>\n      <td>3397281</td>\n      <td>120988320522</td>\n    </tr>\n    <tr>\n      <th>중앙동</th>\n      <td>3053162</td>\n      <td>118137020208</td>\n    </tr>\n    <tr>\n      <th>정방동</th>\n      <td>3053162</td>\n      <td>118137020208</td>\n    </tr>\n    <tr>\n      <th>일도2동</th>\n      <td>3145294</td>\n      <td>106631315225</td>\n    </tr>\n  </tbody>\n</table>\n</div>"
     },
     "execution_count": 249,
     "metadata": {},
     "output_type": "execute_result"
    }
   ],
   "source": [
    "# 이용금액이 많은 지역 Top 10\n",
    "groupby_region.sort_values(by='이용금액', ascending=False).head(10)"
   ],
   "metadata": {
    "collapsed": false,
    "ExecuteTime": {
     "end_time": "2024-05-14T09:10:44.636644800Z",
     "start_time": "2024-05-14T09:10:44.493348900Z"
    }
   },
   "id": "3abb433de21f9363",
   "execution_count": 249
  },
  {
   "cell_type": "code",
   "outputs": [
    {
     "data": {
      "text/plain": "         이용자수          이용금액\n읍면동명                       \n노형동   7642921  245644045189\n연동    7100596  340461915654\n이도2동  6742075  201304448132\n용담2동  5820083  289912196043\n송산동   5468346  205357714141\n천지동   3683576  132477575549\n아라동   3653006   80280971143\n애월읍   3397281  120988320522\n일도2동  3145294  106631315225\n중앙동   3053162  118137020208",
      "text/html": "<div>\n<style scoped>\n    .dataframe tbody tr th:only-of-type {\n        vertical-align: middle;\n    }\n\n    .dataframe tbody tr th {\n        vertical-align: top;\n    }\n\n    .dataframe thead th {\n        text-align: right;\n    }\n</style>\n<table border=\"1\" class=\"dataframe\">\n  <thead>\n    <tr style=\"text-align: right;\">\n      <th></th>\n      <th>이용자수</th>\n      <th>이용금액</th>\n    </tr>\n    <tr>\n      <th>읍면동명</th>\n      <th></th>\n      <th></th>\n    </tr>\n  </thead>\n  <tbody>\n    <tr>\n      <th>노형동</th>\n      <td>7642921</td>\n      <td>245644045189</td>\n    </tr>\n    <tr>\n      <th>연동</th>\n      <td>7100596</td>\n      <td>340461915654</td>\n    </tr>\n    <tr>\n      <th>이도2동</th>\n      <td>6742075</td>\n      <td>201304448132</td>\n    </tr>\n    <tr>\n      <th>용담2동</th>\n      <td>5820083</td>\n      <td>289912196043</td>\n    </tr>\n    <tr>\n      <th>송산동</th>\n      <td>5468346</td>\n      <td>205357714141</td>\n    </tr>\n    <tr>\n      <th>천지동</th>\n      <td>3683576</td>\n      <td>132477575549</td>\n    </tr>\n    <tr>\n      <th>아라동</th>\n      <td>3653006</td>\n      <td>80280971143</td>\n    </tr>\n    <tr>\n      <th>애월읍</th>\n      <td>3397281</td>\n      <td>120988320522</td>\n    </tr>\n    <tr>\n      <th>일도2동</th>\n      <td>3145294</td>\n      <td>106631315225</td>\n    </tr>\n    <tr>\n      <th>중앙동</th>\n      <td>3053162</td>\n      <td>118137020208</td>\n    </tr>\n  </tbody>\n</table>\n</div>"
     },
     "execution_count": 250,
     "metadata": {},
     "output_type": "execute_result"
    }
   ],
   "source": [
    "# 이용자수가 많은 지역 Top 10\n",
    "groupby_region.sort_values(by='이용자수', ascending=False).head(10)"
   ],
   "metadata": {
    "collapsed": false,
    "ExecuteTime": {
     "end_time": "2024-05-14T09:10:44.757700800Z",
     "start_time": "2024-05-14T09:10:44.508708800Z"
    }
   },
   "id": "e2a342b9ab31fc7d",
   "execution_count": 250
  },
  {
   "cell_type": "code",
   "outputs": [
    {
     "data": {
      "text/plain": "         이용자수          이용금액    인당이용금액\n읍면동명                                 \n건입동   1247860   46077137130 36924.925\n구좌읍   1593134   48035516926 30151.586\n남원읍   1209827   52349473146 43270.214\n노형동   7642921  245644045189 32140.074\n대륜동   1735095   67069487603 38654.649\n대정읍   1715861   56164010423 32732.261\n대천동   1221892   33847001011 27700.485\n도두동    741136   29033944428 39174.921\n동홍동   1959703   65748200288 33550.084\n봉개동    631429   24768113201 39225.492\n삼도1동  1094904   34275405385 31304.485\n삼도2동  1436282   63122056691 43948.233\n삼양동   1571391   40040100193 25480.673\n서홍동    630414   14340555341 22747.838\n성산읍   2361002   79796700869 33797.812\n송산동   5468346  205357714141 37553.899\n아라동   3653006   80280971143 21976.687\n안덕면   2057774   69668716092 33856.350\n애월읍   3397281  120988320522 35613.280\n연동    7100596  340461915654 47948.358\n영천동    652686   35970307258 55111.198\n예래동   1259725   72430813294 57497.321\n오라동   1339046   46704908156 34879.241\n외도동   1574154   42808089522 27194.347\n용담1동   482876   19326144801 40022.997\n용담2동  5820083  289912196043 49812.382\n우도면    600163   14336890907 23888.329\n이도1동  1082146   45553719645 42095.724\n이도2동  6742075  201304448132 29857.937\n이호동    423538   12463690048 29427.560\n일도1동  1161659   55313193619 47615.689\n일도2동  3145294  106631315225 33901.859\n정방동   3053162  118137020208 38693.335\n조천읍   2475686   81088543827 32753.970\n중문동   1599439   66174146830 41373.348\n중앙동   3053162  118137020208 38693.335\n천지동   3683576  132477575549 35964.393\n추자면     63461    2495633607 39325.469\n표선면   1278988   50551227038 39524.395\n한경면    572525   22391791132 39110.591\n한림읍   2195237   80368290420 36610.302\n화북동   1723143   48701154512 28262.979\n효돈동    422451   11419773573 27032.185",
      "text/html": "<div>\n<style scoped>\n    .dataframe tbody tr th:only-of-type {\n        vertical-align: middle;\n    }\n\n    .dataframe tbody tr th {\n        vertical-align: top;\n    }\n\n    .dataframe thead th {\n        text-align: right;\n    }\n</style>\n<table border=\"1\" class=\"dataframe\">\n  <thead>\n    <tr style=\"text-align: right;\">\n      <th></th>\n      <th>이용자수</th>\n      <th>이용금액</th>\n      <th>인당이용금액</th>\n    </tr>\n    <tr>\n      <th>읍면동명</th>\n      <th></th>\n      <th></th>\n      <th></th>\n    </tr>\n  </thead>\n  <tbody>\n    <tr>\n      <th>건입동</th>\n      <td>1247860</td>\n      <td>46077137130</td>\n      <td>36924.925</td>\n    </tr>\n    <tr>\n      <th>구좌읍</th>\n      <td>1593134</td>\n      <td>48035516926</td>\n      <td>30151.586</td>\n    </tr>\n    <tr>\n      <th>남원읍</th>\n      <td>1209827</td>\n      <td>52349473146</td>\n      <td>43270.214</td>\n    </tr>\n    <tr>\n      <th>노형동</th>\n      <td>7642921</td>\n      <td>245644045189</td>\n      <td>32140.074</td>\n    </tr>\n    <tr>\n      <th>대륜동</th>\n      <td>1735095</td>\n      <td>67069487603</td>\n      <td>38654.649</td>\n    </tr>\n    <tr>\n      <th>대정읍</th>\n      <td>1715861</td>\n      <td>56164010423</td>\n      <td>32732.261</td>\n    </tr>\n    <tr>\n      <th>대천동</th>\n      <td>1221892</td>\n      <td>33847001011</td>\n      <td>27700.485</td>\n    </tr>\n    <tr>\n      <th>도두동</th>\n      <td>741136</td>\n      <td>29033944428</td>\n      <td>39174.921</td>\n    </tr>\n    <tr>\n      <th>동홍동</th>\n      <td>1959703</td>\n      <td>65748200288</td>\n      <td>33550.084</td>\n    </tr>\n    <tr>\n      <th>봉개동</th>\n      <td>631429</td>\n      <td>24768113201</td>\n      <td>39225.492</td>\n    </tr>\n    <tr>\n      <th>삼도1동</th>\n      <td>1094904</td>\n      <td>34275405385</td>\n      <td>31304.485</td>\n    </tr>\n    <tr>\n      <th>삼도2동</th>\n      <td>1436282</td>\n      <td>63122056691</td>\n      <td>43948.233</td>\n    </tr>\n    <tr>\n      <th>삼양동</th>\n      <td>1571391</td>\n      <td>40040100193</td>\n      <td>25480.673</td>\n    </tr>\n    <tr>\n      <th>서홍동</th>\n      <td>630414</td>\n      <td>14340555341</td>\n      <td>22747.838</td>\n    </tr>\n    <tr>\n      <th>성산읍</th>\n      <td>2361002</td>\n      <td>79796700869</td>\n      <td>33797.812</td>\n    </tr>\n    <tr>\n      <th>송산동</th>\n      <td>5468346</td>\n      <td>205357714141</td>\n      <td>37553.899</td>\n    </tr>\n    <tr>\n      <th>아라동</th>\n      <td>3653006</td>\n      <td>80280971143</td>\n      <td>21976.687</td>\n    </tr>\n    <tr>\n      <th>안덕면</th>\n      <td>2057774</td>\n      <td>69668716092</td>\n      <td>33856.350</td>\n    </tr>\n    <tr>\n      <th>애월읍</th>\n      <td>3397281</td>\n      <td>120988320522</td>\n      <td>35613.280</td>\n    </tr>\n    <tr>\n      <th>연동</th>\n      <td>7100596</td>\n      <td>340461915654</td>\n      <td>47948.358</td>\n    </tr>\n    <tr>\n      <th>영천동</th>\n      <td>652686</td>\n      <td>35970307258</td>\n      <td>55111.198</td>\n    </tr>\n    <tr>\n      <th>예래동</th>\n      <td>1259725</td>\n      <td>72430813294</td>\n      <td>57497.321</td>\n    </tr>\n    <tr>\n      <th>오라동</th>\n      <td>1339046</td>\n      <td>46704908156</td>\n      <td>34879.241</td>\n    </tr>\n    <tr>\n      <th>외도동</th>\n      <td>1574154</td>\n      <td>42808089522</td>\n      <td>27194.347</td>\n    </tr>\n    <tr>\n      <th>용담1동</th>\n      <td>482876</td>\n      <td>19326144801</td>\n      <td>40022.997</td>\n    </tr>\n    <tr>\n      <th>용담2동</th>\n      <td>5820083</td>\n      <td>289912196043</td>\n      <td>49812.382</td>\n    </tr>\n    <tr>\n      <th>우도면</th>\n      <td>600163</td>\n      <td>14336890907</td>\n      <td>23888.329</td>\n    </tr>\n    <tr>\n      <th>이도1동</th>\n      <td>1082146</td>\n      <td>45553719645</td>\n      <td>42095.724</td>\n    </tr>\n    <tr>\n      <th>이도2동</th>\n      <td>6742075</td>\n      <td>201304448132</td>\n      <td>29857.937</td>\n    </tr>\n    <tr>\n      <th>이호동</th>\n      <td>423538</td>\n      <td>12463690048</td>\n      <td>29427.560</td>\n    </tr>\n    <tr>\n      <th>일도1동</th>\n      <td>1161659</td>\n      <td>55313193619</td>\n      <td>47615.689</td>\n    </tr>\n    <tr>\n      <th>일도2동</th>\n      <td>3145294</td>\n      <td>106631315225</td>\n      <td>33901.859</td>\n    </tr>\n    <tr>\n      <th>정방동</th>\n      <td>3053162</td>\n      <td>118137020208</td>\n      <td>38693.335</td>\n    </tr>\n    <tr>\n      <th>조천읍</th>\n      <td>2475686</td>\n      <td>81088543827</td>\n      <td>32753.970</td>\n    </tr>\n    <tr>\n      <th>중문동</th>\n      <td>1599439</td>\n      <td>66174146830</td>\n      <td>41373.348</td>\n    </tr>\n    <tr>\n      <th>중앙동</th>\n      <td>3053162</td>\n      <td>118137020208</td>\n      <td>38693.335</td>\n    </tr>\n    <tr>\n      <th>천지동</th>\n      <td>3683576</td>\n      <td>132477575549</td>\n      <td>35964.393</td>\n    </tr>\n    <tr>\n      <th>추자면</th>\n      <td>63461</td>\n      <td>2495633607</td>\n      <td>39325.469</td>\n    </tr>\n    <tr>\n      <th>표선면</th>\n      <td>1278988</td>\n      <td>50551227038</td>\n      <td>39524.395</td>\n    </tr>\n    <tr>\n      <th>한경면</th>\n      <td>572525</td>\n      <td>22391791132</td>\n      <td>39110.591</td>\n    </tr>\n    <tr>\n      <th>한림읍</th>\n      <td>2195237</td>\n      <td>80368290420</td>\n      <td>36610.302</td>\n    </tr>\n    <tr>\n      <th>화북동</th>\n      <td>1723143</td>\n      <td>48701154512</td>\n      <td>28262.979</td>\n    </tr>\n    <tr>\n      <th>효돈동</th>\n      <td>422451</td>\n      <td>11419773573</td>\n      <td>27032.185</td>\n    </tr>\n  </tbody>\n</table>\n</div>"
     },
     "execution_count": 251,
     "metadata": {},
     "output_type": "execute_result"
    }
   ],
   "source": [
    "# 인당 이용금액 컬럼 생성\n",
    "groupby_region['인당이용금액'] = groupby_region['이용금액']/groupby_region['이용자수']\n",
    "groupby_region"
   ],
   "metadata": {
    "collapsed": false,
    "ExecuteTime": {
     "end_time": "2024-05-14T09:10:44.761420100Z",
     "start_time": "2024-05-14T09:10:44.532216200Z"
    }
   },
   "id": "4b241e71abb8ae52",
   "execution_count": 251
  },
  {
   "cell_type": "code",
   "outputs": [
    {
     "data": {
      "text/plain": "         이용자수          이용금액    인당이용금액\n읍면동명                                 \n예래동   1259725   72430813294 57497.321\n영천동    652686   35970307258 55111.198\n용담2동  5820083  289912196043 49812.382\n연동    7100596  340461915654 47948.358\n일도1동  1161659   55313193619 47615.689\n삼도2동  1436282   63122056691 43948.233\n남원읍   1209827   52349473146 43270.214\n이도1동  1082146   45553719645 42095.724\n중문동   1599439   66174146830 41373.348\n용담1동   482876   19326144801 40022.997",
      "text/html": "<div>\n<style scoped>\n    .dataframe tbody tr th:only-of-type {\n        vertical-align: middle;\n    }\n\n    .dataframe tbody tr th {\n        vertical-align: top;\n    }\n\n    .dataframe thead th {\n        text-align: right;\n    }\n</style>\n<table border=\"1\" class=\"dataframe\">\n  <thead>\n    <tr style=\"text-align: right;\">\n      <th></th>\n      <th>이용자수</th>\n      <th>이용금액</th>\n      <th>인당이용금액</th>\n    </tr>\n    <tr>\n      <th>읍면동명</th>\n      <th></th>\n      <th></th>\n      <th></th>\n    </tr>\n  </thead>\n  <tbody>\n    <tr>\n      <th>예래동</th>\n      <td>1259725</td>\n      <td>72430813294</td>\n      <td>57497.321</td>\n    </tr>\n    <tr>\n      <th>영천동</th>\n      <td>652686</td>\n      <td>35970307258</td>\n      <td>55111.198</td>\n    </tr>\n    <tr>\n      <th>용담2동</th>\n      <td>5820083</td>\n      <td>289912196043</td>\n      <td>49812.382</td>\n    </tr>\n    <tr>\n      <th>연동</th>\n      <td>7100596</td>\n      <td>340461915654</td>\n      <td>47948.358</td>\n    </tr>\n    <tr>\n      <th>일도1동</th>\n      <td>1161659</td>\n      <td>55313193619</td>\n      <td>47615.689</td>\n    </tr>\n    <tr>\n      <th>삼도2동</th>\n      <td>1436282</td>\n      <td>63122056691</td>\n      <td>43948.233</td>\n    </tr>\n    <tr>\n      <th>남원읍</th>\n      <td>1209827</td>\n      <td>52349473146</td>\n      <td>43270.214</td>\n    </tr>\n    <tr>\n      <th>이도1동</th>\n      <td>1082146</td>\n      <td>45553719645</td>\n      <td>42095.724</td>\n    </tr>\n    <tr>\n      <th>중문동</th>\n      <td>1599439</td>\n      <td>66174146830</td>\n      <td>41373.348</td>\n    </tr>\n    <tr>\n      <th>용담1동</th>\n      <td>482876</td>\n      <td>19326144801</td>\n      <td>40022.997</td>\n    </tr>\n  </tbody>\n</table>\n</div>"
     },
     "execution_count": 252,
     "metadata": {},
     "output_type": "execute_result"
    }
   ],
   "source": [
    "# 인당 이용금액이 많은 지역 Top 10\n",
    "groupby_region.sort_values(by='인당이용금액', ascending=False).head(10)"
   ],
   "metadata": {
    "collapsed": false,
    "ExecuteTime": {
     "end_time": "2024-05-14T09:10:44.762529500Z",
     "start_time": "2024-05-14T09:10:44.547379200Z"
    }
   },
   "id": "e8b74c0ae0f88e36",
   "execution_count": 252
  },
  {
   "cell_type": "code",
   "outputs": [
    {
     "data": {
      "text/plain": "     읍면동명                      업종명    이용자수        이용금액\n0     건입동               건강보조식품 소매업      49     4587000\n1     건입동              과실 및 채소 소매업    2501   391500342\n2     건입동        관광 민예품 및 선물용품 소매업    3502    75545640\n3     건입동             그외 기타 종합 소매업       3      275000\n4     건입동              기타 외국식 음식점업    5293   181635728\n...   ...                      ...     ...         ...\n1227  효돈동              차량용 주유소 운영업   80406  3618787777\n1228  효돈동                  체인화 편의점  110730  1044920210\n1229  효돈동  피자, 햄버거, 샌드위치 및 유사 음식점업   14501   122548910\n1230  효돈동                  한식 음식점업   50203  2056391378\n1231  효돈동            화장품 및 방향제 소매업       2      600000\n\n[1232 rows x 4 columns]",
      "text/html": "<div>\n<style scoped>\n    .dataframe tbody tr th:only-of-type {\n        vertical-align: middle;\n    }\n\n    .dataframe tbody tr th {\n        vertical-align: top;\n    }\n\n    .dataframe thead th {\n        text-align: right;\n    }\n</style>\n<table border=\"1\" class=\"dataframe\">\n  <thead>\n    <tr style=\"text-align: right;\">\n      <th></th>\n      <th>읍면동명</th>\n      <th>업종명</th>\n      <th>이용자수</th>\n      <th>이용금액</th>\n    </tr>\n  </thead>\n  <tbody>\n    <tr>\n      <th>0</th>\n      <td>건입동</td>\n      <td>건강보조식품 소매업</td>\n      <td>49</td>\n      <td>4587000</td>\n    </tr>\n    <tr>\n      <th>1</th>\n      <td>건입동</td>\n      <td>과실 및 채소 소매업</td>\n      <td>2501</td>\n      <td>391500342</td>\n    </tr>\n    <tr>\n      <th>2</th>\n      <td>건입동</td>\n      <td>관광 민예품 및 선물용품 소매업</td>\n      <td>3502</td>\n      <td>75545640</td>\n    </tr>\n    <tr>\n      <th>3</th>\n      <td>건입동</td>\n      <td>그외 기타 종합 소매업</td>\n      <td>3</td>\n      <td>275000</td>\n    </tr>\n    <tr>\n      <th>4</th>\n      <td>건입동</td>\n      <td>기타 외국식 음식점업</td>\n      <td>5293</td>\n      <td>181635728</td>\n    </tr>\n    <tr>\n      <th>...</th>\n      <td>...</td>\n      <td>...</td>\n      <td>...</td>\n      <td>...</td>\n    </tr>\n    <tr>\n      <th>1227</th>\n      <td>효돈동</td>\n      <td>차량용 주유소 운영업</td>\n      <td>80406</td>\n      <td>3618787777</td>\n    </tr>\n    <tr>\n      <th>1228</th>\n      <td>효돈동</td>\n      <td>체인화 편의점</td>\n      <td>110730</td>\n      <td>1044920210</td>\n    </tr>\n    <tr>\n      <th>1229</th>\n      <td>효돈동</td>\n      <td>피자, 햄버거, 샌드위치 및 유사 음식점업</td>\n      <td>14501</td>\n      <td>122548910</td>\n    </tr>\n    <tr>\n      <th>1230</th>\n      <td>효돈동</td>\n      <td>한식 음식점업</td>\n      <td>50203</td>\n      <td>2056391378</td>\n    </tr>\n    <tr>\n      <th>1231</th>\n      <td>효돈동</td>\n      <td>화장품 및 방향제 소매업</td>\n      <td>2</td>\n      <td>600000</td>\n    </tr>\n  </tbody>\n</table>\n<p>1232 rows × 4 columns</p>\n</div>"
     },
     "execution_count": 253,
     "metadata": {},
     "output_type": "execute_result"
    }
   ],
   "source": [
    "# 지역명과 업종명 groupby\n",
    "groupby_region_sector = jeju_reg_df.groupby(['읍면동명', '업종명']).sum(numeric_only=True).reset_index()\n",
    "groupby_region_sector"
   ],
   "metadata": {
    "collapsed": false,
    "ExecuteTime": {
     "end_time": "2024-05-14T09:10:44.848486400Z",
     "start_time": "2024-05-14T09:10:44.555376800Z"
    }
   },
   "id": "1c3b8868a2abfaf1",
   "execution_count": 253
  },
  {
   "cell_type": "code",
   "outputs": [
    {
     "name": "stdout",
     "output_type": "stream",
     "text": [
      "   읍면동명                      업종명    이용자수         이용금액\n",
      "24  건입동                  체인화 편의점  289677   2507213130\n",
      "26  건입동                  한식 음식점업  234816  10667669485\n",
      "12  건입동                     슈퍼마켓  204619   8937264501\n",
      "23  건입동              차량용 주유소 운영업  120684   5936930821\n",
      "10  건입동                 서양식 음식점업   94057   1535173042\n",
      "7   건입동                      면세점   49248   3215267313\n",
      "22  건입동               차량용 가스 충전업   42591   1439888624\n",
      "9   건입동              빵 및 과자류 소매업   35243    715096540\n",
      "25  건입동  피자, 햄버거, 샌드위치 및 유사 음식점업   29603    404126400\n",
      "8   건입동                 비알콜 음료점업   27725    275428460\n",
      "   읍면동명            업종명    이용자수         이용금액\n",
      "57  구좌읍        한식 음식점업  473270  16214770362\n",
      "55  구좌읍        체인화 편의점  308625   2922152476\n",
      "41  구좌읍       서양식 음식점업  190175   3653335110\n",
      "54  구좌읍    차량용 주유소 운영업  159671   8784917013\n",
      "38  구좌읍  기타음식료품위주종합소매업  133252   4408931727\n",
      "43  구좌읍           슈퍼마켓   83612   1810691155\n",
      "51  구좌읍    전시 및 행사 대행업   58423   1299330400\n",
      "39  구좌읍       비알콜 음료점업   53047    922838700\n",
      "50  구좌읍        일식 음식점업   21558    906438174\n",
      "30  구좌읍        골프장 운영업   19530   2917559040\n",
      "   읍면동명            업종명    이용자수         이용금액\n",
      "84  남원읍        체인화 편의점  212480   2270709215\n",
      "86  남원읍        한식 음식점업  186705   8303526080\n",
      "68  남원읍  기타음식료품위주종합소매업  183314   6963444380\n",
      "83  남원읍    차량용 주유소 운영업  153175   7460155749\n",
      "61  남원읍        골프장 운영업   98190  12671248122\n",
      "73  남원읍           슈퍼마켓   75266   1881933370\n",
      "88  남원읍       휴양콘도 운영업   73810   3845759686\n",
      "71  남원읍       서양식 음식점업   52690   1074129600\n",
      "80  남원읍    전시 및 행사 대행업   46745   1288172100\n",
      "62  남원읍    과실 및 채소 소매업   20181   1350868598\n",
      "    읍면동명                      업종명     이용자수         이용금액\n",
      "117  노형동                  체인화 편의점  1663053  14196847745\n",
      "119  노형동                  한식 음식점업  1526139  63161096579\n",
      "104  노형동                     슈퍼마켓  1080265  24671714099\n",
      "95   노형동             기타 대형 종합 소매업  1073067  66090723808\n",
      "116  노형동              차량용 주유소 운영업   396986  20333003073\n",
      "118  노형동  피자, 햄버거, 샌드위치 및 유사 음식점업   367362   4684824418\n",
      "101  노형동              빵 및 과자류 소매업   302806   4095467385\n",
      "100  노형동                 비알콜 음료점업   300088   2738692471\n",
      "102  노형동                 서양식 음식점업   266254   6545040225\n",
      "98   노형동            기타음식료품위주종합소매업   145358   6130829000\n",
      "    읍면동명            업종명    이용자수         이용금액\n",
      "128  대륜동   기타 대형 종합 소매업  512848  30909968170\n",
      "150  대륜동        체인화 편의점  423024   3801862441\n",
      "152  대륜동        한식 음식점업  271118  10507150923\n",
      "149  대륜동    차량용 주유소 운영업  117428   5615942593\n",
      "136  대륜동       서양식 음식점업   64878   1518999034\n",
      "138  대륜동           슈퍼마켓   63460   1300287759\n",
      "135  대륜동    빵 및 과자류 소매업   47331    649365758\n",
      "134  대륜동       비알콜 음료점업   45288    361067028\n",
      "132  대륜동  기타음식료품위주종합소매업   45056   1104060500\n",
      "140  대륜동            여관업   25606   2601210196\n",
      "    읍면동명                      업종명    이용자수         이용금액\n",
      "181  대정읍                  체인화 편의점  439769   4347143856\n",
      "183  대정읍                  한식 음식점업  373078  16635695840\n",
      "169  대정읍                     슈퍼마켓  324037  10513923561\n",
      "180  대정읍              차량용 주유소 운영업  168917   9559795265\n",
      "166  대정읍              빵 및 과자류 소매업   97729   1154920725\n",
      "167  대정읍                 서양식 음식점업   57328   1298145800\n",
      "182  대정읍  피자, 햄버거, 샌드위치 및 유사 음식점업   48317    742803050\n",
      "178  대정읍                  중식 음식점업   38390   1119314219\n",
      "165  대정읍                 비알콜 음료점업   34976    553538820\n",
      "164  대정읍            기타음식료품위주종합소매업   25195    755081820\n",
      "    읍면동명                      업종명    이용자수        이용금액\n",
      "207  대천동                  체인화 편의점  379979  3892719216\n",
      "209  대천동                  한식 음식점업  215012  7815285053\n",
      "206  대천동              차량용 주유소 운영업  165227  8171642676\n",
      "208  대천동  피자, 햄버거, 샌드위치 및 유사 음식점업  110805  1278721390\n",
      "196  대천동                     슈퍼마켓  106728  2365297378\n",
      "193  대천동              빵 및 과자류 소매업   69411   974329280\n",
      "194  대천동                 서양식 음식점업   42313  1086017540\n",
      "187  대천동              과실 및 채소 소매업   23982  2699857575\n",
      "192  대천동                 비알콜 음료점업   22487   161117580\n",
      "212  대천동                 휴양콘도 운영업   19794  1658476739\n",
      "    읍면동명          업종명    이용자수        이용금액\n",
      "235  도두동      체인화 편의점  172321  1677487278\n",
      "236  도두동      한식 음식점업  141130  7278513648\n",
      "230  도두동      자동차 임대업   99482  6530984090\n",
      "223  도두동         슈퍼마켓   79478  1889417072\n",
      "234  도두동  차량용 주유소 운영업   52705  2420101423\n",
      "233  도두동   차량용 가스 충전업   37921  1159748172\n",
      "229  도두동      일식 음식점업   32926  2999871661\n",
      "227  도두동          욕탕업   31396   499570000\n",
      "219  도두동     비알콜 음료점업   24207   301937290\n",
      "221  도두동     서양식 음식점업   17944   420142680\n",
      "    읍면동명                      업종명    이용자수         이용금액\n",
      "250  동홍동                     슈퍼마켓  569488  16830884971\n",
      "261  동홍동                  체인화 편의점  399584   3732538954\n",
      "263  동홍동                  한식 음식점업  303922  14375330223\n",
      "241  동홍동             기타 대형 종합 소매업  265259  15788282580\n",
      "260  동홍동              차량용 주유소 운영업   78098   3893952406\n",
      "247  동홍동              빵 및 과자류 소매업   59742    730412466\n",
      "262  동홍동  피자, 햄버거, 샌드위치 및 유사 음식점업   45524    862988899\n",
      "246  동홍동                 비알콜 음료점업   42585    431958360\n",
      "248  동홍동                 서양식 음식점업   34940    710231117\n",
      "256  동홍동                  일식 음식점업   27106   1922906812\n",
      "    읍면동명           업종명    이용자수        이용금액\n",
      "284  봉개동       체인화 편의점  172203  1842181360\n",
      "283  봉개동   차량용 주유소 운영업  135223  7454511998\n",
      "276  봉개동          슈퍼마켓  126178  2580662951\n",
      "286  봉개동       한식 음식점업   61935  2024815651\n",
      "287  봉개동      휴양콘도 운영업   43472  5144869175\n",
      "266  봉개동       골프장 운영업   30490  3514647472\n",
      "272  봉개동      비알콜 음료점업   10923    93825600\n",
      "269  봉개동  그외 기타 종합 소매업   10510   812288800\n",
      "270  봉개동   기타 외국식 음식점업    8448   230608848\n",
      "267  봉개동   과실 및 채소 소매업    8256   313545208\n",
      "     읍면동명          업종명    이용자수         이용금액\n",
      "301  삼도1동         슈퍼마켓  446759  11453469963\n",
      "313  삼도1동      체인화 편의점  264428   2268658040\n",
      "315  삼도1동      한식 음식점업  185495   6106274840\n",
      "298  삼도1동  빵 및 과자류 소매업   39768    572113192\n",
      "299  삼도1동     서양식 음식점업   18808    255639354\n",
      "311  삼도1동      중식 음식점업   16775    396184500\n",
      "312  삼도1동  차량용 주유소 운영업   16625    877983017\n",
      "294  삼도1동       기타 주점업   14988   2826907569\n",
      "303  삼도1동          여관업   14147    732270950\n",
      "308  삼도1동      일식 음식점업   11652    781910314\n",
      "     읍면동명                      업종명    이용자수         이용금액\n",
      "323  삼도2동             기타 대형 종합 소매업  470105  33001224330\n",
      "341  삼도2동                  체인화 편의점  406699   3764912259\n",
      "343  삼도2동                  한식 음식점업  314012  11669450868\n",
      "331  삼도2동                     슈퍼마켓   53612    854386802\n",
      "344  삼도2동                      호텔업   33419   7259621046\n",
      "328  삼도2동              빵 및 과자류 소매업   33214    375839173\n",
      "329  삼도2동                 서양식 음식점업   24780    486894986\n",
      "333  삼도2동                      여관업   21369    535154626\n",
      "340  삼도2동                  중식 음식점업   16945    419003400\n",
      "342  삼도2동  피자, 햄버거, 샌드위치 및 유사 음식점업   15454    167738430\n",
      "    읍면동명                      업종명    이용자수        이용금액\n",
      "357  삼양동                     슈퍼마켓  422157  9776221262\n",
      "369  삼양동                  체인화 편의점  395824  3664200676\n",
      "371  삼양동                  한식 음식점업  240139  9598265702\n",
      "368  삼양동              차량용 주유소 운영업   96039  6001207679\n",
      "354  삼양동              빵 및 과자류 소매업   81129   974015778\n",
      "353  삼양동                 비알콜 음료점업   73395   632627940\n",
      "370  삼양동  피자, 햄버거, 샌드위치 및 유사 음식점업   57885   906346877\n",
      "352  삼양동            기타음식료품위주종합소매업   53386  1171846440\n",
      "366  삼양동                  중식 음식점업   31717   871359313\n",
      "355  삼양동                 서양식 음식점업   30654   705940715\n",
      "    읍면동명                      업종명    이용자수        이용금액\n",
      "395  서홍동                  체인화 편의점  267918  2326402664\n",
      "397  서홍동                  한식 음식점업  129091  4531094701\n",
      "394  서홍동              차량용 주유소 운영업   57390  3006793391\n",
      "381  서홍동                 비알콜 음료점업   36414   323117400\n",
      "383  서홍동                 서양식 음식점업   29745   480879751\n",
      "385  서홍동                     슈퍼마켓   14693   347739375\n",
      "382  서홍동              빵 및 과자류 소매업   14562   169029882\n",
      "378  서홍동              기타 외국식 음식점업   13639   267692065\n",
      "380  서홍동                내항 여객 운송업   13288  1166934200\n",
      "396  서홍동  피자, 햄버거, 샌드위치 및 유사 음식점업   12541   162632093\n",
      "    읍면동명                      업종명    이용자수         이용금액\n",
      "426  성산읍                  체인화 편의점  599939   5804787833\n",
      "428  성산읍                  한식 음식점업  576987  25869141844\n",
      "414  성산읍                     슈퍼마켓  227398   5741454226\n",
      "425  성산읍              차량용 주유소 운영업  163377   8704285422\n",
      "409  성산읍            기타음식료품위주종합소매업  130080   6395840057\n",
      "411  성산읍              빵 및 과자류 소매업   95740   1084079663\n",
      "410  성산읍                 비알콜 음료점업   83676   1071222537\n",
      "412  성산읍                 서양식 음식점업   75432   1609505860\n",
      "422  성산읍              전시 및 행사 대행업   65061   4153045470\n",
      "427  성산읍  피자, 햄버거, 샌드위치 및 유사 음식점업   52602    744615060\n",
      "    읍면동명                      업종명     이용자수         이용금액\n",
      "459  송산동                  체인화 편의점  1300990  12755621032\n",
      "461  송산동                  한식 음식점업  1073239  48882701780\n",
      "447  송산동                     슈퍼마켓   847420  22681646374\n",
      "458  송산동              차량용 주유소 운영업   307650  16973750265\n",
      "437  송산동             기타 대형 종합 소매업   265259  15788282580\n",
      "460  송산동  피자, 햄버거, 샌드위치 및 유사 음식점업   214767   2879703993\n",
      "444  송산동              빵 및 과자류 소매업   210996   3034051817\n",
      "445  송산동                 서양식 음식점업   144849   3508878014\n",
      "454  송산동                  일식 음식점업   140209  11283422084\n",
      "443  송산동                 비알콜 음료점업   138608   1536821323\n",
      "    읍면동명                      업종명     이용자수         이용금액\n",
      "489  아라동                  체인화 편의점  1167124  10340914943\n",
      "491  아라동                  한식 음식점업   712061  24525803070\n",
      "478  아라동                     슈퍼마켓   627062  12178827995\n",
      "476  아라동                 서양식 음식점업   212138   4538105812\n",
      "475  아라동              빵 및 과자류 소매업   173072   2259964974\n",
      "488  아라동              차량용 주유소 운영업   171971   8290332816\n",
      "474  아라동                 비알콜 음료점업   134662   1322616147\n",
      "490  아라동  피자, 햄버거, 샌드위치 및 유사 음식점업   131408   1715397469\n",
      "472  아라동            기타음식료품위주종합소매업    90813   3395743090\n",
      "484  아라동                  일식 음식점업    54270   2424989750\n",
      "    읍면동명            업종명    이용자수         이용금액\n",
      "519  안덕면        체인화 편의점  505432   4866433400\n",
      "521  안덕면        한식 음식점업  326927  17178483115\n",
      "506  안덕면       서양식 음식점업  289706   7623665332\n",
      "515  안덕면    전시 및 행사 대행업  182616   5000669334\n",
      "518  안덕면    차량용 주유소 운영업  172808  10213349238\n",
      "503  안덕면  기타음식료품위주종합소매업   90799   3368185730\n",
      "510  안덕면            여관업   86968   1994178934\n",
      "494  안덕면        골프장 운영업   63079   7581730774\n",
      "508  안덕면           슈퍼마켓   55468    932807607\n",
      "522  안덕면  화장품 및 방향제 소매업   51672   1172594860\n",
      "    읍면동명            업종명    이용자수         이용금액\n",
      "550  애월읍        체인화 편의점  914611   8913096112\n",
      "552  애월읍        한식 음식점업  643771  24081108467\n",
      "533  애월읍  기타음식료품위주종합소매업  474618  23974897916\n",
      "549  애월읍    차량용 주유소 운영업  458895  29429470650\n",
      "536  애월읍       서양식 음식점업  257820   6070255183\n",
      "538  애월읍           슈퍼마켓  201034   4363816379\n",
      "534  애월읍       비알콜 음료점업  118980   1593771610\n",
      "540  애월읍            여관업   67449   5445984119\n",
      "525  애월읍        골프장 운영업   52810   8942081182\n",
      "535  애월읍    빵 및 과자류 소매업   42363    643990818\n",
      "    읍면동명                 업종명     이용자수          이용금액\n",
      "585   연동             체인화 편의점  1986028   17690147519\n",
      "587   연동             한식 음식점업  1552295   67558620226\n",
      "571   연동                슈퍼마켓   841876   21017172098\n",
      "581   연동           정기 항공 운송업   640930  102803758104\n",
      "568   연동         빵 및 과자류 소매업   263631    4163599587\n",
      "567   연동            비알콜 음료점업   216716    2387394344\n",
      "584   연동         차량용 주유소 운영업   212387   10400246632\n",
      "569   연동            서양식 음식점업   193392    7820170117\n",
      "561   연동        기타 대형 종합 소매업   177560    4992293288\n",
      "572   연동  스포츠 및 레크레이션 용품 임대업   121373   16259086821\n",
      "    읍면동명            업종명    이용자수         이용금액\n",
      "606  영천동    차량용 주유소 운영업  207445  11955213880\n",
      "599  영천동           슈퍼마켓  169027  11465673271\n",
      "607  영천동        체인화 편의점   96469    931546080\n",
      "608  영천동        한식 음식점업   86636   4718292848\n",
      "595  영천동  기타음식료품위주종합소매업   19954    959308925\n",
      "602  영천동         육류 소매업   15941   1011787803\n",
      "591  영천동        골프장 운영업   12888   2017931318\n",
      "604  영천동        중식 음식점업   11179    340372975\n",
      "609  영천동            호텔업   10337   1337049208\n",
      "603  영천동    전시 및 행사 대행업    7926    173983390\n",
      "    읍면동명                      업종명    이용자수         이용금액\n",
      "639  예래동                  체인화 편의점  382363   4210831388\n",
      "641  예래동                  한식 음식점업  257037  17065832905\n",
      "638  예래동              차량용 주유소 운영업  119469   5716195298\n",
      "642  예래동                      호텔업  101252  25675282041\n",
      "625  예래동                 서양식 음식점업   88775   2595324088\n",
      "635  예래동              전시 및 행사 대행업   70070   2397491590\n",
      "640  예래동  피자, 햄버거, 샌드위치 및 유사 음식점업   46272    575843950\n",
      "623  예래동                 비알콜 음료점업   42238    515074980\n",
      "612  예래동                  골프장 운영업   33904   4639276847\n",
      "629  예래동                      여관업   28637   3842573687\n",
      "    읍면동명           업종명    이용자수         이용금액\n",
      "672  오라동       한식 음식점업  399680  12600363654\n",
      "670  오라동       체인화 편의점  235404   1994267550\n",
      "669  오라동   차량용 주유소 운영업  227106  10805283562\n",
      "658  오라동          슈퍼마켓  158182   3736976695\n",
      "654  오라동      비알콜 음료점업   75154    896851980\n",
      "649  오라동  그외 기타 종합 소매업   67857   2758083720\n",
      "645  오라동       골프장 운영업   29985   5011896649\n",
      "655  오라동   빵 및 과자류 소매업   28742    419769775\n",
      "656  오라동      서양식 음식점업   21296    389361810\n",
      "663  오라동        육류 소매업   21091   1180172571\n",
      "    읍면동명                      업종명    이용자수         이용금액\n",
      "685  외도동                     슈퍼마켓  398819   9571453290\n",
      "698  외도동                  체인화 편의점  369937   3703625235\n",
      "700  외도동                  한식 음식점업  307370  11147138510\n",
      "697  외도동              차량용 주유소 운영업   93786   5160575251\n",
      "682  외도동              빵 및 과자류 소매업   90052   1158661787\n",
      "699  외도동  피자, 햄버거, 샌드위치 및 유사 음식점업   75931   1049835337\n",
      "683  외도동                 서양식 음식점업   55802   1378271948\n",
      "696  외도동               차량용 가스 충전업   25326   1091044683\n",
      "695  외도동                  중식 음식점업   23928    613373200\n",
      "687  외도동                      여관업   20785    787083617\n",
      "     읍면동명          업종명    이용자수        이용금액\n",
      "729  용담1동      체인화 편의점  132634  1132427680\n",
      "731  용담1동      한식 음식점업  114277  5675879781\n",
      "728  용담1동  차량용 주유소 운영업   57170  2620426264\n",
      "716  용담1동         슈퍼마켓   49683   626410085\n",
      "721  용담1동       육류 소매업   32577  2535159928\n",
      "727  용담1동   차량용 가스 충전업   23579   729226686\n",
      "704  용담1동  과실 및 채소 소매업   11748   813022006\n",
      "713  용담1동  빵 및 과자류 소매업   10409   238664933\n",
      "724  용담1동      자동차 임대업    8686   361276952\n",
      "726  용담1동      중식 음식점업    7945   191471185\n",
      "     읍면동명                      업종명     이용자수          이용금액\n",
      "739  용담2동                      면세점  1971053  197349101246\n",
      "754  용담2동                  체인화 편의점   997158    6454865100\n",
      "756  용담2동                  한식 음식점업   705124   23056799984\n",
      "740  용담2동                 비알콜 음료점업   447461    4056159850\n",
      "744  용담2동                     슈퍼마켓   315063    6073529173\n",
      "755  용담2동  피자, 햄버거, 샌드위치 및 유사 음식점업   298842    2856689381\n",
      "736  용담2동        관광 민예품 및 선물용품 소매업   258312    8427903666\n",
      "753  용담2동              차량용 주유소 운영업   249376   11922755361\n",
      "751  용담2동                  자동차 임대업   169408   15384905067\n",
      "741  용담2동              빵 및 과자류 소매업   130929    1352424335\n",
      "    읍면동명                      업종명    이용자수        이용금액\n",
      "762  우도면                내항 여객 운송업  205542  5145571904\n",
      "779  우도면                  한식 음식점업  142849  4396486560\n",
      "777  우도면                  체인화 편의점   45297   344257360\n",
      "765  우도면                 서양식 음식점업   39065   617741080\n",
      "763  우도면                 비알콜 음료점업   34763   620132080\n",
      "767  우도면                     슈퍼마켓   22242   436848054\n",
      "764  우도면              빵 및 과자류 소매업   20201   282904424\n",
      "778  우도면  피자, 햄버거, 샌드위치 및 유사 음식점업   15431   161994900\n",
      "761  우도면            기타음식료품위주종합소매업   15382   328094100\n",
      "770  우도면                     여행사업   15237   311520800\n",
      "     읍면동명           업종명    이용자수        이용금액\n",
      "805  이도1동       체인화 편의점  264901  2087533244\n",
      "807  이도1동       한식 음식점업  208154  7250478633\n",
      "794  이도1동          슈퍼마켓  171809  3451318206\n",
      "793  이도1동       수산물 소매업   87255  5436536941\n",
      "782  이도1동   과실 및 채소 소매업   59842  4021536044\n",
      "791  이도1동   빵 및 과자류 소매업   57768   862101985\n",
      "790  이도1동      비알콜 음료점업   23955   247223080\n",
      "799  이도1동        육류 소매업   22148   828189857\n",
      "785  이도1동  그외 기타 종합 소매업   20845  6413003352\n",
      "808  이도1동           호텔업   19697  3541325540\n",
      "     읍면동명                      업종명     이용자수         이용금액\n",
      "838  이도2동                  한식 음식점업  1723522  63972999833\n",
      "836  이도2동                  체인화 편의점  1611941  14026955798\n",
      "823  이도2동                     슈퍼마켓  1288885  53356826347\n",
      "819  이도2동                 비알콜 음료점업   347756   3647080260\n",
      "837  이도2동  피자, 햄버거, 샌드위치 및 유사 음식점업   341924   4388179999\n",
      "820  이도2동              빵 및 과자류 소매업   280160   3753570292\n",
      "835  이도2동              차량용 주유소 운영업   266238  12653904803\n",
      "821  이도2동                 서양식 음식점업   233882   5101348888\n",
      "830  이도2동                  일식 음식점업   113890   5052605083\n",
      "811  이도2동              과실 및 채소 소매업    97954   6773631732\n",
      "    읍면동명                 업종명    이용자수        이용금액\n",
      "863  이호동             체인화 편의점  172495  1529301219\n",
      "862  이호동         차량용 주유소 운영업   67448  3239071499\n",
      "864  이호동             한식 음식점업   55582  2829972060\n",
      "851  이호동                슈퍼마켓   32794   552028454\n",
      "858  이호동             자동차 임대업   27879  2132851348\n",
      "849  이호동            서양식 음식점업   12616   183870661\n",
      "847  이호동            비알콜 음료점업   11373   121727605\n",
      "848  이호동         빵 및 과자류 소매업    9807    98105050\n",
      "860  이호동             중식 음식점업    8517   209475500\n",
      "852  이호동  스포츠 및 레크레이션 용품 임대업    4981   172559905\n",
      "     읍면동명                      업종명    이용자수         이용금액\n",
      "879  일도1동       스포츠 및 레크레이션 용품 임대업  223603  27101934705\n",
      "890  일도1동                  한식 음식점업  221901   5873728851\n",
      "888  일도1동                  체인화 편의점  175765   1689115830\n",
      "877  일도1동                  수산물 소매업  165819   9727214182\n",
      "867  일도1동              과실 및 채소 소매업   66973   3300497449\n",
      "874  일도1동                 비알콜 음료점업   52047    513714810\n",
      "892  일도1동            화장품 및 방향제 소매업   46290   1175933408\n",
      "889  일도1동  피자, 햄버거, 샌드위치 및 유사 음식점업   37991    362736763\n",
      "875  일도1동              빵 및 과자류 소매업   35785    735029877\n",
      "876  일도1동                 서양식 음식점업   26783    509472376\n",
      "     읍면동명                      업종명    이용자수         이용금액\n",
      "918  일도2동                  체인화 편의점  641140   5421931490\n",
      "920  일도2동                  한식 음식점업  615583  22748119492\n",
      "897  일도2동             그외 기타 종합 소매업  537954  36798591278\n",
      "907  일도2동                     슈퍼마켓  508283   9693244347\n",
      "904  일도2동              빵 및 과자류 소매업  175451   2399205447\n",
      "919  일도2동  피자, 햄버거, 샌드위치 및 유사 음식점업  173642   1821502554\n",
      "917  일도2동              차량용 주유소 운영업  117526   5134201810\n",
      "898  일도2동             기타 대형 종합 소매업   71310   2319110230\n",
      "903  일도2동                 비알콜 음료점업   41669    515231150\n",
      "905  일도2동                 서양식 음식점업   35269    708828521\n",
      "    읍면동명                      업종명    이용자수         이용금액\n",
      "948  정방동                  체인화 편의점  817730   8212710988\n",
      "950  정방동                  한식 음식점업  694175  30214452395\n",
      "937  정방동                     슈퍼마켓  246798   5192868731\n",
      "949  정방동  피자, 햄버거, 샌드위치 및 유사 음식점업  169243   2016715094\n",
      "934  정방동              빵 및 과자류 소매업  151254   2303639351\n",
      "944  정방동                  일식 음식점업  113103   9360515272\n",
      "935  정방동                 서양식 음식점업  104880   2683731167\n",
      "933  정방동                 비알콜 음료점업   95624   1102646313\n",
      "924  정방동              과실 및 채소 소매업   91627   4537019047\n",
      "936  정방동                  수산물 소매업   78030   4737800474\n",
      "    읍면동명            업종명    이용자수         이용금액\n",
      "981  조천읍        한식 음식점업  607940  23335650134\n",
      "979  조천읍        체인화 편의점  522911   5025231205\n",
      "967  조천읍           슈퍼마켓  225821   5429248438\n",
      "975  조천읍    전시 및 행사 대행업  193645   5094487326\n",
      "978  조천읍    차량용 주유소 운영업  185749  10143927993\n",
      "958  조천읍   그외 기타 종합 소매업  109553   4175998990\n",
      "962  조천읍  기타음식료품위주종합소매업  104695   2959770840\n",
      "964  조천읍    빵 및 과자류 소매업   96526   1409421387\n",
      "965  조천읍       서양식 음식점업   87832   1646108842\n",
      "984  조천읍       휴양콘도 운영업   56141   6664759133\n",
      "     읍면동명                      업종명    이용자수         이용금액\n",
      "1012  중문동                  체인화 편의점  410311   3932463124\n",
      "1014  중문동                  한식 음식점업  347961  16784999952\n",
      "992   중문동            기타음식료품위주종합소매업  191288   7749424650\n",
      "999   중문동                     슈퍼마켓  143070   3954770305\n",
      "994   중문동                      면세점   99316  14203022654\n",
      "997   중문동                 서양식 음식점업   86461   2176128328\n",
      "996   중문동              빵 및 과자류 소매업   63429    940834046\n",
      "1013  중문동  피자, 햄버거, 샌드위치 및 유사 음식점업   45882    591022546\n",
      "1011  중문동              차량용 주유소 운영업   40022   1996889112\n",
      "1001  중문동                      여관업   32257   3619450027\n",
      "     읍면동명                      업종명    이용자수         이용금액\n",
      "1042  중앙동                  체인화 편의점  817730   8212710988\n",
      "1044  중앙동                  한식 음식점업  694175  30214452395\n",
      "1031  중앙동                     슈퍼마켓  246798   5192868731\n",
      "1043  중앙동  피자, 햄버거, 샌드위치 및 유사 음식점업  169243   2016715094\n",
      "1028  중앙동              빵 및 과자류 소매업  151254   2303639351\n",
      "1038  중앙동                  일식 음식점업  113103   9360515272\n",
      "1029  중앙동                 서양식 음식점업  104880   2683731167\n",
      "1027  중앙동                 비알콜 음료점업   95624   1102646313\n",
      "1018  중앙동              과실 및 채소 소매업   91627   4537019047\n",
      "1030  중앙동                  수산물 소매업   78030   4737800474\n",
      "     읍면동명                      업종명     이용자수         이용금액\n",
      "1074  천지동                  체인화 편의점  1085648  10539113652\n",
      "1076  천지동                  한식 음식점업   823266  34745547096\n",
      "1062  천지동                     슈퍼마켓   261491   5540608106\n",
      "1075  천지동  피자, 햄버거, 샌드위치 및 유사 음식점업   181784   2179347187\n",
      "1059  천지동              빵 및 과자류 소매업   165816   2472669233\n",
      "1060  천지동                 서양식 음식점업   134625   3164610918\n",
      "1058  천지동                 비알콜 음료점업   132038   1425763713\n",
      "1069  천지동                  일식 음식점업   115557   9471256572\n",
      "1048  천지동              과실 및 채소 소매업    93338   4638298137\n",
      "1073  천지동              차량용 주유소 운영업    91669   4876067548\n",
      "     읍면동명          업종명   이용자수       이용금액\n",
      "1092  추자면      체인화 편의점  25533  343557930\n",
      "1083  추자면         슈퍼마켓  16570  428165810\n",
      "1093  추자면      한식 음식점업  10970  650760985\n",
      "1091  추자면  차량용 주유소 운영업   2845  229771738\n",
      "1079  추자면  과실 및 채소 소매업   1683  135773070\n",
      "1081  추자면       기타 주점업   1276  232453000\n",
      "1089  추자면      중식 음식점업   1253   45601604\n",
      "1082  추자면      수산물 소매업   1042  111277560\n",
      "1088  추자면     일반유흥 주점업    919  168218400\n",
      "1085  추자면          여관업    664   86427310\n",
      "     읍면동명                      업종명    이용자수         이용금액\n",
      "1118  표선면                  체인화 편의점  323798   3615249379\n",
      "1120  표선면                  한식 음식점업  235077  11656752695\n",
      "1106  표선면                     슈퍼마켓  143621   3927817305\n",
      "1101  표선면            기타음식료품위주종합소매업  121790   4195072090\n",
      "1117  표선면              차량용 주유소 운영업  105263   5559861451\n",
      "1114  표선면              전시 및 행사 대행업   50381   1655595050\n",
      "1095  표선면              과실 및 채소 소매업   32523   4691234569\n",
      "1104  표선면                 서양식 음식점업   32018    600597590\n",
      "1122  표선면                 휴양콘도 운영업   27735   3228748228\n",
      "1119  표선면  피자, 햄버거, 샌드위치 및 유사 음식점업   26113    459632774\n",
      "     읍면동명            업종명    이용자수        이용금액\n",
      "1147  한경면        한식 음식점업  132066  5217199649\n",
      "1145  한경면        체인화 편의점  120191  1240699845\n",
      "1135  한경면           슈퍼마켓   68861  1714338835\n",
      "1129  한경면  기타음식료품위주종합소매업   65090  2231350705\n",
      "1144  한경면    차량용 주유소 운영업   62061  4902771802\n",
      "1133  한경면       서양식 음식점업   30336   698327574\n",
      "1123  한경면        골프장 운영업   23435  3711799621\n",
      "1141  한경면    전시 및 행사 대행업   15162   415742200\n",
      "1142  한경면        중식 음식점업   13283   358406377\n",
      "1124  한경면    과실 및 채소 소매업   12810   526739566\n",
      "     읍면동명                      업종명    이용자수         이용금액\n",
      "1175  한림읍                  체인화 편의점  550644   5675648953\n",
      "1177  한림읍                  한식 음식점업  518863  20328266836\n",
      "1164  한림읍                     슈퍼마켓  220735   6364516737\n",
      "1174  한림읍              차량용 주유소 운영업  174565  10594121156\n",
      "1154  한림읍             그외 기타 종합 소매업  161379   8461222455\n",
      "1162  한림읍                 서양식 음식점업  141354   2990679316\n",
      "1161  한림읍              빵 및 과자류 소매업   65573    926212125\n",
      "1171  한림읍              전시 및 행사 대행업   54932   1927002850\n",
      "1176  한림읍  피자, 햄버거, 샌드위치 및 유사 음식점업   44975    632351522\n",
      "1160  한림읍                 비알콜 음료점업   44590    536894520\n",
      "     읍면동명                      업종명    이용자수         이용금액\n",
      "1204  화북동                  체인화 편의점  396632   3430602911\n",
      "1206  화북동                  한식 음식점업  335213  11378225951\n",
      "1203  화북동              차량용 주유소 운영업  237460  12751350004\n",
      "1192  화북동                     슈퍼마켓  235284   3924247919\n",
      "1184  화북동             기타 대형 종합 소매업  190947   7291185251\n",
      "1189  화북동              빵 및 과자류 소매업   88171   1111382926\n",
      "1205  화북동  피자, 햄버거, 샌드위치 및 유사 음식점업   55959    912817668\n",
      "1202  화북동               차량용 가스 충전업   34989   1396157377\n",
      "1185  화북동              기타 외국식 음식점업   22574    812470244\n",
      "1197  화북동                   육류 소매업   22373   1029060783\n",
      "     읍면동명                      업종명    이용자수        이용금액\n",
      "1228  효돈동                  체인화 편의점  110730  1044920210\n",
      "1227  효돈동              차량용 주유소 운영업   80406  3618787777\n",
      "1230  효돈동                  한식 음식점업   50203  2056391378\n",
      "1216  효돈동                 서양식 음식점업   42311   805265140\n",
      "1213  효돈동            기타음식료품위주종합소매업   34128  1462153670\n",
      "1218  효돈동                     슈퍼마켓   19148   304930580\n",
      "1225  효돈동                  중식 음식점업   17428   399450000\n",
      "1215  효돈동              빵 및 과자류 소매업   17096   159854870\n",
      "1209  효돈동              과실 및 채소 소매업   14510   506459004\n",
      "1229  효돈동  피자, 햄버거, 샌드위치 및 유사 음식점업   14501   122548910\n"
     ]
    }
   ],
   "source": [
    "# 각 지역에서 어떤 업종들이 활성화되어 있는지 확인\n",
    "for region in groupby_region_sector['읍면동명'].unique():\n",
    "    region_data = groupby_region_sector[groupby_region_sector['읍면동명'] == region]\n",
    "    region_data = region_data.sort_values(by='이용자수', ascending=False).head(10)\n",
    "    print(region_data)"
   ],
   "metadata": {
    "collapsed": false,
    "ExecuteTime": {
     "end_time": "2024-05-14T09:10:45.093785500Z",
     "start_time": "2024-05-14T09:10:44.607624400Z"
    }
   },
   "id": "be649136a220b772",
   "execution_count": 254
  },
  {
   "cell_type": "code",
   "outputs": [
    {
     "data": {
      "text/plain": "array([20170101, 20170102, 20170103, 20170104, 20170105, 20170106,\n       20170107, 20170108, 20170109, 20170110, 20170111, 20170112,\n       20170113, 20170114, 20170115, 20170116, 20170117, 20170118,\n       20170119, 20170120, 20170121, 20170122, 20170123, 20170124,\n       20170125, 20170126, 20170127, 20170128, 20170129, 20170130,\n       20170131, 20170201, 20170202, 20170203, 20170204, 20170205,\n       20170206, 20170207, 20170208, 20170209, 20170210, 20170211,\n       20170212, 20170213, 20170214, 20170215, 20170216, 20170217,\n       20170218, 20170219, 20170220, 20170221, 20170222, 20170223,\n       20170224, 20170225, 20170226, 20170227, 20170228, 20170301,\n       20170302, 20170303, 20170304, 20170305, 20170306, 20170307,\n       20170308, 20170309, 20170310, 20170311, 20170312, 20170313,\n       20170314, 20170315, 20170316, 20170317, 20170318, 20170319,\n       20170320, 20170321, 20170322, 20170323, 20170324, 20170325,\n       20170326, 20170327, 20170328, 20170329, 20170330, 20170331,\n       20170401, 20170402, 20170403, 20170404, 20170405, 20170406,\n       20170407, 20170408, 20170409, 20170410, 20170411, 20170412,\n       20170413, 20170414, 20170415, 20170416, 20170417, 20170418,\n       20170419, 20170420, 20170421, 20170422, 20170423, 20170424,\n       20170425, 20170426, 20170427, 20170428, 20170429, 20170430,\n       20170501, 20170502, 20170503, 20170504, 20170505, 20170506,\n       20170507, 20170508, 20170509, 20170510, 20170511, 20170512,\n       20170513, 20170514, 20170515, 20170516, 20170517, 20170518,\n       20170519, 20170520, 20170521, 20170522, 20170523, 20170524,\n       20170525, 20170526, 20170527, 20170528, 20170529, 20170530,\n       20170531, 20170601, 20170602, 20170603, 20170604, 20170605,\n       20170606, 20170607, 20170608, 20170609, 20170610, 20170611,\n       20170612, 20170613, 20170614, 20170615, 20170616, 20170617,\n       20170618, 20170619, 20170620, 20170621, 20170622, 20170623,\n       20170624, 20170625, 20170626, 20170627, 20170628, 20170629,\n       20170630, 20170701, 20170702, 20170703, 20170704, 20170705,\n       20170706, 20170707, 20170708, 20170709, 20170710, 20170711,\n       20170712, 20170713, 20170714, 20170715, 20170716, 20170717,\n       20170718, 20170719, 20170720, 20170721, 20170722, 20170723,\n       20170724, 20170725, 20170726, 20170727, 20170728, 20170729,\n       20170730, 20170731, 20170801, 20170802, 20170803, 20170804,\n       20170805, 20170806, 20170807, 20170808, 20170809, 20170810,\n       20170811, 20170812, 20170813, 20170814, 20170815, 20170816,\n       20170817, 20170818, 20170819, 20170820, 20170821, 20170822,\n       20170823, 20170824, 20170825, 20170826, 20170827, 20170828,\n       20170829, 20170830, 20170831, 20170901, 20170902, 20170903,\n       20170904, 20170905, 20170906, 20170907, 20170908, 20170909,\n       20170910, 20170911, 20170912, 20170913, 20170914, 20170915,\n       20170916, 20170917, 20170918, 20170919, 20170920, 20170921,\n       20170922, 20170923, 20170924, 20170925, 20170926, 20170927,\n       20170928, 20170929, 20170930, 20171001, 20171002, 20171003,\n       20171004, 20171005, 20171006, 20171007, 20171008, 20171009,\n       20171010, 20171011, 20171012, 20171013, 20171014, 20171015,\n       20171016, 20171017, 20171018, 20171019, 20171020, 20171021,\n       20171022, 20171023, 20171024, 20171025, 20171026, 20171027,\n       20171028, 20171029, 20171030, 20171031, 20171101, 20171102,\n       20171103, 20171104, 20171105, 20171106, 20171107, 20171108,\n       20171109, 20171110, 20171111, 20171112, 20171113, 20171114,\n       20171115, 20171116, 20171117, 20171118, 20171119, 20171120,\n       20171121, 20171122, 20171123, 20171124, 20171125, 20171126,\n       20171127, 20171128, 20171129, 20171130, 20171201, 20171202,\n       20171203, 20171204, 20171205, 20171206, 20171207, 20171208,\n       20171209, 20171210, 20171211, 20171212, 20171213, 20171214,\n       20171215, 20171216, 20171217, 20171218, 20171219, 20171220,\n       20171221, 20171222, 20171223, 20171224, 20171225, 20171226,\n       20171227, 20171228, 20171229, 20171230, 20171231, 20180101,\n       20180102, 20180103, 20180104, 20180105, 20180106, 20180107,\n       20180108, 20180109, 20180110, 20180111, 20180112, 20180113,\n       20180114, 20180115, 20180116, 20180117, 20180118, 20180119,\n       20180120, 20180121, 20180122, 20180123, 20180124, 20180125,\n       20180126, 20180127, 20180128, 20180129, 20180130, 20180131,\n       20180201, 20180202, 20180203, 20180204, 20180205, 20180206,\n       20180207, 20180208, 20180209, 20180210, 20180211, 20180212,\n       20180213, 20180214, 20180215, 20180216, 20180217, 20180218,\n       20180219, 20180220, 20180221, 20180222, 20180223, 20180224,\n       20180225, 20180226, 20180227, 20180228, 20180301, 20180302,\n       20180303, 20180304, 20180305, 20180306, 20180307, 20180308,\n       20180309, 20180310, 20180311, 20180312, 20180313, 20180314,\n       20180315, 20180316, 20180317, 20180318, 20180319, 20180320,\n       20180321, 20180322, 20180323, 20180324, 20180325, 20180326,\n       20180327, 20180328, 20180329, 20180330, 20180331, 20180401,\n       20180402, 20180403, 20180404, 20180405, 20180406, 20180407,\n       20180408, 20180409, 20180410, 20180411, 20180412, 20180413,\n       20180414, 20180415, 20180416, 20180417, 20180418, 20180419,\n       20180420, 20180421, 20180422, 20180423, 20180424, 20180425,\n       20180426, 20180427, 20180428, 20180429, 20180430, 20180501,\n       20180502, 20180503, 20180504, 20180505, 20180506, 20180507,\n       20180508, 20180509, 20180510, 20180511, 20180512, 20180513,\n       20180514, 20180515, 20180516, 20180517, 20180518, 20180519,\n       20180520, 20180521, 20180522, 20180523, 20180524, 20180525,\n       20180526, 20180527, 20180528, 20180529, 20180530, 20180531,\n       20180701, 20180702, 20180703, 20180704, 20180705, 20180706,\n       20180707, 20180708, 20180709, 20180710, 20180711, 20180712,\n       20180713, 20180714, 20180715, 20180716, 20180717, 20180718,\n       20180719, 20180720, 20180721, 20180722, 20180723, 20180724,\n       20180725, 20180726, 20180727, 20180728, 20180729, 20180730,\n       20180731, 20180801, 20180802, 20180803, 20180804, 20180805,\n       20180806, 20180807, 20180808, 20180809, 20180810, 20180811,\n       20180812, 20180813, 20180814, 20180815, 20180816, 20180817,\n       20180818, 20180819, 20180820, 20180821, 20180822, 20180823,\n       20180824, 20180825, 20180826, 20180827, 20180828, 20180829,\n       20180830, 20180831, 20181001, 20181002, 20181003, 20181004,\n       20181005, 20181006, 20181007, 20181008, 20181009, 20181010,\n       20181011, 20181012, 20181013, 20181014, 20181015, 20181016,\n       20181017, 20181018, 20181019, 20181020, 20181021, 20181022,\n       20181023, 20181024, 20181025, 20181026, 20181027, 20181028,\n       20181029, 20181030, 20181031, 20181101, 20181102, 20181103,\n       20181104, 20181105, 20181106, 20181107, 20181108, 20181109,\n       20181110, 20181111, 20181112, 20181113, 20181114, 20181115,\n       20181116, 20181117, 20181118, 20181119, 20181120, 20181121,\n       20181122, 20181123, 20181124, 20181125, 20181126, 20181127,\n       20181128, 20181129, 20181130, 20181201, 20180901, 20180902,\n       20180903, 20180904, 20180905, 20180906, 20180907, 20180908,\n       20180909, 20180910, 20180911, 20180912, 20180913, 20180914,\n       20180915, 20180916, 20180917, 20180918, 20180919, 20180920,\n       20180921, 20180922, 20180923, 20180924, 20180925, 20180926,\n       20180927, 20180928, 20180929, 20180930, 20181202, 20181203,\n       20181204, 20181205, 20181206, 20181207, 20181208, 20181209,\n       20181210, 20181211, 20181212, 20181213, 20181214, 20181215,\n       20181216, 20181217, 20181218, 20181219, 20181220, 20181221,\n       20181222, 20181223, 20181224, 20181225, 20181226, 20181227,\n       20181228, 20181229, 20181230, 20181231], dtype=int64)"
     },
     "execution_count": 255,
     "metadata": {},
     "output_type": "execute_result"
    }
   ],
   "source": [
    "# 유동인구 연월일 컬럼 확인\n",
    "jeju_pop_df['연월일'].unique()"
   ],
   "metadata": {
    "collapsed": false,
    "ExecuteTime": {
     "end_time": "2024-05-14T09:13:13.897930500Z",
     "start_time": "2024-05-14T09:13:13.857919900Z"
    }
   },
   "id": "6f0024250301f60c",
   "execution_count": 255
  },
  {
   "cell_type": "code",
   "outputs": [
    {
     "data": {
      "text/plain": "        연월일 시군구명 읍면동명  성별  연령대   방문인구       연월\n0  20170101  제주시  한림읍  남성  40대  19424  2017-01\n1  20170101  제주시  애월읍  여성  20대  27747  2017-01\n2  20170101  제주시  구좌읍  남성  70대   3459  2017-01\n3  20170101  제주시  조천읍  남성  40대  36695  2017-01\n4  20170101  제주시  한경면  남성  70대   1174  2017-01",
      "text/html": "<div>\n<style scoped>\n    .dataframe tbody tr th:only-of-type {\n        vertical-align: middle;\n    }\n\n    .dataframe tbody tr th {\n        vertical-align: top;\n    }\n\n    .dataframe thead th {\n        text-align: right;\n    }\n</style>\n<table border=\"1\" class=\"dataframe\">\n  <thead>\n    <tr style=\"text-align: right;\">\n      <th></th>\n      <th>연월일</th>\n      <th>시군구명</th>\n      <th>읍면동명</th>\n      <th>성별</th>\n      <th>연령대</th>\n      <th>방문인구</th>\n      <th>연월</th>\n    </tr>\n  </thead>\n  <tbody>\n    <tr>\n      <th>0</th>\n      <td>20170101</td>\n      <td>제주시</td>\n      <td>한림읍</td>\n      <td>남성</td>\n      <td>40대</td>\n      <td>19424</td>\n      <td>2017-01</td>\n    </tr>\n    <tr>\n      <th>1</th>\n      <td>20170101</td>\n      <td>제주시</td>\n      <td>애월읍</td>\n      <td>여성</td>\n      <td>20대</td>\n      <td>27747</td>\n      <td>2017-01</td>\n    </tr>\n    <tr>\n      <th>2</th>\n      <td>20170101</td>\n      <td>제주시</td>\n      <td>구좌읍</td>\n      <td>남성</td>\n      <td>70대</td>\n      <td>3459</td>\n      <td>2017-01</td>\n    </tr>\n    <tr>\n      <th>3</th>\n      <td>20170101</td>\n      <td>제주시</td>\n      <td>조천읍</td>\n      <td>남성</td>\n      <td>40대</td>\n      <td>36695</td>\n      <td>2017-01</td>\n    </tr>\n    <tr>\n      <th>4</th>\n      <td>20170101</td>\n      <td>제주시</td>\n      <td>한경면</td>\n      <td>남성</td>\n      <td>70대</td>\n      <td>1174</td>\n      <td>2017-01</td>\n    </tr>\n  </tbody>\n</table>\n</div>"
     },
     "execution_count": 256,
     "metadata": {},
     "output_type": "execute_result"
    }
   ],
   "source": [
    "# 유동인구 데이터 전처리\n",
    "jeju_pop_df['연월일'] = jeju_pop_df['연월일'].astype('string')\n",
    "jeju_pop_df['연월'] = jeju_pop_df['연월일'].str[:4] + '-' + jeju_pop_df['연월일'].str[4:6]\n",
    "jeju_pop_df['성별'] = jeju_pop_df['성별'] + '성'\n",
    "jeju_pop_df.head()"
   ],
   "metadata": {
    "collapsed": false,
    "ExecuteTime": {
     "end_time": "2024-05-14T09:13:48.569092Z",
     "start_time": "2024-05-14T09:13:47.734039Z"
    }
   },
   "id": "5be24450806bfa1f",
   "execution_count": 256
  },
  {
   "cell_type": "code",
   "outputs": [
    {
     "data": {
      "text/plain": "        연월  시군구명 읍면동명            업종명  성별  이용자수      이용금액\n0  2017-01  서귀포시  남원읍     건강보조식품 소매업  남성    11    137500\n1  2017-01  서귀포시  천지동     건강보조식품 소매업  여성    61  12334400\n2  2017-01  서귀포시  대정읍  기타음식료품위주종합소매업  남성   555  17301300\n3  2017-01  서귀포시  대정읍         기타 주점업  남성   324  71843080\n4  2017-01  서귀포시  대정읍    기타 외국식 음식점업  남성    40    971000",
      "text/html": "<div>\n<style scoped>\n    .dataframe tbody tr th:only-of-type {\n        vertical-align: middle;\n    }\n\n    .dataframe tbody tr th {\n        vertical-align: top;\n    }\n\n    .dataframe thead th {\n        text-align: right;\n    }\n</style>\n<table border=\"1\" class=\"dataframe\">\n  <thead>\n    <tr style=\"text-align: right;\">\n      <th></th>\n      <th>연월</th>\n      <th>시군구명</th>\n      <th>읍면동명</th>\n      <th>업종명</th>\n      <th>성별</th>\n      <th>이용자수</th>\n      <th>이용금액</th>\n    </tr>\n  </thead>\n  <tbody>\n    <tr>\n      <th>0</th>\n      <td>2017-01</td>\n      <td>서귀포시</td>\n      <td>남원읍</td>\n      <td>건강보조식품 소매업</td>\n      <td>남성</td>\n      <td>11</td>\n      <td>137500</td>\n    </tr>\n    <tr>\n      <th>1</th>\n      <td>2017-01</td>\n      <td>서귀포시</td>\n      <td>천지동</td>\n      <td>건강보조식품 소매업</td>\n      <td>여성</td>\n      <td>61</td>\n      <td>12334400</td>\n    </tr>\n    <tr>\n      <th>2</th>\n      <td>2017-01</td>\n      <td>서귀포시</td>\n      <td>대정읍</td>\n      <td>기타음식료품위주종합소매업</td>\n      <td>남성</td>\n      <td>555</td>\n      <td>17301300</td>\n    </tr>\n    <tr>\n      <th>3</th>\n      <td>2017-01</td>\n      <td>서귀포시</td>\n      <td>대정읍</td>\n      <td>기타 주점업</td>\n      <td>남성</td>\n      <td>324</td>\n      <td>71843080</td>\n    </tr>\n    <tr>\n      <th>4</th>\n      <td>2017-01</td>\n      <td>서귀포시</td>\n      <td>대정읍</td>\n      <td>기타 외국식 음식점업</td>\n      <td>남성</td>\n      <td>40</td>\n      <td>971000</td>\n    </tr>\n  </tbody>\n</table>\n</div>"
     },
     "execution_count": 259,
     "metadata": {},
     "output_type": "execute_result"
    }
   ],
   "source": [
    "# 카드 매출 데이터 컬럼 확인\n",
    "jeju_reg_df.head()"
   ],
   "metadata": {
    "collapsed": false,
    "ExecuteTime": {
     "end_time": "2024-05-14T09:19:24.207938300Z",
     "start_time": "2024-05-14T09:19:24.176863900Z"
    }
   },
   "id": "cdc6e06ce63cff8f",
   "execution_count": 259
  },
  {
   "cell_type": "code",
   "outputs": [
    {
     "data": {
      "text/plain": "        연월  시군구명 읍면동명  성별     방문인구\n0  2017-01  서귀포시  남원읍  남성  2844830\n1  2017-01  서귀포시  남원읍  여성  2430535\n2  2017-01  서귀포시  대륜동  남성  2643763\n3  2017-01  서귀포시  대륜동  여성  2293711\n4  2017-01  서귀포시  대정읍  남성  2346595",
      "text/html": "<div>\n<style scoped>\n    .dataframe tbody tr th:only-of-type {\n        vertical-align: middle;\n    }\n\n    .dataframe tbody tr th {\n        vertical-align: top;\n    }\n\n    .dataframe thead th {\n        text-align: right;\n    }\n</style>\n<table border=\"1\" class=\"dataframe\">\n  <thead>\n    <tr style=\"text-align: right;\">\n      <th></th>\n      <th>연월</th>\n      <th>시군구명</th>\n      <th>읍면동명</th>\n      <th>성별</th>\n      <th>방문인구</th>\n    </tr>\n  </thead>\n  <tbody>\n    <tr>\n      <th>0</th>\n      <td>2017-01</td>\n      <td>서귀포시</td>\n      <td>남원읍</td>\n      <td>남성</td>\n      <td>2844830</td>\n    </tr>\n    <tr>\n      <th>1</th>\n      <td>2017-01</td>\n      <td>서귀포시</td>\n      <td>남원읍</td>\n      <td>여성</td>\n      <td>2430535</td>\n    </tr>\n    <tr>\n      <th>2</th>\n      <td>2017-01</td>\n      <td>서귀포시</td>\n      <td>대륜동</td>\n      <td>남성</td>\n      <td>2643763</td>\n    </tr>\n    <tr>\n      <th>3</th>\n      <td>2017-01</td>\n      <td>서귀포시</td>\n      <td>대륜동</td>\n      <td>여성</td>\n      <td>2293711</td>\n    </tr>\n    <tr>\n      <th>4</th>\n      <td>2017-01</td>\n      <td>서귀포시</td>\n      <td>대정읍</td>\n      <td>남성</td>\n      <td>2346595</td>\n    </tr>\n  </tbody>\n</table>\n</div>"
     },
     "execution_count": 257,
     "metadata": {},
     "output_type": "execute_result"
    }
   ],
   "source": [
    "# 카드 매출 데이터와 맞게 그룹화\n",
    "groupby_pop = jeju_pop_df.groupby(['연월', '시군구명', '읍면동명', '성별']).sum(numeric_only=True).reset_index()\n",
    "groupby_pop.head()"
   ],
   "metadata": {
    "collapsed": false,
    "ExecuteTime": {
     "end_time": "2024-05-14T09:15:37.510963100Z",
     "start_time": "2024-05-14T09:15:37.300136600Z"
    }
   },
   "id": "d43e447239f44467",
   "execution_count": 257
  },
  {
   "cell_type": "code",
   "outputs": [
    {
     "data": {
      "text/plain": "        연월  시군구명 읍면동명            업종명  성별  이용자수      이용금액        방문인구\n0  2017-01  서귀포시  남원읍     건강보조식품 소매업  남성    11    137500 2844830.000\n1  2017-01  서귀포시  천지동     건강보조식품 소매업  여성    61  12334400  685754.000\n2  2017-01  서귀포시  대정읍  기타음식료품위주종합소매업  남성   555  17301300 2346595.000\n3  2017-01  서귀포시  대정읍         기타 주점업  남성   324  71843080 2346595.000\n4  2017-01  서귀포시  대정읍    기타 외국식 음식점업  남성    40    971000 2346595.000",
      "text/html": "<div>\n<style scoped>\n    .dataframe tbody tr th:only-of-type {\n        vertical-align: middle;\n    }\n\n    .dataframe tbody tr th {\n        vertical-align: top;\n    }\n\n    .dataframe thead th {\n        text-align: right;\n    }\n</style>\n<table border=\"1\" class=\"dataframe\">\n  <thead>\n    <tr style=\"text-align: right;\">\n      <th></th>\n      <th>연월</th>\n      <th>시군구명</th>\n      <th>읍면동명</th>\n      <th>업종명</th>\n      <th>성별</th>\n      <th>이용자수</th>\n      <th>이용금액</th>\n      <th>방문인구</th>\n    </tr>\n  </thead>\n  <tbody>\n    <tr>\n      <th>0</th>\n      <td>2017-01</td>\n      <td>서귀포시</td>\n      <td>남원읍</td>\n      <td>건강보조식품 소매업</td>\n      <td>남성</td>\n      <td>11</td>\n      <td>137500</td>\n      <td>2844830.000</td>\n    </tr>\n    <tr>\n      <th>1</th>\n      <td>2017-01</td>\n      <td>서귀포시</td>\n      <td>천지동</td>\n      <td>건강보조식품 소매업</td>\n      <td>여성</td>\n      <td>61</td>\n      <td>12334400</td>\n      <td>685754.000</td>\n    </tr>\n    <tr>\n      <th>2</th>\n      <td>2017-01</td>\n      <td>서귀포시</td>\n      <td>대정읍</td>\n      <td>기타음식료품위주종합소매업</td>\n      <td>남성</td>\n      <td>555</td>\n      <td>17301300</td>\n      <td>2346595.000</td>\n    </tr>\n    <tr>\n      <th>3</th>\n      <td>2017-01</td>\n      <td>서귀포시</td>\n      <td>대정읍</td>\n      <td>기타 주점업</td>\n      <td>남성</td>\n      <td>324</td>\n      <td>71843080</td>\n      <td>2346595.000</td>\n    </tr>\n    <tr>\n      <th>4</th>\n      <td>2017-01</td>\n      <td>서귀포시</td>\n      <td>대정읍</td>\n      <td>기타 외국식 음식점업</td>\n      <td>남성</td>\n      <td>40</td>\n      <td>971000</td>\n      <td>2346595.000</td>\n    </tr>\n  </tbody>\n</table>\n</div>"
     },
     "execution_count": 258,
     "metadata": {},
     "output_type": "execute_result"
    }
   ],
   "source": [
    "# 카드 매출액 데이터와 유동인구 데이터 합치기\n",
    "jeju_df = pd.merge(jeju_reg_df, groupby_pop, how='left', on=['연월', '시군구명', '읍면동명', '성별'])\n",
    "jeju_df.head()"
   ],
   "metadata": {
    "collapsed": false,
    "ExecuteTime": {
     "end_time": "2024-05-14T09:15:55.905339900Z",
     "start_time": "2024-05-14T09:15:55.843854700Z"
    }
   },
   "id": "afad5e324e20c9aa",
   "execution_count": 258
  }
 ],
 "metadata": {
  "kernelspec": {
   "display_name": "Python 3",
   "language": "python",
   "name": "python3"
  },
  "language_info": {
   "codemirror_mode": {
    "name": "ipython",
    "version": 2
   },
   "file_extension": ".py",
   "mimetype": "text/x-python",
   "name": "python",
   "nbconvert_exporter": "python",
   "pygments_lexer": "ipython2",
   "version": "2.7.6"
  }
 },
 "nbformat": 4,
 "nbformat_minor": 5
}
