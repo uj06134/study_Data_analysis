{
 "cells": [
  {
   "cell_type": "markdown",
   "source": [
    "대위는 신촌에서 대학생들을 대상으로 브런치 카페를 운영합니다.\n",
    "손님들의 취향에 딱 맞는 음악을 틀고 싶은데요. 브런치 카페이기 때문에, 일찍 일어나는 사람들이 좋아할 만한 음악이 무엇인지 분석해 보려고 합니다.\n",
    "주어진 데이터(다운로드)의 “Getting up”이라는 column을 보면 사람들이 아침에 일어나는 걸 얼마나 어려워하는지 알 수 있습니다. 5라고 대답한 사람들은 아침에 일어나는 걸 아주 어려워 하는 사람들이고, 1이라고 대답한 사람들은 아침에 쉽게 일어난다는 거죠.\n",
    "이 데이터로 봤을 때, 아침에 일찍 일어나는 사람들이 가장 좋아할 만한 음악 장르는 무엇인가요?"
   ],
   "metadata": {
    "collapsed": false
   },
   "id": "d82753a0b97cbca5"
  },
  {
   "cell_type": "code",
   "outputs": [],
   "source": [
    "import pandas as pd\n",
    "import seaborn as sns"
   ],
   "metadata": {
    "collapsed": false,
    "ExecuteTime": {
     "end_time": "2024-05-02T06:53:31.889316300Z",
     "start_time": "2024-05-02T06:53:31.877356400Z"
    }
   },
   "id": "35eb08e3bf46df46",
   "execution_count": 1
  },
  {
   "cell_type": "code",
   "outputs": [
    {
     "data": {
      "text/plain": "     Music  Slow songs or fast songs  Dance  Folk  Country  Classical music  \\\n0      5.0                       3.0    2.0   1.0      2.0              2.0   \n1      4.0                       4.0    2.0   1.0      1.0              1.0   \n2      5.0                       5.0    2.0   2.0      3.0              4.0   \n3      5.0                       3.0    2.0   1.0      1.0              1.0   \n4      5.0                       3.0    4.0   3.0      2.0              4.0   \n..     ...                       ...    ...   ...      ...              ...   \n992    5.0                       2.0    5.0   2.0      2.0              5.0   \n993    4.0                       4.0    5.0   1.0      3.0              4.0   \n994    4.0                       3.0    1.0   1.0      2.0              2.0   \n995    5.0                       3.0    3.0   3.0      1.0              3.0   \n996    5.0                       5.0    4.0   3.0      2.0              3.0   \n\n     Musical  Pop  Rock  Metal or Hardrock  ...  Spending on looks  \\\n0        1.0  5.0   5.0                1.0  ...                3.0   \n1        2.0  3.0   5.0                4.0  ...                2.0   \n2        5.0  3.0   5.0                3.0  ...                3.0   \n3        1.0  2.0   2.0                1.0  ...                4.0   \n4        3.0  5.0   3.0                1.0  ...                3.0   \n..       ...  ...   ...                ...  ...                ...   \n992      4.0  4.0   4.0                3.0  ...                4.0   \n993      1.0  4.0   1.0                1.0  ...                1.0   \n994      2.0  3.0   4.0                1.0  ...                2.0   \n995      1.0  3.0   4.0                1.0  ...                3.0   \n996      3.0  4.0   1.0                1.0  ...                1.0   \n\n     Spending on gadgets  Spending on healthy eating   Age  Height  Weight  \\\n0                      1                         3.0  20.0   163.0    48.0   \n1                      5                         2.0  19.0   163.0    58.0   \n2                      4                         2.0  20.0   176.0    67.0   \n3                      4                         1.0  22.0   172.0    59.0   \n4                      2                         4.0  20.0   170.0    59.0   \n..                   ...                         ...   ...     ...     ...   \n992                    3                         4.0  20.0   164.0    57.0   \n993                    5                         3.0  27.0   183.0    80.0   \n994                    2                         5.0  18.0   173.0    75.0   \n995                    3                         3.0  25.0   173.0    58.0   \n996                    1                         5.0  21.0   185.0    72.0   \n\n     Number of siblings  Gender  Handedness          Education  \n0                   1.0  female       right  bachelor's degree  \n1                   2.0  female       right  bachelor's degree  \n2                   2.0  female       right        high school  \n3                   1.0  female       right  bachelor's degree  \n4                   1.0  female       right        high school  \n..                  ...     ...         ...                ...  \n992                 1.0  female       right        high school  \n993                 5.0    male        left    master's degree  \n994                 0.0  female       right        high school  \n995                 1.0  female       right  bachelor's degree  \n996                 1.0    male       right        high school  \n\n[997 rows x 147 columns]",
      "text/html": "<div>\n<style scoped>\n    .dataframe tbody tr th:only-of-type {\n        vertical-align: middle;\n    }\n\n    .dataframe tbody tr th {\n        vertical-align: top;\n    }\n\n    .dataframe thead th {\n        text-align: right;\n    }\n</style>\n<table border=\"1\" class=\"dataframe\">\n  <thead>\n    <tr style=\"text-align: right;\">\n      <th></th>\n      <th>Music</th>\n      <th>Slow songs or fast songs</th>\n      <th>Dance</th>\n      <th>Folk</th>\n      <th>Country</th>\n      <th>Classical music</th>\n      <th>Musical</th>\n      <th>Pop</th>\n      <th>Rock</th>\n      <th>Metal or Hardrock</th>\n      <th>...</th>\n      <th>Spending on looks</th>\n      <th>Spending on gadgets</th>\n      <th>Spending on healthy eating</th>\n      <th>Age</th>\n      <th>Height</th>\n      <th>Weight</th>\n      <th>Number of siblings</th>\n      <th>Gender</th>\n      <th>Handedness</th>\n      <th>Education</th>\n    </tr>\n  </thead>\n  <tbody>\n    <tr>\n      <th>0</th>\n      <td>5.0</td>\n      <td>3.0</td>\n      <td>2.0</td>\n      <td>1.0</td>\n      <td>2.0</td>\n      <td>2.0</td>\n      <td>1.0</td>\n      <td>5.0</td>\n      <td>5.0</td>\n      <td>1.0</td>\n      <td>...</td>\n      <td>3.0</td>\n      <td>1</td>\n      <td>3.0</td>\n      <td>20.0</td>\n      <td>163.0</td>\n      <td>48.0</td>\n      <td>1.0</td>\n      <td>female</td>\n      <td>right</td>\n      <td>bachelor's degree</td>\n    </tr>\n    <tr>\n      <th>1</th>\n      <td>4.0</td>\n      <td>4.0</td>\n      <td>2.0</td>\n      <td>1.0</td>\n      <td>1.0</td>\n      <td>1.0</td>\n      <td>2.0</td>\n      <td>3.0</td>\n      <td>5.0</td>\n      <td>4.0</td>\n      <td>...</td>\n      <td>2.0</td>\n      <td>5</td>\n      <td>2.0</td>\n      <td>19.0</td>\n      <td>163.0</td>\n      <td>58.0</td>\n      <td>2.0</td>\n      <td>female</td>\n      <td>right</td>\n      <td>bachelor's degree</td>\n    </tr>\n    <tr>\n      <th>2</th>\n      <td>5.0</td>\n      <td>5.0</td>\n      <td>2.0</td>\n      <td>2.0</td>\n      <td>3.0</td>\n      <td>4.0</td>\n      <td>5.0</td>\n      <td>3.0</td>\n      <td>5.0</td>\n      <td>3.0</td>\n      <td>...</td>\n      <td>3.0</td>\n      <td>4</td>\n      <td>2.0</td>\n      <td>20.0</td>\n      <td>176.0</td>\n      <td>67.0</td>\n      <td>2.0</td>\n      <td>female</td>\n      <td>right</td>\n      <td>high school</td>\n    </tr>\n    <tr>\n      <th>3</th>\n      <td>5.0</td>\n      <td>3.0</td>\n      <td>2.0</td>\n      <td>1.0</td>\n      <td>1.0</td>\n      <td>1.0</td>\n      <td>1.0</td>\n      <td>2.0</td>\n      <td>2.0</td>\n      <td>1.0</td>\n      <td>...</td>\n      <td>4.0</td>\n      <td>4</td>\n      <td>1.0</td>\n      <td>22.0</td>\n      <td>172.0</td>\n      <td>59.0</td>\n      <td>1.0</td>\n      <td>female</td>\n      <td>right</td>\n      <td>bachelor's degree</td>\n    </tr>\n    <tr>\n      <th>4</th>\n      <td>5.0</td>\n      <td>3.0</td>\n      <td>4.0</td>\n      <td>3.0</td>\n      <td>2.0</td>\n      <td>4.0</td>\n      <td>3.0</td>\n      <td>5.0</td>\n      <td>3.0</td>\n      <td>1.0</td>\n      <td>...</td>\n      <td>3.0</td>\n      <td>2</td>\n      <td>4.0</td>\n      <td>20.0</td>\n      <td>170.0</td>\n      <td>59.0</td>\n      <td>1.0</td>\n      <td>female</td>\n      <td>right</td>\n      <td>high school</td>\n    </tr>\n    <tr>\n      <th>...</th>\n      <td>...</td>\n      <td>...</td>\n      <td>...</td>\n      <td>...</td>\n      <td>...</td>\n      <td>...</td>\n      <td>...</td>\n      <td>...</td>\n      <td>...</td>\n      <td>...</td>\n      <td>...</td>\n      <td>...</td>\n      <td>...</td>\n      <td>...</td>\n      <td>...</td>\n      <td>...</td>\n      <td>...</td>\n      <td>...</td>\n      <td>...</td>\n      <td>...</td>\n      <td>...</td>\n    </tr>\n    <tr>\n      <th>992</th>\n      <td>5.0</td>\n      <td>2.0</td>\n      <td>5.0</td>\n      <td>2.0</td>\n      <td>2.0</td>\n      <td>5.0</td>\n      <td>4.0</td>\n      <td>4.0</td>\n      <td>4.0</td>\n      <td>3.0</td>\n      <td>...</td>\n      <td>4.0</td>\n      <td>3</td>\n      <td>4.0</td>\n      <td>20.0</td>\n      <td>164.0</td>\n      <td>57.0</td>\n      <td>1.0</td>\n      <td>female</td>\n      <td>right</td>\n      <td>high school</td>\n    </tr>\n    <tr>\n      <th>993</th>\n      <td>4.0</td>\n      <td>4.0</td>\n      <td>5.0</td>\n      <td>1.0</td>\n      <td>3.0</td>\n      <td>4.0</td>\n      <td>1.0</td>\n      <td>4.0</td>\n      <td>1.0</td>\n      <td>1.0</td>\n      <td>...</td>\n      <td>1.0</td>\n      <td>5</td>\n      <td>3.0</td>\n      <td>27.0</td>\n      <td>183.0</td>\n      <td>80.0</td>\n      <td>5.0</td>\n      <td>male</td>\n      <td>left</td>\n      <td>master's degree</td>\n    </tr>\n    <tr>\n      <th>994</th>\n      <td>4.0</td>\n      <td>3.0</td>\n      <td>1.0</td>\n      <td>1.0</td>\n      <td>2.0</td>\n      <td>2.0</td>\n      <td>2.0</td>\n      <td>3.0</td>\n      <td>4.0</td>\n      <td>1.0</td>\n      <td>...</td>\n      <td>2.0</td>\n      <td>2</td>\n      <td>5.0</td>\n      <td>18.0</td>\n      <td>173.0</td>\n      <td>75.0</td>\n      <td>0.0</td>\n      <td>female</td>\n      <td>right</td>\n      <td>high school</td>\n    </tr>\n    <tr>\n      <th>995</th>\n      <td>5.0</td>\n      <td>3.0</td>\n      <td>3.0</td>\n      <td>3.0</td>\n      <td>1.0</td>\n      <td>3.0</td>\n      <td>1.0</td>\n      <td>3.0</td>\n      <td>4.0</td>\n      <td>1.0</td>\n      <td>...</td>\n      <td>3.0</td>\n      <td>3</td>\n      <td>3.0</td>\n      <td>25.0</td>\n      <td>173.0</td>\n      <td>58.0</td>\n      <td>1.0</td>\n      <td>female</td>\n      <td>right</td>\n      <td>bachelor's degree</td>\n    </tr>\n    <tr>\n      <th>996</th>\n      <td>5.0</td>\n      <td>5.0</td>\n      <td>4.0</td>\n      <td>3.0</td>\n      <td>2.0</td>\n      <td>3.0</td>\n      <td>3.0</td>\n      <td>4.0</td>\n      <td>1.0</td>\n      <td>1.0</td>\n      <td>...</td>\n      <td>1.0</td>\n      <td>1</td>\n      <td>5.0</td>\n      <td>21.0</td>\n      <td>185.0</td>\n      <td>72.0</td>\n      <td>1.0</td>\n      <td>male</td>\n      <td>right</td>\n      <td>high school</td>\n    </tr>\n  </tbody>\n</table>\n<p>997 rows × 147 columns</p>\n</div>"
     },
     "execution_count": 2,
     "metadata": {},
     "output_type": "execute_result"
    }
   ],
   "source": [
    "df = pd.read_csv(\"../data/young_survey.csv\")\n",
    "df"
   ],
   "metadata": {
    "collapsed": false,
    "ExecuteTime": {
     "end_time": "2024-05-02T06:53:35.187299500Z",
     "start_time": "2024-05-02T06:53:35.051967900Z"
    }
   },
   "id": "6142e976dbb086c1",
   "execution_count": 2
  },
  {
   "cell_type": "code",
   "outputs": [],
   "source": [
    "brunch_df = df.corr(numeric_only=True)['Getting up']"
   ],
   "metadata": {
    "collapsed": false,
    "ExecuteTime": {
     "end_time": "2024-05-02T07:13:28.235717300Z",
     "start_time": "2024-05-02T07:13:28.113303600Z"
    }
   },
   "id": "16288442f3a78ca7",
   "execution_count": 25
  },
  {
   "cell_type": "code",
   "outputs": [
    {
     "data": {
      "text/plain": "Opera                      -0.071819\nSlow songs or fast songs   -0.052613\nFolk                       -0.049612\nPunk                       -0.029189\nMetal or Hardrock          -0.026769\nCountry                    -0.025315\nLatino                     -0.015060\nReggae, Ska                -0.008434\nMusical                     0.011869\nClassical music             0.014285\nSwing, Jazz                 0.019556\nTechno, Trance              0.019863\nDance                       0.027249\nAlternative                 0.027540\nRock n roll                 0.028889\nHiphop, Rap                 0.038980\nPop                         0.079101\nRock                        0.105245\nName: Getting up, dtype: float64"
     },
     "execution_count": 31,
     "metadata": {},
     "output_type": "execute_result"
    }
   ],
   "source": [
    "# 음악 장르\n",
    "brunch_df[1:19].sort_values(ascending=True) "
   ],
   "metadata": {
    "collapsed": false,
    "ExecuteTime": {
     "end_time": "2024-05-02T07:35:40.245108800Z",
     "start_time": "2024-05-02T07:35:40.219816800Z"
    }
   },
   "id": "65c7401a4a5db535",
   "execution_count": 31
  }
 ],
 "metadata": {
  "kernelspec": {
   "display_name": "Python 3",
   "language": "python",
   "name": "python3"
  },
  "language_info": {
   "codemirror_mode": {
    "name": "ipython",
    "version": 2
   },
   "file_extension": ".py",
   "mimetype": "text/x-python",
   "name": "python",
   "nbconvert_exporter": "python",
   "pygments_lexer": "ipython2",
   "version": "2.7.6"
  }
 },
 "nbformat": 4,
 "nbformat_minor": 5
}
