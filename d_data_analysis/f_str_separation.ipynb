{
 "cells": [
  {
   "cell_type": "markdown",
   "source": [
    "## 문자열 분리"
   ],
   "metadata": {
    "collapsed": false
   },
   "id": "d3bf144523062e01"
  },
  {
   "cell_type": "code",
   "outputs": [],
   "source": [
    "import pandas as pd"
   ],
   "metadata": {
    "collapsed": false,
    "ExecuteTime": {
     "end_time": "2024-05-07T06:16:21.135970800Z",
     "start_time": "2024-05-07T06:16:20.466459700Z"
    }
   },
   "id": "9a3344ddb1ef4ab8",
   "execution_count": 1
  },
  {
   "cell_type": "code",
   "outputs": [
    {
     "data": {
      "text/plain": "             관리번호        공원명  공원구분                  소재지도로명주소          전화번호\n0     29170-00001     문화근린공원  근린공원           광주광역시 북구 대천로 86  062-410-6438\n1     29170-00002   두암제1근린공원  근린공원           광주광역시 북구 삼정로 36  062-410-6438\n2     29170-00003   첨단체육근린공원  근린공원        광주광역시 북구 임방울대로 877  062-410-6438\n3     29170-00004   일곡제1근린공원  근린공원           광주광역시 북구 일곡로 55  062-410-6438\n4     29170-00005   일곡제2근린공원  근린공원          광주광역시 북구 설죽로 526  062-410-6438\n...           ...        ...   ...                       ...           ...\n8117  44800-00082  홍성읍24호소공원   소공원   충청남도 홍성군 홍성읍 오관리 472 일원  041-630-1268\n8118  47760-00002       서부공원  근린공원   경상북도 영양군 영양읍 군민회관길 42-6  054-680-6340\n8119  47760-00003       입암공원  근린공원  경상북도 영양군 입암면 신구리 산27-5번지  054-680-6340\n8120  47760-00004       수비공원  근린공원    경상북도 영양군 수비면 발리리 산48번지  054-680-6340\n8121  47760-00005  삼지연꽃 테마파크  수변공원    경상북도 영양군 영양읍 삼지리 200번지  054-680-6340\n\n[8122 rows x 5 columns]",
      "text/html": "<div>\n<style scoped>\n    .dataframe tbody tr th:only-of-type {\n        vertical-align: middle;\n    }\n\n    .dataframe tbody tr th {\n        vertical-align: top;\n    }\n\n    .dataframe thead th {\n        text-align: right;\n    }\n</style>\n<table border=\"1\" class=\"dataframe\">\n  <thead>\n    <tr style=\"text-align: right;\">\n      <th></th>\n      <th>관리번호</th>\n      <th>공원명</th>\n      <th>공원구분</th>\n      <th>소재지도로명주소</th>\n      <th>전화번호</th>\n    </tr>\n  </thead>\n  <tbody>\n    <tr>\n      <th>0</th>\n      <td>29170-00001</td>\n      <td>문화근린공원</td>\n      <td>근린공원</td>\n      <td>광주광역시 북구 대천로 86</td>\n      <td>062-410-6438</td>\n    </tr>\n    <tr>\n      <th>1</th>\n      <td>29170-00002</td>\n      <td>두암제1근린공원</td>\n      <td>근린공원</td>\n      <td>광주광역시 북구 삼정로 36</td>\n      <td>062-410-6438</td>\n    </tr>\n    <tr>\n      <th>2</th>\n      <td>29170-00003</td>\n      <td>첨단체육근린공원</td>\n      <td>근린공원</td>\n      <td>광주광역시 북구 임방울대로 877</td>\n      <td>062-410-6438</td>\n    </tr>\n    <tr>\n      <th>3</th>\n      <td>29170-00004</td>\n      <td>일곡제1근린공원</td>\n      <td>근린공원</td>\n      <td>광주광역시 북구 일곡로 55</td>\n      <td>062-410-6438</td>\n    </tr>\n    <tr>\n      <th>4</th>\n      <td>29170-00005</td>\n      <td>일곡제2근린공원</td>\n      <td>근린공원</td>\n      <td>광주광역시 북구 설죽로 526</td>\n      <td>062-410-6438</td>\n    </tr>\n    <tr>\n      <th>...</th>\n      <td>...</td>\n      <td>...</td>\n      <td>...</td>\n      <td>...</td>\n      <td>...</td>\n    </tr>\n    <tr>\n      <th>8117</th>\n      <td>44800-00082</td>\n      <td>홍성읍24호소공원</td>\n      <td>소공원</td>\n      <td>충청남도 홍성군 홍성읍 오관리 472 일원</td>\n      <td>041-630-1268</td>\n    </tr>\n    <tr>\n      <th>8118</th>\n      <td>47760-00002</td>\n      <td>서부공원</td>\n      <td>근린공원</td>\n      <td>경상북도 영양군 영양읍 군민회관길 42-6</td>\n      <td>054-680-6340</td>\n    </tr>\n    <tr>\n      <th>8119</th>\n      <td>47760-00003</td>\n      <td>입암공원</td>\n      <td>근린공원</td>\n      <td>경상북도 영양군 입암면 신구리 산27-5번지</td>\n      <td>054-680-6340</td>\n    </tr>\n    <tr>\n      <th>8120</th>\n      <td>47760-00004</td>\n      <td>수비공원</td>\n      <td>근린공원</td>\n      <td>경상북도 영양군 수비면 발리리 산48번지</td>\n      <td>054-680-6340</td>\n    </tr>\n    <tr>\n      <th>8121</th>\n      <td>47760-00005</td>\n      <td>삼지연꽃 테마파크</td>\n      <td>수변공원</td>\n      <td>경상북도 영양군 영양읍 삼지리 200번지</td>\n      <td>054-680-6340</td>\n    </tr>\n  </tbody>\n</table>\n<p>8122 rows × 5 columns</p>\n</div>"
     },
     "execution_count": 3,
     "metadata": {},
     "output_type": "execute_result"
    }
   ],
   "source": [
    "df = pd.read_csv('data/parks.csv')\n",
    "df"
   ],
   "metadata": {
    "collapsed": false,
    "ExecuteTime": {
     "end_time": "2024-05-07T06:36:05.245779600Z",
     "start_time": "2024-05-07T06:36:05.176116900Z"
    }
   },
   "id": "257f04df90da0ed4",
   "execution_count": 3
  },
  {
   "cell_type": "code",
   "outputs": [
    {
     "data": {
      "text/plain": "0                 [광주광역시, 북구, 대천로, 86]\n1                 [광주광역시, 북구, 삼정로, 36]\n2              [광주광역시, 북구, 임방울대로, 877]\n3                 [광주광역시, 북구, 일곡로, 55]\n4                [광주광역시, 북구, 설죽로, 526]\n                     ...              \n8117    [충청남도, 홍성군, 홍성읍, 오관리, 472, 일원]\n8118     [경상북도, 영양군, 영양읍, 군민회관길, 42-6]\n8119    [경상북도, 영양군, 입암면, 신구리, 산27-5번지]\n8120      [경상북도, 영양군, 수비면, 발리리, 산48번지]\n8121      [경상북도, 영양군, 영양읍, 삼지리, 200번지]\nName: 소재지도로명주소, Length: 8122, dtype: object"
     },
     "execution_count": 7,
     "metadata": {},
     "output_type": "execute_result"
    }
   ],
   "source": [
    "# str.split(): 띄어쓰기 기준으로 나누기\n",
    "df['소재지도로명주소'].str.split()"
   ],
   "metadata": {
    "collapsed": false,
    "ExecuteTime": {
     "end_time": "2024-05-07T06:38:04.706209300Z",
     "start_time": "2024-05-07T06:38:04.669176700Z"
    }
   },
   "id": "c663d2f8de83b647",
   "execution_count": 7
  },
  {
   "cell_type": "code",
   "outputs": [
    {
     "data": {
      "text/plain": "0                [광주광역시, 북구 대천로 86]\n1                [광주광역시, 북구 삼정로 36]\n2             [광주광역시, 북구 임방울대로 877]\n3                [광주광역시, 북구 일곡로 55]\n4               [광주광역시, 북구 설죽로 526]\n                   ...             \n8117     [충청남도, 홍성군 홍성읍 오관리 472 일원]\n8118     [경상북도, 영양군 영양읍 군민회관길 42-6]\n8119    [경상북도, 영양군 입암면 신구리 산27-5번지]\n8120      [경상북도, 영양군 수비면 발리리 산48번지]\n8121      [경상북도, 영양군 영양읍 삼지리 200번지]\nName: 소재지도로명주소, Length: 8122, dtype: object"
     },
     "execution_count": 9,
     "metadata": {},
     "output_type": "execute_result"
    }
   ],
   "source": [
    "# str.split(n=1): 첫번째 띄어쓰기 기준으로 나눔 \n",
    "df['소재지도로명주소'].str.split(n=1)"
   ],
   "metadata": {
    "collapsed": false,
    "ExecuteTime": {
     "end_time": "2024-05-07T06:38:55.165370200Z",
     "start_time": "2024-05-07T06:38:55.117492100Z"
    }
   },
   "id": "90c586c3b3c45237",
   "execution_count": 9
  },
  {
   "cell_type": "code",
   "outputs": [
    {
     "data": {
      "text/plain": "          0                    1\n0     광주광역시            북구 대천로 86\n1     광주광역시            북구 삼정로 36\n2     광주광역시         북구 임방울대로 877\n3     광주광역시            북구 일곡로 55\n4     광주광역시           북구 설죽로 526\n...     ...                  ...\n8117   충청남도   홍성군 홍성읍 오관리 472 일원\n8118   경상북도   영양군 영양읍 군민회관길 42-6\n8119   경상북도  영양군 입암면 신구리 산27-5번지\n8120   경상북도    영양군 수비면 발리리 산48번지\n8121   경상북도    영양군 영양읍 삼지리 200번지\n\n[8122 rows x 2 columns]",
      "text/html": "<div>\n<style scoped>\n    .dataframe tbody tr th:only-of-type {\n        vertical-align: middle;\n    }\n\n    .dataframe tbody tr th {\n        vertical-align: top;\n    }\n\n    .dataframe thead th {\n        text-align: right;\n    }\n</style>\n<table border=\"1\" class=\"dataframe\">\n  <thead>\n    <tr style=\"text-align: right;\">\n      <th></th>\n      <th>0</th>\n      <th>1</th>\n    </tr>\n  </thead>\n  <tbody>\n    <tr>\n      <th>0</th>\n      <td>광주광역시</td>\n      <td>북구 대천로 86</td>\n    </tr>\n    <tr>\n      <th>1</th>\n      <td>광주광역시</td>\n      <td>북구 삼정로 36</td>\n    </tr>\n    <tr>\n      <th>2</th>\n      <td>광주광역시</td>\n      <td>북구 임방울대로 877</td>\n    </tr>\n    <tr>\n      <th>3</th>\n      <td>광주광역시</td>\n      <td>북구 일곡로 55</td>\n    </tr>\n    <tr>\n      <th>4</th>\n      <td>광주광역시</td>\n      <td>북구 설죽로 526</td>\n    </tr>\n    <tr>\n      <th>...</th>\n      <td>...</td>\n      <td>...</td>\n    </tr>\n    <tr>\n      <th>8117</th>\n      <td>충청남도</td>\n      <td>홍성군 홍성읍 오관리 472 일원</td>\n    </tr>\n    <tr>\n      <th>8118</th>\n      <td>경상북도</td>\n      <td>영양군 영양읍 군민회관길 42-6</td>\n    </tr>\n    <tr>\n      <th>8119</th>\n      <td>경상북도</td>\n      <td>영양군 입암면 신구리 산27-5번지</td>\n    </tr>\n    <tr>\n      <th>8120</th>\n      <td>경상북도</td>\n      <td>영양군 수비면 발리리 산48번지</td>\n    </tr>\n    <tr>\n      <th>8121</th>\n      <td>경상북도</td>\n      <td>영양군 영양읍 삼지리 200번지</td>\n    </tr>\n  </tbody>\n</table>\n<p>8122 rows × 2 columns</p>\n</div>"
     },
     "execution_count": 11,
     "metadata": {},
     "output_type": "execute_result"
    }
   ],
   "source": [
    "# 새로운 df 리턴(0, 1)\n",
    "df['소재지도로명주소'].str.split(n=1, expand=True)"
   ],
   "metadata": {
    "collapsed": false,
    "ExecuteTime": {
     "end_time": "2024-05-07T06:39:40.210629Z",
     "start_time": "2024-05-07T06:39:40.191095300Z"
    }
   },
   "id": "c84a5439fec01dde",
   "execution_count": 11
  },
  {
   "cell_type": "code",
   "outputs": [
    {
     "data": {
      "text/plain": "             관리번호        공원명  공원구분                  소재지도로명주소          전화번호  \\\n0     29170-00001     문화근린공원  근린공원           광주광역시 북구 대천로 86  062-410-6438   \n1     29170-00002   두암제1근린공원  근린공원           광주광역시 북구 삼정로 36  062-410-6438   \n2     29170-00003   첨단체육근린공원  근린공원        광주광역시 북구 임방울대로 877  062-410-6438   \n3     29170-00004   일곡제1근린공원  근린공원           광주광역시 북구 일곡로 55  062-410-6438   \n4     29170-00005   일곡제2근린공원  근린공원          광주광역시 북구 설죽로 526  062-410-6438   \n...           ...        ...   ...                       ...           ...   \n8117  44800-00082  홍성읍24호소공원   소공원   충청남도 홍성군 홍성읍 오관리 472 일원  041-630-1268   \n8118  47760-00002       서부공원  근린공원   경상북도 영양군 영양읍 군민회관길 42-6  054-680-6340   \n8119  47760-00003       입암공원  근린공원  경상북도 영양군 입암면 신구리 산27-5번지  054-680-6340   \n8120  47760-00004       수비공원  근린공원    경상북도 영양군 수비면 발리리 산48번지  054-680-6340   \n8121  47760-00005  삼지연꽃 테마파크  수변공원    경상북도 영양군 영양읍 삼지리 200번지  054-680-6340   \n\n       관할구역  \n0     광주광역시  \n1     광주광역시  \n2     광주광역시  \n3     광주광역시  \n4     광주광역시  \n...     ...  \n8117   충청남도  \n8118   경상북도  \n8119   경상북도  \n8120   경상북도  \n8121   경상북도  \n\n[8122 rows x 6 columns]",
      "text/html": "<div>\n<style scoped>\n    .dataframe tbody tr th:only-of-type {\n        vertical-align: middle;\n    }\n\n    .dataframe tbody tr th {\n        vertical-align: top;\n    }\n\n    .dataframe thead th {\n        text-align: right;\n    }\n</style>\n<table border=\"1\" class=\"dataframe\">\n  <thead>\n    <tr style=\"text-align: right;\">\n      <th></th>\n      <th>관리번호</th>\n      <th>공원명</th>\n      <th>공원구분</th>\n      <th>소재지도로명주소</th>\n      <th>전화번호</th>\n      <th>관할구역</th>\n    </tr>\n  </thead>\n  <tbody>\n    <tr>\n      <th>0</th>\n      <td>29170-00001</td>\n      <td>문화근린공원</td>\n      <td>근린공원</td>\n      <td>광주광역시 북구 대천로 86</td>\n      <td>062-410-6438</td>\n      <td>광주광역시</td>\n    </tr>\n    <tr>\n      <th>1</th>\n      <td>29170-00002</td>\n      <td>두암제1근린공원</td>\n      <td>근린공원</td>\n      <td>광주광역시 북구 삼정로 36</td>\n      <td>062-410-6438</td>\n      <td>광주광역시</td>\n    </tr>\n    <tr>\n      <th>2</th>\n      <td>29170-00003</td>\n      <td>첨단체육근린공원</td>\n      <td>근린공원</td>\n      <td>광주광역시 북구 임방울대로 877</td>\n      <td>062-410-6438</td>\n      <td>광주광역시</td>\n    </tr>\n    <tr>\n      <th>3</th>\n      <td>29170-00004</td>\n      <td>일곡제1근린공원</td>\n      <td>근린공원</td>\n      <td>광주광역시 북구 일곡로 55</td>\n      <td>062-410-6438</td>\n      <td>광주광역시</td>\n    </tr>\n    <tr>\n      <th>4</th>\n      <td>29170-00005</td>\n      <td>일곡제2근린공원</td>\n      <td>근린공원</td>\n      <td>광주광역시 북구 설죽로 526</td>\n      <td>062-410-6438</td>\n      <td>광주광역시</td>\n    </tr>\n    <tr>\n      <th>...</th>\n      <td>...</td>\n      <td>...</td>\n      <td>...</td>\n      <td>...</td>\n      <td>...</td>\n      <td>...</td>\n    </tr>\n    <tr>\n      <th>8117</th>\n      <td>44800-00082</td>\n      <td>홍성읍24호소공원</td>\n      <td>소공원</td>\n      <td>충청남도 홍성군 홍성읍 오관리 472 일원</td>\n      <td>041-630-1268</td>\n      <td>충청남도</td>\n    </tr>\n    <tr>\n      <th>8118</th>\n      <td>47760-00002</td>\n      <td>서부공원</td>\n      <td>근린공원</td>\n      <td>경상북도 영양군 영양읍 군민회관길 42-6</td>\n      <td>054-680-6340</td>\n      <td>경상북도</td>\n    </tr>\n    <tr>\n      <th>8119</th>\n      <td>47760-00003</td>\n      <td>입암공원</td>\n      <td>근린공원</td>\n      <td>경상북도 영양군 입암면 신구리 산27-5번지</td>\n      <td>054-680-6340</td>\n      <td>경상북도</td>\n    </tr>\n    <tr>\n      <th>8120</th>\n      <td>47760-00004</td>\n      <td>수비공원</td>\n      <td>근린공원</td>\n      <td>경상북도 영양군 수비면 발리리 산48번지</td>\n      <td>054-680-6340</td>\n      <td>경상북도</td>\n    </tr>\n    <tr>\n      <th>8121</th>\n      <td>47760-00005</td>\n      <td>삼지연꽃 테마파크</td>\n      <td>수변공원</td>\n      <td>경상북도 영양군 영양읍 삼지리 200번지</td>\n      <td>054-680-6340</td>\n      <td>경상북도</td>\n    </tr>\n  </tbody>\n</table>\n<p>8122 rows × 6 columns</p>\n</div>"
     },
     "execution_count": 13,
     "metadata": {},
     "output_type": "execute_result"
    }
   ],
   "source": [
    "# '관할구역' 컬럼 추가\n",
    "address = df['소재지도로명주소'].str.split(n=1, expand=True)\n",
    "df['관할구역'] = address[0]\n",
    "df"
   ],
   "metadata": {
    "collapsed": false,
    "ExecuteTime": {
     "end_time": "2024-05-07T06:41:23.691455200Z",
     "start_time": "2024-05-07T06:41:23.643224800Z"
    }
   },
   "id": "b40199bddff0d8a6",
   "execution_count": 13
  }
 ],
 "metadata": {
  "kernelspec": {
   "display_name": "Python 3",
   "language": "python",
   "name": "python3"
  },
  "language_info": {
   "codemirror_mode": {
    "name": "ipython",
    "version": 2
   },
   "file_extension": ".py",
   "mimetype": "text/x-python",
   "name": "python",
   "nbconvert_exporter": "python",
   "pygments_lexer": "ipython2",
   "version": "2.7.6"
  }
 },
 "nbformat": 4,
 "nbformat_minor": 5
}
